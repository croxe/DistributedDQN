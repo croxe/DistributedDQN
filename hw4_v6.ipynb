{
 "cells": [
  {
   "cell_type": "markdown",
   "metadata": {},
   "source": [
    "# Distributed Deep Q-Learning \n",
    "\n",
    "The goal of this assignment is to implement and experiment with both single-core and distributed versions of the deep reinforcement learning algorithm Deep Q Networks (DQN). In particular, DQN will be run in the classic RL benchmark Cart-Pole and abblation experiments will be run to observe the impact of the different DQN components. \n",
    "\n",
    "The relevant content about DQN can be found Q-Learning and SARSA are in the following course notes from CS533.\n",
    "\n",
    "https://oregonstate.instructure.com/courses/1719746/files/75047394/download?wrap=1\n",
    "\n",
    "The full pseudo-code for DQN is on slide 45 with prior slides introducing the individual components. \n",
    "\n",
    "\n",
    "## Recap of DQN \n",
    "\n",
    "From the course slides it can be seen that DQN is simply the standard table-based Q-learning algorithm but with three extensions:\n",
    "\n",
    "1) Use of function approximation via a neural network instead of a Q-table. \n",
    "2) Use of experience replay. \n",
    "3) Use of a target network. \n",
    "\n",
    "Extension (1) allows for scaling to problems with enormous state spaces, such as when the states correspond to images or sequences of images. Extensions (2) and (3) are claimed to improve the robustness and effectiveness of DQN compared. \n",
    "\n",
    "(2) adjusts Q-learning so that updates are not just performed on individual experiences as they arrive. But rather, experiences are stored in a memory buffer and updates are performed by sampling random mini-batches of experience tuples from the memory buffer and updating the network based on the mini-batch. This allows for reuse of experience as well as helping to reduce correlation between successive updates, which is claimed to be beneficial. \n",
    "\n",
    "(3) adjusts the way that target values are computed for the Q-learning updates. Let $Q_{\\theta}(s,a)$ be the function approximation network with parameters $\\theta$ for representing the Q-function. Given an experience tuple $(s, a, r, s')$ the origional Q-learning algorithm updates the parameters so that $Q_{\\theta}(s,a)$ moves closer to the target value: \n",
    "\\begin{equation}\n",
    "r + \\beta \\max_a' Q_{\\theta}(s',a') \n",
    "\\end{equation}\n",
    "Rather, DQN stores two function approximation networks. The first is the update network with parameters $\\theta$, which is the network that is continually updated during learning. The second is a target network with parameters $\\theta'$. Given the same experience tuple, DQN will update the parameters $\\theta$ so that $Q_{\\theta}(s,a)$ moves toward a target value based on the target network:\n",
    "\\begin{equation}\n",
    "r + \\beta \\max_a' Q_{\\theta'}(s',a') \n",
    "\\end{equation}\n",
    "Periodically the target network is updated with the most recent parameters $\\theta' \\leftarrow \\theta$. This use of a target network is claimed to stabilize learning.\n",
    "\n",
    "In the assignment you will get to see an example of the impact of both the target network and experience replay.\n",
    "\n",
    "Further reading about DQN and its application to learning to play Atari games can be found in the following paper. \n",
    "\n",
    "Mnih, V., Kavukcuoglu, K., Silver, D., Rusu, A.A., Veness, J., Bellemare, M.G., Graves, A., Riedmiller, M., Fidjeland, A.K., Ostrovski, G. and Petersen, S., 2015. Human-level control through deep reinforcement learning. Nature, 518(7540), p.529.\n",
    "https://oregonstate.instructure.com/courses/1719746/files/75234294/download?wrap=1"
   ]
  },
  {
   "cell_type": "code",
   "execution_count": null,
   "metadata": {
    "scrolled": true
   },
   "outputs": [],
   "source": [
    "!pip install --user gym[Box2D]\n",
    "!pip install --user torch\n",
    "!pip install --user JSAnimation\n",
    "!pip install --user matplotlib"
   ]
  },
  {
   "cell_type": "markdown",
   "metadata": {},
   "source": [
    "Install the packages for enviroment"
   ]
  },
  {
   "cell_type": "code",
   "execution_count": 1,
   "metadata": {},
   "outputs": [],
   "source": [
    "import gym\n",
    "import torch\n",
    "import time\n",
    "import os\n",
    "import ray\n",
    "import numpy as np\n",
    "\n",
    "from tqdm import tqdm\n",
    "from random import uniform, randint\n",
    "\n",
    "import io\n",
    "import base64\n",
    "from IPython.display import HTML\n",
    "\n",
    "from dqn_model import DQNModel\n",
    "from dqn_model import _DQNModel\n",
    "from memory import ReplayBuffer\n",
    "\n",
    "import matplotlib.pyplot as plt\n",
    "%matplotlib inline\n",
    "\n",
    "FloatTensor = torch.FloatTensor"
   ]
  },
  {
   "cell_type": "markdown",
   "metadata": {},
   "source": [
    "## Useful PyTorch functions"
   ]
  },
  {
   "cell_type": "markdown",
   "metadata": {},
   "source": [
    "### Tensors\n",
    "\n",
    "This assignment will use the PyTorch library for the required neural network functionality. You do not need to be familiar with the details of PyTorch or neural network training. However, the assignment will require dealing with data in the form of tensors.  \n",
    "\n",
    "The mini-batches used to train the PyTorch neural network is expected to be represented as a tensor matrix. The function `FloatTensor` can convert a list or NumPy matrix into a tensor matrix if needed. \n",
    "\n",
    "You can find more infomation here: https://pytorch.org/docs/stable/tensors.html"
   ]
  },
  {
   "cell_type": "code",
   "execution_count": 2,
   "metadata": {},
   "outputs": [
    {
     "name": "stdout",
     "output_type": "stream",
     "text": [
      "[[3, 2, 1], [6, 4, 5], [7, 8, 9]]\n",
      "<class 'torch.Tensor'>\n",
      "tensor([[3., 2., 1.],\n",
      "        [6., 4., 5.],\n",
      "        [7., 8., 9.]])\n"
     ]
    }
   ],
   "source": [
    "# list\n",
    "m = [[3,2,1],[6,4,5],[7,8,9]]\n",
    "print(m)\n",
    "\n",
    "# tensor matrix\n",
    "m_tensor = FloatTensor(m)\n",
    "print(type(m_tensor))\n",
    "print(m_tensor)"
   ]
  },
  {
   "cell_type": "markdown",
   "metadata": {},
   "source": [
    "### Tensor.max()\n",
    "Once you have a tenosr maxtrix, you can use torch.max(m_tensor, dim) to get the max value and max index corresponding to the dimension you choose.\n",
    "```\n",
    ">>> a = torch.randn(4, 4)\n",
    ">>> a\n",
    "tensor([[-1.2360, -0.2942, -0.1222,  0.8475],\n",
    "        [ 1.1949, -1.1127, -2.2379, -0.6702],\n",
    "        [ 1.5717, -0.9207,  0.1297, -1.8768],\n",
    "        [-0.6172,  1.0036, -0.6060, -0.2432]])\n",
    ">>> torch.max(a, 1)\n",
    "torch.return_types.max(values=tensor([0.8475, 1.1949, 1.5717, 1.0036]), indices=tensor([3, 0, 0, 1]))\n",
    "```\n",
    "You can find more infomation here: https://pytorch.org/docs/stable/torch.html#torch.max"
   ]
  },
  {
   "cell_type": "code",
   "execution_count": 3,
   "metadata": {},
   "outputs": [
    {
     "name": "stdout",
     "output_type": "stream",
     "text": [
      "tensor([3., 6., 9.]) tensor([0, 0, 2])\n"
     ]
    }
   ],
   "source": [
    "max_value, index = torch.max(m_tensor, dim = 1)\n",
    "print(max_value, index)"
   ]
  },
  {
   "cell_type": "markdown",
   "metadata": {},
   "source": [
    "## Initialize Environment\n",
    "### CartPole-v0:  \n",
    "CartPole is a classic control task that is often used as an introductory reinforcement learning benchmark. The environment involves controlling a 2d cart that can move in either the left or right direction on a frictionless track. A pole is attached to the cart via an unactuated joint. The system is controlled by applying a force of +1 or -1 to the cart. The pendulum starts upright, and the goal is to prevent it from falling over. A reward of +1 is provided for every timestep that the pole remains upright. The episode ends when the pole is more than 15 degrees from vertical, or the cart moves more than 2.4 units from the center.  \n",
    "(You can find more infomation by this Link: https://gym.openai.com/envs/CartPole-v0/)  \n",
    "  \n"
   ]
  },
  {
   "cell_type": "code",
   "execution_count": 4,
   "metadata": {},
   "outputs": [],
   "source": [
    "# Set the Env name and action space for CartPole\n",
    "ENV_NAME = 'CartPole-v0'\n",
    "# Move left, Move right\n",
    "ACTION_DICT = {\n",
    "    \"LEFT\": 0,\n",
    "    \"RIGHT\":1\n",
    "}\n",
    "# Register the environment\n",
    "env_CartPole = gym.make(ENV_NAME)"
   ]
  },
  {
   "cell_type": "code",
   "execution_count": 5,
   "metadata": {},
   "outputs": [],
   "source": [
    "# Set result saveing floder\n",
    "result_floder = ENV_NAME\n",
    "result_file = ENV_NAME + \"/results.txt\"\n",
    "if not os.path.isdir(result_floder):\n",
    "    os.mkdir(result_floder)"
   ]
  },
  {
   "cell_type": "markdown",
   "metadata": {},
   "source": [
    "## Helper Function\n",
    "Plot results."
   ]
  },
  {
   "cell_type": "code",
   "execution_count": 6,
   "metadata": {},
   "outputs": [],
   "source": [
    "def plot_result(total_rewards ,learning_num, legend):\n",
    "    print(\"\\nLearning Performance:\\n\")\n",
    "    episodes = []\n",
    "    for i in range(len(total_rewards)):\n",
    "        episodes.append(i * learning_num + 1)\n",
    "        \n",
    "    plt.figure(num = 1)\n",
    "    fig, ax = plt.subplots()\n",
    "    plt.plot(episodes, total_rewards)\n",
    "    plt.title('performance')\n",
    "    plt.legend(legend)\n",
    "    plt.xlabel(\"Episodes\")\n",
    "    plt.ylabel(\"total rewards\")\n",
    "    plt.show()"
   ]
  },
  {
   "cell_type": "markdown",
   "metadata": {},
   "source": [
    "## Hyperparams\n",
    "When function approximation is involves, especially neural networks, additional hyper parameters are inroduced and setting the parameters can require experience. Below is a list of the hyperparameters used in this assignment and values for the parameters that have worked well for a basic DQN implementation. You will adjust these values for particular parts of the assignment. For example, experiments that do not use the target network will set 'use_target_model' to False. \n",
    "\n",
    "You can find the more infomation about these hyperparameters in the notation of DQN_agent.init() function."
   ]
  },
  {
   "cell_type": "code",
   "execution_count": 7,
   "metadata": {},
   "outputs": [],
   "source": [
    "hyperparams_CartPole = {\n",
    "    'epsilon_decay_steps' : 100000, \n",
    "    'final_epsilon' : 0.1,\n",
    "    'batch_size' : 32, \n",
    "    'update_steps' : 10, \n",
    "    'memory_size' : 2000, \n",
    "    'beta' : 0.99, \n",
    "    'model_replace_freq' : 2000,\n",
    "    'learning_rate' : 0.0003,\n",
    "    'use_target_model': True\n",
    "}"
   ]
  },
  {
   "cell_type": "markdown",
   "metadata": {},
   "source": [
    "***\n",
    "# Part 1: Non-distributed DQN\n",
    "\n",
    "In this part, you will complete an implementation of DQN and run experiments on the CartPole environment from OpenAI Gym.  \n",
    "Note that OpenAI Gym has many other environments that use the same interface---so this experience will allow the curious student to easily explore these algorithms more widely. \n",
    "\n",
    "Below you need to fill in the missing code for the DQN implementation. \n",
    "\n",
    "The Run function below can then be used to generate learning curves. \n",
    "\n",
    "You should conduct the following experiments involving different features of DQN. \n",
    "\n",
    "1. DQN without a replay buffer and without a target network. This is just standard Q-learning with a function approximator.\n",
    "    The corresponding parameters are: memory_size = 1, update_steps = 1, batch_size = 1, use_target_model = False  \n",
    "    \n",
    "2. DQN without a replay buffer (but including the target network).   \n",
    "    The corresponding parameters are: memory_size = 1, update_steps = 1, batch_size = 1, use_target_model = True  \n",
    "\n",
    "3. DQN with a replay buffer, but without a target network.   \n",
    "    Here you set use_target_model = False and otherwise set the replay memory parameters to the above suggested values \n",
    "   \n",
    "4. Full DQN\n",
    "\n",
    "For each experiment, record the parameters that you used, plot the resulting learning curves, and give a summary of your observations regarding the differences you observed. \n",
    "***\n"
   ]
  },
  {
   "cell_type": "markdown",
   "metadata": {},
   "source": [
    "\n",
    "## DQN Agent\n",
    "\n",
    "The full DQN agent involves a number of functions, the neural network, and the replay memory. Interfaces to a neural network model and memory are provided. \n",
    "\n",
    "Some useful information is below:   \n",
    "- Neural Network Model: The network is used to represent the Q-function $Q(s,a)$. It takes a state $s$ as input and returns a vector of Q-values, one value for each action. The following interface functions are used for predicting Q-values, actions, and updating the neural network model parameters. \n",
    "    1. Model.predict(state) --- Returns the action that has the best Q-value in 'state'.\n",
    "    2. Model.predict_batch(states) --- This is used to predict both the Q-values and best actions for a batch of states. Given a batch of states, the function returns: 1) 'best_actions' a vector containing the best action for each input state, and 2) 'q_values' a matrix where each row gives the Q-value for all actions of each state (one row per state).   \n",
    "    3. Model.fit(q_values, q_target) --- It is used to update the neural network (via back-propagation). 'q_values' is a vector containing the Q-value predictions for a list of state-action pairs (e.g. from a batch of experience tuples). 'q_target' is a vector containing target values that we would like the correspoinding predictions to get closer to. This function updates the network in a way that the network predictions will ideally be closer to the targets. There is no return value.  \n",
    "    4. Model.replace(another_model) --- It takes another model as input, and replace the weight of itself by the input model.\n",
    "- Memory: This is the buffer used to store experience tuples for experience replay.\n",
    "    1. Memory.add(state, action, reward, state', is_terminal) --- It takes one example as input, and store it into its storage.  \n",
    "    2. Memory.sample(batch_size) --- It takes a batch_size int number as input. Return 'batch_size' number of randomly selected examples from the current memory buffer. The batch takes the form (states, actions, rewards, states', is_terminals) with each component being a vector/list of size equal to batch_size. "
   ]
  },
  {
   "cell_type": "code",
   "execution_count": 8,
   "metadata": {},
   "outputs": [],
   "source": [
    "class DQN_agent(object):\n",
    "    def __init__(self, env, hyper_params, action_space = len(ACTION_DICT)):\n",
    "        \n",
    "        self.env = env\n",
    "        self.max_episode_steps = env._max_episode_steps\n",
    "        \n",
    "        \"\"\"\n",
    "            beta: The discounted factor of Q-value function\n",
    "            (epsilon): The explore or exploit policy epsilon. \n",
    "            initial_epsilon: When the 'steps' is 0, the epsilon is initial_epsilon, 1\n",
    "            final_epsilon: After the number of 'steps' reach 'epsilon_decay_steps', \n",
    "                The epsilon set to the 'final_epsilon' determinately.\n",
    "            epsilon_decay_steps: The epsilon will decrease linearly along with the steps from 0 to 'epsilon_decay_steps'.\n",
    "        \"\"\"\n",
    "        self.beta = hyper_params['beta']\n",
    "        self.initial_epsilon = 1\n",
    "        self.final_epsilon = hyper_params['final_epsilon']\n",
    "        self.epsilon_decay_steps = hyper_params['epsilon_decay_steps']\n",
    "\n",
    "        \"\"\"\n",
    "            episode: Record training episode\n",
    "            steps: Add 1 when predicting an action\n",
    "            learning: The trigger of agent learning. It is on while training agent. It is off while testing agent.\n",
    "            action_space: The action space of the current environment, e.g 2.\n",
    "        \"\"\"\n",
    "        self.episode = 0\n",
    "        self.steps = 0\n",
    "        self.best_reward = 0\n",
    "        self.learning = True\n",
    "        self.action_space = action_space\n",
    "\n",
    "        \"\"\"\n",
    "            input_len The input length of the neural network. It equals to the length of the state vector.\n",
    "            output_len: The output length of the neural network. It is equal to the action space.\n",
    "            eval_model: The model for predicting action for the agent.\n",
    "            target_model: The model for calculating Q-value of next_state to update 'eval_model'.\n",
    "            use_target_model: Trigger for turn 'target_model' on/off\n",
    "        \"\"\"\n",
    "        state = env.reset()\n",
    "        input_len = len(state)\n",
    "        output_len = action_space\n",
    "        self.eval_model = DQNModel(input_len, output_len, learning_rate = hyper_params['learning_rate'])\n",
    "        self.use_target_model = hyper_params['use_target_model']\n",
    "        if self.use_target_model:\n",
    "            self.target_model = DQNModel(input_len, output_len)\n",
    "        # memory: Store and sample experience replay.\n",
    "        self.memory = ReplayBuffer(hyper_params['memory_size'])\n",
    "        \n",
    "        \"\"\"\n",
    "            batch_size: Mini batch size for training model.\n",
    "            update_steps: The frequence of traning model\n",
    "            model_replace_freq: The frequence of replacing 'target_model' by 'eval_model'\n",
    "        \"\"\"\n",
    "        self.batch_size = hyper_params['batch_size']\n",
    "        self.update_steps = hyper_params['update_steps']\n",
    "        self.model_replace_freq = hyper_params['model_replace_freq']\n",
    "        \n",
    "    # Linear decrease function for epsilon\n",
    "    def linear_decrease(self, initial_value, final_value, curr_steps, final_decay_steps):\n",
    "        decay_rate = curr_steps / final_decay_steps\n",
    "        if decay_rate > 1:\n",
    "            decay_rate = 1\n",
    "        return initial_value - (initial_value - final_value) * decay_rate\n",
    "    \n",
    "    def explore_or_exploit_policy(self, state):\n",
    "        p = uniform(0, 1)\n",
    "        # Get decreased epsilon\n",
    "        epsilon = self.linear_decrease(self.initial_epsilon, \n",
    "                               self.final_epsilon,\n",
    "                               self.steps,\n",
    "                               self.epsilon_decay_steps)\n",
    "        \n",
    "        if p < epsilon:\n",
    "            #return action\n",
    "            return randint(0, self.action_space - 1)\n",
    "        else:\n",
    "            #return action\n",
    "            return self.greedy_policy(state)\n",
    "        \n",
    "    def greedy_policy(self, state):\n",
    "        return self.eval_model.predict(state)\n",
    "    \n",
    "    # This next function will be called in the main RL loop to update the neural network model given a batch of experience\n",
    "    # 1) Sample a 'batch_size' batch of experiences from the memory.\n",
    "    # 2) Predict the Q-value from the 'eval_model' based on (states, actions)\n",
    "    # 3) Predict the Q-value from the 'target_model' base on (next_states), and take the max of each Q-value vector, Q_max\n",
    "    # 4) If is_terminal == 1, q_target = reward, otherwise q_target = reward + discounted factor * Q_max\n",
    "    # 5) Call fit() to do the back-propagation for 'eval_model'.\n",
    "    def update_batch(self):\n",
    "        if len(self.memory) < self.batch_size or self.steps % self.update_steps != 0:\n",
    "            return\n",
    "\n",
    "        batch = self.memory.sample(self.batch_size)\n",
    "\n",
    "        (states, actions, reward, next_states,\n",
    "         is_terminal) = batch\n",
    "        \n",
    "        states = states\n",
    "        next_states = next_states\n",
    "        terminal = FloatTensor([0 if t else 1 for t in is_terminal])\n",
    "        #terminal = FloatTensor([1 if t else 0 for t in is_terminal])\n",
    "        reward = FloatTensor(reward)\n",
    "        batch_index = torch.arange(self.batch_size,\n",
    "                                   dtype=torch.long)\n",
    "        \n",
    "        # Current Q Values\n",
    "        _, q_values = self.eval_model.predict_batch(states)\n",
    "        q_values = q_values[batch_index, actions]\n",
    "        \n",
    "        # Calculate target\n",
    "        if self.use_target_model:\n",
    "            actions, q_next = self.target_model.predict_batch(next_states)\n",
    "        else:\n",
    "            actions, q_next = self.eval_model.predict_batch(next_states)\n",
    "            \n",
    "        #INSERT YOUR CODE HERE --- neet to compute 'q_targets' used below\n",
    "    # 3) Predict the Q-value from the 'target_model' base on (next_states), and take the max of each Q-value vector, Q_max\n",
    "    # 4) If is_terminal == 1, q_target = reward, otherwise q_target = reward + discounted factor * Q_max\n",
    "        \n",
    "        q_target = torch.add(reward, terminal * (torch.max(q_next, dim = 1)[0] * self.beta))\n",
    "        #print(q_target.type())\n",
    "        #print(q_target.size())\n",
    "        #print(q_target)\n",
    "        # update model\n",
    "        self.eval_model.fit(q_values, q_target)\n",
    "    \n",
    "    def learn_and_evaluate(self, training_episodes, test_interval):\n",
    "        test_number = training_episodes // test_interval\n",
    "        all_results = []\n",
    "        \n",
    "        for i in range(test_number):\n",
    "            # learn\n",
    "            self.learn(test_interval)\n",
    "            \n",
    "            # evaluate\n",
    "            avg_reward = self.evaluate()\n",
    "            all_results.append(avg_reward)\n",
    "            \n",
    "        return all_results\n",
    "    \n",
    "    def learn(self, test_interval):\n",
    "        for episode in tqdm(range(test_interval), desc=\"Training\"):\n",
    "            state = self.env.reset()\n",
    "            done = False\n",
    "            steps = 0\n",
    "            \n",
    "            while steps < self.max_episode_steps and not done:\n",
    "                #INSERT YOUR CODE HERE\n",
    "                # add experience from explore-exploit policy to memory\n",
    "                # update the model every 'update_steps' of experience\n",
    "                # update the target network (if the target network is being used) every 'model_replace_freq' of experiences \n",
    "                \n",
    "                action = self.explore_or_exploit_policy(state)\n",
    "                new_state, reward, done, _ = self.env.step(action)\n",
    "                self.memory.add(state, action, reward, new_state, done)                \n",
    "                \n",
    "                if (self.steps % self.update_steps) == 0:\n",
    "                    self.update_batch()\n",
    "                if (self.steps % self.model_replace_freq) == 0 and self.use_target_model:\n",
    "                    self.target_model.replace(self.eval_model)\n",
    "                state = new_state\n",
    "                steps += 1\n",
    "                self.steps += 1\n",
    "            self.episode += 1\n",
    "            \n",
    "    def evaluate(self, trials = 30):\n",
    "        total_reward = 0\n",
    "        for _ in tqdm(range(trials), desc=\"Evaluating\"):\n",
    "            state = self.env.reset()\n",
    "            done = False\n",
    "            steps = 0\n",
    "\n",
    "            while steps < self.max_episode_steps and not done:\n",
    "                steps += 1\n",
    "                action = self.greedy_policy(state)\n",
    "                state, reward, done, _ = self.env.step(action)\n",
    "                total_reward += reward\n",
    "\n",
    "        avg_reward = total_reward / trials\n",
    "        print(avg_reward)\n",
    "        f = open(result_file, \"a+\")\n",
    "        f.write(str(avg_reward) + \"\\n\")\n",
    "        f.close()\n",
    "        if avg_reward >= self.best_reward:\n",
    "            self.best_reward = avg_reward\n",
    "            self.save_model()\n",
    "        return avg_reward\n",
    "\n",
    "    # save model\n",
    "    def save_model(self):\n",
    "        self.eval_model.save(result_floder + '/best_model.pt')\n",
    "        \n",
    "    # load model\n",
    "    def load_model(self):\n",
    "        self.eval_model.load(result_floder + '/best_model.pt')"
   ]
  },
  {
   "cell_type": "markdown",
   "metadata": {},
   "source": [
    "## Run function"
   ]
  },
  {
   "cell_type": "code",
   "execution_count": 9,
   "metadata": {},
   "outputs": [],
   "source": [
    "#training_episodes, test_interval = 10000, 50\n",
    "#agent = DQN_agent(env_CartPole, hyperparams_CartPole)\n",
    "#result = agent.learn_and_evaluate(training_episodes, test_interval)\n",
    "#plot_result(result, test_interval, [\"batch_update with target_model\"])"
   ]
  },
  {
   "cell_type": "code",
   "execution_count": 10,
   "metadata": {
    "scrolled": true
   },
   "outputs": [
    {
     "name": "stderr",
     "output_type": "stream",
     "text": [
      "Training: 100%|████████████████████████████████████████████████████████████████████████| 50/50 [00:01<00:00, 25.97it/s]\n",
      "Evaluating: 100%|█████████████████████████████████████████████████████████████████████| 30/30 [00:00<00:00, 107.41it/s]\n",
      "Training:   4%|██▉                                                                      | 2/50 [00:00<00:02, 17.33it/s]"
     ]
    },
    {
     "name": "stdout",
     "output_type": "stream",
     "text": [
      "45.63333333333333\n"
     ]
    },
    {
     "name": "stderr",
     "output_type": "stream",
     "text": [
      "Training: 100%|████████████████████████████████████████████████████████████████████████| 50/50 [00:02<00:00, 23.18it/s]\n",
      "Evaluating: 100%|█████████████████████████████████████████████████████████████████████| 30/30 [00:00<00:00, 159.83it/s]\n",
      "Training:   8%|█████▊                                                                   | 4/50 [00:00<00:01, 25.55it/s]"
     ]
    },
    {
     "name": "stdout",
     "output_type": "stream",
     "text": [
      "30.4\n"
     ]
    },
    {
     "name": "stderr",
     "output_type": "stream",
     "text": [
      "Training: 100%|████████████████████████████████████████████████████████████████████████| 50/50 [00:02<00:00, 25.00it/s]\n",
      "Evaluating: 100%|█████████████████████████████████████████████████████████████████████| 30/30 [00:00<00:00, 134.94it/s]\n",
      "Training:   6%|████▍                                                                    | 3/50 [00:00<00:02, 20.46it/s]"
     ]
    },
    {
     "name": "stdout",
     "output_type": "stream",
     "text": [
      "40.166666666666664\n"
     ]
    },
    {
     "name": "stderr",
     "output_type": "stream",
     "text": [
      "Training: 100%|████████████████████████████████████████████████████████████████████████| 50/50 [00:01<00:00, 26.25it/s]\n",
      "Evaluating: 100%|█████████████████████████████████████████████████████████████████████| 30/30 [00:00<00:00, 435.94it/s]\n",
      "Training:   6%|████▍                                                                    | 3/50 [00:00<00:02, 23.32it/s]"
     ]
    },
    {
     "name": "stdout",
     "output_type": "stream",
     "text": [
      "9.333333333333334\n"
     ]
    },
    {
     "name": "stderr",
     "output_type": "stream",
     "text": [
      "Training: 100%|████████████████████████████████████████████████████████████████████████| 50/50 [00:02<00:00, 22.14it/s]\n",
      "Evaluating: 100%|█████████████████████████████████████████████████████████████████████| 30/30 [00:00<00:00, 518.61it/s]\n",
      "Training:   4%|██▉                                                                      | 2/50 [00:00<00:02, 17.75it/s]"
     ]
    },
    {
     "name": "stdout",
     "output_type": "stream",
     "text": [
      "9.066666666666666\n"
     ]
    },
    {
     "name": "stderr",
     "output_type": "stream",
     "text": [
      "Training: 100%|████████████████████████████████████████████████████████████████████████| 50/50 [00:01<00:00, 28.13it/s]\n",
      "Evaluating: 100%|█████████████████████████████████████████████████████████████████████| 30/30 [00:00<00:00, 462.79it/s]\n",
      "Training:   8%|█████▊                                                                   | 4/50 [00:00<00:01, 39.95it/s]"
     ]
    },
    {
     "name": "stdout",
     "output_type": "stream",
     "text": [
      "11.933333333333334\n"
     ]
    },
    {
     "name": "stderr",
     "output_type": "stream",
     "text": [
      "Training: 100%|████████████████████████████████████████████████████████████████████████| 50/50 [00:01<00:00, 28.76it/s]\n",
      "Evaluating: 100%|█████████████████████████████████████████████████████████████████████| 30/30 [00:00<00:00, 155.86it/s]\n",
      "Training:   6%|████▍                                                                    | 3/50 [00:00<00:01, 27.49it/s]"
     ]
    },
    {
     "name": "stdout",
     "output_type": "stream",
     "text": [
      "30.666666666666668\n"
     ]
    },
    {
     "name": "stderr",
     "output_type": "stream",
     "text": [
      "Training: 100%|████████████████████████████████████████████████████████████████████████| 50/50 [00:01<00:00, 26.94it/s]\n",
      "Evaluating: 100%|██████████████████████████████████████████████████████████████████████| 30/30 [00:00<00:00, 30.21it/s]\n",
      "Training:   8%|█████▊                                                                   | 4/50 [00:00<00:01, 30.68it/s]"
     ]
    },
    {
     "name": "stdout",
     "output_type": "stream",
     "text": [
      "200.0\n"
     ]
    },
    {
     "name": "stderr",
     "output_type": "stream",
     "text": [
      "Training: 100%|████████████████████████████████████████████████████████████████████████| 50/50 [00:01<00:00, 29.25it/s]\n",
      "Evaluating: 100%|█████████████████████████████████████████████████████████████████████| 30/30 [00:00<00:00, 366.83it/s]\n",
      "Training:   6%|████▍                                                                    | 3/50 [00:00<00:02, 20.59it/s]"
     ]
    },
    {
     "name": "stdout",
     "output_type": "stream",
     "text": [
      "11.3\n"
     ]
    },
    {
     "name": "stderr",
     "output_type": "stream",
     "text": [
      "Training: 100%|████████████████████████████████████████████████████████████████████████| 50/50 [00:01<00:00, 27.22it/s]\n",
      "Evaluating: 100%|█████████████████████████████████████████████████████████████████████| 30/30 [00:00<00:00, 180.45it/s]\n",
      "Training:   6%|████▍                                                                    | 3/50 [00:00<00:01, 29.46it/s]"
     ]
    },
    {
     "name": "stdout",
     "output_type": "stream",
     "text": [
      "31.6\n"
     ]
    },
    {
     "name": "stderr",
     "output_type": "stream",
     "text": [
      "Training: 100%|████████████████████████████████████████████████████████████████████████| 50/50 [00:02<00:00, 24.17it/s]\n",
      "Evaluating: 100%|█████████████████████████████████████████████████████████████████████| 30/30 [00:00<00:00, 448.96it/s]\n",
      "Training:   4%|██▉                                                                      | 2/50 [00:00<00:03, 15.55it/s]"
     ]
    },
    {
     "name": "stdout",
     "output_type": "stream",
     "text": [
      "9.3\n"
     ]
    },
    {
     "name": "stderr",
     "output_type": "stream",
     "text": [
      "Training: 100%|████████████████████████████████████████████████████████████████████████| 50/50 [00:02<00:00, 22.15it/s]\n",
      "Evaluating: 100%|█████████████████████████████████████████████████████████████████████| 30/30 [00:00<00:00, 250.67it/s]\n",
      "Training:   4%|██▉                                                                      | 2/50 [00:00<00:02, 16.44it/s]"
     ]
    },
    {
     "name": "stdout",
     "output_type": "stream",
     "text": [
      "19.233333333333334\n"
     ]
    },
    {
     "name": "stderr",
     "output_type": "stream",
     "text": [
      "Training: 100%|████████████████████████████████████████████████████████████████████████| 50/50 [00:01<00:00, 26.06it/s]\n",
      "Evaluating: 100%|█████████████████████████████████████████████████████████████████████| 30/30 [00:00<00:00, 182.59it/s]\n",
      "Training:   6%|████▍                                                                    | 3/50 [00:00<00:01, 29.09it/s]"
     ]
    },
    {
     "name": "stdout",
     "output_type": "stream",
     "text": [
      "27.0\n"
     ]
    },
    {
     "name": "stderr",
     "output_type": "stream",
     "text": [
      "Training: 100%|████████████████████████████████████████████████████████████████████████| 50/50 [00:02<00:00, 23.95it/s]\n",
      "Evaluating: 100%|█████████████████████████████████████████████████████████████████████| 30/30 [00:00<00:00, 170.10it/s]\n",
      "Training:   6%|████▍                                                                    | 3/50 [00:00<00:01, 29.19it/s]"
     ]
    },
    {
     "name": "stdout",
     "output_type": "stream",
     "text": [
      "31.7\n"
     ]
    },
    {
     "name": "stderr",
     "output_type": "stream",
     "text": [
      "Training: 100%|████████████████████████████████████████████████████████████████████████| 50/50 [00:01<00:00, 27.71it/s]\n",
      "Evaluating: 100%|█████████████████████████████████████████████████████████████████████| 30/30 [00:00<00:00, 154.90it/s]\n",
      "Training:   6%|████▍                                                                    | 3/50 [00:00<00:01, 28.32it/s]"
     ]
    },
    {
     "name": "stdout",
     "output_type": "stream",
     "text": [
      "32.666666666666664\n"
     ]
    },
    {
     "name": "stderr",
     "output_type": "stream",
     "text": [
      "Training: 100%|████████████████████████████████████████████████████████████████████████| 50/50 [00:01<00:00, 26.18it/s]\n",
      "Evaluating: 100%|█████████████████████████████████████████████████████████████████████| 30/30 [00:00<00:00, 240.64it/s]\n",
      "Training:   4%|██▉                                                                      | 2/50 [00:00<00:03, 15.99it/s]"
     ]
    },
    {
     "name": "stdout",
     "output_type": "stream",
     "text": [
      "21.4\n"
     ]
    },
    {
     "name": "stderr",
     "output_type": "stream",
     "text": [
      "Training: 100%|████████████████████████████████████████████████████████████████████████| 50/50 [00:02<00:00, 20.34it/s]\n",
      "Evaluating: 100%|█████████████████████████████████████████████████████████████████████| 30/30 [00:00<00:00, 201.88it/s]\n",
      "Training:   6%|████▍                                                                    | 3/50 [00:00<00:01, 23.99it/s]"
     ]
    },
    {
     "name": "stdout",
     "output_type": "stream",
     "text": [
      "23.4\n"
     ]
    },
    {
     "name": "stderr",
     "output_type": "stream",
     "text": [
      "Training: 100%|████████████████████████████████████████████████████████████████████████| 50/50 [00:02<00:00, 19.72it/s]\n",
      "Evaluating: 100%|█████████████████████████████████████████████████████████████████████| 30/30 [00:00<00:00, 116.20it/s]\n",
      "Training:   2%|█▍                                                                       | 1/50 [00:00<00:05,  8.58it/s]"
     ]
    },
    {
     "name": "stdout",
     "output_type": "stream",
     "text": [
      "37.53333333333333\n"
     ]
    },
    {
     "name": "stderr",
     "output_type": "stream",
     "text": [
      "Training: 100%|████████████████████████████████████████████████████████████████████████| 50/50 [00:02<00:00, 18.95it/s]\n",
      "Evaluating: 100%|██████████████████████████████████████████████████████████████████████| 30/30 [00:00<00:00, 76.21it/s]\n",
      "Training:   6%|████▍                                                                    | 3/50 [00:00<00:01, 29.52it/s]"
     ]
    },
    {
     "name": "stdout",
     "output_type": "stream",
     "text": [
      "59.333333333333336\n"
     ]
    },
    {
     "name": "stderr",
     "output_type": "stream",
     "text": [
      "Training: 100%|████████████████████████████████████████████████████████████████████████| 50/50 [00:02<00:00, 18.53it/s]\n",
      "Evaluating: 100%|█████████████████████████████████████████████████████████████████████| 30/30 [00:00<00:00, 141.82it/s]\n",
      "Training:   6%|████▍                                                                    | 3/50 [00:00<00:01, 29.68it/s]"
     ]
    },
    {
     "name": "stdout",
     "output_type": "stream",
     "text": [
      "33.266666666666666\n"
     ]
    },
    {
     "name": "stderr",
     "output_type": "stream",
     "text": [
      "Training: 100%|████████████████████████████████████████████████████████████████████████| 50/50 [00:02<00:00, 19.94it/s]\n",
      "Evaluating: 100%|██████████████████████████████████████████████████████████████████████| 30/30 [00:00<00:00, 45.60it/s]\n",
      "Training:   6%|████▍                                                                    | 3/50 [00:00<00:02, 16.68it/s]"
     ]
    },
    {
     "name": "stdout",
     "output_type": "stream",
     "text": [
      "116.96666666666667\n"
     ]
    },
    {
     "name": "stderr",
     "output_type": "stream",
     "text": [
      "Training: 100%|████████████████████████████████████████████████████████████████████████| 50/50 [00:02<00:00, 17.23it/s]\n",
      "Evaluating: 100%|█████████████████████████████████████████████████████████████████████| 30/30 [00:00<00:00, 313.12it/s]\n",
      "Training:   4%|██▉                                                                      | 2/50 [00:00<00:02, 16.98it/s]"
     ]
    },
    {
     "name": "stdout",
     "output_type": "stream",
     "text": [
      "15.333333333333334\n"
     ]
    },
    {
     "name": "stderr",
     "output_type": "stream",
     "text": [
      "Training: 100%|████████████████████████████████████████████████████████████████████████| 50/50 [00:03<00:00, 15.75it/s]\n",
      "Evaluating: 100%|██████████████████████████████████████████████████████████████████████| 30/30 [00:00<00:00, 76.00it/s]\n",
      "Training:   4%|██▉                                                                      | 2/50 [00:00<00:03, 12.35it/s]"
     ]
    },
    {
     "name": "stdout",
     "output_type": "stream",
     "text": [
      "71.03333333333333\n"
     ]
    },
    {
     "name": "stderr",
     "output_type": "stream",
     "text": [
      "Training: 100%|████████████████████████████████████████████████████████████████████████| 50/50 [00:02<00:00, 18.73it/s]\n",
      "Evaluating: 100%|█████████████████████████████████████████████████████████████████████| 30/30 [00:00<00:00, 249.94it/s]\n",
      "Training:   4%|██▉                                                                      | 2/50 [00:00<00:02, 19.74it/s]"
     ]
    },
    {
     "name": "stdout",
     "output_type": "stream",
     "text": [
      "27.066666666666666\n"
     ]
    },
    {
     "name": "stderr",
     "output_type": "stream",
     "text": [
      "Training: 100%|████████████████████████████████████████████████████████████████████████| 50/50 [00:02<00:00, 18.12it/s]\n",
      "Evaluating: 100%|█████████████████████████████████████████████████████████████████████| 30/30 [00:00<00:00, 103.06it/s]\n",
      "Training:   4%|██▉                                                                      | 2/50 [00:00<00:03, 15.08it/s]"
     ]
    },
    {
     "name": "stdout",
     "output_type": "stream",
     "text": [
      "56.86666666666667\n"
     ]
    },
    {
     "name": "stderr",
     "output_type": "stream",
     "text": [
      "Training: 100%|████████████████████████████████████████████████████████████████████████| 50/50 [00:02<00:00, 22.51it/s]\n",
      "Evaluating: 100%|██████████████████████████████████████████████████████████████████████| 30/30 [00:00<00:00, 45.92it/s]\n",
      "Training:   6%|████▍                                                                    | 3/50 [00:00<00:01, 29.50it/s]"
     ]
    },
    {
     "name": "stdout",
     "output_type": "stream",
     "text": [
      "137.0\n"
     ]
    },
    {
     "name": "stderr",
     "output_type": "stream",
     "text": [
      "Training: 100%|████████████████████████████████████████████████████████████████████████| 50/50 [00:02<00:00, 21.41it/s]\n",
      "Evaluating: 100%|██████████████████████████████████████████████████████████████████████| 30/30 [00:00<00:00, 45.08it/s]\n",
      "Training:   4%|██▉                                                                      | 2/50 [00:00<00:03, 12.18it/s]"
     ]
    },
    {
     "name": "stdout",
     "output_type": "stream",
     "text": [
      "139.03333333333333\n"
     ]
    },
    {
     "name": "stderr",
     "output_type": "stream",
     "text": [
      "Training: 100%|████████████████████████████████████████████████████████████████████████| 50/50 [00:03<00:00, 16.64it/s]\n",
      "Evaluating: 100%|██████████████████████████████████████████████████████████████████████| 30/30 [00:00<00:00, 46.61it/s]\n",
      "Training:   6%|████▍                                                                    | 3/50 [00:00<00:01, 25.59it/s]"
     ]
    },
    {
     "name": "stdout",
     "output_type": "stream",
     "text": [
      "136.3\n"
     ]
    },
    {
     "name": "stderr",
     "output_type": "stream",
     "text": [
      "Training: 100%|████████████████████████████████████████████████████████████████████████| 50/50 [00:02<00:00, 17.02it/s]\n",
      "Evaluating: 100%|██████████████████████████████████████████████████████████████████████| 30/30 [00:00<00:00, 69.07it/s]\n",
      "Training:   2%|█▍                                                                       | 1/50 [00:00<00:06,  7.52it/s]"
     ]
    },
    {
     "name": "stdout",
     "output_type": "stream",
     "text": [
      "92.1\n"
     ]
    },
    {
     "name": "stderr",
     "output_type": "stream",
     "text": [
      "Training: 100%|████████████████████████████████████████████████████████████████████████| 50/50 [00:03<00:00, 15.59it/s]\n",
      "Evaluating: 100%|██████████████████████████████████████████████████████████████████████| 30/30 [00:00<00:00, 79.18it/s]\n",
      "Training:   4%|██▉                                                                      | 2/50 [00:00<00:03, 15.04it/s]"
     ]
    },
    {
     "name": "stdout",
     "output_type": "stream",
     "text": [
      "64.43333333333334\n"
     ]
    },
    {
     "name": "stderr",
     "output_type": "stream",
     "text": [
      "Training: 100%|████████████████████████████████████████████████████████████████████████| 50/50 [00:03<00:00, 15.73it/s]\n",
      "Evaluating: 100%|██████████████████████████████████████████████████████████████████████| 30/30 [00:00<00:00, 31.94it/s]\n",
      "Training:   4%|██▉                                                                      | 2/50 [00:00<00:02, 19.68it/s]"
     ]
    },
    {
     "name": "stdout",
     "output_type": "stream",
     "text": [
      "194.4\n"
     ]
    },
    {
     "name": "stderr",
     "output_type": "stream",
     "text": [
      "Training: 100%|████████████████████████████████████████████████████████████████████████| 50/50 [00:03<00:00, 13.46it/s]\n",
      "Evaluating: 100%|██████████████████████████████████████████████████████████████████████| 30/30 [00:00<00:00, 37.53it/s]\n",
      "Training:   2%|█▍                                                                       | 1/50 [00:00<00:04,  9.84it/s]"
     ]
    },
    {
     "name": "stdout",
     "output_type": "stream",
     "text": [
      "166.83333333333334\n"
     ]
    },
    {
     "name": "stderr",
     "output_type": "stream",
     "text": [
      "Training: 100%|████████████████████████████████████████████████████████████████████████| 50/50 [00:03<00:00, 14.43it/s]\n",
      "Evaluating: 100%|██████████████████████████████████████████████████████████████████████| 30/30 [00:00<00:00, 80.85it/s]\n",
      "Training:   0%|                                                                                 | 0/50 [00:00<?, ?it/s]"
     ]
    },
    {
     "name": "stdout",
     "output_type": "stream",
     "text": [
      "70.16666666666667\n"
     ]
    },
    {
     "name": "stderr",
     "output_type": "stream",
     "text": [
      "Training: 100%|████████████████████████████████████████████████████████████████████████| 50/50 [00:03<00:00, 13.44it/s]\n",
      "Evaluating: 100%|█████████████████████████████████████████████████████████████████████| 30/30 [00:00<00:00, 374.58it/s]\n",
      "Training:   6%|████▍                                                                    | 3/50 [00:00<00:02, 22.65it/s]"
     ]
    },
    {
     "name": "stdout",
     "output_type": "stream",
     "text": [
      "15.5\n"
     ]
    },
    {
     "name": "stderr",
     "output_type": "stream",
     "text": [
      "Training: 100%|████████████████████████████████████████████████████████████████████████| 50/50 [00:03<00:00, 13.23it/s]\n",
      "Evaluating: 100%|█████████████████████████████████████████████████████████████████████| 30/30 [00:00<00:00, 236.81it/s]\n",
      "Training:   4%|██▉                                                                      | 2/50 [00:00<00:04, 11.18it/s]"
     ]
    },
    {
     "name": "stdout",
     "output_type": "stream",
     "text": [
      "21.233333333333334\n"
     ]
    },
    {
     "name": "stderr",
     "output_type": "stream",
     "text": [
      "Training: 100%|████████████████████████████████████████████████████████████████████████| 50/50 [00:04<00:00, 11.42it/s]\n",
      "Evaluating: 100%|█████████████████████████████████████████████████████████████████████| 30/30 [00:00<00:00, 109.84it/s]\n",
      "Training:   4%|██▉                                                                      | 2/50 [00:00<00:02, 19.68it/s]"
     ]
    },
    {
     "name": "stdout",
     "output_type": "stream",
     "text": [
      "49.7\n"
     ]
    },
    {
     "name": "stderr",
     "output_type": "stream",
     "text": [
      "Training: 100%|████████████████████████████████████████████████████████████████████████| 50/50 [00:04<00:00, 11.56it/s]\n",
      "Evaluating: 100%|█████████████████████████████████████████████████████████████████████| 30/30 [00:00<00:00, 144.59it/s]\n",
      "Training:   2%|█▍                                                                       | 1/50 [00:00<00:07,  6.72it/s]"
     ]
    },
    {
     "name": "stdout",
     "output_type": "stream",
     "text": [
      "36.1\n"
     ]
    },
    {
     "name": "stderr",
     "output_type": "stream",
     "text": [
      "Training: 100%|████████████████████████████████████████████████████████████████████████| 50/50 [00:05<00:00,  9.98it/s]\n",
      "Evaluating: 100%|██████████████████████████████████████████████████████████████████████| 30/30 [00:00<00:00, 34.83it/s]\n",
      "Training:   4%|██▉                                                                      | 2/50 [00:00<00:02, 17.04it/s]"
     ]
    },
    {
     "name": "stdout",
     "output_type": "stream",
     "text": [
      "174.13333333333333\n"
     ]
    },
    {
     "name": "stderr",
     "output_type": "stream",
     "text": [
      "Training: 100%|████████████████████████████████████████████████████████████████████████| 50/50 [00:05<00:00,  9.88it/s]\n",
      "Evaluating: 100%|█████████████████████████████████████████████████████████████████████| 30/30 [00:00<00:00, 100.38it/s]\n",
      "Training:   0%|                                                                                 | 0/50 [00:00<?, ?it/s]"
     ]
    },
    {
     "name": "stdout",
     "output_type": "stream",
     "text": [
      "50.5\n"
     ]
    },
    {
     "name": "stderr",
     "output_type": "stream",
     "text": [
      "Training: 100%|████████████████████████████████████████████████████████████████████████| 50/50 [00:04<00:00, 11.88it/s]\n",
      "Evaluating: 100%|██████████████████████████████████████████████████████████████████████| 30/30 [00:00<00:00, 54.85it/s]\n",
      "Training:   2%|█▍                                                                       | 1/50 [00:00<00:05,  8.42it/s]"
     ]
    },
    {
     "name": "stdout",
     "output_type": "stream",
     "text": [
      "115.93333333333334\n"
     ]
    },
    {
     "name": "stderr",
     "output_type": "stream",
     "text": [
      "Training: 100%|████████████████████████████████████████████████████████████████████████| 50/50 [00:06<00:00,  7.57it/s]\n",
      "Evaluating: 100%|██████████████████████████████████████████████████████████████████████| 30/30 [00:00<00:00, 32.30it/s]\n",
      "Training:   2%|█▍                                                                       | 1/50 [00:00<00:04,  9.83it/s]"
     ]
    },
    {
     "name": "stdout",
     "output_type": "stream",
     "text": [
      "200.0\n"
     ]
    },
    {
     "name": "stderr",
     "output_type": "stream",
     "text": [
      "Training: 100%|████████████████████████████████████████████████████████████████████████| 50/50 [00:08<00:00,  5.90it/s]\n",
      "Evaluating: 100%|██████████████████████████████████████████████████████████████████████| 30/30 [00:00<00:00, 41.46it/s]\n",
      "Training:   0%|                                                                                 | 0/50 [00:00<?, ?it/s]"
     ]
    },
    {
     "name": "stdout",
     "output_type": "stream",
     "text": [
      "133.6\n"
     ]
    },
    {
     "name": "stderr",
     "output_type": "stream",
     "text": [
      "Training: 100%|████████████████████████████████████████████████████████████████████████| 50/50 [00:08<00:00,  6.03it/s]\n",
      "Evaluating: 100%|██████████████████████████████████████████████████████████████████████| 30/30 [00:00<00:00, 30.90it/s]\n",
      "Training:   0%|                                                                                 | 0/50 [00:00<?, ?it/s]"
     ]
    },
    {
     "name": "stdout",
     "output_type": "stream",
     "text": [
      "200.0\n"
     ]
    },
    {
     "name": "stderr",
     "output_type": "stream",
     "text": [
      "Training: 100%|████████████████████████████████████████████████████████████████████████| 50/50 [00:09<00:00,  5.01it/s]\n",
      "Evaluating: 100%|██████████████████████████████████████████████████████████████████████| 30/30 [00:01<00:00, 27.73it/s]\n",
      "Training:   0%|                                                                                 | 0/50 [00:00<?, ?it/s]"
     ]
    },
    {
     "name": "stdout",
     "output_type": "stream",
     "text": [
      "200.0\n"
     ]
    },
    {
     "name": "stderr",
     "output_type": "stream",
     "text": [
      "Training: 100%|████████████████████████████████████████████████████████████████████████| 50/50 [00:10<00:00,  4.97it/s]\n",
      "Evaluating: 100%|██████████████████████████████████████████████████████████████████████| 30/30 [00:00<00:00, 83.97it/s]\n",
      "Training:   4%|██▉                                                                      | 2/50 [00:00<00:02, 19.84it/s]"
     ]
    },
    {
     "name": "stdout",
     "output_type": "stream",
     "text": [
      "55.833333333333336\n"
     ]
    },
    {
     "name": "stderr",
     "output_type": "stream",
     "text": [
      "Training: 100%|████████████████████████████████████████████████████████████████████████| 50/50 [00:10<00:00,  4.87it/s]\n",
      "Evaluating: 100%|██████████████████████████████████████████████████████████████████████| 30/30 [00:01<00:00, 28.91it/s]\n",
      "Training:   0%|                                                                                 | 0/50 [00:00<?, ?it/s]"
     ]
    },
    {
     "name": "stdout",
     "output_type": "stream",
     "text": [
      "200.0\n"
     ]
    },
    {
     "name": "stderr",
     "output_type": "stream",
     "text": [
      "Training: 100%|████████████████████████████████████████████████████████████████████████| 50/50 [00:08<00:00,  5.86it/s]\n",
      "Evaluating: 100%|██████████████████████████████████████████████████████████████████████| 30/30 [00:00<00:00, 72.70it/s]\n",
      "Training:   0%|                                                                                 | 0/50 [00:00<?, ?it/s]"
     ]
    },
    {
     "name": "stdout",
     "output_type": "stream",
     "text": [
      "80.66666666666667\n"
     ]
    },
    {
     "name": "stderr",
     "output_type": "stream",
     "text": [
      "Training: 100%|████████████████████████████████████████████████████████████████████████| 50/50 [00:09<00:00,  5.18it/s]\n",
      "Evaluating: 100%|█████████████████████████████████████████████████████████████████████| 30/30 [00:00<00:00, 833.85it/s]\n",
      "Training:   0%|                                                                                 | 0/50 [00:00<?, ?it/s]"
     ]
    },
    {
     "name": "stdout",
     "output_type": "stream",
     "text": [
      "9.5\n"
     ]
    },
    {
     "name": "stderr",
     "output_type": "stream",
     "text": [
      "Training: 100%|████████████████████████████████████████████████████████████████████████| 50/50 [00:07<00:00,  6.29it/s]\n",
      "Evaluating: 100%|██████████████████████████████████████████████████████████████████████| 30/30 [00:00<00:00, 45.42it/s]\n",
      "Training:   2%|█▍                                                                       | 1/50 [00:00<00:09,  5.22it/s]"
     ]
    },
    {
     "name": "stdout",
     "output_type": "stream",
     "text": [
      "117.8\n"
     ]
    },
    {
     "name": "stderr",
     "output_type": "stream",
     "text": [
      "Training: 100%|████████████████████████████████████████████████████████████████████████| 50/50 [00:10<00:00,  4.99it/s]\n",
      "Evaluating: 100%|██████████████████████████████████████████████████████████████████████| 30/30 [00:00<00:00, 61.04it/s]\n",
      "Training:   0%|                                                                                 | 0/50 [00:00<?, ?it/s]"
     ]
    },
    {
     "name": "stdout",
     "output_type": "stream",
     "text": [
      "104.3\n"
     ]
    },
    {
     "name": "stderr",
     "output_type": "stream",
     "text": [
      "Training: 100%|████████████████████████████████████████████████████████████████████████| 50/50 [00:08<00:00,  5.95it/s]\n",
      "Evaluating: 100%|██████████████████████████████████████████████████████████████████████| 30/30 [00:00<00:00, 32.04it/s]\n",
      "Training:   0%|                                                                                 | 0/50 [00:00<?, ?it/s]"
     ]
    },
    {
     "name": "stdout",
     "output_type": "stream",
     "text": [
      "175.9\n"
     ]
    },
    {
     "name": "stderr",
     "output_type": "stream",
     "text": [
      "Training: 100%|████████████████████████████████████████████████████████████████████████| 50/50 [00:10<00:00,  4.79it/s]\n",
      "Evaluating: 100%|██████████████████████████████████████████████████████████████████████| 30/30 [00:00<00:00, 37.43it/s]\n",
      "Training:   0%|                                                                                 | 0/50 [00:00<?, ?it/s]"
     ]
    },
    {
     "name": "stdout",
     "output_type": "stream",
     "text": [
      "164.6\n"
     ]
    },
    {
     "name": "stderr",
     "output_type": "stream",
     "text": [
      "Training: 100%|████████████████████████████████████████████████████████████████████████| 50/50 [00:10<00:00,  4.76it/s]\n",
      "Evaluating: 100%|█████████████████████████████████████████████████████████████████████| 30/30 [00:00<00:00, 107.49it/s]\n",
      "Training:   2%|█▍                                                                       | 1/50 [00:00<00:06,  7.42it/s]"
     ]
    },
    {
     "name": "stdout",
     "output_type": "stream",
     "text": [
      "54.13333333333333\n"
     ]
    },
    {
     "name": "stderr",
     "output_type": "stream",
     "text": [
      "Training: 100%|████████████████████████████████████████████████████████████████████████| 50/50 [00:11<00:00,  4.41it/s]\n",
      "Evaluating: 100%|██████████████████████████████████████████████████████████████████████| 30/30 [00:01<00:00, 28.79it/s]\n",
      "Training:   0%|                                                                                 | 0/50 [00:00<?, ?it/s]"
     ]
    },
    {
     "name": "stdout",
     "output_type": "stream",
     "text": [
      "200.0\n"
     ]
    },
    {
     "name": "stderr",
     "output_type": "stream",
     "text": [
      "Training: 100%|████████████████████████████████████████████████████████████████████████| 50/50 [00:10<00:00,  4.92it/s]\n",
      "Evaluating: 100%|██████████████████████████████████████████████████████████████████████| 30/30 [00:00<00:00, 39.29it/s]\n",
      "Training:   0%|                                                                                 | 0/50 [00:00<?, ?it/s]"
     ]
    },
    {
     "name": "stdout",
     "output_type": "stream",
     "text": [
      "157.83333333333334\n"
     ]
    },
    {
     "name": "stderr",
     "output_type": "stream",
     "text": [
      "Training: 100%|████████████████████████████████████████████████████████████████████████| 50/50 [00:09<00:00,  5.19it/s]\n",
      "Evaluating: 100%|██████████████████████████████████████████████████████████████████████| 30/30 [00:01<00:00, 28.82it/s]\n",
      "Training:   0%|                                                                                 | 0/50 [00:00<?, ?it/s]"
     ]
    },
    {
     "name": "stdout",
     "output_type": "stream",
     "text": [
      "200.0\n"
     ]
    },
    {
     "name": "stderr",
     "output_type": "stream",
     "text": [
      "Training: 100%|████████████████████████████████████████████████████████████████████████| 50/50 [00:10<00:00,  4.65it/s]\n",
      "Evaluating: 100%|██████████████████████████████████████████████████████████████████████| 30/30 [00:00<00:00, 48.33it/s]\n",
      "Training:   0%|                                                                                 | 0/50 [00:00<?, ?it/s]"
     ]
    },
    {
     "name": "stdout",
     "output_type": "stream",
     "text": [
      "108.8\n"
     ]
    },
    {
     "name": "stderr",
     "output_type": "stream",
     "text": [
      "Training: 100%|████████████████████████████████████████████████████████████████████████| 50/50 [00:12<00:00,  3.91it/s]\n",
      "Evaluating: 100%|██████████████████████████████████████████████████████████████████████| 30/30 [00:00<00:00, 46.59it/s]\n",
      "Training:   2%|█▍                                                                       | 1/50 [00:00<00:07,  6.56it/s]"
     ]
    },
    {
     "name": "stdout",
     "output_type": "stream",
     "text": [
      "90.66666666666667\n"
     ]
    },
    {
     "name": "stderr",
     "output_type": "stream",
     "text": [
      "Training: 100%|████████████████████████████████████████████████████████████████████████| 50/50 [00:11<00:00,  4.22it/s]\n",
      "Evaluating: 100%|██████████████████████████████████████████████████████████████████████| 30/30 [00:00<00:00, 70.75it/s]\n",
      "Training:   0%|                                                                                 | 0/50 [00:00<?, ?it/s]"
     ]
    },
    {
     "name": "stdout",
     "output_type": "stream",
     "text": [
      "67.33333333333333\n"
     ]
    },
    {
     "name": "stderr",
     "output_type": "stream",
     "text": [
      "Training: 100%|████████████████████████████████████████████████████████████████████████| 50/50 [00:10<00:00,  4.96it/s]\n",
      "Evaluating: 100%|█████████████████████████████████████████████████████████████████████| 30/30 [00:00<00:00, 101.65it/s]\n",
      "Training:   4%|██▉                                                                      | 2/50 [00:00<00:03, 15.82it/s]"
     ]
    },
    {
     "name": "stdout",
     "output_type": "stream",
     "text": [
      "53.833333333333336\n"
     ]
    },
    {
     "name": "stderr",
     "output_type": "stream",
     "text": [
      "Training: 100%|████████████████████████████████████████████████████████████████████████| 50/50 [00:10<00:00,  4.77it/s]\n",
      "Evaluating: 100%|██████████████████████████████████████████████████████████████████████| 30/30 [00:01<00:00, 27.49it/s]\n",
      "Training:   0%|                                                                                 | 0/50 [00:00<?, ?it/s]"
     ]
    },
    {
     "name": "stdout",
     "output_type": "stream",
     "text": [
      "196.8\n"
     ]
    },
    {
     "name": "stderr",
     "output_type": "stream",
     "text": [
      "Training: 100%|████████████████████████████████████████████████████████████████████████| 50/50 [00:10<00:00,  4.57it/s]\n",
      "Evaluating: 100%|█████████████████████████████████████████████████████████████████████| 30/30 [00:00<00:00, 423.00it/s]\n",
      "Training:   0%|                                                                                 | 0/50 [00:00<?, ?it/s]"
     ]
    },
    {
     "name": "stdout",
     "output_type": "stream",
     "text": [
      "10.133333333333333\n"
     ]
    },
    {
     "name": "stderr",
     "output_type": "stream",
     "text": [
      "Training: 100%|████████████████████████████████████████████████████████████████████████| 50/50 [00:10<00:00,  4.63it/s]\n",
      "Evaluating: 100%|█████████████████████████████████████████████████████████████████████| 30/30 [00:00<00:00, 102.83it/s]\n",
      "Training:   0%|                                                                                 | 0/50 [00:00<?, ?it/s]"
     ]
    },
    {
     "name": "stdout",
     "output_type": "stream",
     "text": [
      "52.56666666666667\n"
     ]
    },
    {
     "name": "stderr",
     "output_type": "stream",
     "text": [
      "Training: 100%|████████████████████████████████████████████████████████████████████████| 50/50 [00:08<00:00,  5.88it/s]\n",
      "Evaluating: 100%|█████████████████████████████████████████████████████████████████████| 30/30 [00:00<00:00, 390.19it/s]\n",
      "Training:   0%|                                                                                 | 0/50 [00:00<?, ?it/s]"
     ]
    },
    {
     "name": "stdout",
     "output_type": "stream",
     "text": [
      "12.066666666666666\n"
     ]
    },
    {
     "name": "stderr",
     "output_type": "stream",
     "text": [
      "Training: 100%|████████████████████████████████████████████████████████████████████████| 50/50 [00:10<00:00,  4.60it/s]\n",
      "Evaluating: 100%|█████████████████████████████████████████████████████████████████████| 30/30 [00:00<00:00, 326.61it/s]\n",
      "Training:   6%|████▍                                                                    | 3/50 [00:00<00:02, 17.97it/s]"
     ]
    },
    {
     "name": "stdout",
     "output_type": "stream",
     "text": [
      "16.733333333333334\n"
     ]
    },
    {
     "name": "stderr",
     "output_type": "stream",
     "text": [
      "Training: 100%|████████████████████████████████████████████████████████████████████████| 50/50 [00:11<00:00,  4.46it/s]\n",
      "Evaluating: 100%|██████████████████████████████████████████████████████████████████████| 30/30 [00:00<00:00, 56.33it/s]\n",
      "Training:   2%|█▍                                                                       | 1/50 [00:00<00:09,  5.18it/s]"
     ]
    },
    {
     "name": "stdout",
     "output_type": "stream",
     "text": [
      "96.5\n"
     ]
    },
    {
     "name": "stderr",
     "output_type": "stream",
     "text": [
      "Training: 100%|████████████████████████████████████████████████████████████████████████| 50/50 [00:12<00:00,  4.00it/s]\n",
      "Evaluating: 100%|█████████████████████████████████████████████████████████████████████| 30/30 [00:00<00:00, 407.55it/s]\n",
      "Training:   0%|                                                                                 | 0/50 [00:00<?, ?it/s]"
     ]
    },
    {
     "name": "stdout",
     "output_type": "stream",
     "text": [
      "10.0\n"
     ]
    },
    {
     "name": "stderr",
     "output_type": "stream",
     "text": [
      "Training: 100%|████████████████████████████████████████████████████████████████████████| 50/50 [00:12<00:00,  4.12it/s]\n",
      "Evaluating: 100%|█████████████████████████████████████████████████████████████████████| 30/30 [00:00<00:00, 466.55it/s]\n",
      "Training:   0%|                                                                                 | 0/50 [00:00<?, ?it/s]"
     ]
    },
    {
     "name": "stdout",
     "output_type": "stream",
     "text": [
      "9.833333333333334\n"
     ]
    },
    {
     "name": "stderr",
     "output_type": "stream",
     "text": [
      "Training: 100%|████████████████████████████████████████████████████████████████████████| 50/50 [00:10<00:00,  4.94it/s]\n",
      "Evaluating: 100%|██████████████████████████████████████████████████████████████████████| 30/30 [00:01<00:00, 28.28it/s]\n",
      "Training:   0%|                                                                                 | 0/50 [00:00<?, ?it/s]"
     ]
    },
    {
     "name": "stdout",
     "output_type": "stream",
     "text": [
      "200.0\n"
     ]
    },
    {
     "name": "stderr",
     "output_type": "stream",
     "text": [
      "Training: 100%|████████████████████████████████████████████████████████████████████████| 50/50 [00:10<00:00,  4.91it/s]\n",
      "Evaluating: 100%|██████████████████████████████████████████████████████████████████████| 30/30 [00:00<00:00, 59.91it/s]\n",
      "Training:   2%|█▍                                                                       | 1/50 [00:00<00:08,  5.88it/s]"
     ]
    },
    {
     "name": "stdout",
     "output_type": "stream",
     "text": [
      "93.86666666666666\n"
     ]
    },
    {
     "name": "stderr",
     "output_type": "stream",
     "text": [
      "Training: 100%|████████████████████████████████████████████████████████████████████████| 50/50 [00:10<00:00,  4.70it/s]\n",
      "Evaluating: 100%|██████████████████████████████████████████████████████████████████████| 30/30 [00:00<00:00, 46.97it/s]\n",
      "Training:   2%|█▍                                                                       | 1/50 [00:00<00:07,  6.72it/s]"
     ]
    },
    {
     "name": "stdout",
     "output_type": "stream",
     "text": [
      "121.9\n"
     ]
    },
    {
     "name": "stderr",
     "output_type": "stream",
     "text": [
      "Training: 100%|████████████████████████████████████████████████████████████████████████| 50/50 [00:09<00:00,  5.20it/s]\n",
      "Evaluating: 100%|██████████████████████████████████████████████████████████████████████| 30/30 [00:01<00:00, 28.44it/s]\n",
      "Training:   0%|                                                                                 | 0/50 [00:00<?, ?it/s]"
     ]
    },
    {
     "name": "stdout",
     "output_type": "stream",
     "text": [
      "193.46666666666667\n"
     ]
    },
    {
     "name": "stderr",
     "output_type": "stream",
     "text": [
      "Training: 100%|████████████████████████████████████████████████████████████████████████| 50/50 [00:11<00:00,  4.54it/s]\n",
      "Evaluating: 100%|█████████████████████████████████████████████████████████████████████| 30/30 [00:00<00:00, 226.82it/s]\n",
      "Training:   0%|                                                                                 | 0/50 [00:00<?, ?it/s]"
     ]
    },
    {
     "name": "stdout",
     "output_type": "stream",
     "text": [
      "17.833333333333332\n"
     ]
    },
    {
     "name": "stderr",
     "output_type": "stream",
     "text": [
      "Training: 100%|████████████████████████████████████████████████████████████████████████| 50/50 [00:08<00:00,  5.75it/s]\n",
      "Evaluating: 100%|██████████████████████████████████████████████████████████████████████| 30/30 [00:00<00:00, 70.48it/s]\n",
      "Training:   2%|█▍                                                                       | 1/50 [00:00<00:06,  7.19it/s]"
     ]
    },
    {
     "name": "stdout",
     "output_type": "stream",
     "text": [
      "79.53333333333333\n"
     ]
    },
    {
     "name": "stderr",
     "output_type": "stream",
     "text": [
      "Training: 100%|████████████████████████████████████████████████████████████████████████| 50/50 [00:12<00:00,  3.92it/s]\n",
      "Evaluating: 100%|█████████████████████████████████████████████████████████████████████| 30/30 [00:00<00:00, 468.25it/s]\n",
      "Training:   0%|                                                                                 | 0/50 [00:00<?, ?it/s]"
     ]
    },
    {
     "name": "stdout",
     "output_type": "stream",
     "text": [
      "9.266666666666667\n"
     ]
    },
    {
     "name": "stderr",
     "output_type": "stream",
     "text": [
      "Training: 100%|████████████████████████████████████████████████████████████████████████| 50/50 [00:09<00:00,  5.29it/s]\n",
      "Evaluating: 100%|█████████████████████████████████████████████████████████████████████| 30/30 [00:00<00:00, 155.99it/s]\n",
      "Training:   0%|                                                                                 | 0/50 [00:00<?, ?it/s]"
     ]
    },
    {
     "name": "stdout",
     "output_type": "stream",
     "text": [
      "31.366666666666667\n"
     ]
    },
    {
     "name": "stderr",
     "output_type": "stream",
     "text": [
      "Training: 100%|████████████████████████████████████████████████████████████████████████| 50/50 [00:09<00:00,  5.25it/s]\n",
      "Evaluating: 100%|█████████████████████████████████████████████████████████████████████| 30/30 [00:00<00:00, 396.98it/s]\n",
      "Training:   0%|                                                                                 | 0/50 [00:00<?, ?it/s]"
     ]
    },
    {
     "name": "stdout",
     "output_type": "stream",
     "text": [
      "12.7\n"
     ]
    },
    {
     "name": "stderr",
     "output_type": "stream",
     "text": [
      "Training: 100%|████████████████████████████████████████████████████████████████████████| 50/50 [00:10<00:00,  4.97it/s]\n",
      "Evaluating: 100%|██████████████████████████████████████████████████████████████████████| 30/30 [00:00<00:00, 95.66it/s]\n",
      "Training:   0%|                                                                                 | 0/50 [00:00<?, ?it/s]"
     ]
    },
    {
     "name": "stdout",
     "output_type": "stream",
     "text": [
      "55.86666666666667\n"
     ]
    },
    {
     "name": "stderr",
     "output_type": "stream",
     "text": [
      "Training: 100%|████████████████████████████████████████████████████████████████████████| 50/50 [00:12<00:00,  4.03it/s]\n",
      "Evaluating: 100%|██████████████████████████████████████████████████████████████████████| 30/30 [00:01<00:00, 28.95it/s]\n",
      "Training:   0%|                                                                                 | 0/50 [00:00<?, ?it/s]"
     ]
    },
    {
     "name": "stdout",
     "output_type": "stream",
     "text": [
      "200.0\n"
     ]
    },
    {
     "name": "stderr",
     "output_type": "stream",
     "text": [
      "Training: 100%|████████████████████████████████████████████████████████████████████████| 50/50 [00:10<00:00,  4.67it/s]\n",
      "Evaluating: 100%|██████████████████████████████████████████████████████████████████████| 30/30 [00:00<00:00, 48.17it/s]\n",
      "Training:   0%|                                                                                 | 0/50 [00:00<?, ?it/s]"
     ]
    },
    {
     "name": "stdout",
     "output_type": "stream",
     "text": [
      "114.2\n"
     ]
    },
    {
     "name": "stderr",
     "output_type": "stream",
     "text": [
      "Training: 100%|████████████████████████████████████████████████████████████████████████| 50/50 [00:08<00:00,  5.88it/s]\n",
      "Evaluating: 100%|██████████████████████████████████████████████████████████████████████| 30/30 [00:01<00:00, 28.99it/s]\n",
      "Training:   0%|                                                                                 | 0/50 [00:00<?, ?it/s]"
     ]
    },
    {
     "name": "stdout",
     "output_type": "stream",
     "text": [
      "200.0\n"
     ]
    },
    {
     "name": "stderr",
     "output_type": "stream",
     "text": [
      "Training: 100%|████████████████████████████████████████████████████████████████████████| 50/50 [00:11<00:00,  4.24it/s]\n",
      "Evaluating: 100%|██████████████████████████████████████████████████████████████████████| 30/30 [00:01<00:00, 29.21it/s]\n",
      "Training:   0%|                                                                                 | 0/50 [00:00<?, ?it/s]"
     ]
    },
    {
     "name": "stdout",
     "output_type": "stream",
     "text": [
      "200.0\n"
     ]
    },
    {
     "name": "stderr",
     "output_type": "stream",
     "text": [
      "Training: 100%|████████████████████████████████████████████████████████████████████████| 50/50 [00:06<00:00,  7.17it/s]\n",
      "Evaluating: 100%|█████████████████████████████████████████████████████████████████████| 30/30 [00:00<00:00, 434.15it/s]\n",
      "Training:   0%|                                                                                 | 0/50 [00:00<?, ?it/s]"
     ]
    },
    {
     "name": "stdout",
     "output_type": "stream",
     "text": [
      "13.533333333333333\n"
     ]
    },
    {
     "name": "stderr",
     "output_type": "stream",
     "text": [
      "Training: 100%|████████████████████████████████████████████████████████████████████████| 50/50 [00:11<00:00,  4.22it/s]\n",
      "Evaluating: 100%|██████████████████████████████████████████████████████████████████████| 30/30 [00:01<00:00, 29.85it/s]\n",
      "Training:   0%|                                                                                 | 0/50 [00:00<?, ?it/s]"
     ]
    },
    {
     "name": "stdout",
     "output_type": "stream",
     "text": [
      "200.0\n"
     ]
    },
    {
     "name": "stderr",
     "output_type": "stream",
     "text": [
      "Training: 100%|████████████████████████████████████████████████████████████████████████| 50/50 [00:09<00:00,  5.33it/s]\n",
      "Evaluating: 100%|██████████████████████████████████████████████████████████████████████| 30/30 [00:01<00:00, 28.26it/s]\n",
      "Training:   0%|                                                                                 | 0/50 [00:00<?, ?it/s]"
     ]
    },
    {
     "name": "stdout",
     "output_type": "stream",
     "text": [
      "200.0\n"
     ]
    },
    {
     "name": "stderr",
     "output_type": "stream",
     "text": [
      "Training: 100%|████████████████████████████████████████████████████████████████████████| 50/50 [00:12<00:00,  4.13it/s]\n",
      "Evaluating: 100%|██████████████████████████████████████████████████████████████████████| 30/30 [00:00<00:00, 62.48it/s]\n",
      "Training:   0%|                                                                                 | 0/50 [00:00<?, ?it/s]"
     ]
    },
    {
     "name": "stdout",
     "output_type": "stream",
     "text": [
      "101.3\n"
     ]
    },
    {
     "name": "stderr",
     "output_type": "stream",
     "text": [
      "Training: 100%|████████████████████████████████████████████████████████████████████████| 50/50 [00:08<00:00,  5.58it/s]\n",
      "Evaluating: 100%|█████████████████████████████████████████████████████████████████████| 30/30 [00:00<00:00, 117.88it/s]\n",
      "Training:   0%|                                                                                 | 0/50 [00:00<?, ?it/s]"
     ]
    },
    {
     "name": "stdout",
     "output_type": "stream",
     "text": [
      "47.4\n"
     ]
    },
    {
     "name": "stderr",
     "output_type": "stream",
     "text": [
      "Training: 100%|████████████████████████████████████████████████████████████████████████| 50/50 [00:08<00:00,  5.90it/s]\n",
      "Evaluating: 100%|█████████████████████████████████████████████████████████████████████| 30/30 [00:00<00:00, 101.53it/s]\n",
      "Training:   2%|█▍                                                                       | 1/50 [00:00<00:05,  8.44it/s]"
     ]
    },
    {
     "name": "stdout",
     "output_type": "stream",
     "text": [
      "60.766666666666666\n"
     ]
    },
    {
     "name": "stderr",
     "output_type": "stream",
     "text": [
      "Training: 100%|████████████████████████████████████████████████████████████████████████| 50/50 [00:07<00:00,  6.31it/s]\n",
      "Evaluating: 100%|██████████████████████████████████████████████████████████████████████| 30/30 [00:00<00:00, 33.00it/s]\n",
      "Training:   0%|                                                                                 | 0/50 [00:00<?, ?it/s]"
     ]
    },
    {
     "name": "stdout",
     "output_type": "stream",
     "text": [
      "193.76666666666668\n"
     ]
    },
    {
     "name": "stderr",
     "output_type": "stream",
     "text": [
      "Training: 100%|████████████████████████████████████████████████████████████████████████| 50/50 [00:11<00:00,  4.37it/s]\n",
      "Evaluating: 100%|██████████████████████████████████████████████████████████████████████| 30/30 [00:00<00:00, 56.47it/s]\n",
      "Training:   0%|                                                                                 | 0/50 [00:00<?, ?it/s]"
     ]
    },
    {
     "name": "stdout",
     "output_type": "stream",
     "text": [
      "107.36666666666666\n"
     ]
    },
    {
     "name": "stderr",
     "output_type": "stream",
     "text": [
      "Training: 100%|████████████████████████████████████████████████████████████████████████| 50/50 [00:04<00:00, 10.87it/s]\n",
      "Evaluating: 100%|██████████████████████████████████████████████████████████████████████| 30/30 [00:00<00:00, 32.54it/s]\n",
      "Training:   0%|                                                                                 | 0/50 [00:00<?, ?it/s]"
     ]
    },
    {
     "name": "stdout",
     "output_type": "stream",
     "text": [
      "200.0\n"
     ]
    },
    {
     "name": "stderr",
     "output_type": "stream",
     "text": [
      "Training: 100%|████████████████████████████████████████████████████████████████████████| 50/50 [00:08<00:00,  5.60it/s]\n",
      "Evaluating: 100%|██████████████████████████████████████████████████████████████████████| 30/30 [00:00<00:00, 31.52it/s]\n",
      "Training:   0%|                                                                                 | 0/50 [00:00<?, ?it/s]"
     ]
    },
    {
     "name": "stdout",
     "output_type": "stream",
     "text": [
      "200.0\n"
     ]
    },
    {
     "name": "stderr",
     "output_type": "stream",
     "text": [
      "Training: 100%|████████████████████████████████████████████████████████████████████████| 50/50 [00:07<00:00,  6.36it/s]\n",
      "Evaluating: 100%|██████████████████████████████████████████████████████████████████████| 30/30 [00:00<00:00, 49.08it/s]\n",
      "Training:   0%|                                                                                 | 0/50 [00:00<?, ?it/s]"
     ]
    },
    {
     "name": "stdout",
     "output_type": "stream",
     "text": [
      "114.9\n"
     ]
    },
    {
     "name": "stderr",
     "output_type": "stream",
     "text": [
      "Training: 100%|████████████████████████████████████████████████████████████████████████| 50/50 [00:11<00:00,  4.47it/s]\n",
      "Evaluating: 100%|██████████████████████████████████████████████████████████████████████| 30/30 [00:00<00:00, 49.99it/s]\n",
      "Training:   0%|                                                                                 | 0/50 [00:00<?, ?it/s]"
     ]
    },
    {
     "name": "stdout",
     "output_type": "stream",
     "text": [
      "118.1\n"
     ]
    },
    {
     "name": "stderr",
     "output_type": "stream",
     "text": [
      "Training: 100%|████████████████████████████████████████████████████████████████████████| 50/50 [00:08<00:00,  5.63it/s]\n",
      "Evaluating: 100%|██████████████████████████████████████████████████████████████████████| 30/30 [00:00<00:00, 66.48it/s]\n",
      "Training:   2%|█▍                                                                       | 1/50 [00:00<00:06,  7.48it/s]"
     ]
    },
    {
     "name": "stdout",
     "output_type": "stream",
     "text": [
      "79.7\n"
     ]
    },
    {
     "name": "stderr",
     "output_type": "stream",
     "text": [
      "Training: 100%|████████████████████████████████████████████████████████████████████████| 50/50 [00:07<00:00,  7.05it/s]\n",
      "Evaluating: 100%|██████████████████████████████████████████████████████████████████████| 30/30 [00:00<00:00, 99.99it/s]\n",
      "Training:   4%|██▉                                                                      | 2/50 [00:00<00:04, 11.48it/s]"
     ]
    },
    {
     "name": "stdout",
     "output_type": "stream",
     "text": [
      "52.43333333333333\n"
     ]
    },
    {
     "name": "stderr",
     "output_type": "stream",
     "text": [
      "Training: 100%|████████████████████████████████████████████████████████████████████████| 50/50 [00:10<00:00,  4.58it/s]\n",
      "Evaluating: 100%|██████████████████████████████████████████████████████████████████████| 30/30 [00:00<00:00, 68.83it/s]\n",
      "Training:   2%|█▍                                                                       | 1/50 [00:00<00:06,  7.56it/s]"
     ]
    },
    {
     "name": "stdout",
     "output_type": "stream",
     "text": [
      "76.2\n"
     ]
    },
    {
     "name": "stderr",
     "output_type": "stream",
     "text": [
      "Training: 100%|████████████████████████████████████████████████████████████████████████| 50/50 [00:07<00:00,  6.80it/s]\n",
      "Evaluating: 100%|██████████████████████████████████████████████████████████████████████| 30/30 [00:00<00:00, 34.66it/s]\n",
      "Training:   0%|                                                                                 | 0/50 [00:00<?, ?it/s]"
     ]
    },
    {
     "name": "stdout",
     "output_type": "stream",
     "text": [
      "165.96666666666667\n"
     ]
    },
    {
     "name": "stderr",
     "output_type": "stream",
     "text": [
      "Training: 100%|████████████████████████████████████████████████████████████████████████| 50/50 [00:09<00:00,  5.48it/s]\n",
      "Evaluating: 100%|██████████████████████████████████████████████████████████████████████| 30/30 [00:00<00:00, 39.05it/s]\n",
      "Training:   2%|█▍                                                                       | 1/50 [00:00<00:08,  5.87it/s]"
     ]
    },
    {
     "name": "stdout",
     "output_type": "stream",
     "text": [
      "142.8\n"
     ]
    },
    {
     "name": "stderr",
     "output_type": "stream",
     "text": [
      "Training: 100%|████████████████████████████████████████████████████████████████████████| 50/50 [00:10<00:00,  4.77it/s]\n",
      "Evaluating: 100%|██████████████████████████████████████████████████████████████████████| 30/30 [00:01<00:00, 28.11it/s]\n",
      "Training:   0%|                                                                                 | 0/50 [00:00<?, ?it/s]"
     ]
    },
    {
     "name": "stdout",
     "output_type": "stream",
     "text": [
      "200.0\n"
     ]
    },
    {
     "name": "stderr",
     "output_type": "stream",
     "text": [
      "Training: 100%|████████████████████████████████████████████████████████████████████████| 50/50 [00:11<00:00,  4.42it/s]\n",
      "Evaluating: 100%|██████████████████████████████████████████████████████████████████████| 30/30 [00:01<00:00, 28.25it/s]\n",
      "Training:   0%|                                                                                 | 0/50 [00:00<?, ?it/s]"
     ]
    },
    {
     "name": "stdout",
     "output_type": "stream",
     "text": [
      "200.0\n"
     ]
    },
    {
     "name": "stderr",
     "output_type": "stream",
     "text": [
      "Training: 100%|████████████████████████████████████████████████████████████████████████| 50/50 [00:11<00:00,  4.39it/s]\n",
      "Evaluating: 100%|█████████████████████████████████████████████████████████████████████| 30/30 [00:00<00:00, 125.05it/s]\n",
      "Training:   4%|██▉                                                                      | 2/50 [00:00<00:02, 18.62it/s]"
     ]
    },
    {
     "name": "stdout",
     "output_type": "stream",
     "text": [
      "43.266666666666666\n"
     ]
    },
    {
     "name": "stderr",
     "output_type": "stream",
     "text": [
      "Training: 100%|████████████████████████████████████████████████████████████████████████| 50/50 [00:10<00:00,  4.95it/s]\n",
      "Evaluating: 100%|██████████████████████████████████████████████████████████████████████| 30/30 [00:01<00:00, 29.60it/s]\n",
      "Training:   0%|                                                                                 | 0/50 [00:00<?, ?it/s]"
     ]
    },
    {
     "name": "stdout",
     "output_type": "stream",
     "text": [
      "200.0\n"
     ]
    },
    {
     "name": "stderr",
     "output_type": "stream",
     "text": [
      "Training: 100%|████████████████████████████████████████████████████████████████████████| 50/50 [00:14<00:00,  3.36it/s]\n",
      "Evaluating: 100%|██████████████████████████████████████████████████████████████████████| 30/30 [00:00<00:00, 32.55it/s]\n",
      "Training:   2%|█▍                                                                       | 1/50 [00:00<00:07,  6.30it/s]"
     ]
    },
    {
     "name": "stdout",
     "output_type": "stream",
     "text": [
      "174.33333333333334\n"
     ]
    },
    {
     "name": "stderr",
     "output_type": "stream",
     "text": [
      "Training: 100%|████████████████████████████████████████████████████████████████████████| 50/50 [00:09<00:00,  5.02it/s]\n",
      "Evaluating: 100%|█████████████████████████████████████████████████████████████████████| 30/30 [00:00<00:00, 126.79it/s]\n",
      "Training:   4%|██▉                                                                      | 2/50 [00:00<00:03, 12.58it/s]"
     ]
    },
    {
     "name": "stdout",
     "output_type": "stream",
     "text": [
      "39.0\n"
     ]
    },
    {
     "name": "stderr",
     "output_type": "stream",
     "text": [
      "Training: 100%|████████████████████████████████████████████████████████████████████████| 50/50 [00:08<00:00,  5.56it/s]\n",
      "Evaluating: 100%|██████████████████████████████████████████████████████████████████████| 30/30 [00:01<00:00, 29.30it/s]\n",
      "Training:   0%|                                                                                 | 0/50 [00:00<?, ?it/s]"
     ]
    },
    {
     "name": "stdout",
     "output_type": "stream",
     "text": [
      "200.0\n"
     ]
    },
    {
     "name": "stderr",
     "output_type": "stream",
     "text": [
      "Training: 100%|████████████████████████████████████████████████████████████████████████| 50/50 [00:11<00:00,  4.46it/s]\n",
      "Evaluating: 100%|██████████████████████████████████████████████████████████████████████| 30/30 [00:00<00:00, 78.59it/s]\n",
      "Training:   4%|██▉                                                                      | 2/50 [00:00<00:04, 10.48it/s]"
     ]
    },
    {
     "name": "stdout",
     "output_type": "stream",
     "text": [
      "65.83333333333333\n"
     ]
    },
    {
     "name": "stderr",
     "output_type": "stream",
     "text": [
      "Training: 100%|████████████████████████████████████████████████████████████████████████| 50/50 [00:08<00:00,  5.97it/s]\n",
      "Evaluating: 100%|█████████████████████████████████████████████████████████████████████| 30/30 [00:00<00:00, 107.91it/s]\n",
      "Training:   4%|██▉                                                                      | 2/50 [00:00<00:04, 10.30it/s]"
     ]
    },
    {
     "name": "stdout",
     "output_type": "stream",
     "text": [
      "49.8\n"
     ]
    },
    {
     "name": "stderr",
     "output_type": "stream",
     "text": [
      "Training: 100%|████████████████████████████████████████████████████████████████████████| 50/50 [00:10<00:00,  4.66it/s]\n",
      "Evaluating: 100%|██████████████████████████████████████████████████████████████████████| 30/30 [00:00<00:00, 46.98it/s]\n",
      "Training:   0%|                                                                                 | 0/50 [00:00<?, ?it/s]"
     ]
    },
    {
     "name": "stdout",
     "output_type": "stream",
     "text": [
      "119.73333333333333\n"
     ]
    },
    {
     "name": "stderr",
     "output_type": "stream",
     "text": [
      "Training: 100%|████████████████████████████████████████████████████████████████████████| 50/50 [00:07<00:00,  6.77it/s]\n",
      "Evaluating: 100%|█████████████████████████████████████████████████████████████████████| 30/30 [00:00<00:00, 500.23it/s]\n",
      "Training:   0%|                                                                                 | 0/50 [00:00<?, ?it/s]"
     ]
    },
    {
     "name": "stdout",
     "output_type": "stream",
     "text": [
      "9.6\n"
     ]
    },
    {
     "name": "stderr",
     "output_type": "stream",
     "text": [
      "Training: 100%|████████████████████████████████████████████████████████████████████████| 50/50 [00:09<00:00,  5.43it/s]\n",
      "Evaluating: 100%|██████████████████████████████████████████████████████████████████████| 30/30 [00:00<00:00, 74.94it/s]\n",
      "Training:   2%|█▍                                                                       | 1/50 [00:00<00:05,  8.40it/s]"
     ]
    },
    {
     "name": "stdout",
     "output_type": "stream",
     "text": [
      "71.76666666666667\n"
     ]
    },
    {
     "name": "stderr",
     "output_type": "stream",
     "text": [
      "Training: 100%|████████████████████████████████████████████████████████████████████████| 50/50 [00:12<00:00,  4.06it/s]\n",
      "Evaluating: 100%|██████████████████████████████████████████████████████████████████████| 30/30 [00:01<00:00, 28.75it/s]\n",
      "Training:   0%|                                                                                 | 0/50 [00:00<?, ?it/s]"
     ]
    },
    {
     "name": "stdout",
     "output_type": "stream",
     "text": [
      "197.1\n"
     ]
    },
    {
     "name": "stderr",
     "output_type": "stream",
     "text": [
      "Training: 100%|████████████████████████████████████████████████████████████████████████| 50/50 [00:10<00:00,  4.92it/s]\n",
      "Evaluating: 100%|██████████████████████████████████████████████████████████████████████| 30/30 [00:00<00:00, 87.25it/s]\n",
      "Training:   2%|█▍                                                                       | 1/50 [00:00<00:09,  5.38it/s]"
     ]
    },
    {
     "name": "stdout",
     "output_type": "stream",
     "text": [
      "62.06666666666667\n"
     ]
    },
    {
     "name": "stderr",
     "output_type": "stream",
     "text": [
      "Training: 100%|████████████████████████████████████████████████████████████████████████| 50/50 [00:08<00:00,  5.56it/s]\n",
      "Evaluating: 100%|██████████████████████████████████████████████████████████████████████| 30/30 [00:00<00:00, 30.38it/s]\n",
      "Training:   0%|                                                                                 | 0/50 [00:00<?, ?it/s]"
     ]
    },
    {
     "name": "stdout",
     "output_type": "stream",
     "text": [
      "194.3\n"
     ]
    },
    {
     "name": "stderr",
     "output_type": "stream",
     "text": [
      "Training: 100%|████████████████████████████████████████████████████████████████████████| 50/50 [00:09<00:00,  5.16it/s]\n",
      "Evaluating: 100%|██████████████████████████████████████████████████████████████████████| 30/30 [00:01<00:00, 28.29it/s]\n",
      "Training:   0%|                                                                                 | 0/50 [00:00<?, ?it/s]"
     ]
    },
    {
     "name": "stdout",
     "output_type": "stream",
     "text": [
      "200.0\n"
     ]
    },
    {
     "name": "stderr",
     "output_type": "stream",
     "text": [
      "Training: 100%|████████████████████████████████████████████████████████████████████████| 50/50 [00:08<00:00,  6.00it/s]\n",
      "Evaluating: 100%|█████████████████████████████████████████████████████████████████████| 30/30 [00:00<00:00, 467.82it/s]\n",
      "Training:   0%|                                                                                 | 0/50 [00:00<?, ?it/s]"
     ]
    },
    {
     "name": "stdout",
     "output_type": "stream",
     "text": [
      "10.1\n"
     ]
    },
    {
     "name": "stderr",
     "output_type": "stream",
     "text": [
      "Training: 100%|████████████████████████████████████████████████████████████████████████| 50/50 [00:11<00:00,  4.39it/s]\n",
      "Evaluating: 100%|█████████████████████████████████████████████████████████████████████| 30/30 [00:00<00:00, 187.68it/s]\n",
      "Training:   2%|█▍                                                                       | 1/50 [00:00<00:06,  7.41it/s]"
     ]
    },
    {
     "name": "stdout",
     "output_type": "stream",
     "text": [
      "29.3\n"
     ]
    },
    {
     "name": "stderr",
     "output_type": "stream",
     "text": [
      "Training: 100%|████████████████████████████████████████████████████████████████████████| 50/50 [00:07<00:00,  6.61it/s]\n",
      "Evaluating: 100%|██████████████████████████████████████████████████████████████████████| 30/30 [00:00<00:00, 58.98it/s]\n",
      "Training:   0%|                                                                                 | 0/50 [00:00<?, ?it/s]"
     ]
    },
    {
     "name": "stdout",
     "output_type": "stream",
     "text": [
      "105.7\n"
     ]
    },
    {
     "name": "stderr",
     "output_type": "stream",
     "text": [
      "Training: 100%|████████████████████████████████████████████████████████████████████████| 50/50 [00:08<00:00,  6.06it/s]\n",
      "Evaluating: 100%|██████████████████████████████████████████████████████████████████████| 30/30 [00:00<00:00, 33.23it/s]\n",
      "Training:   0%|                                                                                 | 0/50 [00:00<?, ?it/s]"
     ]
    },
    {
     "name": "stdout",
     "output_type": "stream",
     "text": [
      "184.73333333333332\n"
     ]
    },
    {
     "name": "stderr",
     "output_type": "stream",
     "text": [
      "Training: 100%|████████████████████████████████████████████████████████████████████████| 50/50 [00:10<00:00,  4.68it/s]\n",
      "Evaluating: 100%|██████████████████████████████████████████████████████████████████████| 30/30 [00:00<00:00, 33.01it/s]\n",
      "Training:   0%|                                                                                 | 0/50 [00:00<?, ?it/s]"
     ]
    },
    {
     "name": "stdout",
     "output_type": "stream",
     "text": [
      "198.63333333333333\n"
     ]
    },
    {
     "name": "stderr",
     "output_type": "stream",
     "text": [
      "Training: 100%|████████████████████████████████████████████████████████████████████████| 50/50 [00:07<00:00,  7.12it/s]\n",
      "Evaluating: 100%|██████████████████████████████████████████████████████████████████████| 30/30 [00:00<00:00, 63.68it/s]\n",
      "Training:   0%|                                                                                 | 0/50 [00:00<?, ?it/s]"
     ]
    },
    {
     "name": "stdout",
     "output_type": "stream",
     "text": [
      "92.8\n"
     ]
    },
    {
     "name": "stderr",
     "output_type": "stream",
     "text": [
      "Training: 100%|████████████████████████████████████████████████████████████████████████| 50/50 [00:11<00:00,  4.42it/s]\n",
      "Evaluating: 100%|██████████████████████████████████████████████████████████████████████| 30/30 [00:00<00:00, 31.80it/s]\n",
      "Training:   0%|                                                                                 | 0/50 [00:00<?, ?it/s]"
     ]
    },
    {
     "name": "stdout",
     "output_type": "stream",
     "text": [
      "200.0\n"
     ]
    },
    {
     "name": "stderr",
     "output_type": "stream",
     "text": [
      "Training: 100%|████████████████████████████████████████████████████████████████████████| 50/50 [00:09<00:00,  5.20it/s]\n",
      "Evaluating: 100%|██████████████████████████████████████████████████████████████████████| 30/30 [00:00<00:00, 40.99it/s]\n",
      "Training:   0%|                                                                                 | 0/50 [00:00<?, ?it/s]"
     ]
    },
    {
     "name": "stdout",
     "output_type": "stream",
     "text": [
      "155.73333333333332\n"
     ]
    },
    {
     "name": "stderr",
     "output_type": "stream",
     "text": [
      "Training: 100%|████████████████████████████████████████████████████████████████████████| 50/50 [00:07<00:00,  6.97it/s]\n",
      "Evaluating: 100%|██████████████████████████████████████████████████████████████████████| 30/30 [00:00<00:00, 39.30it/s]\n",
      "Training:   0%|                                                                                 | 0/50 [00:00<?, ?it/s]"
     ]
    },
    {
     "name": "stdout",
     "output_type": "stream",
     "text": [
      "157.0\n"
     ]
    },
    {
     "name": "stderr",
     "output_type": "stream",
     "text": [
      "Training: 100%|████████████████████████████████████████████████████████████████████████| 50/50 [00:09<00:00,  5.13it/s]\n",
      "Evaluating: 100%|██████████████████████████████████████████████████████████████████████| 30/30 [00:00<00:00, 57.59it/s]\n",
      "Training:   0%|                                                                                 | 0/50 [00:00<?, ?it/s]"
     ]
    },
    {
     "name": "stdout",
     "output_type": "stream",
     "text": [
      "103.8\n"
     ]
    },
    {
     "name": "stderr",
     "output_type": "stream",
     "text": [
      "Training: 100%|████████████████████████████████████████████████████████████████████████| 50/50 [00:08<00:00,  5.65it/s]\n",
      "Evaluating: 100%|██████████████████████████████████████████████████████████████████████| 30/30 [00:00<00:00, 33.52it/s]\n",
      "Training:   0%|                                                                                 | 0/50 [00:00<?, ?it/s]"
     ]
    },
    {
     "name": "stdout",
     "output_type": "stream",
     "text": [
      "193.73333333333332\n"
     ]
    },
    {
     "name": "stderr",
     "output_type": "stream",
     "text": [
      "Training: 100%|████████████████████████████████████████████████████████████████████████| 50/50 [00:12<00:00,  4.04it/s]\n",
      "Evaluating: 100%|█████████████████████████████████████████████████████████████████████| 30/30 [00:00<00:00, 599.10it/s]\n",
      "Training:   0%|                                                                                 | 0/50 [00:00<?, ?it/s]"
     ]
    },
    {
     "name": "stdout",
     "output_type": "stream",
     "text": [
      "9.6\n"
     ]
    },
    {
     "name": "stderr",
     "output_type": "stream",
     "text": [
      "Training: 100%|████████████████████████████████████████████████████████████████████████| 50/50 [00:07<00:00,  6.46it/s]\n",
      "Evaluating: 100%|██████████████████████████████████████████████████████████████████████| 30/30 [00:00<00:00, 32.63it/s]\n",
      "Training:   0%|                                                                                 | 0/50 [00:00<?, ?it/s]"
     ]
    },
    {
     "name": "stdout",
     "output_type": "stream",
     "text": [
      "200.0\n"
     ]
    },
    {
     "name": "stderr",
     "output_type": "stream",
     "text": [
      "Training: 100%|████████████████████████████████████████████████████████████████████████| 50/50 [00:09<00:00,  5.14it/s]\n",
      "Evaluating: 100%|██████████████████████████████████████████████████████████████████████| 30/30 [00:00<00:00, 34.32it/s]\n",
      "Training:   0%|                                                                                 | 0/50 [00:00<?, ?it/s]"
     ]
    },
    {
     "name": "stdout",
     "output_type": "stream",
     "text": [
      "193.73333333333332\n"
     ]
    },
    {
     "name": "stderr",
     "output_type": "stream",
     "text": [
      "Training: 100%|████████████████████████████████████████████████████████████████████████| 50/50 [00:10<00:00,  4.75it/s]\n",
      "Evaluating: 100%|█████████████████████████████████████████████████████████████████████| 30/30 [00:00<00:00, 374.92it/s]\n",
      "Training:   0%|                                                                                 | 0/50 [00:00<?, ?it/s]"
     ]
    },
    {
     "name": "stdout",
     "output_type": "stream",
     "text": [
      "16.0\n"
     ]
    },
    {
     "name": "stderr",
     "output_type": "stream",
     "text": [
      "Training: 100%|████████████████████████████████████████████████████████████████████████| 50/50 [00:06<00:00,  8.26it/s]\n",
      "Evaluating: 100%|██████████████████████████████████████████████████████████████████████| 30/30 [00:00<00:00, 59.69it/s]\n",
      "Training:   2%|█▍                                                                       | 1/50 [00:00<00:08,  6.05it/s]"
     ]
    },
    {
     "name": "stdout",
     "output_type": "stream",
     "text": [
      "100.43333333333334\n"
     ]
    },
    {
     "name": "stderr",
     "output_type": "stream",
     "text": [
      "Training: 100%|████████████████████████████████████████████████████████████████████████| 50/50 [00:06<00:00,  7.78it/s]\n",
      "Evaluating: 100%|█████████████████████████████████████████████████████████████████████| 30/30 [00:00<00:00, 115.70it/s]\n",
      "Training:   0%|                                                                                 | 0/50 [00:00<?, ?it/s]"
     ]
    },
    {
     "name": "stdout",
     "output_type": "stream",
     "text": [
      "49.63333333333333\n"
     ]
    },
    {
     "name": "stderr",
     "output_type": "stream",
     "text": [
      "Training: 100%|████████████████████████████████████████████████████████████████████████| 50/50 [00:06<00:00,  7.35it/s]\n",
      "Evaluating: 100%|██████████████████████████████████████████████████████████████████████| 30/30 [00:00<00:00, 94.38it/s]\n",
      "Training:   2%|█▍                                                                       | 1/50 [00:00<00:07,  6.71it/s]"
     ]
    },
    {
     "name": "stdout",
     "output_type": "stream",
     "text": [
      "66.13333333333334\n"
     ]
    },
    {
     "name": "stderr",
     "output_type": "stream",
     "text": [
      "Training: 100%|████████████████████████████████████████████████████████████████████████| 50/50 [00:04<00:00, 11.97it/s]\n",
      "Evaluating: 100%|█████████████████████████████████████████████████████████████████████| 30/30 [00:00<00:00, 319.46it/s]\n",
      "Training:   2%|█▍                                                                       | 1/50 [00:00<00:06,  7.51it/s]"
     ]
    },
    {
     "name": "stdout",
     "output_type": "stream",
     "text": [
      "13.5\n"
     ]
    },
    {
     "name": "stderr",
     "output_type": "stream",
     "text": [
      "Training: 100%|████████████████████████████████████████████████████████████████████████| 50/50 [00:07<00:00,  7.11it/s]\n",
      "Evaluating: 100%|██████████████████████████████████████████████████████████████████████| 30/30 [00:00<00:00, 32.52it/s]\n",
      "Training:   0%|                                                                                 | 0/50 [00:00<?, ?it/s]"
     ]
    },
    {
     "name": "stdout",
     "output_type": "stream",
     "text": [
      "199.23333333333332\n"
     ]
    },
    {
     "name": "stderr",
     "output_type": "stream",
     "text": [
      "Training: 100%|████████████████████████████████████████████████████████████████████████| 50/50 [00:08<00:00,  5.80it/s]\n",
      "Evaluating: 100%|██████████████████████████████████████████████████████████████████████| 30/30 [00:00<00:00, 31.40it/s]\n",
      "Training:   0%|                                                                                 | 0/50 [00:00<?, ?it/s]"
     ]
    },
    {
     "name": "stdout",
     "output_type": "stream",
     "text": [
      "200.0\n"
     ]
    },
    {
     "name": "stderr",
     "output_type": "stream",
     "text": [
      "Training: 100%|████████████████████████████████████████████████████████████████████████| 50/50 [00:07<00:00,  6.33it/s]\n",
      "Evaluating: 100%|██████████████████████████████████████████████████████████████████████| 30/30 [00:00<00:00, 31.29it/s]\n",
      "Training:   0%|                                                                                 | 0/50 [00:00<?, ?it/s]"
     ]
    },
    {
     "name": "stdout",
     "output_type": "stream",
     "text": [
      "200.0\n"
     ]
    },
    {
     "name": "stderr",
     "output_type": "stream",
     "text": [
      "Training: 100%|████████████████████████████████████████████████████████████████████████| 50/50 [00:09<00:00,  5.54it/s]\n",
      "Evaluating: 100%|█████████████████████████████████████████████████████████████████████| 30/30 [00:00<00:00, 612.16it/s]\n",
      "Training:   2%|█▍                                                                       | 1/50 [00:00<00:07,  6.89it/s]"
     ]
    },
    {
     "name": "stdout",
     "output_type": "stream",
     "text": [
      "9.666666666666666\n"
     ]
    },
    {
     "name": "stderr",
     "output_type": "stream",
     "text": [
      "Training: 100%|████████████████████████████████████████████████████████████████████████| 50/50 [00:08<00:00,  6.25it/s]\n",
      "Evaluating: 100%|██████████████████████████████████████████████████████████████████████| 30/30 [00:00<00:00, 32.49it/s]\n",
      "Training:   0%|                                                                                 | 0/50 [00:00<?, ?it/s]"
     ]
    },
    {
     "name": "stdout",
     "output_type": "stream",
     "text": [
      "179.03333333333333\n"
     ]
    },
    {
     "name": "stderr",
     "output_type": "stream",
     "text": [
      "Training: 100%|████████████████████████████████████████████████████████████████████████| 50/50 [00:11<00:00,  4.38it/s]\n",
      "Evaluating: 100%|██████████████████████████████████████████████████████████████████████| 30/30 [00:00<00:00, 80.29it/s]\n",
      "Training:   0%|                                                                                 | 0/50 [00:00<?, ?it/s]"
     ]
    },
    {
     "name": "stdout",
     "output_type": "stream",
     "text": [
      "68.8\n"
     ]
    },
    {
     "name": "stderr",
     "output_type": "stream",
     "text": [
      "Training: 100%|████████████████████████████████████████████████████████████████████████| 50/50 [00:11<00:00,  4.28it/s]\n",
      "Evaluating: 100%|█████████████████████████████████████████████████████████████████████| 30/30 [00:00<00:00, 106.05it/s]\n",
      "Training:   2%|█▍                                                                       | 1/50 [00:00<00:06,  7.92it/s]"
     ]
    },
    {
     "name": "stdout",
     "output_type": "stream",
     "text": [
      "49.1\n"
     ]
    },
    {
     "name": "stderr",
     "output_type": "stream",
     "text": [
      "Training: 100%|████████████████████████████████████████████████████████████████████████| 50/50 [00:10<00:00,  4.61it/s]\n",
      "Evaluating: 100%|██████████████████████████████████████████████████████████████████████| 30/30 [00:00<00:00, 82.24it/s]\n",
      "Training:   2%|█▍                                                                       | 1/50 [00:00<00:06,  7.00it/s]"
     ]
    },
    {
     "name": "stdout",
     "output_type": "stream",
     "text": [
      "64.36666666666666\n"
     ]
    },
    {
     "name": "stderr",
     "output_type": "stream",
     "text": [
      "Training: 100%|████████████████████████████████████████████████████████████████████████| 50/50 [00:07<00:00,  6.96it/s]\n",
      "Evaluating: 100%|█████████████████████████████████████████████████████████████████████| 30/30 [00:00<00:00, 586.73it/s]\n",
      "Training:   0%|                                                                                 | 0/50 [00:00<?, ?it/s]"
     ]
    },
    {
     "name": "stdout",
     "output_type": "stream",
     "text": [
      "9.4\n"
     ]
    },
    {
     "name": "stderr",
     "output_type": "stream",
     "text": [
      "Training: 100%|████████████████████████████████████████████████████████████████████████| 50/50 [00:10<00:00,  4.88it/s]\n",
      "Evaluating: 100%|██████████████████████████████████████████████████████████████████████| 30/30 [00:00<00:00, 31.59it/s]\n",
      "Training:   0%|                                                                                 | 0/50 [00:00<?, ?it/s]"
     ]
    },
    {
     "name": "stdout",
     "output_type": "stream",
     "text": [
      "173.46666666666667\n"
     ]
    },
    {
     "name": "stderr",
     "output_type": "stream",
     "text": [
      "Training: 100%|████████████████████████████████████████████████████████████████████████| 50/50 [00:06<00:00,  7.48it/s]\n",
      "Evaluating: 100%|█████████████████████████████████████████████████████████████████████| 30/30 [00:00<00:00, 187.60it/s]\n",
      "Training:   0%|                                                                                 | 0/50 [00:00<?, ?it/s]"
     ]
    },
    {
     "name": "stdout",
     "output_type": "stream",
     "text": [
      "30.833333333333332\n"
     ]
    },
    {
     "name": "stderr",
     "output_type": "stream",
     "text": [
      "Training: 100%|████████████████████████████████████████████████████████████████████████| 50/50 [00:12<00:00,  4.12it/s]\n",
      "Evaluating: 100%|█████████████████████████████████████████████████████████████████████| 30/30 [00:00<00:00, 117.43it/s]\n",
      "Training:   2%|█▍                                                                       | 1/50 [00:00<00:07,  6.39it/s]"
     ]
    },
    {
     "name": "stdout",
     "output_type": "stream",
     "text": [
      "47.36666666666667\n"
     ]
    },
    {
     "name": "stderr",
     "output_type": "stream",
     "text": [
      "Training: 100%|████████████████████████████████████████████████████████████████████████| 50/50 [00:11<00:00,  4.45it/s]\n",
      "Evaluating: 100%|██████████████████████████████████████████████████████████████████████| 30/30 [00:01<00:00, 27.93it/s]\n",
      "Training:   0%|                                                                                 | 0/50 [00:00<?, ?it/s]"
     ]
    },
    {
     "name": "stdout",
     "output_type": "stream",
     "text": [
      "200.0\n"
     ]
    },
    {
     "name": "stderr",
     "output_type": "stream",
     "text": [
      "Training: 100%|████████████████████████████████████████████████████████████████████████| 50/50 [00:08<00:00,  6.04it/s]\n",
      "Evaluating: 100%|██████████████████████████████████████████████████████████████████████| 30/30 [00:00<00:00, 36.42it/s]\n",
      "Training:   0%|                                                                                 | 0/50 [00:00<?, ?it/s]"
     ]
    },
    {
     "name": "stdout",
     "output_type": "stream",
     "text": [
      "150.0\n"
     ]
    },
    {
     "name": "stderr",
     "output_type": "stream",
     "text": [
      "Training: 100%|████████████████████████████████████████████████████████████████████████| 50/50 [00:08<00:00,  6.24it/s]\n",
      "Evaluating: 100%|█████████████████████████████████████████████████████████████████████| 30/30 [00:00<00:00, 156.23it/s]\n",
      "Training:   0%|                                                                                 | 0/50 [00:00<?, ?it/s]"
     ]
    },
    {
     "name": "stdout",
     "output_type": "stream",
     "text": [
      "31.466666666666665\n"
     ]
    },
    {
     "name": "stderr",
     "output_type": "stream",
     "text": [
      "Training: 100%|████████████████████████████████████████████████████████████████████████| 50/50 [00:08<00:00,  6.06it/s]\n",
      "Evaluating: 100%|██████████████████████████████████████████████████████████████████████| 30/30 [00:00<00:00, 50.59it/s]\n",
      "Training:   2%|█▍                                                                       | 1/50 [00:00<00:06,  7.10it/s]"
     ]
    },
    {
     "name": "stdout",
     "output_type": "stream",
     "text": [
      "105.76666666666667\n"
     ]
    },
    {
     "name": "stderr",
     "output_type": "stream",
     "text": [
      "Training: 100%|████████████████████████████████████████████████████████████████████████| 50/50 [00:07<00:00,  6.88it/s]\n",
      "Evaluating: 100%|██████████████████████████████████████████████████████████████████████| 30/30 [00:00<00:00, 47.51it/s]\n",
      "Training:   2%|█▍                                                                       | 1/50 [00:00<00:09,  5.18it/s]"
     ]
    },
    {
     "name": "stdout",
     "output_type": "stream",
     "text": [
      "115.1\n"
     ]
    },
    {
     "name": "stderr",
     "output_type": "stream",
     "text": [
      "Training: 100%|████████████████████████████████████████████████████████████████████████| 50/50 [00:08<00:00,  6.11it/s]\n",
      "Evaluating: 100%|██████████████████████████████████████████████████████████████████████| 30/30 [00:00<00:00, 66.36it/s]\n",
      "Training:   0%|                                                                                 | 0/50 [00:00<?, ?it/s]"
     ]
    },
    {
     "name": "stdout",
     "output_type": "stream",
     "text": [
      "80.93333333333334\n"
     ]
    },
    {
     "name": "stderr",
     "output_type": "stream",
     "text": [
      "Training: 100%|████████████████████████████████████████████████████████████████████████| 50/50 [00:10<00:00,  4.57it/s]\n",
      "Evaluating: 100%|█████████████████████████████████████████████████████████████████████| 30/30 [00:00<00:00, 219.89it/s]\n",
      "Training:   0%|                                                                                 | 0/50 [00:00<?, ?it/s]"
     ]
    },
    {
     "name": "stdout",
     "output_type": "stream",
     "text": [
      "23.633333333333333\n"
     ]
    },
    {
     "name": "stderr",
     "output_type": "stream",
     "text": [
      "Training: 100%|████████████████████████████████████████████████████████████████████████| 50/50 [00:04<00:00, 10.64it/s]\n",
      "Evaluating: 100%|█████████████████████████████████████████████████████████████████████| 30/30 [00:00<00:00, 312.41it/s]\n",
      "Training:   0%|                                                                                 | 0/50 [00:00<?, ?it/s]"
     ]
    },
    {
     "name": "stdout",
     "output_type": "stream",
     "text": [
      "17.533333333333335\n"
     ]
    },
    {
     "name": "stderr",
     "output_type": "stream",
     "text": [
      "Training: 100%|████████████████████████████████████████████████████████████████████████| 50/50 [00:03<00:00, 15.25it/s]\n",
      "Evaluating: 100%|██████████████████████████████████████████████████████████████████████| 30/30 [00:00<00:00, 39.10it/s]\n",
      "Training:   0%|                                                                                 | 0/50 [00:00<?, ?it/s]"
     ]
    },
    {
     "name": "stdout",
     "output_type": "stream",
     "text": [
      "144.36666666666667\n"
     ]
    },
    {
     "name": "stderr",
     "output_type": "stream",
     "text": [
      "Training: 100%|████████████████████████████████████████████████████████████████████████| 50/50 [00:11<00:00,  4.47it/s]\n",
      "Evaluating: 100%|█████████████████████████████████████████████████████████████████████| 30/30 [00:00<00:00, 412.42it/s]\n",
      "Training:   0%|                                                                                 | 0/50 [00:00<?, ?it/s]"
     ]
    },
    {
     "name": "stdout",
     "output_type": "stream",
     "text": [
      "11.433333333333334\n"
     ]
    },
    {
     "name": "stderr",
     "output_type": "stream",
     "text": [
      "Training: 100%|████████████████████████████████████████████████████████████████████████| 50/50 [00:11<00:00,  4.24it/s]\n",
      "Evaluating: 100%|█████████████████████████████████████████████████████████████████████| 30/30 [00:00<00:00, 112.10it/s]\n",
      "Training:   4%|██▉                                                                      | 2/50 [00:00<00:03, 12.44it/s]"
     ]
    },
    {
     "name": "stdout",
     "output_type": "stream",
     "text": [
      "46.4\n"
     ]
    },
    {
     "name": "stderr",
     "output_type": "stream",
     "text": [
      "Training: 100%|████████████████████████████████████████████████████████████████████████| 50/50 [00:08<00:00,  5.87it/s]\n",
      "Evaluating: 100%|██████████████████████████████████████████████████████████████████████| 30/30 [00:01<00:00, 29.06it/s]\n",
      "Training:   0%|                                                                                 | 0/50 [00:00<?, ?it/s]"
     ]
    },
    {
     "name": "stdout",
     "output_type": "stream",
     "text": [
      "200.0\n"
     ]
    },
    {
     "name": "stderr",
     "output_type": "stream",
     "text": [
      "Training: 100%|████████████████████████████████████████████████████████████████████████| 50/50 [00:07<00:00,  6.96it/s]\n",
      "Evaluating: 100%|██████████████████████████████████████████████████████████████████████| 30/30 [00:00<00:00, 39.78it/s]\n",
      "Training:   2%|█▍                                                                       | 1/50 [00:00<00:06,  7.26it/s]"
     ]
    },
    {
     "name": "stdout",
     "output_type": "stream",
     "text": [
      "137.36666666666667\n"
     ]
    },
    {
     "name": "stderr",
     "output_type": "stream",
     "text": [
      "Training: 100%|████████████████████████████████████████████████████████████████████████| 50/50 [00:08<00:00,  6.05it/s]\n",
      "Evaluating: 100%|██████████████████████████████████████████████████████████████████████| 30/30 [00:00<00:00, 43.69it/s]\n",
      "Training:   0%|                                                                                 | 0/50 [00:00<?, ?it/s]"
     ]
    },
    {
     "name": "stdout",
     "output_type": "stream",
     "text": [
      "127.3\n"
     ]
    },
    {
     "name": "stderr",
     "output_type": "stream",
     "text": [
      "Training: 100%|████████████████████████████████████████████████████████████████████████| 50/50 [00:10<00:00,  4.95it/s]\n",
      "Evaluating: 100%|█████████████████████████████████████████████████████████████████████| 30/30 [00:00<00:00, 175.66it/s]\n",
      "Training:   0%|                                                                                 | 0/50 [00:00<?, ?it/s]"
     ]
    },
    {
     "name": "stdout",
     "output_type": "stream",
     "text": [
      "25.433333333333334\n"
     ]
    },
    {
     "name": "stderr",
     "output_type": "stream",
     "text": [
      "Training: 100%|████████████████████████████████████████████████████████████████████████| 50/50 [00:10<00:00,  4.91it/s]\n",
      "Evaluating: 100%|██████████████████████████████████████████████████████████████████████| 30/30 [00:01<00:00, 28.94it/s]\n",
      "Training:   0%|                                                                                 | 0/50 [00:00<?, ?it/s]"
     ]
    },
    {
     "name": "stdout",
     "output_type": "stream",
     "text": [
      "188.76666666666668\n"
     ]
    },
    {
     "name": "stderr",
     "output_type": "stream",
     "text": [
      "Training: 100%|████████████████████████████████████████████████████████████████████████| 50/50 [00:14<00:00,  3.54it/s]\n",
      "Evaluating: 100%|██████████████████████████████████████████████████████████████████████| 30/30 [00:00<00:00, 38.48it/s]\n",
      "Training:   0%|                                                                                 | 0/50 [00:00<?, ?it/s]"
     ]
    },
    {
     "name": "stdout",
     "output_type": "stream",
     "text": [
      "143.6\n"
     ]
    },
    {
     "name": "stderr",
     "output_type": "stream",
     "text": [
      "Training: 100%|████████████████████████████████████████████████████████████████████████| 50/50 [00:12<00:00,  4.06it/s]\n",
      "Evaluating: 100%|█████████████████████████████████████████████████████████████████████| 30/30 [00:00<00:00, 371.84it/s]\n",
      "Training:   0%|                                                                                 | 0/50 [00:00<?, ?it/s]"
     ]
    },
    {
     "name": "stdout",
     "output_type": "stream",
     "text": [
      "12.9\n"
     ]
    },
    {
     "name": "stderr",
     "output_type": "stream",
     "text": [
      "Training: 100%|████████████████████████████████████████████████████████████████████████| 50/50 [00:11<00:00,  4.27it/s]\n",
      "Evaluating: 100%|██████████████████████████████████████████████████████████████████████| 30/30 [00:00<00:00, 78.08it/s]\n",
      "Training:   2%|█▍                                                                       | 1/50 [00:00<00:05,  8.42it/s]"
     ]
    },
    {
     "name": "stdout",
     "output_type": "stream",
     "text": [
      "64.83333333333333\n"
     ]
    },
    {
     "name": "stderr",
     "output_type": "stream",
     "text": [
      "Training: 100%|████████████████████████████████████████████████████████████████████████| 50/50 [00:10<00:00,  4.64it/s]\n",
      "Evaluating: 100%|█████████████████████████████████████████████████████████████████████| 30/30 [00:00<00:00, 200.67it/s]\n",
      "Training:   4%|██▉                                                                      | 2/50 [00:00<00:03, 14.08it/s]"
     ]
    },
    {
     "name": "stdout",
     "output_type": "stream",
     "text": [
      "21.1\n"
     ]
    },
    {
     "name": "stderr",
     "output_type": "stream",
     "text": [
      "Training: 100%|████████████████████████████████████████████████████████████████████████| 50/50 [00:10<00:00,  4.86it/s]\n",
      "Evaluating: 100%|██████████████████████████████████████████████████████████████████████| 30/30 [00:00<00:00, 40.29it/s]\n",
      "Training:   0%|                                                                                 | 0/50 [00:00<?, ?it/s]"
     ]
    },
    {
     "name": "stdout",
     "output_type": "stream",
     "text": [
      "144.0\n"
     ]
    },
    {
     "name": "stderr",
     "output_type": "stream",
     "text": [
      "Training: 100%|████████████████████████████████████████████████████████████████████████| 50/50 [00:11<00:00,  4.23it/s]\n",
      "Evaluating: 100%|█████████████████████████████████████████████████████████████████████| 30/30 [00:00<00:00, 365.72it/s]\n",
      "Training:   0%|                                                                                 | 0/50 [00:00<?, ?it/s]"
     ]
    },
    {
     "name": "stdout",
     "output_type": "stream",
     "text": [
      "13.6\n"
     ]
    },
    {
     "name": "stderr",
     "output_type": "stream",
     "text": [
      "Training: 100%|████████████████████████████████████████████████████████████████████████| 50/50 [00:09<00:00,  5.26it/s]\n",
      "Evaluating: 100%|██████████████████████████████████████████████████████████████████████| 30/30 [00:00<00:00, 31.42it/s]\n",
      "Training:   0%|                                                                                 | 0/50 [00:00<?, ?it/s]"
     ]
    },
    {
     "name": "stdout",
     "output_type": "stream",
     "text": [
      "181.83333333333334\n"
     ]
    },
    {
     "name": "stderr",
     "output_type": "stream",
     "text": [
      "Training: 100%|████████████████████████████████████████████████████████████████████████| 50/50 [00:11<00:00,  4.27it/s]\n",
      "Evaluating: 100%|██████████████████████████████████████████████████████████████████████| 30/30 [00:00<00:00, 70.95it/s]\n",
      "Training:   2%|█▍                                                                       | 1/50 [00:00<00:07,  6.81it/s]"
     ]
    },
    {
     "name": "stdout",
     "output_type": "stream",
     "text": [
      "76.0\n"
     ]
    },
    {
     "name": "stderr",
     "output_type": "stream",
     "text": [
      "Training: 100%|████████████████████████████████████████████████████████████████████████| 50/50 [00:06<00:00,  7.31it/s]\n",
      "Evaluating: 100%|█████████████████████████████████████████████████████████████████████| 30/30 [00:00<00:00, 150.07it/s]\n",
      "Training:   4%|██▉                                                                      | 2/50 [00:00<00:03, 13.24it/s]"
     ]
    },
    {
     "name": "stdout",
     "output_type": "stream",
     "text": [
      "35.43333333333333\n"
     ]
    },
    {
     "name": "stderr",
     "output_type": "stream",
     "text": [
      "Training: 100%|████████████████████████████████████████████████████████████████████████| 50/50 [00:05<00:00,  9.15it/s]\n",
      "Evaluating: 100%|█████████████████████████████████████████████████████████████████████| 30/30 [00:00<00:00, 499.32it/s]\n",
      "Training:  12%|████████▊                                                                | 6/50 [00:00<00:00, 54.04it/s]"
     ]
    },
    {
     "name": "stdout",
     "output_type": "stream",
     "text": [
      "9.366666666666667\n"
     ]
    },
    {
     "name": "stderr",
     "output_type": "stream",
     "text": [
      "Training: 100%|████████████████████████████████████████████████████████████████████████| 50/50 [00:02<00:00, 19.93it/s]\n",
      "Evaluating: 100%|██████████████████████████████████████████████████████████████████████| 30/30 [00:00<00:00, 95.29it/s]\n",
      "Training:   2%|█▍                                                                       | 1/50 [00:00<00:05,  8.67it/s]"
     ]
    },
    {
     "name": "stdout",
     "output_type": "stream",
     "text": [
      "58.0\n"
     ]
    },
    {
     "name": "stderr",
     "output_type": "stream",
     "text": [
      "Training: 100%|████████████████████████████████████████████████████████████████████████| 50/50 [00:06<00:00,  7.94it/s]\n",
      "Evaluating: 100%|██████████████████████████████████████████████████████████████████████| 30/30 [00:01<00:00, 29.69it/s]\n",
      "Training:   0%|                                                                                 | 0/50 [00:00<?, ?it/s]"
     ]
    },
    {
     "name": "stdout",
     "output_type": "stream",
     "text": [
      "200.0\n"
     ]
    },
    {
     "name": "stderr",
     "output_type": "stream",
     "text": [
      "Training: 100%|████████████████████████████████████████████████████████████████████████| 50/50 [00:12<00:00,  4.15it/s]\n",
      "Evaluating: 100%|█████████████████████████████████████████████████████████████████████| 30/30 [00:00<00:00, 177.72it/s]\n",
      "Training:   0%|                                                                                 | 0/50 [00:00<?, ?it/s]"
     ]
    },
    {
     "name": "stdout",
     "output_type": "stream",
     "text": [
      "28.7\n"
     ]
    },
    {
     "name": "stderr",
     "output_type": "stream",
     "text": [
      "Training: 100%|████████████████████████████████████████████████████████████████████████| 50/50 [00:07<00:00,  6.94it/s]\n",
      "Evaluating: 100%|█████████████████████████████████████████████████████████████████████| 30/30 [00:00<00:00, 132.02it/s]\n",
      "Training:   0%|                                                                                 | 0/50 [00:00<?, ?it/s]"
     ]
    },
    {
     "name": "stdout",
     "output_type": "stream",
     "text": [
      "35.13333333333333\n"
     ]
    },
    {
     "name": "stderr",
     "output_type": "stream",
     "text": [
      "Training: 100%|████████████████████████████████████████████████████████████████████████| 50/50 [00:09<00:00,  5.09it/s]\n",
      "Evaluating: 100%|█████████████████████████████████████████████████████████████████████| 30/30 [00:00<00:00, 212.65it/s]\n",
      "Training:   0%|                                                                                 | 0/50 [00:00<?, ?it/s]"
     ]
    },
    {
     "name": "stdout",
     "output_type": "stream",
     "text": [
      "23.966666666666665\n"
     ]
    },
    {
     "name": "stderr",
     "output_type": "stream",
     "text": [
      "Training: 100%|████████████████████████████████████████████████████████████████████████| 50/50 [00:10<00:00,  4.99it/s]\n",
      "Evaluating: 100%|██████████████████████████████████████████████████████████████████████| 30/30 [00:01<00:00, 27.63it/s]\n",
      "Training:   0%|                                                                                 | 0/50 [00:00<?, ?it/s]"
     ]
    },
    {
     "name": "stdout",
     "output_type": "stream",
     "text": [
      "200.0\n"
     ]
    },
    {
     "name": "stderr",
     "output_type": "stream",
     "text": [
      "Training: 100%|████████████████████████████████████████████████████████████████████████| 50/50 [00:13<00:00,  3.65it/s]\n",
      "Evaluating: 100%|██████████████████████████████████████████████████████████████████████| 30/30 [00:01<00:00, 28.86it/s]\n",
      "Training:   0%|                                                                                 | 0/50 [00:00<?, ?it/s]"
     ]
    },
    {
     "name": "stdout",
     "output_type": "stream",
     "text": [
      "200.0\n"
     ]
    },
    {
     "name": "stderr",
     "output_type": "stream",
     "text": [
      "Training: 100%|████████████████████████████████████████████████████████████████████████| 50/50 [00:08<00:00,  6.23it/s]\n",
      "Evaluating: 100%|█████████████████████████████████████████████████████████████████████| 30/30 [00:00<00:00, 115.36it/s]\n",
      "Training:   4%|██▉                                                                      | 2/50 [00:00<00:04, 11.63it/s]"
     ]
    },
    {
     "name": "stdout",
     "output_type": "stream",
     "text": [
      "42.9\n"
     ]
    },
    {
     "name": "stderr",
     "output_type": "stream",
     "text": [
      "Training: 100%|████████████████████████████████████████████████████████████████████████| 50/50 [00:04<00:00, 11.83it/s]\n",
      "Evaluating: 100%|█████████████████████████████████████████████████████████████████████| 30/30 [00:00<00:00, 146.76it/s]\n",
      "Training:   4%|██▉                                                                      | 2/50 [00:00<00:02, 17.62it/s]"
     ]
    },
    {
     "name": "stdout",
     "output_type": "stream",
     "text": [
      "33.666666666666664\n"
     ]
    },
    {
     "name": "stderr",
     "output_type": "stream",
     "text": [
      "Training: 100%|████████████████████████████████████████████████████████████████████████| 50/50 [00:05<00:00,  9.88it/s]\n",
      "Evaluating: 100%|██████████████████████████████████████████████████████████████████████| 30/30 [00:00<00:00, 79.14it/s]\n",
      "Training:   0%|                                                                                 | 0/50 [00:00<?, ?it/s]"
     ]
    },
    {
     "name": "stdout",
     "output_type": "stream",
     "text": [
      "66.33333333333333\n"
     ]
    },
    {
     "name": "stderr",
     "output_type": "stream",
     "text": [
      "Training: 100%|████████████████████████████████████████████████████████████████████████| 50/50 [00:09<00:00,  5.12it/s]\n",
      "Evaluating: 100%|██████████████████████████████████████████████████████████████████████| 30/30 [00:00<00:00, 72.03it/s]\n",
      "Training:   2%|█▍                                                                       | 1/50 [00:00<00:07,  6.79it/s]"
     ]
    },
    {
     "name": "stdout",
     "output_type": "stream",
     "text": [
      "72.8\n"
     ]
    },
    {
     "name": "stderr",
     "output_type": "stream",
     "text": [
      "Training: 100%|████████████████████████████████████████████████████████████████████████| 50/50 [00:07<00:00,  6.36it/s]\n",
      "Evaluating: 100%|█████████████████████████████████████████████████████████████████████| 30/30 [00:00<00:00, 291.80it/s]\n",
      "Training:   4%|██▉                                                                      | 2/50 [00:00<00:03, 14.99it/s]"
     ]
    },
    {
     "name": "stdout",
     "output_type": "stream",
     "text": [
      "16.466666666666665\n"
     ]
    },
    {
     "name": "stderr",
     "output_type": "stream",
     "text": [
      "Training: 100%|████████████████████████████████████████████████████████████████████████| 50/50 [00:10<00:00,  4.96it/s]\n",
      "Evaluating: 100%|██████████████████████████████████████████████████████████████████████| 30/30 [00:01<00:00, 27.89it/s]\n",
      "Training:   0%|                                                                                 | 0/50 [00:00<?, ?it/s]"
     ]
    },
    {
     "name": "stdout",
     "output_type": "stream",
     "text": [
      "188.26666666666668\n"
     ]
    },
    {
     "name": "stderr",
     "output_type": "stream",
     "text": [
      "Training: 100%|████████████████████████████████████████████████████████████████████████| 50/50 [00:09<00:00,  5.43it/s]\n",
      "Evaluating: 100%|█████████████████████████████████████████████████████████████████████| 30/30 [00:00<00:00, 185.61it/s]\n",
      "Training:   4%|██▉                                                                      | 2/50 [00:00<00:02, 17.37it/s]"
     ]
    },
    {
     "name": "stdout",
     "output_type": "stream",
     "text": [
      "29.366666666666667\n"
     ]
    },
    {
     "name": "stderr",
     "output_type": "stream",
     "text": [
      "Training: 100%|████████████████████████████████████████████████████████████████████████| 50/50 [00:07<00:00,  6.52it/s]\n",
      "Evaluating: 100%|█████████████████████████████████████████████████████████████████████| 30/30 [00:00<00:00, 594.66it/s]\n",
      "Training:  12%|████████▊                                                                | 6/50 [00:00<00:00, 47.21it/s]"
     ]
    },
    {
     "name": "stdout",
     "output_type": "stream",
     "text": [
      "9.5\n"
     ]
    },
    {
     "name": "stderr",
     "output_type": "stream",
     "text": [
      "Training: 100%|████████████████████████████████████████████████████████████████████████| 50/50 [00:08<00:00,  5.69it/s]\n",
      "Evaluating: 100%|█████████████████████████████████████████████████████████████████████| 30/30 [00:00<00:00, 338.42it/s]\n",
      "Training:   6%|████▍                                                                    | 3/50 [00:00<00:01, 24.81it/s]"
     ]
    },
    {
     "name": "stdout",
     "output_type": "stream",
     "text": [
      "12.766666666666667\n"
     ]
    },
    {
     "name": "stderr",
     "output_type": "stream",
     "text": [
      "Training: 100%|████████████████████████████████████████████████████████████████████████| 50/50 [00:09<00:00,  5.10it/s]\n",
      "Evaluating: 100%|██████████████████████████████████████████████████████████████████████| 30/30 [00:01<00:00, 29.88it/s]\n",
      "Training:   0%|                                                                                 | 0/50 [00:00<?, ?it/s]"
     ]
    },
    {
     "name": "stdout",
     "output_type": "stream",
     "text": [
      "200.0\n"
     ]
    },
    {
     "name": "stderr",
     "output_type": "stream",
     "text": [
      "Training: 100%|████████████████████████████████████████████████████████████████████████| 50/50 [00:11<00:00,  4.49it/s]\n",
      "Evaluating: 100%|██████████████████████████████████████████████████████████████████████| 30/30 [00:00<00:00, 34.36it/s]\n",
      "Training:   0%|                                                                                 | 0/50 [00:00<?, ?it/s]"
     ]
    },
    {
     "name": "stdout",
     "output_type": "stream",
     "text": [
      "164.03333333333333\n"
     ]
    },
    {
     "name": "stderr",
     "output_type": "stream",
     "text": [
      "Training: 100%|████████████████████████████████████████████████████████████████████████| 50/50 [00:07<00:00,  6.31it/s]\n",
      "Evaluating: 100%|██████████████████████████████████████████████████████████████████████| 30/30 [00:01<00:00, 28.71it/s]\n",
      "Training:   0%|                                                                                 | 0/50 [00:00<?, ?it/s]"
     ]
    },
    {
     "name": "stdout",
     "output_type": "stream",
     "text": [
      "200.0\n"
     ]
    },
    {
     "name": "stderr",
     "output_type": "stream",
     "text": [
      "Training: 100%|████████████████████████████████████████████████████████████████████████| 50/50 [00:11<00:00,  4.20it/s]\n",
      "Evaluating: 100%|█████████████████████████████████████████████████████████████████████| 30/30 [00:00<00:00, 486.26it/s]\n",
      "Training:   6%|████▍                                                                    | 3/50 [00:00<00:01, 28.85it/s]"
     ]
    },
    {
     "name": "stdout",
     "output_type": "stream",
     "text": [
      "9.8\n"
     ]
    },
    {
     "name": "stderr",
     "output_type": "stream",
     "text": [
      "Training: 100%|████████████████████████████████████████████████████████████████████████| 50/50 [00:08<00:00,  5.58it/s]\n",
      "Evaluating: 100%|██████████████████████████████████████████████████████████████████████| 30/30 [00:00<00:00, 33.55it/s]\n",
      "Training:   0%|                                                                                 | 0/50 [00:00<?, ?it/s]"
     ]
    },
    {
     "name": "stdout",
     "output_type": "stream",
     "text": [
      "169.4\n"
     ]
    },
    {
     "name": "stderr",
     "output_type": "stream",
     "text": [
      "Training: 100%|████████████████████████████████████████████████████████████████████████| 50/50 [00:08<00:00,  5.72it/s]\n",
      "Evaluating: 100%|██████████████████████████████████████████████████████████████████████| 30/30 [00:00<00:00, 69.45it/s]\n",
      "Training:   2%|█▍                                                                       | 1/50 [00:00<00:07,  6.86it/s]"
     ]
    },
    {
     "name": "stdout",
     "output_type": "stream",
     "text": [
      "78.13333333333334\n"
     ]
    },
    {
     "name": "stderr",
     "output_type": "stream",
     "text": [
      "Training: 100%|████████████████████████████████████████████████████████████████████████| 50/50 [00:10<00:00,  4.89it/s]\n",
      "Evaluating: 100%|██████████████████████████████████████████████████████████████████████| 30/30 [00:00<00:00, 36.36it/s]\n",
      "Training:   0%|                                                                                 | 0/50 [00:00<?, ?it/s]"
     ]
    },
    {
     "name": "stdout",
     "output_type": "stream",
     "text": [
      "154.73333333333332\n"
     ]
    },
    {
     "name": "stderr",
     "output_type": "stream",
     "text": [
      "Training: 100%|████████████████████████████████████████████████████████████████████████| 50/50 [00:14<00:00,  3.53it/s]\n",
      "Evaluating: 100%|██████████████████████████████████████████████████████████████████████| 30/30 [00:01<00:00, 29.06it/s]\n",
      "Training:   2%|█▍                                                                       | 1/50 [00:00<00:06,  7.53it/s]"
     ]
    },
    {
     "name": "stdout",
     "output_type": "stream",
     "text": [
      "200.0\n"
     ]
    },
    {
     "name": "stderr",
     "output_type": "stream",
     "text": [
      "Training: 100%|████████████████████████████████████████████████████████████████████████| 50/50 [00:11<00:00,  4.21it/s]\n",
      "Evaluating: 100%|██████████████████████████████████████████████████████████████████████| 30/30 [00:00<00:00, 78.73it/s]\n",
      "Training:   0%|                                                                                 | 0/50 [00:00<?, ?it/s]"
     ]
    },
    {
     "name": "stdout",
     "output_type": "stream",
     "text": [
      "70.56666666666666\n"
     ]
    },
    {
     "name": "stderr",
     "output_type": "stream",
     "text": [
      "Training: 100%|████████████████████████████████████████████████████████████████████████| 50/50 [00:08<00:00,  5.58it/s]\n",
      "Evaluating: 100%|██████████████████████████████████████████████████████████████████████| 30/30 [00:00<00:00, 66.09it/s]\n",
      "Training:   2%|█▍                                                                       | 1/50 [00:00<00:05,  8.47it/s]"
     ]
    },
    {
     "name": "stdout",
     "output_type": "stream",
     "text": [
      "82.7\n"
     ]
    },
    {
     "name": "stderr",
     "output_type": "stream",
     "text": [
      "Training: 100%|████████████████████████████████████████████████████████████████████████| 50/50 [00:11<00:00,  4.40it/s]\n",
      "Evaluating: 100%|██████████████████████████████████████████████████████████████████████| 30/30 [00:00<00:00, 62.50it/s]\n",
      "Training:   0%|                                                                                 | 0/50 [00:00<?, ?it/s]"
     ]
    },
    {
     "name": "stdout",
     "output_type": "stream",
     "text": [
      "86.2\n"
     ]
    },
    {
     "name": "stderr",
     "output_type": "stream",
     "text": [
      "Training: 100%|████████████████████████████████████████████████████████████████████████| 50/50 [00:10<00:00,  4.76it/s]\n",
      "Evaluating: 100%|██████████████████████████████████████████████████████████████████████| 30/30 [00:01<00:00, 27.55it/s]"
     ]
    },
    {
     "name": "stdout",
     "output_type": "stream",
     "text": [
      "200.0\n",
      "Learning time:\n",
      " 1736.7993423938751\n",
      "\n",
      "Learning Performance:\n",
      "\n"
     ]
    },
    {
     "name": "stderr",
     "output_type": "stream",
     "text": [
      "\n"
     ]
    },
    {
     "data": {
      "text/plain": [
       "<Figure size 432x288 with 0 Axes>"
      ]
     },
     "metadata": {},
     "output_type": "display_data"
    },
    {
     "data": {
      "image/png": "[encoded data removed]",
      "text/plain": [
       "<Figure size 432x288 with 1 Axes>"
      ]
     },
     "metadata": {
      "needs_background": "light"
     },
     "output_type": "display_data"
    }
   ],
   "source": [
    "#DQN without a replay buffer and without a target network. This is just standard Q-learning with a function approximator. \n",
    "#The corresponding parameters are: memory_size = 1, update_steps = 1, batch_size = 1, use_target_model = False\n",
    "\n",
    "hyperparams_CartPole = {\n",
    "    'epsilon_decay_steps' : 100000, \n",
    "    'final_epsilon' : 0.1,\n",
    "    'batch_size' : 1, \n",
    "    'update_steps' : 1, \n",
    "    'memory_size' : 1, \n",
    "    'beta' : 0.99, \n",
    "    'model_replace_freq' : 2000,\n",
    "    'learning_rate' : 0.0003,\n",
    "    'use_target_model': False\n",
    "}\n",
    "\n",
    "training_episodes, test_interval = 10000, 50\n",
    "start_time = time.time()\n",
    "agent = DQN_agent(env_CartPole, hyperparams_CartPole)\n",
    "result = agent.learn_and_evaluate(training_episodes, test_interval)\n",
    "run_time = time.time() - start_time\n",
    "\n",
    "print(\"Learning time:\\n\", run_time)\n",
    "plot_result(result, test_interval, [\"without a replay without target_model\"])"
   ]
  },
  {
   "cell_type": "code",
   "execution_count": 11,
   "metadata": {
    "scrolled": true
   },
   "outputs": [
    {
     "name": "stderr",
     "output_type": "stream",
     "text": [
      "Training: 100%|████████████████████████████████████████████████████████████████████████| 50/50 [00:01<00:00, 29.93it/s]\n",
      "Evaluating: 100%|█████████████████████████████████████████████████████████████████████| 30/30 [00:00<00:00, 429.74it/s]\n",
      "Training:   2%|█▍                                                                       | 1/50 [00:00<00:05,  9.62it/s]"
     ]
    },
    {
     "name": "stdout",
     "output_type": "stream",
     "text": [
      "9.333333333333334\n"
     ]
    },
    {
     "name": "stderr",
     "output_type": "stream",
     "text": [
      "Training: 100%|████████████████████████████████████████████████████████████████████████| 50/50 [00:01<00:00, 25.49it/s]\n",
      "Evaluating: 100%|█████████████████████████████████████████████████████████████████████| 30/30 [00:00<00:00, 600.35it/s]\n",
      "Training:   8%|█████▊                                                                   | 4/50 [00:00<00:01, 38.76it/s]"
     ]
    },
    {
     "name": "stdout",
     "output_type": "stream",
     "text": [
      "9.366666666666667\n"
     ]
    },
    {
     "name": "stderr",
     "output_type": "stream",
     "text": [
      "Training: 100%|████████████████████████████████████████████████████████████████████████| 50/50 [00:01<00:00, 27.49it/s]\n",
      "Evaluating: 100%|█████████████████████████████████████████████████████████████████████| 30/30 [00:00<00:00, 366.30it/s]\n",
      "Training:   4%|██▉                                                                      | 2/50 [00:00<00:02, 18.17it/s]"
     ]
    },
    {
     "name": "stdout",
     "output_type": "stream",
     "text": [
      "12.6\n"
     ]
    },
    {
     "name": "stderr",
     "output_type": "stream",
     "text": [
      "Training: 100%|████████████████████████████████████████████████████████████████████████| 50/50 [00:01<00:00, 31.13it/s]\n",
      "Evaluating: 100%|█████████████████████████████████████████████████████████████████████| 30/30 [00:00<00:00, 405.00it/s]\n",
      "Training:   6%|████▍                                                                    | 3/50 [00:00<00:01, 26.19it/s]"
     ]
    },
    {
     "name": "stdout",
     "output_type": "stream",
     "text": [
      "12.1\n"
     ]
    },
    {
     "name": "stderr",
     "output_type": "stream",
     "text": [
      "Training: 100%|████████████████████████████████████████████████████████████████████████| 50/50 [00:01<00:00, 30.54it/s]\n",
      "Evaluating: 100%|█████████████████████████████████████████████████████████████████████| 30/30 [00:00<00:00, 492.56it/s]\n",
      "Training:   6%|████▍                                                                    | 3/50 [00:00<00:01, 29.12it/s]"
     ]
    },
    {
     "name": "stdout",
     "output_type": "stream",
     "text": [
      "10.833333333333334\n"
     ]
    },
    {
     "name": "stderr",
     "output_type": "stream",
     "text": [
      "Training: 100%|████████████████████████████████████████████████████████████████████████| 50/50 [00:02<00:00, 24.01it/s]\n",
      "Evaluating: 100%|█████████████████████████████████████████████████████████████████████| 30/30 [00:00<00:00, 176.08it/s]\n",
      "Training:   4%|██▉                                                                      | 2/50 [00:00<00:02, 19.06it/s]"
     ]
    },
    {
     "name": "stdout",
     "output_type": "stream",
     "text": [
      "28.466666666666665\n"
     ]
    },
    {
     "name": "stderr",
     "output_type": "stream",
     "text": [
      "Training: 100%|████████████████████████████████████████████████████████████████████████| 50/50 [00:01<00:00, 25.33it/s]\n",
      "Evaluating: 100%|█████████████████████████████████████████████████████████████████████| 30/30 [00:00<00:00, 517.83it/s]\n",
      "Training:   8%|█████▊                                                                   | 4/50 [00:00<00:01, 30.76it/s]"
     ]
    },
    {
     "name": "stdout",
     "output_type": "stream",
     "text": [
      "10.6\n"
     ]
    },
    {
     "name": "stderr",
     "output_type": "stream",
     "text": [
      "Training: 100%|████████████████████████████████████████████████████████████████████████| 50/50 [00:01<00:00, 30.23it/s]\n",
      "Evaluating: 100%|█████████████████████████████████████████████████████████████████████| 30/30 [00:00<00:00, 123.95it/s]\n",
      "Training:   8%|█████▊                                                                   | 4/50 [00:00<00:01, 33.51it/s]"
     ]
    },
    {
     "name": "stdout",
     "output_type": "stream",
     "text": [
      "40.3\n"
     ]
    },
    {
     "name": "stderr",
     "output_type": "stream",
     "text": [
      "Training: 100%|████████████████████████████████████████████████████████████████████████| 50/50 [00:02<00:00, 23.79it/s]\n",
      "Evaluating: 100%|█████████████████████████████████████████████████████████████████████| 30/30 [00:00<00:00, 100.63it/s]\n",
      "Training:   6%|████▍                                                                    | 3/50 [00:00<00:01, 24.78it/s]"
     ]
    },
    {
     "name": "stdout",
     "output_type": "stream",
     "text": [
      "50.3\n"
     ]
    },
    {
     "name": "stderr",
     "output_type": "stream",
     "text": [
      "Training: 100%|████████████████████████████████████████████████████████████████████████| 50/50 [00:02<00:00, 22.41it/s]\n",
      "Evaluating: 100%|██████████████████████████████████████████████████████████████████████| 30/30 [00:00<00:00, 44.46it/s]\n",
      "Training:   2%|█▍                                                                       | 1/50 [00:00<00:05,  8.70it/s]"
     ]
    },
    {
     "name": "stdout",
     "output_type": "stream",
     "text": [
      "123.5\n"
     ]
    },
    {
     "name": "stderr",
     "output_type": "stream",
     "text": [
      "Training: 100%|████████████████████████████████████████████████████████████████████████| 50/50 [00:02<00:00, 21.61it/s]\n",
      "Evaluating: 100%|██████████████████████████████████████████████████████████████████████| 30/30 [00:00<00:00, 74.98it/s]\n",
      "Training:   6%|████▍                                                                    | 3/50 [00:00<00:02, 21.13it/s]"
     ]
    },
    {
     "name": "stdout",
     "output_type": "stream",
     "text": [
      "68.7\n"
     ]
    },
    {
     "name": "stderr",
     "output_type": "stream",
     "text": [
      "Training: 100%|████████████████████████████████████████████████████████████████████████| 50/50 [00:02<00:00, 19.46it/s]\n",
      "Evaluating: 100%|██████████████████████████████████████████████████████████████████████| 30/30 [00:00<00:00, 79.52it/s]\n",
      "Training:   4%|██▉                                                                      | 2/50 [00:00<00:02, 16.70it/s]"
     ]
    },
    {
     "name": "stdout",
     "output_type": "stream",
     "text": [
      "69.03333333333333\n"
     ]
    },
    {
     "name": "stderr",
     "output_type": "stream",
     "text": [
      "Training: 100%|████████████████████████████████████████████████████████████████████████| 50/50 [00:02<00:00, 20.08it/s]\n",
      "Evaluating: 100%|██████████████████████████████████████████████████████████████████████| 30/30 [00:00<00:00, 56.63it/s]\n",
      "Training:   4%|██▉                                                                      | 2/50 [00:00<00:02, 16.41it/s]"
     ]
    },
    {
     "name": "stdout",
     "output_type": "stream",
     "text": [
      "101.1\n"
     ]
    },
    {
     "name": "stderr",
     "output_type": "stream",
     "text": [
      "Training: 100%|████████████████████████████████████████████████████████████████████████| 50/50 [00:02<00:00, 20.22it/s]\n",
      "Evaluating: 100%|██████████████████████████████████████████████████████████████████████| 30/30 [00:00<00:00, 33.50it/s]\n",
      "Training:   4%|██▉                                                                      | 2/50 [00:00<00:02, 17.60it/s]"
     ]
    },
    {
     "name": "stdout",
     "output_type": "stream",
     "text": [
      "163.16666666666666\n"
     ]
    },
    {
     "name": "stderr",
     "output_type": "stream",
     "text": [
      "Training: 100%|████████████████████████████████████████████████████████████████████████| 50/50 [00:02<00:00, 18.30it/s]\n",
      "Evaluating: 100%|██████████████████████████████████████████████████████████████████████| 30/30 [00:01<00:00, 28.51it/s]\n",
      "Training:   6%|████▍                                                                    | 3/50 [00:00<00:02, 18.69it/s]"
     ]
    },
    {
     "name": "stdout",
     "output_type": "stream",
     "text": [
      "200.0\n"
     ]
    },
    {
     "name": "stderr",
     "output_type": "stream",
     "text": [
      "Training: 100%|████████████████████████████████████████████████████████████████████████| 50/50 [00:02<00:00, 19.72it/s]\n",
      "Evaluating: 100%|██████████████████████████████████████████████████████████████████████| 30/30 [00:00<00:00, 42.87it/s]\n",
      "Training:   4%|██▉                                                                      | 2/50 [00:00<00:03, 15.80it/s]"
     ]
    },
    {
     "name": "stdout",
     "output_type": "stream",
     "text": [
      "136.86666666666667\n"
     ]
    },
    {
     "name": "stderr",
     "output_type": "stream",
     "text": [
      "Training: 100%|████████████████████████████████████████████████████████████████████████| 50/50 [00:02<00:00, 22.12it/s]\n",
      "Evaluating: 100%|██████████████████████████████████████████████████████████████████████| 30/30 [00:00<00:00, 30.40it/s]\n",
      "Training:   6%|████▍                                                                    | 3/50 [00:00<00:02, 20.37it/s]"
     ]
    },
    {
     "name": "stdout",
     "output_type": "stream",
     "text": [
      "191.83333333333334\n"
     ]
    },
    {
     "name": "stderr",
     "output_type": "stream",
     "text": [
      "Training: 100%|████████████████████████████████████████████████████████████████████████| 50/50 [00:02<00:00, 18.11it/s]\n",
      "Evaluating: 100%|██████████████████████████████████████████████████████████████████████| 30/30 [00:00<00:00, 32.37it/s]\n",
      "Training:   2%|█▍                                                                       | 1/50 [00:00<00:06,  7.03it/s]"
     ]
    },
    {
     "name": "stdout",
     "output_type": "stream",
     "text": [
      "172.26666666666668\n"
     ]
    },
    {
     "name": "stderr",
     "output_type": "stream",
     "text": [
      "Training: 100%|████████████████████████████████████████████████████████████████████████| 50/50 [00:03<00:00, 16.00it/s]\n",
      "Evaluating: 100%|██████████████████████████████████████████████████████████████████████| 30/30 [00:01<00:00, 28.85it/s]\n",
      "Training:   4%|██▉                                                                      | 2/50 [00:00<00:02, 19.66it/s]"
     ]
    },
    {
     "name": "stdout",
     "output_type": "stream",
     "text": [
      "193.33333333333334\n"
     ]
    },
    {
     "name": "stderr",
     "output_type": "stream",
     "text": [
      "Training: 100%|████████████████████████████████████████████████████████████████████████| 50/50 [00:04<00:00, 12.27it/s]\n",
      "Evaluating: 100%|██████████████████████████████████████████████████████████████████████| 30/30 [00:00<00:00, 34.78it/s]\n",
      "Training:   6%|████▍                                                                    | 3/50 [00:00<00:02, 23.41it/s]"
     ]
    },
    {
     "name": "stdout",
     "output_type": "stream",
     "text": [
      "149.2\n"
     ]
    },
    {
     "name": "stderr",
     "output_type": "stream",
     "text": [
      "Training: 100%|████████████████████████████████████████████████████████████████████████| 50/50 [00:04<00:00, 11.93it/s]\n",
      "Evaluating: 100%|██████████████████████████████████████████████████████████████████████| 30/30 [00:01<00:00, 28.75it/s]\n",
      "Training:   0%|                                                                                 | 0/50 [00:00<?, ?it/s]"
     ]
    },
    {
     "name": "stdout",
     "output_type": "stream",
     "text": [
      "190.43333333333334\n"
     ]
    },
    {
     "name": "stderr",
     "output_type": "stream",
     "text": [
      "Training: 100%|████████████████████████████████████████████████████████████████████████| 50/50 [00:03<00:00, 12.99it/s]\n",
      "Evaluating: 100%|██████████████████████████████████████████████████████████████████████| 30/30 [00:01<00:00, 29.18it/s]\n",
      "Training:   4%|██▉                                                                      | 2/50 [00:00<00:03, 14.09it/s]"
     ]
    },
    {
     "name": "stdout",
     "output_type": "stream",
     "text": [
      "198.66666666666666\n"
     ]
    },
    {
     "name": "stderr",
     "output_type": "stream",
     "text": [
      "Training: 100%|████████████████████████████████████████████████████████████████████████| 50/50 [00:04<00:00, 11.38it/s]\n",
      "Evaluating: 100%|██████████████████████████████████████████████████████████████████████| 30/30 [00:00<00:00, 30.94it/s]\n",
      "Training:   2%|█▍                                                                       | 1/50 [00:00<00:07,  6.13it/s]"
     ]
    },
    {
     "name": "stdout",
     "output_type": "stream",
     "text": [
      "198.26666666666668\n"
     ]
    },
    {
     "name": "stderr",
     "output_type": "stream",
     "text": [
      "Training: 100%|████████████████████████████████████████████████████████████████████████| 50/50 [00:04<00:00, 10.91it/s]\n",
      "Evaluating: 100%|██████████████████████████████████████████████████████████████████████| 30/30 [00:00<00:00, 30.94it/s]\n",
      "Training:   6%|████▍                                                                    | 3/50 [00:00<00:01, 28.91it/s]"
     ]
    },
    {
     "name": "stdout",
     "output_type": "stream",
     "text": [
      "190.96666666666667\n"
     ]
    },
    {
     "name": "stderr",
     "output_type": "stream",
     "text": [
      "Training: 100%|████████████████████████████████████████████████████████████████████████| 50/50 [00:03<00:00, 13.88it/s]\n",
      "Evaluating: 100%|██████████████████████████████████████████████████████████████████████| 30/30 [00:00<00:00, 34.00it/s]\n",
      "Training:   0%|                                                                                 | 0/50 [00:00<?, ?it/s]"
     ]
    },
    {
     "name": "stdout",
     "output_type": "stream",
     "text": [
      "176.73333333333332\n"
     ]
    },
    {
     "name": "stderr",
     "output_type": "stream",
     "text": [
      "Training: 100%|████████████████████████████████████████████████████████████████████████| 50/50 [00:05<00:00,  9.96it/s]\n",
      "Evaluating: 100%|██████████████████████████████████████████████████████████████████████| 30/30 [00:00<00:00, 30.56it/s]\n",
      "Training:   0%|                                                                                 | 0/50 [00:00<?, ?it/s]"
     ]
    },
    {
     "name": "stdout",
     "output_type": "stream",
     "text": [
      "200.0\n"
     ]
    },
    {
     "name": "stderr",
     "output_type": "stream",
     "text": [
      "Training: 100%|████████████████████████████████████████████████████████████████████████| 50/50 [00:04<00:00, 10.72it/s]\n",
      "Evaluating: 100%|██████████████████████████████████████████████████████████████████████| 30/30 [00:00<00:00, 34.94it/s]\n",
      "Training:   4%|██▉                                                                      | 2/50 [00:00<00:04, 11.32it/s]"
     ]
    },
    {
     "name": "stdout",
     "output_type": "stream",
     "text": [
      "168.43333333333334\n"
     ]
    },
    {
     "name": "stderr",
     "output_type": "stream",
     "text": [
      "Training: 100%|████████████████████████████████████████████████████████████████████████| 50/50 [00:05<00:00,  9.38it/s]\n",
      "Evaluating: 100%|██████████████████████████████████████████████████████████████████████| 30/30 [00:00<00:00, 35.05it/s]\n",
      "Training:   4%|██▉                                                                      | 2/50 [00:00<00:03, 15.34it/s]"
     ]
    },
    {
     "name": "stdout",
     "output_type": "stream",
     "text": [
      "162.7\n"
     ]
    },
    {
     "name": "stderr",
     "output_type": "stream",
     "text": [
      "Training: 100%|████████████████████████████████████████████████████████████████████████| 50/50 [00:06<00:00,  7.90it/s]\n",
      "Evaluating: 100%|██████████████████████████████████████████████████████████████████████| 30/30 [00:00<00:00, 60.06it/s]\n",
      "Training:  10%|███████▎                                                                 | 5/50 [00:00<00:01, 29.33it/s]"
     ]
    },
    {
     "name": "stdout",
     "output_type": "stream",
     "text": [
      "95.6\n"
     ]
    },
    {
     "name": "stderr",
     "output_type": "stream",
     "text": [
      "Training: 100%|████████████████████████████████████████████████████████████████████████| 50/50 [00:04<00:00, 10.42it/s]\n",
      "Evaluating: 100%|██████████████████████████████████████████████████████████████████████| 30/30 [00:00<00:00, 34.26it/s]\n",
      "Training:   0%|                                                                                 | 0/50 [00:00<?, ?it/s]"
     ]
    },
    {
     "name": "stdout",
     "output_type": "stream",
     "text": [
      "176.03333333333333\n"
     ]
    },
    {
     "name": "stderr",
     "output_type": "stream",
     "text": [
      "Training: 100%|████████████████████████████████████████████████████████████████████████| 50/50 [00:05<00:00,  9.12it/s]\n",
      "Evaluating: 100%|██████████████████████████████████████████████████████████████████████| 30/30 [00:00<00:00, 40.89it/s]\n",
      "Training:   0%|                                                                                 | 0/50 [00:00<?, ?it/s]"
     ]
    },
    {
     "name": "stdout",
     "output_type": "stream",
     "text": [
      "142.53333333333333\n"
     ]
    },
    {
     "name": "stderr",
     "output_type": "stream",
     "text": [
      "Training: 100%|████████████████████████████████████████████████████████████████████████| 50/50 [00:04<00:00, 10.08it/s]\n",
      "Evaluating: 100%|██████████████████████████████████████████████████████████████████████| 30/30 [00:00<00:00, 59.80it/s]\n",
      "Training:   2%|█▍                                                                       | 1/50 [00:00<00:07,  6.60it/s]"
     ]
    },
    {
     "name": "stdout",
     "output_type": "stream",
     "text": [
      "98.63333333333334\n"
     ]
    },
    {
     "name": "stderr",
     "output_type": "stream",
     "text": [
      "Training: 100%|████████████████████████████████████████████████████████████████████████| 50/50 [00:06<00:00,  7.63it/s]\n",
      "Evaluating: 100%|██████████████████████████████████████████████████████████████████████| 30/30 [00:00<00:00, 60.53it/s]\n",
      "Training:   4%|██▉                                                                      | 2/50 [00:00<00:04, 10.76it/s]"
     ]
    },
    {
     "name": "stdout",
     "output_type": "stream",
     "text": [
      "95.93333333333334\n"
     ]
    },
    {
     "name": "stderr",
     "output_type": "stream",
     "text": [
      "Training: 100%|████████████████████████████████████████████████████████████████████████| 50/50 [00:05<00:00,  8.49it/s]\n",
      "Evaluating: 100%|██████████████████████████████████████████████████████████████████████| 30/30 [00:01<00:00, 29.10it/s]\n",
      "Training:   0%|                                                                                 | 0/50 [00:00<?, ?it/s]"
     ]
    },
    {
     "name": "stdout",
     "output_type": "stream",
     "text": [
      "200.0\n"
     ]
    },
    {
     "name": "stderr",
     "output_type": "stream",
     "text": [
      "Training: 100%|████████████████████████████████████████████████████████████████████████| 50/50 [00:05<00:00,  8.34it/s]\n",
      "Evaluating: 100%|██████████████████████████████████████████████████████████████████████| 30/30 [00:00<00:00, 48.83it/s]\n",
      "Training:   2%|█▍                                                                       | 1/50 [00:00<00:06,  8.04it/s]"
     ]
    },
    {
     "name": "stdout",
     "output_type": "stream",
     "text": [
      "124.46666666666667\n"
     ]
    },
    {
     "name": "stderr",
     "output_type": "stream",
     "text": [
      "Training: 100%|████████████████████████████████████████████████████████████████████████| 50/50 [00:07<00:00,  6.57it/s]\n",
      "Evaluating: 100%|██████████████████████████████████████████████████████████████████████| 30/30 [00:00<00:00, 49.77it/s]\n",
      "Training:   6%|████▍                                                                    | 3/50 [00:00<00:01, 29.68it/s]"
     ]
    },
    {
     "name": "stdout",
     "output_type": "stream",
     "text": [
      "122.46666666666667\n"
     ]
    },
    {
     "name": "stderr",
     "output_type": "stream",
     "text": [
      "Training: 100%|████████████████████████████████████████████████████████████████████████| 50/50 [00:06<00:00,  8.00it/s]\n",
      "Evaluating: 100%|██████████████████████████████████████████████████████████████████████| 30/30 [00:00<00:00, 88.68it/s]\n",
      "Training:   0%|                                                                                 | 0/50 [00:00<?, ?it/s]"
     ]
    },
    {
     "name": "stdout",
     "output_type": "stream",
     "text": [
      "61.9\n"
     ]
    },
    {
     "name": "stderr",
     "output_type": "stream",
     "text": [
      "Training: 100%|████████████████████████████████████████████████████████████████████████| 50/50 [00:05<00:00,  8.86it/s]\n",
      "Evaluating: 100%|██████████████████████████████████████████████████████████████████████| 30/30 [00:00<00:00, 59.23it/s]\n",
      "Training:   6%|████▍                                                                    | 3/50 [00:00<00:01, 29.19it/s]"
     ]
    },
    {
     "name": "stdout",
     "output_type": "stream",
     "text": [
      "99.63333333333334\n"
     ]
    },
    {
     "name": "stderr",
     "output_type": "stream",
     "text": [
      "Training: 100%|████████████████████████████████████████████████████████████████████████| 50/50 [00:07<00:00,  6.90it/s]\n",
      "Evaluating: 100%|██████████████████████████████████████████████████████████████████████| 30/30 [00:00<00:00, 58.84it/s]\n",
      "Training:   2%|█▍                                                                       | 1/50 [00:00<00:08,  5.67it/s]"
     ]
    },
    {
     "name": "stdout",
     "output_type": "stream",
     "text": [
      "102.63333333333334\n"
     ]
    },
    {
     "name": "stderr",
     "output_type": "stream",
     "text": [
      "Training: 100%|████████████████████████████████████████████████████████████████████████| 50/50 [00:07<00:00,  6.52it/s]\n",
      "Evaluating: 100%|██████████████████████████████████████████████████████████████████████| 30/30 [00:00<00:00, 56.50it/s]\n",
      "Training:   0%|                                                                                 | 0/50 [00:00<?, ?it/s]"
     ]
    },
    {
     "name": "stdout",
     "output_type": "stream",
     "text": [
      "108.43333333333334\n"
     ]
    },
    {
     "name": "stderr",
     "output_type": "stream",
     "text": [
      "Training: 100%|████████████████████████████████████████████████████████████████████████| 50/50 [00:07<00:00,  6.75it/s]\n",
      "Evaluating: 100%|██████████████████████████████████████████████████████████████████████| 30/30 [00:00<00:00, 61.02it/s]\n",
      "Training:   2%|█▍                                                                       | 1/50 [00:00<00:07,  6.95it/s]"
     ]
    },
    {
     "name": "stdout",
     "output_type": "stream",
     "text": [
      "96.43333333333334\n"
     ]
    },
    {
     "name": "stderr",
     "output_type": "stream",
     "text": [
      "Training: 100%|████████████████████████████████████████████████████████████████████████| 50/50 [00:07<00:00,  6.91it/s]\n",
      "Evaluating: 100%|█████████████████████████████████████████████████████████████████████| 30/30 [00:00<00:00, 322.12it/s]\n",
      "Training:  10%|███████▎                                                                 | 5/50 [00:00<00:01, 39.56it/s]"
     ]
    },
    {
     "name": "stdout",
     "output_type": "stream",
     "text": [
      "19.433333333333334\n"
     ]
    },
    {
     "name": "stderr",
     "output_type": "stream",
     "text": [
      "Training: 100%|████████████████████████████████████████████████████████████████████████| 50/50 [00:05<00:00,  8.62it/s]\n",
      "Evaluating: 100%|█████████████████████████████████████████████████████████████████████| 30/30 [00:00<00:00, 388.55it/s]\n",
      "Training:   0%|                                                                                 | 0/50 [00:00<?, ?it/s]"
     ]
    },
    {
     "name": "stdout",
     "output_type": "stream",
     "text": [
      "12.1\n"
     ]
    },
    {
     "name": "stderr",
     "output_type": "stream",
     "text": [
      "Training: 100%|████████████████████████████████████████████████████████████████████████| 50/50 [00:03<00:00, 12.76it/s]\n",
      "Evaluating: 100%|██████████████████████████████████████████████████████████████████████| 30/30 [00:00<00:00, 57.17it/s]\n",
      "Training:   0%|                                                                                 | 0/50 [00:00<?, ?it/s]"
     ]
    },
    {
     "name": "stdout",
     "output_type": "stream",
     "text": [
      "108.06666666666666\n"
     ]
    },
    {
     "name": "stderr",
     "output_type": "stream",
     "text": [
      "Training: 100%|████████████████████████████████████████████████████████████████████████| 50/50 [00:05<00:00,  8.92it/s]\n",
      "Evaluating: 100%|██████████████████████████████████████████████████████████████████████| 30/30 [00:00<00:00, 65.83it/s]\n",
      "Training:   2%|█▍                                                                       | 1/50 [00:00<00:06,  7.52it/s]"
     ]
    },
    {
     "name": "stdout",
     "output_type": "stream",
     "text": [
      "87.7\n"
     ]
    },
    {
     "name": "stderr",
     "output_type": "stream",
     "text": [
      "Training: 100%|████████████████████████████████████████████████████████████████████████| 50/50 [00:09<00:00,  5.28it/s]\n",
      "Evaluating: 100%|██████████████████████████████████████████████████████████████████████| 30/30 [00:00<00:00, 56.58it/s]\n",
      "Training:   2%|█▍                                                                       | 1/50 [00:00<00:07,  6.27it/s]"
     ]
    },
    {
     "name": "stdout",
     "output_type": "stream",
     "text": [
      "103.3\n"
     ]
    },
    {
     "name": "stderr",
     "output_type": "stream",
     "text": [
      "Training: 100%|████████████████████████████████████████████████████████████████████████| 50/50 [00:02<00:00, 18.33it/s]\n",
      "Evaluating: 100%|█████████████████████████████████████████████████████████████████████| 30/30 [00:00<00:00, 406.49it/s]\n",
      "Training:  10%|███████▎                                                                 | 5/50 [00:00<00:00, 49.63it/s]"
     ]
    },
    {
     "name": "stdout",
     "output_type": "stream",
     "text": [
      "13.466666666666667\n"
     ]
    },
    {
     "name": "stderr",
     "output_type": "stream",
     "text": [
      "Training: 100%|████████████████████████████████████████████████████████████████████████| 50/50 [00:02<00:00, 24.28it/s]\n",
      "Evaluating: 100%|█████████████████████████████████████████████████████████████████████| 30/30 [00:00<00:00, 329.09it/s]\n",
      "Training:  10%|███████▎                                                                 | 5/50 [00:00<00:01, 39.88it/s]"
     ]
    },
    {
     "name": "stdout",
     "output_type": "stream",
     "text": [
      "19.233333333333334\n"
     ]
    },
    {
     "name": "stderr",
     "output_type": "stream",
     "text": [
      "Training: 100%|████████████████████████████████████████████████████████████████████████| 50/50 [00:03<00:00, 15.06it/s]\n",
      "Evaluating: 100%|██████████████████████████████████████████████████████████████████████| 30/30 [00:00<00:00, 64.77it/s]\n",
      "Training:   2%|█▍                                                                       | 1/50 [00:00<00:07,  6.13it/s]"
     ]
    },
    {
     "name": "stdout",
     "output_type": "stream",
     "text": [
      "92.86666666666666\n"
     ]
    },
    {
     "name": "stderr",
     "output_type": "stream",
     "text": [
      "Training: 100%|████████████████████████████████████████████████████████████████████████| 50/50 [00:03<00:00, 14.79it/s]\n",
      "Evaluating: 100%|██████████████████████████████████████████████████████████████████████| 30/30 [00:00<00:00, 51.23it/s]\n",
      "Training:  10%|███████▎                                                                 | 5/50 [00:00<00:01, 40.74it/s]"
     ]
    },
    {
     "name": "stdout",
     "output_type": "stream",
     "text": [
      "112.9\n"
     ]
    },
    {
     "name": "stderr",
     "output_type": "stream",
     "text": [
      "Training: 100%|████████████████████████████████████████████████████████████████████████| 50/50 [00:05<00:00,  8.38it/s]\n",
      "Evaluating: 100%|██████████████████████████████████████████████████████████████████████| 30/30 [00:00<00:00, 50.73it/s]\n",
      "Training:   0%|                                                                                 | 0/50 [00:00<?, ?it/s]"
     ]
    },
    {
     "name": "stdout",
     "output_type": "stream",
     "text": [
      "116.7\n"
     ]
    },
    {
     "name": "stderr",
     "output_type": "stream",
     "text": [
      "Training: 100%|████████████████████████████████████████████████████████████████████████| 50/50 [00:09<00:00,  5.39it/s]\n",
      "Evaluating: 100%|██████████████████████████████████████████████████████████████████████| 30/30 [00:00<00:00, 33.19it/s]\n",
      "Training:   2%|█▍                                                                       | 1/50 [00:00<00:06,  7.61it/s]"
     ]
    },
    {
     "name": "stdout",
     "output_type": "stream",
     "text": [
      "186.86666666666667\n"
     ]
    },
    {
     "name": "stderr",
     "output_type": "stream",
     "text": [
      "Training: 100%|████████████████████████████████████████████████████████████████████████| 50/50 [00:07<00:00,  7.08it/s]\n",
      "Evaluating: 100%|█████████████████████████████████████████████████████████████████████| 30/30 [00:00<00:00, 176.91it/s]\n",
      "Training:   0%|                                                                                 | 0/50 [00:00<?, ?it/s]"
     ]
    },
    {
     "name": "stdout",
     "output_type": "stream",
     "text": [
      "24.666666666666668\n"
     ]
    },
    {
     "name": "stderr",
     "output_type": "stream",
     "text": [
      "Training: 100%|████████████████████████████████████████████████████████████████████████| 50/50 [00:09<00:00,  5.18it/s]\n",
      "Evaluating: 100%|██████████████████████████████████████████████████████████████████████| 30/30 [00:00<00:00, 53.88it/s]\n",
      "Training:   0%|                                                                                 | 0/50 [00:00<?, ?it/s]"
     ]
    },
    {
     "name": "stdout",
     "output_type": "stream",
     "text": [
      "114.73333333333333\n"
     ]
    },
    {
     "name": "stderr",
     "output_type": "stream",
     "text": [
      "Training: 100%|████████████████████████████████████████████████████████████████████████| 50/50 [00:09<00:00,  5.05it/s]\n",
      "Evaluating: 100%|██████████████████████████████████████████████████████████████████████| 30/30 [00:00<00:00, 48.83it/s]\n",
      "Training:   0%|                                                                                 | 0/50 [00:00<?, ?it/s]"
     ]
    },
    {
     "name": "stdout",
     "output_type": "stream",
     "text": [
      "117.1\n"
     ]
    },
    {
     "name": "stderr",
     "output_type": "stream",
     "text": [
      "Training: 100%|████████████████████████████████████████████████████████████████████████| 50/50 [00:06<00:00,  8.16it/s]\n",
      "Evaluating: 100%|█████████████████████████████████████████████████████████████████████| 30/30 [00:00<00:00, 119.96it/s]\n",
      "Training:   2%|█▍                                                                       | 1/50 [00:00<00:07,  6.82it/s]"
     ]
    },
    {
     "name": "stdout",
     "output_type": "stream",
     "text": [
      "44.56666666666667\n"
     ]
    },
    {
     "name": "stderr",
     "output_type": "stream",
     "text": [
      "Training: 100%|████████████████████████████████████████████████████████████████████████| 50/50 [00:05<00:00,  8.43it/s]\n",
      "Evaluating: 100%|██████████████████████████████████████████████████████████████████████| 30/30 [00:00<00:00, 61.13it/s]\n",
      "Training:   2%|█▍                                                                       | 1/50 [00:00<00:07,  6.49it/s]"
     ]
    },
    {
     "name": "stdout",
     "output_type": "stream",
     "text": [
      "97.7\n"
     ]
    },
    {
     "name": "stderr",
     "output_type": "stream",
     "text": [
      "Training: 100%|████████████████████████████████████████████████████████████████████████| 50/50 [00:08<00:00,  5.86it/s]\n",
      "Evaluating: 100%|██████████████████████████████████████████████████████████████████████| 30/30 [00:00<00:00, 54.17it/s]\n",
      "Training:   0%|                                                                                 | 0/50 [00:00<?, ?it/s]"
     ]
    },
    {
     "name": "stdout",
     "output_type": "stream",
     "text": [
      "112.2\n"
     ]
    },
    {
     "name": "stderr",
     "output_type": "stream",
     "text": [
      "Training: 100%|████████████████████████████████████████████████████████████████████████| 50/50 [00:07<00:00,  6.79it/s]\n",
      "Evaluating: 100%|██████████████████████████████████████████████████████████████████████| 30/30 [00:00<00:00, 46.74it/s]\n",
      "Training:   0%|                                                                                 | 0/50 [00:00<?, ?it/s]"
     ]
    },
    {
     "name": "stdout",
     "output_type": "stream",
     "text": [
      "124.86666666666666\n"
     ]
    },
    {
     "name": "stderr",
     "output_type": "stream",
     "text": [
      "Training: 100%|████████████████████████████████████████████████████████████████████████| 50/50 [00:06<00:00,  7.15it/s]\n",
      "Evaluating: 100%|██████████████████████████████████████████████████████████████████████| 30/30 [00:00<00:00, 42.66it/s]\n",
      "Training:   0%|                                                                                 | 0/50 [00:00<?, ?it/s]"
     ]
    },
    {
     "name": "stdout",
     "output_type": "stream",
     "text": [
      "145.66666666666666\n"
     ]
    },
    {
     "name": "stderr",
     "output_type": "stream",
     "text": [
      "Training: 100%|████████████████████████████████████████████████████████████████████████| 50/50 [00:07<00:00,  6.29it/s]\n",
      "Evaluating: 100%|██████████████████████████████████████████████████████████████████████| 30/30 [00:00<00:00, 44.29it/s]\n",
      "Training:   0%|                                                                                 | 0/50 [00:00<?, ?it/s]"
     ]
    },
    {
     "name": "stdout",
     "output_type": "stream",
     "text": [
      "134.9\n"
     ]
    },
    {
     "name": "stderr",
     "output_type": "stream",
     "text": [
      "Training: 100%|████████████████████████████████████████████████████████████████████████| 50/50 [00:06<00:00,  7.89it/s]\n",
      "Evaluating: 100%|██████████████████████████████████████████████████████████████████████| 30/30 [00:00<00:00, 37.28it/s]\n",
      "Training:   0%|                                                                                 | 0/50 [00:00<?, ?it/s]"
     ]
    },
    {
     "name": "stdout",
     "output_type": "stream",
     "text": [
      "151.93333333333334\n"
     ]
    },
    {
     "name": "stderr",
     "output_type": "stream",
     "text": [
      "Training: 100%|████████████████████████████████████████████████████████████████████████| 50/50 [00:10<00:00,  4.88it/s]\n",
      "Evaluating: 100%|██████████████████████████████████████████████████████████████████████| 30/30 [00:00<00:00, 56.23it/s]\n",
      "Training:   2%|█▍                                                                       | 1/50 [00:00<00:07,  6.23it/s]"
     ]
    },
    {
     "name": "stdout",
     "output_type": "stream",
     "text": [
      "107.33333333333333\n"
     ]
    },
    {
     "name": "stderr",
     "output_type": "stream",
     "text": [
      "Training: 100%|████████████████████████████████████████████████████████████████████████| 50/50 [00:10<00:00,  4.76it/s]\n",
      "Evaluating: 100%|██████████████████████████████████████████████████████████████████████| 30/30 [00:00<00:00, 80.30it/s]\n",
      "Training:   6%|████▍                                                                    | 3/50 [00:00<00:01, 24.51it/s]"
     ]
    },
    {
     "name": "stdout",
     "output_type": "stream",
     "text": [
      "75.03333333333333\n"
     ]
    },
    {
     "name": "stderr",
     "output_type": "stream",
     "text": [
      "Training: 100%|████████████████████████████████████████████████████████████████████████| 50/50 [00:04<00:00, 12.02it/s]\n",
      "Evaluating: 100%|█████████████████████████████████████████████████████████████████████| 30/30 [00:00<00:00, 223.62it/s]\n",
      "Training:   6%|████▍                                                                    | 3/50 [00:00<00:01, 29.20it/s]"
     ]
    },
    {
     "name": "stdout",
     "output_type": "stream",
     "text": [
      "20.333333333333332\n"
     ]
    },
    {
     "name": "stderr",
     "output_type": "stream",
     "text": [
      "Training: 100%|████████████████████████████████████████████████████████████████████████| 50/50 [00:06<00:00,  8.22it/s]\n",
      "Evaluating: 100%|██████████████████████████████████████████████████████████████████████| 30/30 [00:00<00:00, 59.86it/s]\n",
      "Training:   0%|                                                                                 | 0/50 [00:00<?, ?it/s]"
     ]
    },
    {
     "name": "stdout",
     "output_type": "stream",
     "text": [
      "97.36666666666666\n"
     ]
    },
    {
     "name": "stderr",
     "output_type": "stream",
     "text": [
      "Training: 100%|████████████████████████████████████████████████████████████████████████| 50/50 [00:05<00:00,  9.20it/s]\n",
      "Evaluating: 100%|██████████████████████████████████████████████████████████████████████| 30/30 [00:00<00:00, 64.49it/s]\n",
      "Training:   2%|█▍                                                                       | 1/50 [00:00<00:06,  8.09it/s]"
     ]
    },
    {
     "name": "stdout",
     "output_type": "stream",
     "text": [
      "94.9\n"
     ]
    },
    {
     "name": "stderr",
     "output_type": "stream",
     "text": [
      "Training: 100%|████████████████████████████████████████████████████████████████████████| 50/50 [00:07<00:00,  7.03it/s]\n",
      "Evaluating: 100%|██████████████████████████████████████████████████████████████████████| 30/30 [00:00<00:00, 30.05it/s]\n",
      "Training:   0%|                                                                                 | 0/50 [00:00<?, ?it/s]"
     ]
    },
    {
     "name": "stdout",
     "output_type": "stream",
     "text": [
      "200.0\n"
     ]
    },
    {
     "name": "stderr",
     "output_type": "stream",
     "text": [
      "Training: 100%|████████████████████████████████████████████████████████████████████████| 50/50 [00:02<00:00, 19.83it/s]\n",
      "Evaluating: 100%|██████████████████████████████████████████████████████████████████████| 30/30 [00:01<00:00, 28.97it/s]\n",
      "Training:   0%|                                                                                 | 0/50 [00:00<?, ?it/s]"
     ]
    },
    {
     "name": "stdout",
     "output_type": "stream",
     "text": [
      "200.0\n"
     ]
    },
    {
     "name": "stderr",
     "output_type": "stream",
     "text": [
      "Training: 100%|████████████████████████████████████████████████████████████████████████| 50/50 [00:06<00:00,  7.80it/s]\n",
      "Evaluating: 100%|█████████████████████████████████████████████████████████████████████| 30/30 [00:00<00:00, 179.18it/s]\n",
      "Training:  10%|███████▎                                                                 | 5/50 [00:00<00:01, 44.75it/s]"
     ]
    },
    {
     "name": "stdout",
     "output_type": "stream",
     "text": [
      "25.8\n"
     ]
    },
    {
     "name": "stderr",
     "output_type": "stream",
     "text": [
      "Training: 100%|████████████████████████████████████████████████████████████████████████| 50/50 [00:07<00:00,  7.11it/s]\n",
      "Evaluating: 100%|██████████████████████████████████████████████████████████████████████| 30/30 [00:00<00:00, 69.71it/s]\n",
      "Training:   2%|█▍                                                                       | 1/50 [00:00<00:07,  6.60it/s]"
     ]
    },
    {
     "name": "stdout",
     "output_type": "stream",
     "text": [
      "82.76666666666667\n"
     ]
    },
    {
     "name": "stderr",
     "output_type": "stream",
     "text": [
      "Training: 100%|████████████████████████████████████████████████████████████████████████| 50/50 [00:08<00:00,  6.07it/s]\n",
      "Evaluating: 100%|██████████████████████████████████████████████████████████████████████| 30/30 [00:00<00:00, 69.23it/s]\n",
      "Training:   4%|██▉                                                                      | 2/50 [00:00<00:03, 13.10it/s]"
     ]
    },
    {
     "name": "stdout",
     "output_type": "stream",
     "text": [
      "85.06666666666666\n"
     ]
    },
    {
     "name": "stderr",
     "output_type": "stream",
     "text": [
      "Training: 100%|████████████████████████████████████████████████████████████████████████| 50/50 [00:06<00:00,  7.36it/s]\n",
      "Evaluating: 100%|██████████████████████████████████████████████████████████████████████| 30/30 [00:00<00:00, 92.06it/s]\n",
      "Training:   2%|█▍                                                                       | 1/50 [00:00<00:07,  6.90it/s]"
     ]
    },
    {
     "name": "stdout",
     "output_type": "stream",
     "text": [
      "58.56666666666667\n"
     ]
    },
    {
     "name": "stderr",
     "output_type": "stream",
     "text": [
      "Training: 100%|████████████████████████████████████████████████████████████████████████| 50/50 [00:08<00:00,  5.83it/s]\n",
      "Evaluating: 100%|██████████████████████████████████████████████████████████████████████| 30/30 [00:00<00:00, 84.78it/s]\n",
      "Training:   0%|                                                                                 | 0/50 [00:00<?, ?it/s]"
     ]
    },
    {
     "name": "stdout",
     "output_type": "stream",
     "text": [
      "68.53333333333333\n"
     ]
    },
    {
     "name": "stderr",
     "output_type": "stream",
     "text": [
      "Training: 100%|████████████████████████████████████████████████████████████████████████| 50/50 [00:09<00:00,  5.52it/s]\n",
      "Evaluating: 100%|██████████████████████████████████████████████████████████████████████| 30/30 [00:00<00:00, 30.53it/s]\n",
      "Training:   0%|                                                                                 | 0/50 [00:00<?, ?it/s]"
     ]
    },
    {
     "name": "stdout",
     "output_type": "stream",
     "text": [
      "200.0\n"
     ]
    },
    {
     "name": "stderr",
     "output_type": "stream",
     "text": [
      "Training: 100%|████████████████████████████████████████████████████████████████████████| 50/50 [00:10<00:00,  4.59it/s]\n",
      "Evaluating: 100%|█████████████████████████████████████████████████████████████████████| 30/30 [00:00<00:00, 359.29it/s]\n",
      "Training:   0%|                                                                                 | 0/50 [00:00<?, ?it/s]"
     ]
    },
    {
     "name": "stdout",
     "output_type": "stream",
     "text": [
      "17.433333333333334\n"
     ]
    },
    {
     "name": "stderr",
     "output_type": "stream",
     "text": [
      "Training: 100%|████████████████████████████████████████████████████████████████████████| 50/50 [00:07<00:00,  6.95it/s]\n",
      "Evaluating: 100%|██████████████████████████████████████████████████████████████████████| 30/30 [00:00<00:00, 74.42it/s]\n",
      "Training:   6%|████▍                                                                    | 3/50 [00:00<00:03, 15.56it/s]"
     ]
    },
    {
     "name": "stdout",
     "output_type": "stream",
     "text": [
      "80.46666666666667\n"
     ]
    },
    {
     "name": "stderr",
     "output_type": "stream",
     "text": [
      "Training: 100%|████████████████████████████████████████████████████████████████████████| 50/50 [00:02<00:00, 21.19it/s]\n",
      "Evaluating: 100%|█████████████████████████████████████████████████████████████████████| 30/30 [00:00<00:00, 384.09it/s]\n",
      "Training:   8%|█████▊                                                                   | 4/50 [00:00<00:01, 36.58it/s]"
     ]
    },
    {
     "name": "stdout",
     "output_type": "stream",
     "text": [
      "14.233333333333333\n"
     ]
    },
    {
     "name": "stderr",
     "output_type": "stream",
     "text": [
      "Training: 100%|████████████████████████████████████████████████████████████████████████| 50/50 [00:04<00:00, 12.01it/s]\n",
      "Evaluating: 100%|█████████████████████████████████████████████████████████████████████| 30/30 [00:00<00:00, 113.58it/s]\n",
      "Training:   4%|██▉                                                                      | 2/50 [00:00<00:03, 14.63it/s]"
     ]
    },
    {
     "name": "stdout",
     "output_type": "stream",
     "text": [
      "46.833333333333336\n"
     ]
    },
    {
     "name": "stderr",
     "output_type": "stream",
     "text": [
      "Training: 100%|████████████████████████████████████████████████████████████████████████| 50/50 [00:05<00:00,  8.47it/s]\n",
      "Evaluating: 100%|██████████████████████████████████████████████████████████████████████| 30/30 [00:00<00:00, 31.24it/s]\n",
      "Training:   2%|█▍                                                                       | 1/50 [00:00<00:05,  8.72it/s]"
     ]
    },
    {
     "name": "stdout",
     "output_type": "stream",
     "text": [
      "200.0\n"
     ]
    },
    {
     "name": "stderr",
     "output_type": "stream",
     "text": [
      "Training: 100%|████████████████████████████████████████████████████████████████████████| 50/50 [00:08<00:00,  5.87it/s]\n",
      "Evaluating: 100%|█████████████████████████████████████████████████████████████████████| 30/30 [00:00<00:00, 251.33it/s]\n",
      "Training:   6%|████▍                                                                    | 3/50 [00:00<00:01, 25.56it/s]"
     ]
    },
    {
     "name": "stdout",
     "output_type": "stream",
     "text": [
      "19.933333333333334\n"
     ]
    },
    {
     "name": "stderr",
     "output_type": "stream",
     "text": [
      "Training: 100%|████████████████████████████████████████████████████████████████████████| 50/50 [00:07<00:00,  7.05it/s]\n",
      "Evaluating: 100%|██████████████████████████████████████████████████████████████████████| 30/30 [00:00<00:00, 41.69it/s]\n",
      "Training:   0%|                                                                                 | 0/50 [00:00<?, ?it/s]"
     ]
    },
    {
     "name": "stdout",
     "output_type": "stream",
     "text": [
      "136.46666666666667\n"
     ]
    },
    {
     "name": "stderr",
     "output_type": "stream",
     "text": [
      "Training: 100%|████████████████████████████████████████████████████████████████████████| 50/50 [00:05<00:00,  8.75it/s]\n",
      "Evaluating: 100%|█████████████████████████████████████████████████████████████████████| 30/30 [00:00<00:00, 299.65it/s]\n",
      "Training:  10%|███████▎                                                                 | 5/50 [00:00<00:01, 34.10it/s]"
     ]
    },
    {
     "name": "stdout",
     "output_type": "stream",
     "text": [
      "16.133333333333333\n"
     ]
    },
    {
     "name": "stderr",
     "output_type": "stream",
     "text": [
      "Training: 100%|████████████████████████████████████████████████████████████████████████| 50/50 [00:02<00:00, 22.23it/s]\n",
      "Evaluating: 100%|██████████████████████████████████████████████████████████████████████| 30/30 [00:00<00:00, 59.17it/s]\n",
      "Training:   8%|█████▊                                                                   | 4/50 [00:00<00:01, 39.70it/s]"
     ]
    },
    {
     "name": "stdout",
     "output_type": "stream",
     "text": [
      "100.63333333333334\n"
     ]
    },
    {
     "name": "stderr",
     "output_type": "stream",
     "text": [
      "Training: 100%|████████████████████████████████████████████████████████████████████████| 50/50 [00:01<00:00, 28.65it/s]\n",
      "Evaluating: 100%|█████████████████████████████████████████████████████████████████████| 30/30 [00:00<00:00, 340.37it/s]\n",
      "Training:   6%|████▍                                                                    | 3/50 [00:00<00:01, 29.67it/s]"
     ]
    },
    {
     "name": "stdout",
     "output_type": "stream",
     "text": [
      "18.5\n"
     ]
    },
    {
     "name": "stderr",
     "output_type": "stream",
     "text": [
      "Training: 100%|████████████████████████████████████████████████████████████████████████| 50/50 [00:03<00:00, 16.08it/s]\n",
      "Evaluating: 100%|█████████████████████████████████████████████████████████████████████| 30/30 [00:00<00:00, 198.04it/s]\n",
      "Training:   0%|                                                                                 | 0/50 [00:00<?, ?it/s]"
     ]
    },
    {
     "name": "stdout",
     "output_type": "stream",
     "text": [
      "29.866666666666667\n"
     ]
    },
    {
     "name": "stderr",
     "output_type": "stream",
     "text": [
      "Training: 100%|████████████████████████████████████████████████████████████████████████| 50/50 [00:04<00:00, 12.38it/s]\n",
      "Evaluating: 100%|█████████████████████████████████████████████████████████████████████| 30/30 [00:00<00:00, 302.55it/s]\n",
      "Training:   8%|█████▊                                                                   | 4/50 [00:00<00:01, 32.42it/s]"
     ]
    },
    {
     "name": "stdout",
     "output_type": "stream",
     "text": [
      "17.6\n"
     ]
    },
    {
     "name": "stderr",
     "output_type": "stream",
     "text": [
      "Training: 100%|████████████████████████████████████████████████████████████████████████| 50/50 [00:07<00:00,  6.28it/s]\n",
      "Evaluating: 100%|██████████████████████████████████████████████████████████████████████| 30/30 [00:01<00:00, 29.76it/s]\n",
      "Training:   0%|                                                                                 | 0/50 [00:00<?, ?it/s]"
     ]
    },
    {
     "name": "stdout",
     "output_type": "stream",
     "text": [
      "200.0\n"
     ]
    },
    {
     "name": "stderr",
     "output_type": "stream",
     "text": [
      "Training: 100%|████████████████████████████████████████████████████████████████████████| 50/50 [00:07<00:00,  6.38it/s]\n",
      "Evaluating: 100%|██████████████████████████████████████████████████████████████████████| 30/30 [00:00<00:00, 30.52it/s]\n",
      "Training:   0%|                                                                                 | 0/50 [00:00<?, ?it/s]"
     ]
    },
    {
     "name": "stdout",
     "output_type": "stream",
     "text": [
      "200.0\n"
     ]
    },
    {
     "name": "stderr",
     "output_type": "stream",
     "text": [
      "Training: 100%|████████████████████████████████████████████████████████████████████████| 50/50 [00:03<00:00, 14.27it/s]\n",
      "Evaluating: 100%|██████████████████████████████████████████████████████████████████████| 30/30 [00:00<00:00, 30.83it/s]\n",
      "Training:   8%|█████▊                                                                   | 4/50 [00:00<00:01, 35.49it/s]"
     ]
    },
    {
     "name": "stdout",
     "output_type": "stream",
     "text": [
      "200.0\n"
     ]
    },
    {
     "name": "stderr",
     "output_type": "stream",
     "text": [
      "Training: 100%|████████████████████████████████████████████████████████████████████████| 50/50 [00:07<00:00,  7.11it/s]\n",
      "Evaluating: 100%|██████████████████████████████████████████████████████████████████████| 30/30 [00:00<00:00, 55.87it/s]\n",
      "Training:   0%|                                                                                 | 0/50 [00:00<?, ?it/s]"
     ]
    },
    {
     "name": "stdout",
     "output_type": "stream",
     "text": [
      "100.26666666666667\n"
     ]
    },
    {
     "name": "stderr",
     "output_type": "stream",
     "text": [
      "Training: 100%|████████████████████████████████████████████████████████████████████████| 50/50 [00:07<00:00,  6.93it/s]\n",
      "Evaluating: 100%|█████████████████████████████████████████████████████████████████████| 30/30 [00:00<00:00, 308.91it/s]\n",
      "Training:   0%|                                                                                 | 0/50 [00:00<?, ?it/s]"
     ]
    },
    {
     "name": "stdout",
     "output_type": "stream",
     "text": [
      "18.0\n"
     ]
    },
    {
     "name": "stderr",
     "output_type": "stream",
     "text": [
      "Training: 100%|████████████████████████████████████████████████████████████████████████| 50/50 [00:03<00:00, 13.99it/s]\n",
      "Evaluating: 100%|█████████████████████████████████████████████████████████████████████| 30/30 [00:00<00:00, 220.61it/s]\n",
      "Training:   0%|                                                                                 | 0/50 [00:00<?, ?it/s]"
     ]
    },
    {
     "name": "stdout",
     "output_type": "stream",
     "text": [
      "21.866666666666667\n"
     ]
    },
    {
     "name": "stderr",
     "output_type": "stream",
     "text": [
      "Training: 100%|████████████████████████████████████████████████████████████████████████| 50/50 [00:11<00:00,  4.29it/s]\n",
      "Evaluating: 100%|██████████████████████████████████████████████████████████████████████| 30/30 [00:00<00:00, 30.22it/s]\n",
      "Training:   0%|                                                                                 | 0/50 [00:00<?, ?it/s]"
     ]
    },
    {
     "name": "stdout",
     "output_type": "stream",
     "text": [
      "200.0\n"
     ]
    },
    {
     "name": "stderr",
     "output_type": "stream",
     "text": [
      "Training: 100%|████████████████████████████████████████████████████████████████████████| 50/50 [00:07<00:00,  6.56it/s]\n",
      "Evaluating: 100%|██████████████████████████████████████████████████████████████████████| 30/30 [00:00<00:00, 30.86it/s]\n",
      "Training:   4%|██▉                                                                      | 2/50 [00:00<00:03, 14.60it/s]"
     ]
    },
    {
     "name": "stdout",
     "output_type": "stream",
     "text": [
      "200.0\n"
     ]
    },
    {
     "name": "stderr",
     "output_type": "stream",
     "text": [
      "Training: 100%|████████████████████████████████████████████████████████████████████████| 50/50 [00:11<00:00,  4.20it/s]\n",
      "Evaluating: 100%|██████████████████████████████████████████████████████████████████████| 30/30 [00:01<00:00, 28.69it/s]\n",
      "Training:   0%|                                                                                 | 0/50 [00:00<?, ?it/s]"
     ]
    },
    {
     "name": "stdout",
     "output_type": "stream",
     "text": [
      "200.0\n"
     ]
    },
    {
     "name": "stderr",
     "output_type": "stream",
     "text": [
      "Training: 100%|████████████████████████████████████████████████████████████████████████| 50/50 [00:06<00:00,  7.53it/s]\n",
      "Evaluating: 100%|██████████████████████████████████████████████████████████████████████| 30/30 [00:00<00:00, 31.40it/s]\n",
      "Training:   6%|████▍                                                                    | 3/50 [00:00<00:01, 29.48it/s]"
     ]
    },
    {
     "name": "stdout",
     "output_type": "stream",
     "text": [
      "200.0\n"
     ]
    },
    {
     "name": "stderr",
     "output_type": "stream",
     "text": [
      "Training: 100%|████████████████████████████████████████████████████████████████████████| 50/50 [00:06<00:00,  7.34it/s]\n",
      "Evaluating: 100%|██████████████████████████████████████████████████████████████████████| 30/30 [00:00<00:00, 30.39it/s]\n",
      "Training:   0%|                                                                                 | 0/50 [00:00<?, ?it/s]"
     ]
    },
    {
     "name": "stdout",
     "output_type": "stream",
     "text": [
      "200.0\n"
     ]
    },
    {
     "name": "stderr",
     "output_type": "stream",
     "text": [
      "Training: 100%|████████████████████████████████████████████████████████████████████████| 50/50 [00:09<00:00,  5.37it/s]\n",
      "Evaluating: 100%|██████████████████████████████████████████████████████████████████████| 30/30 [00:00<00:00, 30.43it/s]\n",
      "Training:   0%|                                                                                 | 0/50 [00:00<?, ?it/s]"
     ]
    },
    {
     "name": "stdout",
     "output_type": "stream",
     "text": [
      "200.0\n"
     ]
    },
    {
     "name": "stderr",
     "output_type": "stream",
     "text": [
      "Training: 100%|████████████████████████████████████████████████████████████████████████| 50/50 [00:09<00:00,  5.01it/s]\n",
      "Evaluating: 100%|██████████████████████████████████████████████████████████████████████| 30/30 [00:00<00:00, 30.59it/s]\n",
      "Training:   0%|                                                                                 | 0/50 [00:00<?, ?it/s]"
     ]
    },
    {
     "name": "stdout",
     "output_type": "stream",
     "text": [
      "200.0\n"
     ]
    },
    {
     "name": "stderr",
     "output_type": "stream",
     "text": [
      "Training: 100%|████████████████████████████████████████████████████████████████████████| 50/50 [00:09<00:00,  5.52it/s]\n",
      "Evaluating: 100%|██████████████████████████████████████████████████████████████████████| 30/30 [00:00<00:00, 30.42it/s]\n",
      "Training:   0%|                                                                                 | 0/50 [00:00<?, ?it/s]"
     ]
    },
    {
     "name": "stdout",
     "output_type": "stream",
     "text": [
      "200.0\n"
     ]
    },
    {
     "name": "stderr",
     "output_type": "stream",
     "text": [
      "Training: 100%|████████████████████████████████████████████████████████████████████████| 50/50 [00:05<00:00,  8.71it/s]\n",
      "Evaluating: 100%|██████████████████████████████████████████████████████████████████████| 30/30 [00:00<00:00, 47.24it/s]\n",
      "Training:   8%|█████▊                                                                   | 4/50 [00:00<00:01, 27.97it/s]"
     ]
    },
    {
     "name": "stdout",
     "output_type": "stream",
     "text": [
      "131.86666666666667\n"
     ]
    },
    {
     "name": "stderr",
     "output_type": "stream",
     "text": [
      "Training: 100%|████████████████████████████████████████████████████████████████████████| 50/50 [00:05<00:00,  8.43it/s]\n",
      "Evaluating: 100%|██████████████████████████████████████████████████████████████████████| 30/30 [00:00<00:00, 30.11it/s]\n",
      "Training:   0%|                                                                                 | 0/50 [00:00<?, ?it/s]"
     ]
    },
    {
     "name": "stdout",
     "output_type": "stream",
     "text": [
      "200.0\n"
     ]
    },
    {
     "name": "stderr",
     "output_type": "stream",
     "text": [
      "Training: 100%|████████████████████████████████████████████████████████████████████████| 50/50 [00:06<00:00,  7.50it/s]\n",
      "Evaluating: 100%|██████████████████████████████████████████████████████████████████████| 30/30 [00:00<00:00, 44.51it/s]\n",
      "Training:   0%|                                                                                 | 0/50 [00:00<?, ?it/s]"
     ]
    },
    {
     "name": "stdout",
     "output_type": "stream",
     "text": [
      "132.4\n"
     ]
    },
    {
     "name": "stderr",
     "output_type": "stream",
     "text": [
      "Training: 100%|████████████████████████████████████████████████████████████████████████| 50/50 [00:11<00:00,  4.39it/s]\n",
      "Evaluating: 100%|██████████████████████████████████████████████████████████████████████| 30/30 [00:00<00:00, 31.12it/s]\n",
      "Training:   4%|██▉                                                                      | 2/50 [00:00<00:02, 17.59it/s]"
     ]
    },
    {
     "name": "stdout",
     "output_type": "stream",
     "text": [
      "200.0\n"
     ]
    },
    {
     "name": "stderr",
     "output_type": "stream",
     "text": [
      "Training: 100%|████████████████████████████████████████████████████████████████████████| 50/50 [00:12<00:00,  3.87it/s]\n",
      "Evaluating: 100%|██████████████████████████████████████████████████████████████████████| 30/30 [00:00<00:00, 30.73it/s]\n",
      "Training:   0%|                                                                                 | 0/50 [00:00<?, ?it/s]"
     ]
    },
    {
     "name": "stdout",
     "output_type": "stream",
     "text": [
      "200.0\n"
     ]
    },
    {
     "name": "stderr",
     "output_type": "stream",
     "text": [
      "Training: 100%|████████████████████████████████████████████████████████████████████████| 50/50 [00:17<00:00,  2.86it/s]\n",
      "Evaluating: 100%|██████████████████████████████████████████████████████████████████████| 30/30 [00:01<00:00, 29.02it/s]\n",
      "Training:   0%|                                                                                 | 0/50 [00:00<?, ?it/s]"
     ]
    },
    {
     "name": "stdout",
     "output_type": "stream",
     "text": [
      "200.0\n"
     ]
    },
    {
     "name": "stderr",
     "output_type": "stream",
     "text": [
      "Training: 100%|████████████████████████████████████████████████████████████████████████| 50/50 [00:12<00:00,  3.94it/s]\n",
      "Evaluating: 100%|██████████████████████████████████████████████████████████████████████| 30/30 [00:00<00:00, 30.59it/s]\n",
      "Training:   0%|                                                                                 | 0/50 [00:00<?, ?it/s]"
     ]
    },
    {
     "name": "stdout",
     "output_type": "stream",
     "text": [
      "200.0\n"
     ]
    },
    {
     "name": "stderr",
     "output_type": "stream",
     "text": [
      "Training: 100%|████████████████████████████████████████████████████████████████████████| 50/50 [00:10<00:00,  5.00it/s]\n",
      "Evaluating: 100%|██████████████████████████████████████████████████████████████████████| 30/30 [00:00<00:00, 30.27it/s]\n",
      "Training:   2%|█▍                                                                       | 1/50 [00:00<00:05,  8.17it/s]"
     ]
    },
    {
     "name": "stdout",
     "output_type": "stream",
     "text": [
      "200.0\n"
     ]
    },
    {
     "name": "stderr",
     "output_type": "stream",
     "text": [
      "Training: 100%|████████████████████████████████████████████████████████████████████████| 50/50 [00:05<00:00,  8.87it/s]\n",
      "Evaluating: 100%|██████████████████████████████████████████████████████████████████████| 30/30 [00:00<00:00, 77.18it/s]\n",
      "Training:   2%|█▍                                                                       | 1/50 [00:00<00:05,  8.90it/s]"
     ]
    },
    {
     "name": "stdout",
     "output_type": "stream",
     "text": [
      "75.23333333333333\n"
     ]
    },
    {
     "name": "stderr",
     "output_type": "stream",
     "text": [
      "Training: 100%|████████████████████████████████████████████████████████████████████████| 50/50 [00:06<00:00,  8.01it/s]\n",
      "Evaluating: 100%|█████████████████████████████████████████████████████████████████████| 30/30 [00:00<00:00, 425.40it/s]\n",
      "Training:   6%|████▍                                                                    | 3/50 [00:00<00:01, 26.85it/s]"
     ]
    },
    {
     "name": "stdout",
     "output_type": "stream",
     "text": [
      "15.666666666666666\n"
     ]
    },
    {
     "name": "stderr",
     "output_type": "stream",
     "text": [
      "Training: 100%|████████████████████████████████████████████████████████████████████████| 50/50 [00:02<00:00, 19.91it/s]\n",
      "Evaluating: 100%|█████████████████████████████████████████████████████████████████████| 30/30 [00:00<00:00, 230.12it/s]\n",
      "Training:   6%|████▍                                                                    | 3/50 [00:00<00:01, 27.09it/s]"
     ]
    },
    {
     "name": "stdout",
     "output_type": "stream",
     "text": [
      "19.1\n"
     ]
    },
    {
     "name": "stderr",
     "output_type": "stream",
     "text": [
      "Training: 100%|████████████████████████████████████████████████████████████████████████| 50/50 [00:05<00:00,  9.47it/s]\n",
      "Evaluating: 100%|█████████████████████████████████████████████████████████████████████| 30/30 [00:00<00:00, 224.76it/s]\n",
      "Training:   6%|████▍                                                                    | 3/50 [00:00<00:01, 29.20it/s]"
     ]
    },
    {
     "name": "stdout",
     "output_type": "stream",
     "text": [
      "21.2\n"
     ]
    },
    {
     "name": "stderr",
     "output_type": "stream",
     "text": [
      "Training: 100%|████████████████████████████████████████████████████████████████████████| 50/50 [00:03<00:00, 15.16it/s]\n",
      "Evaluating: 100%|█████████████████████████████████████████████████████████████████████| 30/30 [00:00<00:00, 130.96it/s]\n",
      "Training:   0%|                                                                                 | 0/50 [00:00<?, ?it/s]"
     ]
    },
    {
     "name": "stdout",
     "output_type": "stream",
     "text": [
      "40.233333333333334\n"
     ]
    },
    {
     "name": "stderr",
     "output_type": "stream",
     "text": [
      "Training: 100%|████████████████████████████████████████████████████████████████████████| 50/50 [00:03<00:00, 14.79it/s]\n",
      "Evaluating: 100%|█████████████████████████████████████████████████████████████████████| 30/30 [00:00<00:00, 103.19it/s]\n",
      "Training:   4%|██▉                                                                      | 2/50 [00:00<00:04, 11.35it/s]"
     ]
    },
    {
     "name": "stdout",
     "output_type": "stream",
     "text": [
      "54.2\n"
     ]
    },
    {
     "name": "stderr",
     "output_type": "stream",
     "text": [
      "Training: 100%|████████████████████████████████████████████████████████████████████████| 50/50 [00:03<00:00, 13.33it/s]\n",
      "Evaluating: 100%|█████████████████████████████████████████████████████████████████████| 30/30 [00:00<00:00, 300.82it/s]\n",
      "Training:   8%|█████▊                                                                   | 4/50 [00:00<00:01, 30.84it/s]"
     ]
    },
    {
     "name": "stdout",
     "output_type": "stream",
     "text": [
      "16.533333333333335\n"
     ]
    },
    {
     "name": "stderr",
     "output_type": "stream",
     "text": [
      "Training: 100%|████████████████████████████████████████████████████████████████████████| 50/50 [00:05<00:00,  8.58it/s]\n",
      "Evaluating: 100%|██████████████████████████████████████████████████████████████████████| 30/30 [00:00<00:00, 33.54it/s]\n",
      "Training:   0%|                                                                                 | 0/50 [00:00<?, ?it/s]"
     ]
    },
    {
     "name": "stdout",
     "output_type": "stream",
     "text": [
      "176.43333333333334\n"
     ]
    },
    {
     "name": "stderr",
     "output_type": "stream",
     "text": [
      "Training: 100%|████████████████████████████████████████████████████████████████████████| 50/50 [00:08<00:00,  5.75it/s]\n",
      "Evaluating: 100%|██████████████████████████████████████████████████████████████████████| 30/30 [00:00<00:00, 30.70it/s]\n",
      "Training:   2%|█▍                                                                       | 1/50 [00:00<00:05,  8.77it/s]"
     ]
    },
    {
     "name": "stdout",
     "output_type": "stream",
     "text": [
      "200.0\n"
     ]
    },
    {
     "name": "stderr",
     "output_type": "stream",
     "text": [
      "Training: 100%|████████████████████████████████████████████████████████████████████████| 50/50 [00:05<00:00,  9.13it/s]\n",
      "Evaluating: 100%|█████████████████████████████████████████████████████████████████████| 30/30 [00:00<00:00, 245.23it/s]\n",
      "Training:   0%|                                                                                 | 0/50 [00:00<?, ?it/s]"
     ]
    },
    {
     "name": "stdout",
     "output_type": "stream",
     "text": [
      "15.466666666666667\n"
     ]
    },
    {
     "name": "stderr",
     "output_type": "stream",
     "text": [
      "Training: 100%|████████████████████████████████████████████████████████████████████████| 50/50 [00:05<00:00,  9.20it/s]\n",
      "Evaluating: 100%|██████████████████████████████████████████████████████████████████████| 30/30 [00:00<00:00, 58.45it/s]\n",
      "Training:   4%|██▉                                                                      | 2/50 [00:00<00:03, 14.08it/s]"
     ]
    },
    {
     "name": "stdout",
     "output_type": "stream",
     "text": [
      "101.5\n"
     ]
    },
    {
     "name": "stderr",
     "output_type": "stream",
     "text": [
      "Training: 100%|████████████████████████████████████████████████████████████████████████| 50/50 [00:06<00:00,  8.11it/s]\n",
      "Evaluating: 100%|█████████████████████████████████████████████████████████████████████| 30/30 [00:00<00:00, 165.98it/s]\n",
      "Training:   8%|█████▊                                                                   | 4/50 [00:00<00:01, 33.14it/s]"
     ]
    },
    {
     "name": "stdout",
     "output_type": "stream",
     "text": [
      "27.6\n"
     ]
    },
    {
     "name": "stderr",
     "output_type": "stream",
     "text": [
      "Training: 100%|████████████████████████████████████████████████████████████████████████| 50/50 [00:02<00:00, 22.36it/s]\n",
      "Evaluating: 100%|█████████████████████████████████████████████████████████████████████| 30/30 [00:00<00:00, 359.31it/s]\n",
      "Training:   6%|████▍                                                                    | 3/50 [00:00<00:01, 29.77it/s]"
     ]
    },
    {
     "name": "stdout",
     "output_type": "stream",
     "text": [
      "15.266666666666667\n"
     ]
    },
    {
     "name": "stderr",
     "output_type": "stream",
     "text": [
      "Training: 100%|████████████████████████████████████████████████████████████████████████| 50/50 [00:04<00:00, 11.67it/s]\n",
      "Evaluating: 100%|█████████████████████████████████████████████████████████████████████| 30/30 [00:00<00:00, 347.63it/s]\n",
      "Training:  10%|███████▎                                                                 | 5/50 [00:00<00:01, 44.35it/s]"
     ]
    },
    {
     "name": "stdout",
     "output_type": "stream",
     "text": [
      "13.9\n"
     ]
    },
    {
     "name": "stderr",
     "output_type": "stream",
     "text": [
      "Training: 100%|████████████████████████████████████████████████████████████████████████| 50/50 [00:09<00:00,  5.55it/s]\n",
      "Evaluating: 100%|██████████████████████████████████████████████████████████████████████| 30/30 [00:01<00:00, 29.67it/s]\n",
      "Training:   0%|                                                                                 | 0/50 [00:00<?, ?it/s]"
     ]
    },
    {
     "name": "stdout",
     "output_type": "stream",
     "text": [
      "200.0\n"
     ]
    },
    {
     "name": "stderr",
     "output_type": "stream",
     "text": [
      "Training: 100%|████████████████████████████████████████████████████████████████████████| 50/50 [00:07<00:00,  6.28it/s]\n",
      "Evaluating: 100%|██████████████████████████████████████████████████████████████████████| 30/30 [00:00<00:00, 79.74it/s]\n",
      "Training:   0%|                                                                                 | 0/50 [00:00<?, ?it/s]"
     ]
    },
    {
     "name": "stdout",
     "output_type": "stream",
     "text": [
      "68.03333333333333\n"
     ]
    },
    {
     "name": "stderr",
     "output_type": "stream",
     "text": [
      "Training: 100%|████████████████████████████████████████████████████████████████████████| 50/50 [00:08<00:00,  6.18it/s]\n",
      "Evaluating: 100%|█████████████████████████████████████████████████████████████████████| 30/30 [00:00<00:00, 307.03it/s]\n",
      "Training:   8%|█████▊                                                                   | 4/50 [00:00<00:02, 22.96it/s]"
     ]
    },
    {
     "name": "stdout",
     "output_type": "stream",
     "text": [
      "14.333333333333334\n"
     ]
    },
    {
     "name": "stderr",
     "output_type": "stream",
     "text": [
      "Training: 100%|████████████████████████████████████████████████████████████████████████| 50/50 [00:02<00:00, 17.67it/s]\n",
      "Evaluating: 100%|█████████████████████████████████████████████████████████████████████| 30/30 [00:00<00:00, 178.83it/s]\n",
      "Training:   6%|████▍                                                                    | 3/50 [00:00<00:01, 28.10it/s]"
     ]
    },
    {
     "name": "stdout",
     "output_type": "stream",
     "text": [
      "27.566666666666666\n"
     ]
    },
    {
     "name": "stderr",
     "output_type": "stream",
     "text": [
      "Training: 100%|████████████████████████████████████████████████████████████████████████| 50/50 [00:06<00:00,  7.69it/s]\n",
      "Evaluating: 100%|██████████████████████████████████████████████████████████████████████| 30/30 [00:00<00:00, 31.18it/s]\n",
      "Training:   0%|                                                                                 | 0/50 [00:00<?, ?it/s]"
     ]
    },
    {
     "name": "stdout",
     "output_type": "stream",
     "text": [
      "200.0\n"
     ]
    },
    {
     "name": "stderr",
     "output_type": "stream",
     "text": [
      "Training: 100%|████████████████████████████████████████████████████████████████████████| 50/50 [00:06<00:00,  8.10it/s]\n",
      "Evaluating: 100%|█████████████████████████████████████████████████████████████████████| 30/30 [00:00<00:00, 105.92it/s]\n",
      "Training:   2%|█▍                                                                       | 1/50 [00:00<00:05,  8.79it/s]"
     ]
    },
    {
     "name": "stdout",
     "output_type": "stream",
     "text": [
      "50.1\n"
     ]
    },
    {
     "name": "stderr",
     "output_type": "stream",
     "text": [
      "Training: 100%|████████████████████████████████████████████████████████████████████████| 50/50 [00:05<00:00,  8.62it/s]\n",
      "Evaluating: 100%|██████████████████████████████████████████████████████████████████████| 30/30 [00:00<00:00, 30.60it/s]\n",
      "Training:   0%|                                                                                 | 0/50 [00:00<?, ?it/s]"
     ]
    },
    {
     "name": "stdout",
     "output_type": "stream",
     "text": [
      "200.0\n"
     ]
    },
    {
     "name": "stderr",
     "output_type": "stream",
     "text": [
      "Training: 100%|████████████████████████████████████████████████████████████████████████| 50/50 [00:06<00:00,  8.24it/s]\n",
      "Evaluating: 100%|█████████████████████████████████████████████████████████████████████| 30/30 [00:00<00:00, 220.01it/s]\n",
      "Training:   8%|█████▊                                                                   | 4/50 [00:00<00:01, 31.66it/s]"
     ]
    },
    {
     "name": "stdout",
     "output_type": "stream",
     "text": [
      "20.6\n"
     ]
    },
    {
     "name": "stderr",
     "output_type": "stream",
     "text": [
      "Training: 100%|████████████████████████████████████████████████████████████████████████| 50/50 [00:08<00:00,  5.62it/s]\n",
      "Evaluating: 100%|██████████████████████████████████████████████████████████████████████| 30/30 [00:00<00:00, 31.16it/s]\n",
      "Training:   6%|████▍                                                                    | 3/50 [00:00<00:02, 21.90it/s]"
     ]
    },
    {
     "name": "stdout",
     "output_type": "stream",
     "text": [
      "194.03333333333333\n"
     ]
    },
    {
     "name": "stderr",
     "output_type": "stream",
     "text": [
      "Training: 100%|████████████████████████████████████████████████████████████████████████| 50/50 [00:04<00:00, 11.44it/s]\n",
      "Evaluating: 100%|█████████████████████████████████████████████████████████████████████| 30/30 [00:00<00:00, 355.79it/s]\n",
      "Training:   8%|█████▊                                                                   | 4/50 [00:00<00:01, 39.95it/s]"
     ]
    },
    {
     "name": "stdout",
     "output_type": "stream",
     "text": [
      "14.133333333333333\n"
     ]
    },
    {
     "name": "stderr",
     "output_type": "stream",
     "text": [
      "Training: 100%|████████████████████████████████████████████████████████████████████████| 50/50 [00:08<00:00,  5.82it/s]\n",
      "Evaluating: 100%|██████████████████████████████████████████████████████████████████████| 30/30 [00:00<00:00, 51.38it/s]\n",
      "Training:   2%|█▍                                                                       | 1/50 [00:00<00:07,  6.15it/s]"
     ]
    },
    {
     "name": "stdout",
     "output_type": "stream",
     "text": [
      "120.36666666666666\n"
     ]
    },
    {
     "name": "stderr",
     "output_type": "stream",
     "text": [
      "Training: 100%|████████████████████████████████████████████████████████████████████████| 50/50 [00:04<00:00, 10.31it/s]\n",
      "Evaluating: 100%|██████████████████████████████████████████████████████████████████████| 30/30 [00:00<00:00, 30.41it/s]\n",
      "Training:   0%|                                                                                 | 0/50 [00:00<?, ?it/s]"
     ]
    },
    {
     "name": "stdout",
     "output_type": "stream",
     "text": [
      "200.0\n"
     ]
    },
    {
     "name": "stderr",
     "output_type": "stream",
     "text": [
      "Training: 100%|████████████████████████████████████████████████████████████████████████| 50/50 [00:11<00:00,  4.47it/s]\n",
      "Evaluating: 100%|██████████████████████████████████████████████████████████████████████| 30/30 [00:00<00:00, 31.38it/s]\n",
      "Training:   0%|                                                                                 | 0/50 [00:00<?, ?it/s]"
     ]
    },
    {
     "name": "stdout",
     "output_type": "stream",
     "text": [
      "200.0\n"
     ]
    },
    {
     "name": "stderr",
     "output_type": "stream",
     "text": [
      "Training: 100%|████████████████████████████████████████████████████████████████████████| 50/50 [00:10<00:00,  4.71it/s]\n",
      "Evaluating: 100%|██████████████████████████████████████████████████████████████████████| 30/30 [00:00<00:00, 66.54it/s]\n",
      "Training:   2%|█▍                                                                       | 1/50 [00:00<00:08,  5.98it/s]"
     ]
    },
    {
     "name": "stdout",
     "output_type": "stream",
     "text": [
      "91.56666666666666\n"
     ]
    },
    {
     "name": "stderr",
     "output_type": "stream",
     "text": [
      "Training: 100%|████████████████████████████████████████████████████████████████████████| 50/50 [00:10<00:00,  4.76it/s]\n",
      "Evaluating: 100%|█████████████████████████████████████████████████████████████████████| 30/30 [00:00<00:00, 186.60it/s]\n",
      "Training:   2%|█▍                                                                       | 1/50 [00:00<00:05,  8.31it/s]"
     ]
    },
    {
     "name": "stdout",
     "output_type": "stream",
     "text": [
      "28.333333333333332\n"
     ]
    },
    {
     "name": "stderr",
     "output_type": "stream",
     "text": [
      "Training: 100%|████████████████████████████████████████████████████████████████████████| 50/50 [00:10<00:00,  4.87it/s]\n",
      "Evaluating: 100%|██████████████████████████████████████████████████████████████████████| 30/30 [00:00<00:00, 64.31it/s]\n",
      "Training:   0%|                                                                                 | 0/50 [00:00<?, ?it/s]"
     ]
    },
    {
     "name": "stdout",
     "output_type": "stream",
     "text": [
      "90.2\n"
     ]
    },
    {
     "name": "stderr",
     "output_type": "stream",
     "text": [
      "Training: 100%|████████████████████████████████████████████████████████████████████████| 50/50 [00:04<00:00, 12.05it/s]\n",
      "Evaluating: 100%|█████████████████████████████████████████████████████████████████████| 30/30 [00:00<00:00, 187.56it/s]\n",
      "Training:  10%|███████▎                                                                 | 5/50 [00:00<00:01, 31.93it/s]"
     ]
    },
    {
     "name": "stdout",
     "output_type": "stream",
     "text": [
      "23.5\n"
     ]
    },
    {
     "name": "stderr",
     "output_type": "stream",
     "text": [
      "Training: 100%|████████████████████████████████████████████████████████████████████████| 50/50 [00:05<00:00,  9.42it/s]\n",
      "Evaluating: 100%|██████████████████████████████████████████████████████████████████████| 30/30 [00:00<00:00, 30.07it/s]\n",
      "Training:   6%|████▍                                                                    | 3/50 [00:00<00:01, 28.91it/s]"
     ]
    },
    {
     "name": "stdout",
     "output_type": "stream",
     "text": [
      "200.0\n"
     ]
    },
    {
     "name": "stderr",
     "output_type": "stream",
     "text": [
      "Training: 100%|████████████████████████████████████████████████████████████████████████| 50/50 [00:09<00:00,  5.38it/s]\n",
      "Evaluating: 100%|██████████████████████████████████████████████████████████████████████| 30/30 [00:00<00:00, 50.37it/s]\n",
      "Training:   0%|                                                                                 | 0/50 [00:00<?, ?it/s]"
     ]
    },
    {
     "name": "stdout",
     "output_type": "stream",
     "text": [
      "116.66666666666667\n"
     ]
    },
    {
     "name": "stderr",
     "output_type": "stream",
     "text": [
      "Training: 100%|████████████████████████████████████████████████████████████████████████| 50/50 [00:09<00:00,  5.11it/s]\n",
      "Evaluating: 100%|█████████████████████████████████████████████████████████████████████| 30/30 [00:00<00:00, 252.29it/s]\n",
      "Training:   0%|                                                                                 | 0/50 [00:00<?, ?it/s]"
     ]
    },
    {
     "name": "stdout",
     "output_type": "stream",
     "text": [
      "18.833333333333332\n"
     ]
    },
    {
     "name": "stderr",
     "output_type": "stream",
     "text": [
      "Training: 100%|████████████████████████████████████████████████████████████████████████| 50/50 [00:11<00:00,  4.43it/s]\n",
      "Evaluating: 100%|█████████████████████████████████████████████████████████████████████| 30/30 [00:00<00:00, 111.53it/s]\n",
      "Training:   2%|█▍                                                                       | 1/50 [00:00<00:07,  6.23it/s]"
     ]
    },
    {
     "name": "stdout",
     "output_type": "stream",
     "text": [
      "48.0\n"
     ]
    },
    {
     "name": "stderr",
     "output_type": "stream",
     "text": [
      "Training: 100%|████████████████████████████████████████████████████████████████████████| 50/50 [00:05<00:00,  8.34it/s]\n",
      "Evaluating: 100%|██████████████████████████████████████████████████████████████████████| 30/30 [00:01<00:00, 29.93it/s]\n",
      "Training:   0%|                                                                                 | 0/50 [00:00<?, ?it/s]"
     ]
    },
    {
     "name": "stdout",
     "output_type": "stream",
     "text": [
      "200.0\n"
     ]
    },
    {
     "name": "stderr",
     "output_type": "stream",
     "text": [
      "Training: 100%|████████████████████████████████████████████████████████████████████████| 50/50 [00:12<00:00,  4.14it/s]\n",
      "Evaluating: 100%|██████████████████████████████████████████████████████████████████████| 30/30 [00:00<00:00, 30.67it/s]\n",
      "Training:   6%|████▍                                                                    | 3/50 [00:00<00:02, 18.68it/s]"
     ]
    },
    {
     "name": "stdout",
     "output_type": "stream",
     "text": [
      "200.0\n"
     ]
    },
    {
     "name": "stderr",
     "output_type": "stream",
     "text": [
      "Training: 100%|████████████████████████████████████████████████████████████████████████| 50/50 [00:13<00:00,  3.62it/s]\n",
      "Evaluating: 100%|██████████████████████████████████████████████████████████████████████| 30/30 [00:00<00:00, 30.74it/s]\n",
      "Training:   0%|                                                                                 | 0/50 [00:00<?, ?it/s]"
     ]
    },
    {
     "name": "stdout",
     "output_type": "stream",
     "text": [
      "200.0\n"
     ]
    },
    {
     "name": "stderr",
     "output_type": "stream",
     "text": [
      "Training: 100%|████████████████████████████████████████████████████████████████████████| 50/50 [00:10<00:00,  4.77it/s]\n",
      "Evaluating: 100%|██████████████████████████████████████████████████████████████████████| 30/30 [00:00<00:00, 30.91it/s]\n",
      "Training:   2%|█▍                                                                       | 1/50 [00:00<00:05,  8.31it/s]"
     ]
    },
    {
     "name": "stdout",
     "output_type": "stream",
     "text": [
      "200.0\n"
     ]
    },
    {
     "name": "stderr",
     "output_type": "stream",
     "text": [
      "Training: 100%|████████████████████████████████████████████████████████████████████████| 50/50 [00:09<00:00,  5.01it/s]\n",
      "Evaluating: 100%|█████████████████████████████████████████████████████████████████████| 30/30 [00:00<00:00, 111.02it/s]\n",
      "Training:   0%|                                                                                 | 0/50 [00:00<?, ?it/s]"
     ]
    },
    {
     "name": "stdout",
     "output_type": "stream",
     "text": [
      "51.03333333333333\n"
     ]
    },
    {
     "name": "stderr",
     "output_type": "stream",
     "text": [
      "Training: 100%|████████████████████████████████████████████████████████████████████████| 50/50 [00:07<00:00,  6.90it/s]\n",
      "Evaluating: 100%|██████████████████████████████████████████████████████████████████████| 30/30 [00:00<00:00, 30.45it/s]\n",
      "Training:   0%|                                                                                 | 0/50 [00:00<?, ?it/s]"
     ]
    },
    {
     "name": "stdout",
     "output_type": "stream",
     "text": [
      "200.0\n"
     ]
    },
    {
     "name": "stderr",
     "output_type": "stream",
     "text": [
      "Training: 100%|████████████████████████████████████████████████████████████████████████| 50/50 [00:04<00:00, 10.09it/s]\n",
      "Evaluating: 100%|██████████████████████████████████████████████████████████████████████| 30/30 [00:00<00:00, 30.41it/s]\n",
      "Training:   0%|                                                                                 | 0/50 [00:00<?, ?it/s]"
     ]
    },
    {
     "name": "stdout",
     "output_type": "stream",
     "text": [
      "200.0\n"
     ]
    },
    {
     "name": "stderr",
     "output_type": "stream",
     "text": [
      "Training: 100%|████████████████████████████████████████████████████████████████████████| 50/50 [00:04<00:00, 12.15it/s]\n",
      "Evaluating: 100%|█████████████████████████████████████████████████████████████████████| 30/30 [00:00<00:00, 108.95it/s]\n",
      "Training:   4%|██▉                                                                      | 2/50 [00:00<00:02, 17.59it/s]"
     ]
    },
    {
     "name": "stdout",
     "output_type": "stream",
     "text": [
      "47.166666666666664\n"
     ]
    },
    {
     "name": "stderr",
     "output_type": "stream",
     "text": [
      "Training: 100%|████████████████████████████████████████████████████████████████████████| 50/50 [00:05<00:00,  8.85it/s]\n",
      "Evaluating: 100%|██████████████████████████████████████████████████████████████████████| 30/30 [00:00<00:00, 31.71it/s]\n",
      "Training:   0%|                                                                                 | 0/50 [00:00<?, ?it/s]"
     ]
    },
    {
     "name": "stdout",
     "output_type": "stream",
     "text": [
      "200.0\n"
     ]
    },
    {
     "name": "stderr",
     "output_type": "stream",
     "text": [
      "Training: 100%|████████████████████████████████████████████████████████████████████████| 50/50 [00:08<00:00,  5.79it/s]\n",
      "Evaluating: 100%|██████████████████████████████████████████████████████████████████████| 30/30 [00:00<00:00, 32.00it/s]\n",
      "Training:   0%|                                                                                 | 0/50 [00:00<?, ?it/s]"
     ]
    },
    {
     "name": "stdout",
     "output_type": "stream",
     "text": [
      "200.0\n"
     ]
    },
    {
     "name": "stderr",
     "output_type": "stream",
     "text": [
      "Training: 100%|████████████████████████████████████████████████████████████████████████| 50/50 [00:10<00:00,  4.63it/s]\n",
      "Evaluating: 100%|██████████████████████████████████████████████████████████████████████| 30/30 [00:00<00:00, 30.90it/s]\n",
      "Training:   0%|                                                                                 | 0/50 [00:00<?, ?it/s]"
     ]
    },
    {
     "name": "stdout",
     "output_type": "stream",
     "text": [
      "200.0\n"
     ]
    },
    {
     "name": "stderr",
     "output_type": "stream",
     "text": [
      "Training: 100%|████████████████████████████████████████████████████████████████████████| 50/50 [00:12<00:00,  4.07it/s]\n",
      "Evaluating: 100%|██████████████████████████████████████████████████████████████████████| 30/30 [00:00<00:00, 30.56it/s]\n",
      "Training:   0%|                                                                                 | 0/50 [00:00<?, ?it/s]"
     ]
    },
    {
     "name": "stdout",
     "output_type": "stream",
     "text": [
      "200.0\n"
     ]
    },
    {
     "name": "stderr",
     "output_type": "stream",
     "text": [
      "Training: 100%|████████████████████████████████████████████████████████████████████████| 50/50 [00:10<00:00,  4.92it/s]\n",
      "Evaluating: 100%|█████████████████████████████████████████████████████████████████████| 30/30 [00:00<00:00, 217.11it/s]\n",
      "Training:   6%|████▍                                                                    | 3/50 [00:00<00:02, 21.13it/s]"
     ]
    },
    {
     "name": "stdout",
     "output_type": "stream",
     "text": [
      "23.733333333333334\n"
     ]
    },
    {
     "name": "stderr",
     "output_type": "stream",
     "text": [
      "Training: 100%|████████████████████████████████████████████████████████████████████████| 50/50 [00:04<00:00, 12.11it/s]\n",
      "Evaluating: 100%|█████████████████████████████████████████████████████████████████████| 30/30 [00:00<00:00, 444.39it/s]\n",
      "Training:   8%|█████▊                                                                   | 4/50 [00:00<00:01, 39.70it/s]"
     ]
    },
    {
     "name": "stdout",
     "output_type": "stream",
     "text": [
      "13.233333333333333\n"
     ]
    },
    {
     "name": "stderr",
     "output_type": "stream",
     "text": [
      "Training: 100%|████████████████████████████████████████████████████████████████████████| 50/50 [00:02<00:00, 19.73it/s]\n",
      "Evaluating: 100%|█████████████████████████████████████████████████████████████████████| 30/30 [00:00<00:00, 198.86it/s]\n",
      "Training:   0%|                                                                                 | 0/50 [00:00<?, ?it/s]"
     ]
    },
    {
     "name": "stdout",
     "output_type": "stream",
     "text": [
      "19.5\n"
     ]
    },
    {
     "name": "stderr",
     "output_type": "stream",
     "text": [
      "Training: 100%|████████████████████████████████████████████████████████████████████████| 50/50 [00:03<00:00, 14.63it/s]\n",
      "Evaluating: 100%|██████████████████████████████████████████████████████████████████████| 30/30 [00:00<00:00, 30.91it/s]\n",
      "Training:   0%|                                                                                 | 0/50 [00:00<?, ?it/s]"
     ]
    },
    {
     "name": "stdout",
     "output_type": "stream",
     "text": [
      "200.0\n"
     ]
    },
    {
     "name": "stderr",
     "output_type": "stream",
     "text": [
      "Training: 100%|████████████████████████████████████████████████████████████████████████| 50/50 [00:08<00:00,  5.84it/s]\n",
      "Evaluating: 100%|█████████████████████████████████████████████████████████████████████| 30/30 [00:00<00:00, 150.87it/s]\n",
      "Training:   0%|                                                                                 | 0/50 [00:00<?, ?it/s]"
     ]
    },
    {
     "name": "stdout",
     "output_type": "stream",
     "text": [
      "31.7\n"
     ]
    },
    {
     "name": "stderr",
     "output_type": "stream",
     "text": [
      "Training: 100%|████████████████████████████████████████████████████████████████████████| 50/50 [00:05<00:00,  9.63it/s]\n",
      "Evaluating: 100%|█████████████████████████████████████████████████████████████████████| 30/30 [00:00<00:00, 413.73it/s]\n",
      "Training:   0%|                                                                                 | 0/50 [00:00<?, ?it/s]"
     ]
    },
    {
     "name": "stdout",
     "output_type": "stream",
     "text": [
      "15.9\n"
     ]
    },
    {
     "name": "stderr",
     "output_type": "stream",
     "text": [
      "Training: 100%|████████████████████████████████████████████████████████████████████████| 50/50 [00:05<00:00,  8.74it/s]\n",
      "Evaluating: 100%|██████████████████████████████████████████████████████████████████████| 30/30 [00:00<00:00, 30.51it/s]\n",
      "Training:   0%|                                                                                 | 0/50 [00:00<?, ?it/s]"
     ]
    },
    {
     "name": "stdout",
     "output_type": "stream",
     "text": [
      "200.0\n"
     ]
    },
    {
     "name": "stderr",
     "output_type": "stream",
     "text": [
      "Training: 100%|████████████████████████████████████████████████████████████████████████| 50/50 [00:13<00:00,  3.78it/s]\n",
      "Evaluating: 100%|█████████████████████████████████████████████████████████████████████| 30/30 [00:00<00:00, 189.37it/s]\n",
      "Training:   0%|                                                                                 | 0/50 [00:00<?, ?it/s]"
     ]
    },
    {
     "name": "stdout",
     "output_type": "stream",
     "text": [
      "26.433333333333334\n"
     ]
    },
    {
     "name": "stderr",
     "output_type": "stream",
     "text": [
      "Training: 100%|████████████████████████████████████████████████████████████████████████| 50/50 [00:09<00:00,  5.20it/s]\n",
      "Evaluating: 100%|██████████████████████████████████████████████████████████████████████| 30/30 [00:00<00:00, 30.98it/s]\n",
      "Training:   8%|█████▊                                                                   | 4/50 [00:00<00:01, 24.75it/s]"
     ]
    },
    {
     "name": "stdout",
     "output_type": "stream",
     "text": [
      "200.0\n"
     ]
    },
    {
     "name": "stderr",
     "output_type": "stream",
     "text": [
      "Training: 100%|████████████████████████████████████████████████████████████████████████| 50/50 [00:05<00:00,  8.88it/s]\n",
      "Evaluating: 100%|██████████████████████████████████████████████████████████████████████| 30/30 [00:00<00:00, 40.59it/s]\n",
      "Training:   6%|████▍                                                                    | 3/50 [00:00<00:01, 29.67it/s]"
     ]
    },
    {
     "name": "stdout",
     "output_type": "stream",
     "text": [
      "138.86666666666667\n"
     ]
    },
    {
     "name": "stderr",
     "output_type": "stream",
     "text": [
      "Training: 100%|████████████████████████████████████████████████████████████████████████| 50/50 [00:10<00:00,  4.74it/s]\n",
      "Evaluating: 100%|██████████████████████████████████████████████████████████████████████| 30/30 [00:00<00:00, 30.78it/s]\n",
      "Training:   0%|                                                                                 | 0/50 [00:00<?, ?it/s]"
     ]
    },
    {
     "name": "stdout",
     "output_type": "stream",
     "text": [
      "200.0\n"
     ]
    },
    {
     "name": "stderr",
     "output_type": "stream",
     "text": [
      "Training: 100%|████████████████████████████████████████████████████████████████████████| 50/50 [00:08<00:00,  5.76it/s]\n",
      "Evaluating: 100%|██████████████████████████████████████████████████████████████████████| 30/30 [00:00<00:00, 31.00it/s]\n",
      "Training:   0%|                                                                                 | 0/50 [00:00<?, ?it/s]"
     ]
    },
    {
     "name": "stdout",
     "output_type": "stream",
     "text": [
      "200.0\n"
     ]
    },
    {
     "name": "stderr",
     "output_type": "stream",
     "text": [
      "Training: 100%|████████████████████████████████████████████████████████████████████████| 50/50 [00:07<00:00,  6.27it/s]\n",
      "Evaluating: 100%|██████████████████████████████████████████████████████████████████████| 30/30 [00:00<00:00, 31.71it/s]\n",
      "Training:   0%|                                                                                 | 0/50 [00:00<?, ?it/s]"
     ]
    },
    {
     "name": "stdout",
     "output_type": "stream",
     "text": [
      "188.1\n"
     ]
    },
    {
     "name": "stderr",
     "output_type": "stream",
     "text": [
      "Training: 100%|████████████████████████████████████████████████████████████████████████| 50/50 [00:07<00:00,  6.80it/s]\n",
      "Evaluating: 100%|██████████████████████████████████████████████████████████████████████| 30/30 [00:00<00:00, 30.85it/s]\n",
      "Training:   0%|                                                                                 | 0/50 [00:00<?, ?it/s]"
     ]
    },
    {
     "name": "stdout",
     "output_type": "stream",
     "text": [
      "200.0\n"
     ]
    },
    {
     "name": "stderr",
     "output_type": "stream",
     "text": [
      "Training: 100%|████████████████████████████████████████████████████████████████████████| 50/50 [00:05<00:00,  8.80it/s]\n",
      "Evaluating: 100%|██████████████████████████████████████████████████████████████████████| 30/30 [00:00<00:00, 31.10it/s]\n",
      "Training:   2%|█▍                                                                       | 1/50 [00:00<00:06,  7.98it/s]"
     ]
    },
    {
     "name": "stdout",
     "output_type": "stream",
     "text": [
      "200.0\n"
     ]
    },
    {
     "name": "stderr",
     "output_type": "stream",
     "text": [
      "Training: 100%|████████████████████████████████████████████████████████████████████████| 50/50 [00:07<00:00,  6.88it/s]\n",
      "Evaluating: 100%|██████████████████████████████████████████████████████████████████████| 30/30 [00:00<00:00, 30.26it/s]\n",
      "Training:   0%|                                                                                 | 0/50 [00:00<?, ?it/s]"
     ]
    },
    {
     "name": "stdout",
     "output_type": "stream",
     "text": [
      "200.0\n"
     ]
    },
    {
     "name": "stderr",
     "output_type": "stream",
     "text": [
      "Training: 100%|████████████████████████████████████████████████████████████████████████| 50/50 [00:16<00:00,  3.11it/s]\n",
      "Evaluating: 100%|██████████████████████████████████████████████████████████████████████| 30/30 [00:00<00:00, 83.60it/s]\n",
      "Training:   4%|██▉                                                                      | 2/50 [00:00<00:04, 11.41it/s]"
     ]
    },
    {
     "name": "stdout",
     "output_type": "stream",
     "text": [
      "63.9\n"
     ]
    },
    {
     "name": "stderr",
     "output_type": "stream",
     "text": [
      "Training: 100%|████████████████████████████████████████████████████████████████████████| 50/50 [00:09<00:00,  5.07it/s]\n",
      "Evaluating: 100%|██████████████████████████████████████████████████████████████████████| 30/30 [00:00<00:00, 96.63it/s]\n",
      "Training:   4%|██▉                                                                      | 2/50 [00:00<00:02, 16.61it/s]"
     ]
    },
    {
     "name": "stdout",
     "output_type": "stream",
     "text": [
      "55.666666666666664\n"
     ]
    },
    {
     "name": "stderr",
     "output_type": "stream",
     "text": [
      "Training: 100%|████████████████████████████████████████████████████████████████████████| 50/50 [00:08<00:00,  5.60it/s]\n",
      "Evaluating: 100%|█████████████████████████████████████████████████████████████████████| 30/30 [00:00<00:00, 360.82it/s]\n",
      "Training:  10%|███████▎                                                                 | 5/50 [00:00<00:00, 48.50it/s]"
     ]
    },
    {
     "name": "stdout",
     "output_type": "stream",
     "text": [
      "11.3\n"
     ]
    },
    {
     "name": "stderr",
     "output_type": "stream",
     "text": [
      "Training: 100%|████████████████████████████████████████████████████████████████████████| 50/50 [00:05<00:00,  8.43it/s]\n",
      "Evaluating: 100%|██████████████████████████████████████████████████████████████████████| 30/30 [00:00<00:00, 35.65it/s]\n",
      "Training:   0%|                                                                                 | 0/50 [00:00<?, ?it/s]"
     ]
    },
    {
     "name": "stdout",
     "output_type": "stream",
     "text": [
      "164.73333333333332\n"
     ]
    },
    {
     "name": "stderr",
     "output_type": "stream",
     "text": [
      "Training: 100%|████████████████████████████████████████████████████████████████████████| 50/50 [00:08<00:00,  6.15it/s]\n",
      "Evaluating: 100%|██████████████████████████████████████████████████████████████████████| 30/30 [00:00<00:00, 33.30it/s]\n",
      "Training:   6%|████▍                                                                    | 3/50 [00:00<00:01, 29.18it/s]"
     ]
    },
    {
     "name": "stdout",
     "output_type": "stream",
     "text": [
      "187.86666666666667\n"
     ]
    },
    {
     "name": "stderr",
     "output_type": "stream",
     "text": [
      "Training: 100%|████████████████████████████████████████████████████████████████████████| 50/50 [00:03<00:00, 13.15it/s]\n",
      "Evaluating: 100%|█████████████████████████████████████████████████████████████████████| 30/30 [00:00<00:00, 108.77it/s]\n",
      "Training:   0%|                                                                                 | 0/50 [00:00<?, ?it/s]"
     ]
    },
    {
     "name": "stdout",
     "output_type": "stream",
     "text": [
      "50.9\n"
     ]
    },
    {
     "name": "stderr",
     "output_type": "stream",
     "text": [
      "Training: 100%|████████████████████████████████████████████████████████████████████████| 50/50 [00:05<00:00,  8.64it/s]\n",
      "Evaluating: 100%|██████████████████████████████████████████████████████████████████████| 30/30 [00:00<00:00, 51.12it/s]\n",
      "Training:   0%|                                                                                 | 0/50 [00:00<?, ?it/s]"
     ]
    },
    {
     "name": "stdout",
     "output_type": "stream",
     "text": [
      "105.26666666666667\n"
     ]
    },
    {
     "name": "stderr",
     "output_type": "stream",
     "text": [
      "Training: 100%|████████████████████████████████████████████████████████████████████████| 50/50 [00:05<00:00,  8.90it/s]\n",
      "Evaluating: 100%|█████████████████████████████████████████████████████████████████████| 30/30 [00:00<00:00, 100.34it/s]\n",
      "Training:   4%|██▉                                                                      | 2/50 [00:00<00:02, 16.89it/s]"
     ]
    },
    {
     "name": "stdout",
     "output_type": "stream",
     "text": [
      "49.63333333333333\n"
     ]
    },
    {
     "name": "stderr",
     "output_type": "stream",
     "text": [
      "Training: 100%|████████████████████████████████████████████████████████████████████████| 50/50 [00:07<00:00,  6.88it/s]\n",
      "Evaluating: 100%|██████████████████████████████████████████████████████████████████████| 30/30 [00:00<00:00, 73.84it/s]\n",
      "Training:   0%|                                                                                 | 0/50 [00:00<?, ?it/s]"
     ]
    },
    {
     "name": "stdout",
     "output_type": "stream",
     "text": [
      "79.4\n"
     ]
    },
    {
     "name": "stderr",
     "output_type": "stream",
     "text": [
      "Training: 100%|████████████████████████████████████████████████████████████████████████| 50/50 [00:06<00:00,  8.04it/s]\n",
      "Evaluating: 100%|█████████████████████████████████████████████████████████████████████| 30/30 [00:00<00:00, 110.15it/s]\n",
      "Training:   4%|██▉                                                                      | 2/50 [00:00<00:04, 11.82it/s]"
     ]
    },
    {
     "name": "stdout",
     "output_type": "stream",
     "text": [
      "52.166666666666664\n"
     ]
    },
    {
     "name": "stderr",
     "output_type": "stream",
     "text": [
      "Training: 100%|████████████████████████████████████████████████████████████████████████| 50/50 [00:02<00:00, 16.91it/s]\n",
      "Evaluating: 100%|█████████████████████████████████████████████████████████████████████| 30/30 [00:00<00:00, 356.69it/s]\n",
      "Training:   8%|█████▊                                                                   | 4/50 [00:00<00:01, 35.49it/s]"
     ]
    },
    {
     "name": "stdout",
     "output_type": "stream",
     "text": [
      "14.833333333333334\n"
     ]
    },
    {
     "name": "stderr",
     "output_type": "stream",
     "text": [
      "Training: 100%|████████████████████████████████████████████████████████████████████████| 50/50 [00:03<00:00, 15.24it/s]\n",
      "Evaluating: 100%|██████████████████████████████████████████████████████████████████████| 30/30 [00:00<00:00, 64.07it/s]\n",
      "Training:   6%|████▍                                                                    | 3/50 [00:00<00:01, 24.32it/s]"
     ]
    },
    {
     "name": "stdout",
     "output_type": "stream",
     "text": [
      "96.96666666666667\n"
     ]
    },
    {
     "name": "stderr",
     "output_type": "stream",
     "text": [
      "Training: 100%|████████████████████████████████████████████████████████████████████████| 50/50 [00:06<00:00,  7.49it/s]\n",
      "Evaluating: 100%|█████████████████████████████████████████████████████████████████████| 30/30 [00:00<00:00, 101.75it/s]\n",
      "Training:   0%|                                                                                 | 0/50 [00:00<?, ?it/s]"
     ]
    },
    {
     "name": "stdout",
     "output_type": "stream",
     "text": [
      "49.5\n"
     ]
    },
    {
     "name": "stderr",
     "output_type": "stream",
     "text": [
      "Training: 100%|████████████████████████████████████████████████████████████████████████| 50/50 [00:06<00:00,  7.60it/s]\n",
      "Evaluating: 100%|██████████████████████████████████████████████████████████████████████| 30/30 [00:00<00:00, 30.72it/s]\n",
      "Training:   0%|                                                                                 | 0/50 [00:00<?, ?it/s]"
     ]
    },
    {
     "name": "stdout",
     "output_type": "stream",
     "text": [
      "200.0\n"
     ]
    },
    {
     "name": "stderr",
     "output_type": "stream",
     "text": [
      "Training: 100%|████████████████████████████████████████████████████████████████████████| 50/50 [00:13<00:00,  3.76it/s]\n",
      "Evaluating: 100%|██████████████████████████████████████████████████████████████████████| 30/30 [00:00<00:00, 30.45it/s]\n",
      "Training:   0%|                                                                                 | 0/50 [00:00<?, ?it/s]"
     ]
    },
    {
     "name": "stdout",
     "output_type": "stream",
     "text": [
      "200.0\n"
     ]
    },
    {
     "name": "stderr",
     "output_type": "stream",
     "text": [
      "Training: 100%|████████████████████████████████████████████████████████████████████████| 50/50 [00:05<00:00,  9.17it/s]\n",
      "Evaluating: 100%|██████████████████████████████████████████████████████████████████████| 30/30 [00:00<00:00, 30.64it/s]\n",
      "Training:   0%|                                                                                 | 0/50 [00:00<?, ?it/s]"
     ]
    },
    {
     "name": "stdout",
     "output_type": "stream",
     "text": [
      "197.8\n"
     ]
    },
    {
     "name": "stderr",
     "output_type": "stream",
     "text": [
      "Training: 100%|████████████████████████████████████████████████████████████████████████| 50/50 [00:04<00:00, 10.00it/s]\n",
      "Evaluating: 100%|█████████████████████████████████████████████████████████████████████| 30/30 [00:00<00:00, 353.45it/s]\n",
      "Training:   8%|█████▊                                                                   | 4/50 [00:00<00:01, 30.93it/s]"
     ]
    },
    {
     "name": "stdout",
     "output_type": "stream",
     "text": [
      "16.166666666666668\n"
     ]
    },
    {
     "name": "stderr",
     "output_type": "stream",
     "text": [
      "Training: 100%|████████████████████████████████████████████████████████████████████████| 50/50 [00:01<00:00, 25.60it/s]\n",
      "Evaluating: 100%|█████████████████████████████████████████████████████████████████████| 30/30 [00:00<00:00, 387.07it/s]\n",
      "Training:   8%|█████▊                                                                   | 4/50 [00:00<00:01, 34.56it/s]"
     ]
    },
    {
     "name": "stdout",
     "output_type": "stream",
     "text": [
      "16.0\n"
     ]
    },
    {
     "name": "stderr",
     "output_type": "stream",
     "text": [
      "Training: 100%|████████████████████████████████████████████████████████████████████████| 50/50 [00:06<00:00,  7.92it/s]\n",
      "Evaluating: 100%|██████████████████████████████████████████████████████████████████████| 30/30 [00:00<00:00, 30.82it/s]\n",
      "Training:   0%|                                                                                 | 0/50 [00:00<?, ?it/s]"
     ]
    },
    {
     "name": "stdout",
     "output_type": "stream",
     "text": [
      "200.0\n"
     ]
    },
    {
     "name": "stderr",
     "output_type": "stream",
     "text": [
      "Training: 100%|████████████████████████████████████████████████████████████████████████| 50/50 [00:08<00:00,  6.15it/s]\n",
      "Evaluating: 100%|██████████████████████████████████████████████████████████████████████| 30/30 [00:00<00:00, 30.54it/s]\n",
      "Training:   0%|                                                                                 | 0/50 [00:00<?, ?it/s]"
     ]
    },
    {
     "name": "stdout",
     "output_type": "stream",
     "text": [
      "200.0\n"
     ]
    },
    {
     "name": "stderr",
     "output_type": "stream",
     "text": [
      "Training: 100%|████████████████████████████████████████████████████████████████████████| 50/50 [00:13<00:00,  3.59it/s]\n",
      "Evaluating: 100%|██████████████████████████████████████████████████████████████████████| 30/30 [00:00<00:00, 45.49it/s]\n",
      "Training:   0%|                                                                                 | 0/50 [00:00<?, ?it/s]"
     ]
    },
    {
     "name": "stdout",
     "output_type": "stream",
     "text": [
      "129.36666666666667\n"
     ]
    },
    {
     "name": "stderr",
     "output_type": "stream",
     "text": [
      "Training: 100%|████████████████████████████████████████████████████████████████████████| 50/50 [00:05<00:00,  9.90it/s]\n",
      "Evaluating: 100%|█████████████████████████████████████████████████████████████████████| 30/30 [00:00<00:00, 271.97it/s]\n",
      "Training:   6%|████▍                                                                    | 3/50 [00:00<00:01, 23.55it/s]"
     ]
    },
    {
     "name": "stdout",
     "output_type": "stream",
     "text": [
      "19.666666666666668\n"
     ]
    },
    {
     "name": "stderr",
     "output_type": "stream",
     "text": [
      "Training: 100%|████████████████████████████████████████████████████████████████████████| 50/50 [00:01<00:00, 29.76it/s]\n",
      "Evaluating: 100%|█████████████████████████████████████████████████████████████████████| 30/30 [00:00<00:00, 243.97it/s]\n",
      "Training:   6%|████▍                                                                    | 3/50 [00:00<00:01, 29.97it/s]"
     ]
    },
    {
     "name": "stdout",
     "output_type": "stream",
     "text": [
      "19.7\n"
     ]
    },
    {
     "name": "stderr",
     "output_type": "stream",
     "text": [
      "Training: 100%|████████████████████████████████████████████████████████████████████████| 50/50 [00:01<00:00, 25.66it/s]\n",
      "Evaluating: 100%|█████████████████████████████████████████████████████████████████████| 30/30 [00:00<00:00, 415.71it/s]\n",
      "Training:   0%|                                                                                 | 0/50 [00:00<?, ?it/s]"
     ]
    },
    {
     "name": "stdout",
     "output_type": "stream",
     "text": [
      "14.2\n"
     ]
    },
    {
     "name": "stderr",
     "output_type": "stream",
     "text": [
      "Training: 100%|████████████████████████████████████████████████████████████████████████| 50/50 [00:05<00:00,  9.38it/s]\n",
      "Evaluating: 100%|██████████████████████████████████████████████████████████████████████| 30/30 [00:00<00:00, 38.39it/s]\n",
      "Training:   0%|                                                                                 | 0/50 [00:00<?, ?it/s]"
     ]
    },
    {
     "name": "stdout",
     "output_type": "stream",
     "text": [
      "156.86666666666667\n"
     ]
    },
    {
     "name": "stderr",
     "output_type": "stream",
     "text": [
      "Training: 100%|████████████████████████████████████████████████████████████████████████| 50/50 [00:09<00:00,  5.13it/s]\n",
      "Evaluating: 100%|██████████████████████████████████████████████████████████████████████| 30/30 [00:01<00:00, 28.53it/s]\n",
      "Training:   0%|                                                                                 | 0/50 [00:00<?, ?it/s]"
     ]
    },
    {
     "name": "stdout",
     "output_type": "stream",
     "text": [
      "200.0\n"
     ]
    },
    {
     "name": "stderr",
     "output_type": "stream",
     "text": [
      "Training: 100%|████████████████████████████████████████████████████████████████████████| 50/50 [00:07<00:00,  6.29it/s]\n",
      "Evaluating: 100%|██████████████████████████████████████████████████████████████████████| 30/30 [00:00<00:00, 31.39it/s]\n",
      "Training:   0%|                                                                                 | 0/50 [00:00<?, ?it/s]"
     ]
    },
    {
     "name": "stdout",
     "output_type": "stream",
     "text": [
      "200.0\n"
     ]
    },
    {
     "name": "stderr",
     "output_type": "stream",
     "text": [
      "Training: 100%|████████████████████████████████████████████████████████████████████████| 50/50 [00:06<00:00,  8.30it/s]\n",
      "Evaluating: 100%|██████████████████████████████████████████████████████████████████████| 30/30 [00:00<00:00, 30.12it/s]"
     ]
    },
    {
     "name": "stdout",
     "output_type": "stream",
     "text": [
      "200.0\n",
      "Learning time:\n",
      " 1404.9715175628662\n",
      "\n",
      "Learning Performance:\n",
      "\n"
     ]
    },
    {
     "name": "stderr",
     "output_type": "stream",
     "text": [
      "\n"
     ]
    },
    {
     "data": {
      "text/plain": [
       "<Figure size 432x288 with 0 Axes>"
      ]
     },
     "metadata": {},
     "output_type": "display_data"
    },
    {
     "data": {
      "image/png": "[encoded data removed]",
      "text/plain": [
       "<Figure size 432x288 with 1 Axes>"
      ]
     },
     "metadata": {
      "needs_background": "light"
     },
     "output_type": "display_data"
    }
   ],
   "source": [
    "#DQN without a replay buffer (but including the target network).\n",
    "#The corresponding parameters are: memory_size = 1, update_steps = 1, batch_size = 1, use_target_model = True\n",
    "\n",
    "hyperparams_CartPole = {\n",
    "    'epsilon_decay_steps' : 100000, \n",
    "    'final_epsilon' : 0.1,\n",
    "    'batch_size' : 1, \n",
    "    'update_steps' : 1, \n",
    "    'memory_size' : 1, \n",
    "    'beta' : 0.99, \n",
    "    'model_replace_freq' : 2000,\n",
    "    'learning_rate' : 0.0003,\n",
    "    'use_target_model': True\n",
    "}\n",
    "\n",
    "training_episodes, test_interval = 10000, 50\n",
    "start_time = time.time()\n",
    "agent = DQN_agent(env_CartPole, hyperparams_CartPole)\n",
    "result = agent.learn_and_evaluate(training_episodes, test_interval)\n",
    "run_time = time.time() - start_time\n",
    "\n",
    "print(\"Learning time:\\n\", run_time)\n",
    "plot_result(result, test_interval, [\"without a replay with target_model\"])"
   ]
  },
  {
   "cell_type": "code",
   "execution_count": 12,
   "metadata": {},
   "outputs": [
    {
     "name": "stderr",
     "output_type": "stream",
     "text": [
      "Training: 100%|███████████████████████████████████████████████████████████████████████| 50/50 [00:00<00:00, 174.21it/s]\n",
      "Evaluating: 100%|█████████████████████████████████████████████████████████████████████| 30/30 [00:00<00:00, 537.13it/s]\n",
      "Training:  36%|█████████████████████████▌                                             | 18/50 [00:00<00:00, 178.05it/s]"
     ]
    },
    {
     "name": "stdout",
     "output_type": "stream",
     "text": [
      "9.4\n"
     ]
    },
    {
     "name": "stderr",
     "output_type": "stream",
     "text": [
      "Training: 100%|███████████████████████████████████████████████████████████████████████| 50/50 [00:00<00:00, 187.69it/s]\n",
      "Evaluating: 100%|█████████████████████████████████████████████████████████████████████| 30/30 [00:00<00:00, 589.83it/s]\n",
      "Training:  38%|██████████████████████████▉                                            | 19/50 [00:00<00:00, 180.82it/s]"
     ]
    },
    {
     "name": "stdout",
     "output_type": "stream",
     "text": [
      "9.033333333333333\n"
     ]
    },
    {
     "name": "stderr",
     "output_type": "stream",
     "text": [
      "Training: 100%|███████████████████████████████████████████████████████████████████████| 50/50 [00:00<00:00, 172.87it/s]\n",
      "Evaluating: 100%|█████████████████████████████████████████████████████████████████████| 30/30 [00:00<00:00, 419.79it/s]\n",
      "Training:  46%|████████████████████████████████▋                                      | 23/50 [00:00<00:00, 204.32it/s]"
     ]
    },
    {
     "name": "stdout",
     "output_type": "stream",
     "text": [
      "9.8\n"
     ]
    },
    {
     "name": "stderr",
     "output_type": "stream",
     "text": [
      "Training: 100%|███████████████████████████████████████████████████████████████████████| 50/50 [00:00<00:00, 185.00it/s]\n",
      "Evaluating: 100%|█████████████████████████████████████████████████████████████████████| 30/30 [00:00<00:00, 499.25it/s]\n",
      "Training:  40%|████████████████████████████▍                                          | 20/50 [00:00<00:00, 186.28it/s]"
     ]
    },
    {
     "name": "stdout",
     "output_type": "stream",
     "text": [
      "10.6\n"
     ]
    },
    {
     "name": "stderr",
     "output_type": "stream",
     "text": [
      "Training: 100%|███████████████████████████████████████████████████████████████████████| 50/50 [00:00<00:00, 200.36it/s]\n",
      "Evaluating: 100%|█████████████████████████████████████████████████████████████████████| 30/30 [00:00<00:00, 395.64it/s]\n",
      "Training:  44%|███████████████████████████████▏                                       | 22/50 [00:00<00:00, 201.77it/s]"
     ]
    },
    {
     "name": "stdout",
     "output_type": "stream",
     "text": [
      "13.533333333333333\n"
     ]
    },
    {
     "name": "stderr",
     "output_type": "stream",
     "text": [
      "Training: 100%|███████████████████████████████████████████████████████████████████████| 50/50 [00:00<00:00, 182.56it/s]\n",
      "Evaluating: 100%|██████████████████████████████████████████████████████████████████████| 30/30 [00:00<00:00, 31.61it/s]\n",
      "Training:  42%|█████████████████████████████▊                                         | 21/50 [00:00<00:00, 183.67it/s]"
     ]
    },
    {
     "name": "stdout",
     "output_type": "stream",
     "text": [
      "187.6\n"
     ]
    },
    {
     "name": "stderr",
     "output_type": "stream",
     "text": [
      "Training: 100%|███████████████████████████████████████████████████████████████████████| 50/50 [00:00<00:00, 177.16it/s]\n",
      "Evaluating: 100%|█████████████████████████████████████████████████████████████████████| 30/30 [00:00<00:00, 140.50it/s]\n",
      "Training:  36%|█████████████████████████▌                                             | 18/50 [00:00<00:00, 161.53it/s]"
     ]
    },
    {
     "name": "stdout",
     "output_type": "stream",
     "text": [
      "38.13333333333333\n"
     ]
    },
    {
     "name": "stderr",
     "output_type": "stream",
     "text": [
      "Training: 100%|███████████████████████████████████████████████████████████████████████| 50/50 [00:00<00:00, 177.76it/s]\n",
      "Evaluating: 100%|█████████████████████████████████████████████████████████████████████| 30/30 [00:00<00:00, 458.71it/s]\n",
      "Training:  34%|████████████████████████▏                                              | 17/50 [00:00<00:00, 156.47it/s]"
     ]
    },
    {
     "name": "stdout",
     "output_type": "stream",
     "text": [
      "9.4\n"
     ]
    },
    {
     "name": "stderr",
     "output_type": "stream",
     "text": [
      "Training: 100%|███████████████████████████████████████████████████████████████████████| 50/50 [00:00<00:00, 170.73it/s]\n",
      "Evaluating: 100%|█████████████████████████████████████████████████████████████████████| 30/30 [00:00<00:00, 117.92it/s]\n",
      "Training:  38%|██████████████████████████▉                                            | 19/50 [00:00<00:00, 186.27it/s]"
     ]
    },
    {
     "name": "stdout",
     "output_type": "stream",
     "text": [
      "48.0\n"
     ]
    },
    {
     "name": "stderr",
     "output_type": "stream",
     "text": [
      "Training: 100%|███████████████████████████████████████████████████████████████████████| 50/50 [00:00<00:00, 184.63it/s]\n",
      "Evaluating: 100%|██████████████████████████████████████████████████████████████████████| 30/30 [00:00<00:00, 33.96it/s]\n",
      "Training:  40%|████████████████████████████▍                                          | 20/50 [00:00<00:00, 179.97it/s]"
     ]
    },
    {
     "name": "stdout",
     "output_type": "stream",
     "text": [
      "166.5\n"
     ]
    },
    {
     "name": "stderr",
     "output_type": "stream",
     "text": [
      "Training: 100%|███████████████████████████████████████████████████████████████████████| 50/50 [00:00<00:00, 142.23it/s]\n",
      "Evaluating: 100%|█████████████████████████████████████████████████████████████████████| 30/30 [00:00<00:00, 472.89it/s]\n",
      "Training:  40%|████████████████████████████▍                                          | 20/50 [00:00<00:00, 176.83it/s]"
     ]
    },
    {
     "name": "stdout",
     "output_type": "stream",
     "text": [
      "9.2\n"
     ]
    },
    {
     "name": "stderr",
     "output_type": "stream",
     "text": [
      "Training: 100%|███████████████████████████████████████████████████████████████████████| 50/50 [00:00<00:00, 167.45it/s]\n",
      "Evaluating: 100%|█████████████████████████████████████████████████████████████████████| 30/30 [00:00<00:00, 362.81it/s]\n",
      "Training:  26%|██████████████████▍                                                    | 13/50 [00:00<00:00, 121.80it/s]"
     ]
    },
    {
     "name": "stdout",
     "output_type": "stream",
     "text": [
      "10.9\n"
     ]
    },
    {
     "name": "stderr",
     "output_type": "stream",
     "text": [
      "Training: 100%|███████████████████████████████████████████████████████████████████████| 50/50 [00:00<00:00, 147.71it/s]\n",
      "Evaluating: 100%|██████████████████████████████████████████████████████████████████████| 30/30 [00:00<00:00, 66.15it/s]\n",
      "Training:  40%|████████████████████████████▍                                          | 20/50 [00:00<00:00, 199.75it/s]"
     ]
    },
    {
     "name": "stdout",
     "output_type": "stream",
     "text": [
      "86.9\n"
     ]
    },
    {
     "name": "stderr",
     "output_type": "stream",
     "text": [
      "Training: 100%|███████████████████████████████████████████████████████████████████████| 50/50 [00:00<00:00, 165.49it/s]\n",
      "Evaluating: 100%|█████████████████████████████████████████████████████████████████████| 30/30 [00:00<00:00, 475.12it/s]\n",
      "Training:  34%|████████████████████████▏                                              | 17/50 [00:00<00:00, 158.73it/s]"
     ]
    },
    {
     "name": "stdout",
     "output_type": "stream",
     "text": [
      "9.3\n"
     ]
    },
    {
     "name": "stderr",
     "output_type": "stream",
     "text": [
      "Training: 100%|███████████████████████████████████████████████████████████████████████| 50/50 [00:00<00:00, 155.36it/s]\n",
      "Evaluating: 100%|█████████████████████████████████████████████████████████████████████| 30/30 [00:00<00:00, 441.39it/s]\n",
      "Training:  26%|██████████████████▍                                                    | 13/50 [00:00<00:00, 124.19it/s]"
     ]
    },
    {
     "name": "stdout",
     "output_type": "stream",
     "text": [
      "9.233333333333333\n"
     ]
    },
    {
     "name": "stderr",
     "output_type": "stream",
     "text": [
      "Training: 100%|███████████████████████████████████████████████████████████████████████| 50/50 [00:00<00:00, 164.78it/s]\n",
      "Evaluating: 100%|██████████████████████████████████████████████████████████████████████| 30/30 [00:00<00:00, 46.07it/s]\n",
      "Training:  40%|████████████████████████████▍                                          | 20/50 [00:00<00:00, 173.80it/s]"
     ]
    },
    {
     "name": "stdout",
     "output_type": "stream",
     "text": [
      "120.93333333333334\n"
     ]
    },
    {
     "name": "stderr",
     "output_type": "stream",
     "text": [
      "Training: 100%|███████████████████████████████████████████████████████████████████████| 50/50 [00:00<00:00, 184.31it/s]\n",
      "Evaluating: 100%|██████████████████████████████████████████████████████████████████████| 30/30 [00:00<00:00, 40.51it/s]\n",
      "Training:  32%|██████████████████████▋                                                | 16/50 [00:00<00:00, 145.31it/s]"
     ]
    },
    {
     "name": "stdout",
     "output_type": "stream",
     "text": [
      "147.43333333333334\n"
     ]
    },
    {
     "name": "stderr",
     "output_type": "stream",
     "text": [
      "Training: 100%|███████████████████████████████████████████████████████████████████████| 50/50 [00:00<00:00, 139.86it/s]\n",
      "Evaluating: 100%|██████████████████████████████████████████████████████████████████████| 30/30 [00:00<00:00, 82.46it/s]\n",
      "Training:  30%|█████████████████████▎                                                 | 15/50 [00:00<00:00, 120.18it/s]"
     ]
    },
    {
     "name": "stdout",
     "output_type": "stream",
     "text": [
      "64.13333333333334\n"
     ]
    },
    {
     "name": "stderr",
     "output_type": "stream",
     "text": [
      "Training: 100%|███████████████████████████████████████████████████████████████████████| 50/50 [00:00<00:00, 136.63it/s]\n",
      "Evaluating: 100%|█████████████████████████████████████████████████████████████████████| 30/30 [00:00<00:00, 406.43it/s]\n",
      "Training:  38%|██████████████████████████▉                                            | 19/50 [00:00<00:00, 170.88it/s]"
     ]
    },
    {
     "name": "stdout",
     "output_type": "stream",
     "text": [
      "14.733333333333333\n"
     ]
    },
    {
     "name": "stderr",
     "output_type": "stream",
     "text": [
      "Training: 100%|███████████████████████████████████████████████████████████████████████| 50/50 [00:00<00:00, 154.56it/s]\n",
      "Evaluating: 100%|██████████████████████████████████████████████████████████████████████| 30/30 [00:00<00:00, 98.50it/s]\n",
      "Training:  28%|███████████████████▉                                                   | 14/50 [00:00<00:00, 125.29it/s]"
     ]
    },
    {
     "name": "stdout",
     "output_type": "stream",
     "text": [
      "58.96666666666667\n"
     ]
    },
    {
     "name": "stderr",
     "output_type": "stream",
     "text": [
      "Training: 100%|███████████████████████████████████████████████████████████████████████| 50/50 [00:00<00:00, 133.06it/s]\n",
      "Evaluating: 100%|█████████████████████████████████████████████████████████████████████| 30/30 [00:00<00:00, 350.82it/s]\n",
      "Training:  26%|██████████████████▍                                                    | 13/50 [00:00<00:00, 124.14it/s]"
     ]
    },
    {
     "name": "stdout",
     "output_type": "stream",
     "text": [
      "16.566666666666666\n"
     ]
    },
    {
     "name": "stderr",
     "output_type": "stream",
     "text": [
      "Training: 100%|███████████████████████████████████████████████████████████████████████| 50/50 [00:00<00:00, 143.34it/s]\n",
      "Evaluating: 100%|█████████████████████████████████████████████████████████████████████| 30/30 [00:00<00:00, 527.28it/s]\n",
      "Training:  34%|████████████████████████▏                                              | 17/50 [00:00<00:00, 167.00it/s]"
     ]
    },
    {
     "name": "stdout",
     "output_type": "stream",
     "text": [
      "8.866666666666667\n"
     ]
    },
    {
     "name": "stderr",
     "output_type": "stream",
     "text": [
      "Training: 100%|███████████████████████████████████████████████████████████████████████| 50/50 [00:00<00:00, 137.37it/s]\n",
      "Evaluating: 100%|█████████████████████████████████████████████████████████████████████| 30/30 [00:00<00:00, 411.93it/s]\n",
      "Training:  32%|██████████████████████▋                                                | 16/50 [00:00<00:00, 154.24it/s]"
     ]
    },
    {
     "name": "stdout",
     "output_type": "stream",
     "text": [
      "16.533333333333335\n"
     ]
    },
    {
     "name": "stderr",
     "output_type": "stream",
     "text": [
      "Training: 100%|███████████████████████████████████████████████████████████████████████| 50/50 [00:00<00:00, 142.00it/s]\n",
      "Evaluating: 100%|█████████████████████████████████████████████████████████████████████| 30/30 [00:00<00:00, 435.71it/s]\n",
      "Training:  34%|████████████████████████▏                                              | 17/50 [00:00<00:00, 169.84it/s]"
     ]
    },
    {
     "name": "stdout",
     "output_type": "stream",
     "text": [
      "11.6\n"
     ]
    },
    {
     "name": "stderr",
     "output_type": "stream",
     "text": [
      "Training: 100%|███████████████████████████████████████████████████████████████████████| 50/50 [00:00<00:00, 153.95it/s]\n",
      "Evaluating: 100%|██████████████████████████████████████████████████████████████████████| 30/30 [00:00<00:00, 70.54it/s]\n",
      "Training:  28%|███████████████████▉                                                   | 14/50 [00:00<00:00, 134.96it/s]"
     ]
    },
    {
     "name": "stdout",
     "output_type": "stream",
     "text": [
      "69.7\n"
     ]
    },
    {
     "name": "stderr",
     "output_type": "stream",
     "text": [
      "Training: 100%|███████████████████████████████████████████████████████████████████████| 50/50 [00:00<00:00, 108.78it/s]\n",
      "Evaluating: 100%|██████████████████████████████████████████████████████████████████████| 30/30 [00:00<00:00, 55.70it/s]\n",
      "Training:  22%|███████████████▌                                                       | 11/50 [00:00<00:00, 100.86it/s]"
     ]
    },
    {
     "name": "stdout",
     "output_type": "stream",
     "text": [
      "96.26666666666667\n"
     ]
    },
    {
     "name": "stderr",
     "output_type": "stream",
     "text": [
      "Training: 100%|███████████████████████████████████████████████████████████████████████| 50/50 [00:00<00:00, 113.48it/s]\n",
      "Evaluating: 100%|█████████████████████████████████████████████████████████████████████| 30/30 [00:00<00:00, 429.71it/s]\n",
      "Training:  26%|██████████████████▍                                                    | 13/50 [00:00<00:00, 129.06it/s]"
     ]
    },
    {
     "name": "stdout",
     "output_type": "stream",
     "text": [
      "9.233333333333333\n"
     ]
    },
    {
     "name": "stderr",
     "output_type": "stream",
     "text": [
      "Training: 100%|███████████████████████████████████████████████████████████████████████| 50/50 [00:00<00:00, 120.80it/s]\n",
      "Evaluating: 100%|█████████████████████████████████████████████████████████████████████| 30/30 [00:00<00:00, 238.73it/s]\n",
      "Training:  26%|██████████████████▍                                                    | 13/50 [00:00<00:00, 112.34it/s]"
     ]
    },
    {
     "name": "stdout",
     "output_type": "stream",
     "text": [
      "17.3\n"
     ]
    },
    {
     "name": "stderr",
     "output_type": "stream",
     "text": [
      "Training: 100%|███████████████████████████████████████████████████████████████████████| 50/50 [00:00<00:00, 126.28it/s]\n",
      "Evaluating: 100%|█████████████████████████████████████████████████████████████████████| 30/30 [00:00<00:00, 117.49it/s]\n",
      "Training:  24%|█████████████████                                                      | 12/50 [00:00<00:00, 116.85it/s]"
     ]
    },
    {
     "name": "stdout",
     "output_type": "stream",
     "text": [
      "40.96666666666667\n"
     ]
    },
    {
     "name": "stderr",
     "output_type": "stream",
     "text": [
      "Training: 100%|███████████████████████████████████████████████████████████████████████| 50/50 [00:00<00:00, 128.23it/s]\n",
      "Evaluating: 100%|█████████████████████████████████████████████████████████████████████| 30/30 [00:00<00:00, 337.98it/s]\n",
      "Training:  32%|██████████████████████▋                                                | 16/50 [00:00<00:00, 152.79it/s]"
     ]
    },
    {
     "name": "stdout",
     "output_type": "stream",
     "text": [
      "13.633333333333333\n"
     ]
    },
    {
     "name": "stderr",
     "output_type": "stream",
     "text": [
      "Training: 100%|███████████████████████████████████████████████████████████████████████| 50/50 [00:00<00:00, 125.33it/s]\n",
      "Evaluating: 100%|█████████████████████████████████████████████████████████████████████| 30/30 [00:00<00:00, 246.56it/s]\n",
      "Training:  30%|█████████████████████▎                                                 | 15/50 [00:00<00:00, 140.56it/s]"
     ]
    },
    {
     "name": "stdout",
     "output_type": "stream",
     "text": [
      "18.633333333333333\n"
     ]
    },
    {
     "name": "stderr",
     "output_type": "stream",
     "text": [
      "Training: 100%|███████████████████████████████████████████████████████████████████████| 50/50 [00:00<00:00, 117.41it/s]\n",
      "Evaluating: 100%|█████████████████████████████████████████████████████████████████████| 30/30 [00:00<00:00, 477.46it/s]\n",
      "Training:  26%|██████████████████▍                                                    | 13/50 [00:00<00:00, 121.84it/s]"
     ]
    },
    {
     "name": "stdout",
     "output_type": "stream",
     "text": [
      "9.433333333333334\n"
     ]
    },
    {
     "name": "stderr",
     "output_type": "stream",
     "text": [
      "Training: 100%|███████████████████████████████████████████████████████████████████████| 50/50 [00:00<00:00, 123.18it/s]\n",
      "Evaluating: 100%|█████████████████████████████████████████████████████████████████████| 30/30 [00:00<00:00, 176.94it/s]\n",
      "Training:  32%|██████████████████████▋                                                | 16/50 [00:00<00:00, 149.93it/s]"
     ]
    },
    {
     "name": "stdout",
     "output_type": "stream",
     "text": [
      "23.6\n"
     ]
    },
    {
     "name": "stderr",
     "output_type": "stream",
     "text": [
      "Training: 100%|███████████████████████████████████████████████████████████████████████| 50/50 [00:00<00:00, 118.52it/s]\n",
      "Evaluating: 100%|██████████████████████████████████████████████████████████████████████| 30/30 [00:00<00:00, 84.25it/s]\n",
      "Training:  24%|█████████████████                                                      | 12/50 [00:00<00:00, 100.41it/s]"
     ]
    },
    {
     "name": "stdout",
     "output_type": "stream",
     "text": [
      "60.766666666666666\n"
     ]
    },
    {
     "name": "stderr",
     "output_type": "stream",
     "text": [
      "Training: 100%|███████████████████████████████████████████████████████████████████████| 50/50 [00:00<00:00, 113.47it/s]\n",
      "Evaluating: 100%|█████████████████████████████████████████████████████████████████████| 30/30 [00:00<00:00, 390.64it/s]\n",
      "Training:  24%|█████████████████                                                      | 12/50 [00:00<00:00, 117.96it/s]"
     ]
    },
    {
     "name": "stdout",
     "output_type": "stream",
     "text": [
      "10.233333333333333\n"
     ]
    },
    {
     "name": "stderr",
     "output_type": "stream",
     "text": [
      "Training: 100%|███████████████████████████████████████████████████████████████████████| 50/50 [00:00<00:00, 108.51it/s]\n",
      "Evaluating: 100%|█████████████████████████████████████████████████████████████████████| 30/30 [00:00<00:00, 185.69it/s]\n",
      "Training:  22%|███████████████▌                                                       | 11/50 [00:00<00:00, 106.06it/s]"
     ]
    },
    {
     "name": "stdout",
     "output_type": "stream",
     "text": [
      "25.466666666666665\n"
     ]
    },
    {
     "name": "stderr",
     "output_type": "stream",
     "text": [
      "Training: 100%|███████████████████████████████████████████████████████████████████████| 50/50 [00:00<00:00, 104.19it/s]\n",
      "Evaluating: 100%|██████████████████████████████████████████████████████████████████████| 30/30 [00:00<00:00, 76.82it/s]\n",
      "Training:  28%|███████████████████▉                                                   | 14/50 [00:00<00:00, 124.90it/s]"
     ]
    },
    {
     "name": "stdout",
     "output_type": "stream",
     "text": [
      "71.66666666666667\n"
     ]
    },
    {
     "name": "stderr",
     "output_type": "stream",
     "text": [
      "Training: 100%|███████████████████████████████████████████████████████████████████████| 50/50 [00:00<00:00, 113.38it/s]\n",
      "Evaluating: 100%|█████████████████████████████████████████████████████████████████████| 30/30 [00:00<00:00, 116.59it/s]\n",
      "Training:  24%|█████████████████                                                      | 12/50 [00:00<00:00, 116.80it/s]"
     ]
    },
    {
     "name": "stdout",
     "output_type": "stream",
     "text": [
      "41.46666666666667\n"
     ]
    },
    {
     "name": "stderr",
     "output_type": "stream",
     "text": [
      "Training: 100%|███████████████████████████████████████████████████████████████████████| 50/50 [00:00<00:00, 106.47it/s]\n",
      "Evaluating: 100%|█████████████████████████████████████████████████████████████████████| 30/30 [00:00<00:00, 567.56it/s]\n",
      "Training:  14%|██████████▏                                                              | 7/50 [00:00<00:00, 68.79it/s]"
     ]
    },
    {
     "name": "stdout",
     "output_type": "stream",
     "text": [
      "9.5\n"
     ]
    },
    {
     "name": "stderr",
     "output_type": "stream",
     "text": [
      "Training: 100%|████████████████████████████████████████████████████████████████████████| 50/50 [00:00<00:00, 85.44it/s]\n",
      "Evaluating: 100%|█████████████████████████████████████████████████████████████████████| 30/30 [00:00<00:00, 429.74it/s]\n",
      "Training:  28%|███████████████████▉                                                   | 14/50 [00:00<00:00, 123.66it/s]"
     ]
    },
    {
     "name": "stdout",
     "output_type": "stream",
     "text": [
      "11.0\n"
     ]
    },
    {
     "name": "stderr",
     "output_type": "stream",
     "text": [
      "Training: 100%|████████████████████████████████████████████████████████████████████████| 50/50 [00:00<00:00, 97.26it/s]\n",
      "Evaluating: 100%|█████████████████████████████████████████████████████████████████████| 30/30 [00:00<00:00, 351.37it/s]\n",
      "Training:  22%|███████████████▊                                                        | 11/50 [00:00<00:00, 91.29it/s]"
     ]
    },
    {
     "name": "stdout",
     "output_type": "stream",
     "text": [
      "12.6\n"
     ]
    },
    {
     "name": "stderr",
     "output_type": "stream",
     "text": [
      "Training: 100%|███████████████████████████████████████████████████████████████████████| 50/50 [00:00<00:00, 103.03it/s]\n",
      "Evaluating: 100%|██████████████████████████████████████████████████████████████████████| 30/30 [00:00<00:00, 81.59it/s]\n",
      "Training:  28%|███████████████████▉                                                   | 14/50 [00:00<00:00, 139.86it/s]"
     ]
    },
    {
     "name": "stdout",
     "output_type": "stream",
     "text": [
      "66.73333333333333\n"
     ]
    },
    {
     "name": "stderr",
     "output_type": "stream",
     "text": [
      "Training: 100%|███████████████████████████████████████████████████████████████████████| 50/50 [00:00<00:00, 120.26it/s]\n",
      "Evaluating: 100%|█████████████████████████████████████████████████████████████████████| 30/30 [00:00<00:00, 162.73it/s]\n",
      "Training:  22%|███████████████▊                                                        | 11/50 [00:00<00:00, 83.96it/s]"
     ]
    },
    {
     "name": "stdout",
     "output_type": "stream",
     "text": [
      "27.4\n"
     ]
    },
    {
     "name": "stderr",
     "output_type": "stream",
     "text": [
      "Training: 100%|████████████████████████████████████████████████████████████████████████| 50/50 [00:00<00:00, 88.36it/s]\n",
      "Evaluating: 100%|█████████████████████████████████████████████████████████████████████| 30/30 [00:00<00:00, 290.89it/s]\n",
      "Training:  20%|██████████████▍                                                         | 10/50 [00:00<00:00, 99.23it/s]"
     ]
    },
    {
     "name": "stdout",
     "output_type": "stream",
     "text": [
      "14.466666666666667\n"
     ]
    },
    {
     "name": "stderr",
     "output_type": "stream",
     "text": [
      "Training: 100%|████████████████████████████████████████████████████████████████████████| 50/50 [00:00<00:00, 96.55it/s]\n",
      "Evaluating: 100%|██████████████████████████████████████████████████████████████████████| 30/30 [00:00<00:00, 30.96it/s]\n",
      "Training:  20%|██████████████▍                                                         | 10/50 [00:00<00:00, 94.57it/s]"
     ]
    },
    {
     "name": "stdout",
     "output_type": "stream",
     "text": [
      "197.26666666666668\n"
     ]
    },
    {
     "name": "stderr",
     "output_type": "stream",
     "text": [
      "Training: 100%|████████████████████████████████████████████████████████████████████████| 50/50 [00:00<00:00, 88.37it/s]\n",
      "Evaluating: 100%|█████████████████████████████████████████████████████████████████████| 30/30 [00:00<00:00, 156.66it/s]\n",
      "Training:  22%|███████████████▊                                                        | 11/50 [00:00<00:00, 97.04it/s]"
     ]
    },
    {
     "name": "stdout",
     "output_type": "stream",
     "text": [
      "28.533333333333335\n"
     ]
    },
    {
     "name": "stderr",
     "output_type": "stream",
     "text": [
      "Training: 100%|████████████████████████████████████████████████████████████████████████| 50/50 [00:00<00:00, 82.01it/s]\n",
      "Evaluating: 100%|█████████████████████████████████████████████████████████████████████| 30/30 [00:00<00:00, 256.26it/s]\n",
      "Training:  16%|███████████▋                                                             | 8/50 [00:00<00:00, 68.56it/s]"
     ]
    },
    {
     "name": "stdout",
     "output_type": "stream",
     "text": [
      "18.133333333333333\n"
     ]
    },
    {
     "name": "stderr",
     "output_type": "stream",
     "text": [
      "Training: 100%|████████████████████████████████████████████████████████████████████████| 50/50 [00:00<00:00, 69.34it/s]\n",
      "Evaluating: 100%|█████████████████████████████████████████████████████████████████████| 30/30 [00:00<00:00, 103.35it/s]\n",
      "Training:  14%|██████████▏                                                              | 7/50 [00:00<00:00, 64.93it/s]"
     ]
    },
    {
     "name": "stdout",
     "output_type": "stream",
     "text": [
      "52.2\n"
     ]
    },
    {
     "name": "stderr",
     "output_type": "stream",
     "text": [
      "Training: 100%|████████████████████████████████████████████████████████████████████████| 50/50 [00:00<00:00, 64.63it/s]\n",
      "Evaluating: 100%|█████████████████████████████████████████████████████████████████████| 30/30 [00:00<00:00, 105.13it/s]\n",
      "Training:  18%|█████████████▏                                                           | 9/50 [00:00<00:00, 79.13it/s]"
     ]
    },
    {
     "name": "stdout",
     "output_type": "stream",
     "text": [
      "49.2\n"
     ]
    },
    {
     "name": "stderr",
     "output_type": "stream",
     "text": [
      "Training: 100%|████████████████████████████████████████████████████████████████████████| 50/50 [00:00<00:00, 74.39it/s]\n",
      "Evaluating: 100%|██████████████████████████████████████████████████████████████████████| 30/30 [00:00<00:00, 64.25it/s]\n",
      "Training:  20%|██████████████▍                                                         | 10/50 [00:00<00:00, 89.86it/s]"
     ]
    },
    {
     "name": "stdout",
     "output_type": "stream",
     "text": [
      "80.03333333333333\n"
     ]
    },
    {
     "name": "stderr",
     "output_type": "stream",
     "text": [
      "Training: 100%|████████████████████████████████████████████████████████████████████████| 50/50 [00:00<00:00, 87.56it/s]\n",
      "Evaluating: 100%|█████████████████████████████████████████████████████████████████████| 30/30 [00:00<00:00, 137.30it/s]\n",
      "Training:  18%|█████████████▏                                                           | 9/50 [00:00<00:00, 85.09it/s]"
     ]
    },
    {
     "name": "stdout",
     "output_type": "stream",
     "text": [
      "40.233333333333334\n"
     ]
    },
    {
     "name": "stderr",
     "output_type": "stream",
     "text": [
      "Training: 100%|████████████████████████████████████████████████████████████████████████| 50/50 [00:00<00:00, 80.96it/s]\n",
      "Evaluating: 100%|█████████████████████████████████████████████████████████████████████| 30/30 [00:00<00:00, 149.66it/s]\n",
      "Training:  20%|██████████████▍                                                         | 10/50 [00:00<00:00, 97.34it/s]"
     ]
    },
    {
     "name": "stdout",
     "output_type": "stream",
     "text": [
      "32.46666666666667\n"
     ]
    },
    {
     "name": "stderr",
     "output_type": "stream",
     "text": [
      "Training: 100%|████████████████████████████████████████████████████████████████████████| 50/50 [00:00<00:00, 82.96it/s]\n",
      "Evaluating: 100%|█████████████████████████████████████████████████████████████████████| 30/30 [00:00<00:00, 347.42it/s]\n",
      "Training:  18%|█████████████▏                                                           | 9/50 [00:00<00:00, 79.16it/s]"
     ]
    },
    {
     "name": "stdout",
     "output_type": "stream",
     "text": [
      "12.566666666666666\n"
     ]
    },
    {
     "name": "stderr",
     "output_type": "stream",
     "text": [
      "Training: 100%|████████████████████████████████████████████████████████████████████████| 50/50 [00:00<00:00, 71.37it/s]\n",
      "Evaluating: 100%|█████████████████████████████████████████████████████████████████████| 30/30 [00:00<00:00, 220.68it/s]\n",
      "Training:  12%|████████▊                                                                | 6/50 [00:00<00:00, 55.16it/s]"
     ]
    },
    {
     "name": "stdout",
     "output_type": "stream",
     "text": [
      "23.566666666666666\n"
     ]
    },
    {
     "name": "stderr",
     "output_type": "stream",
     "text": [
      "Training: 100%|████████████████████████████████████████████████████████████████████████| 50/50 [00:00<00:00, 64.76it/s]\n",
      "Evaluating: 100%|█████████████████████████████████████████████████████████████████████| 30/30 [00:00<00:00, 209.61it/s]\n",
      "Training:  12%|████████▊                                                                | 6/50 [00:00<00:01, 42.27it/s]"
     ]
    },
    {
     "name": "stdout",
     "output_type": "stream",
     "text": [
      "19.0\n"
     ]
    },
    {
     "name": "stderr",
     "output_type": "stream",
     "text": [
      "Training: 100%|████████████████████████████████████████████████████████████████████████| 50/50 [00:00<00:00, 65.19it/s]\n",
      "Evaluating: 100%|██████████████████████████████████████████████████████████████████████| 30/30 [00:00<00:00, 57.10it/s]\n",
      "Training:  18%|█████████████▏                                                           | 9/50 [00:00<00:00, 78.42it/s]"
     ]
    },
    {
     "name": "stdout",
     "output_type": "stream",
     "text": [
      "103.63333333333334\n"
     ]
    },
    {
     "name": "stderr",
     "output_type": "stream",
     "text": [
      "Training: 100%|████████████████████████████████████████████████████████████████████████| 50/50 [00:00<00:00, 66.91it/s]\n",
      "Evaluating: 100%|█████████████████████████████████████████████████████████████████████| 30/30 [00:00<00:00, 368.01it/s]\n",
      "Training:  16%|███████████▋                                                             | 8/50 [00:00<00:00, 75.66it/s]"
     ]
    },
    {
     "name": "stdout",
     "output_type": "stream",
     "text": [
      "17.033333333333335\n"
     ]
    },
    {
     "name": "stderr",
     "output_type": "stream",
     "text": [
      "Training: 100%|████████████████████████████████████████████████████████████████████████| 50/50 [00:00<00:00, 64.79it/s]\n",
      "Evaluating: 100%|█████████████████████████████████████████████████████████████████████| 30/30 [00:00<00:00, 113.51it/s]\n",
      "Training:  14%|██████████▏                                                              | 7/50 [00:00<00:00, 64.25it/s]"
     ]
    },
    {
     "name": "stdout",
     "output_type": "stream",
     "text": [
      "40.833333333333336\n"
     ]
    },
    {
     "name": "stderr",
     "output_type": "stream",
     "text": [
      "Training: 100%|████████████████████████████████████████████████████████████████████████| 50/50 [00:00<00:00, 68.88it/s]\n",
      "Evaluating: 100%|██████████████████████████████████████████████████████████████████████| 30/30 [00:00<00:00, 56.35it/s]\n",
      "Training:  12%|████████▊                                                                | 6/50 [00:00<00:00, 52.90it/s]"
     ]
    },
    {
     "name": "stdout",
     "output_type": "stream",
     "text": [
      "104.96666666666667\n"
     ]
    },
    {
     "name": "stderr",
     "output_type": "stream",
     "text": [
      "Training: 100%|████████████████████████████████████████████████████████████████████████| 50/50 [00:01<00:00, 49.28it/s]\n",
      "Evaluating: 100%|██████████████████████████████████████████████████████████████████████| 30/30 [00:00<00:00, 95.00it/s]\n",
      "Training:   6%|████▍                                                                    | 3/50 [00:00<00:01, 25.76it/s]"
     ]
    },
    {
     "name": "stdout",
     "output_type": "stream",
     "text": [
      "62.46666666666667\n"
     ]
    },
    {
     "name": "stderr",
     "output_type": "stream",
     "text": [
      "Training: 100%|████████████████████████████████████████████████████████████████████████| 50/50 [00:00<00:00, 52.51it/s]\n",
      "Evaluating: 100%|█████████████████████████████████████████████████████████████████████| 30/30 [00:00<00:00, 237.94it/s]\n",
      "Training:  16%|███████████▋                                                             | 8/50 [00:00<00:00, 74.22it/s]"
     ]
    },
    {
     "name": "stdout",
     "output_type": "stream",
     "text": [
      "21.933333333333334\n"
     ]
    },
    {
     "name": "stderr",
     "output_type": "stream",
     "text": [
      "Training: 100%|████████████████████████████████████████████████████████████████████████| 50/50 [00:01<00:00, 47.26it/s]\n",
      "Evaluating: 100%|█████████████████████████████████████████████████████████████████████| 30/30 [00:00<00:00, 178.92it/s]\n",
      "Training:  10%|███████▎                                                                 | 5/50 [00:00<00:00, 46.74it/s]"
     ]
    },
    {
     "name": "stdout",
     "output_type": "stream",
     "text": [
      "26.266666666666666\n"
     ]
    },
    {
     "name": "stderr",
     "output_type": "stream",
     "text": [
      "Training: 100%|████████████████████████████████████████████████████████████████████████| 50/50 [00:01<00:00, 38.44it/s]\n",
      "Evaluating: 100%|█████████████████████████████████████████████████████████████████████| 30/30 [00:00<00:00, 143.17it/s]\n",
      "Training:   8%|█████▊                                                                   | 4/50 [00:00<00:01, 26.36it/s]"
     ]
    },
    {
     "name": "stdout",
     "output_type": "stream",
     "text": [
      "34.6\n"
     ]
    },
    {
     "name": "stderr",
     "output_type": "stream",
     "text": [
      "Training: 100%|████████████████████████████████████████████████████████████████████████| 50/50 [00:01<00:00, 45.85it/s]\n",
      "Evaluating: 100%|██████████████████████████████████████████████████████████████████████| 30/30 [00:00<00:00, 56.36it/s]\n",
      "Training:   6%|████▍                                                                    | 3/50 [00:00<00:01, 29.66it/s]"
     ]
    },
    {
     "name": "stdout",
     "output_type": "stream",
     "text": [
      "101.8\n"
     ]
    },
    {
     "name": "stderr",
     "output_type": "stream",
     "text": [
      "Training: 100%|████████████████████████████████████████████████████████████████████████| 50/50 [00:01<00:00, 44.67it/s]\n",
      "Evaluating: 100%|██████████████████████████████████████████████████████████████████████| 30/30 [00:00<00:00, 72.32it/s]\n",
      "Training:  10%|███████▎                                                                 | 5/50 [00:00<00:00, 49.13it/s]"
     ]
    },
    {
     "name": "stdout",
     "output_type": "stream",
     "text": [
      "74.83333333333333\n"
     ]
    },
    {
     "name": "stderr",
     "output_type": "stream",
     "text": [
      "Training: 100%|████████████████████████████████████████████████████████████████████████| 50/50 [00:01<00:00, 42.20it/s]\n",
      "Evaluating: 100%|██████████████████████████████████████████████████████████████████████| 30/30 [00:00<00:00, 86.64it/s]\n",
      "Training:  10%|███████▎                                                                 | 5/50 [00:00<00:00, 45.57it/s]"
     ]
    },
    {
     "name": "stdout",
     "output_type": "stream",
     "text": [
      "58.3\n"
     ]
    },
    {
     "name": "stderr",
     "output_type": "stream",
     "text": [
      "Training: 100%|████████████████████████████████████████████████████████████████████████| 50/50 [00:01<00:00, 40.44it/s]\n",
      "Evaluating: 100%|█████████████████████████████████████████████████████████████████████| 30/30 [00:00<00:00, 124.53it/s]\n",
      "Training:  10%|███████▎                                                                 | 5/50 [00:00<00:01, 41.89it/s]"
     ]
    },
    {
     "name": "stdout",
     "output_type": "stream",
     "text": [
      "44.6\n"
     ]
    },
    {
     "name": "stderr",
     "output_type": "stream",
     "text": [
      "Training: 100%|████████████████████████████████████████████████████████████████████████| 50/50 [00:00<00:00, 50.56it/s]\n",
      "Evaluating: 100%|██████████████████████████████████████████████████████████████████████| 30/30 [00:00<00:00, 40.96it/s]\n",
      "Training:  10%|███████▎                                                                 | 5/50 [00:00<00:00, 49.90it/s]"
     ]
    },
    {
     "name": "stdout",
     "output_type": "stream",
     "text": [
      "143.3\n"
     ]
    },
    {
     "name": "stderr",
     "output_type": "stream",
     "text": [
      "Training: 100%|████████████████████████████████████████████████████████████████████████| 50/50 [00:01<00:00, 36.60it/s]\n",
      "Evaluating: 100%|██████████████████████████████████████████████████████████████████████| 30/30 [00:00<00:00, 53.85it/s]\n",
      "Training:   8%|█████▊                                                                   | 4/50 [00:00<00:01, 39.69it/s]"
     ]
    },
    {
     "name": "stdout",
     "output_type": "stream",
     "text": [
      "103.66666666666667\n"
     ]
    },
    {
     "name": "stderr",
     "output_type": "stream",
     "text": [
      "Training: 100%|████████████████████████████████████████████████████████████████████████| 50/50 [00:01<00:00, 30.31it/s]\n",
      "Evaluating: 100%|██████████████████████████████████████████████████████████████████████| 30/30 [00:00<00:00, 83.85it/s]\n",
      "Training:   6%|████▍                                                                    | 3/50 [00:00<00:02, 22.67it/s]"
     ]
    },
    {
     "name": "stdout",
     "output_type": "stream",
     "text": [
      "62.93333333333333\n"
     ]
    },
    {
     "name": "stderr",
     "output_type": "stream",
     "text": [
      "Training: 100%|████████████████████████████████████████████████████████████████████████| 50/50 [00:01<00:00, 27.55it/s]\n",
      "Evaluating: 100%|██████████████████████████████████████████████████████████████████████| 30/30 [00:00<00:00, 69.36it/s]\n",
      "Training:  10%|███████▎                                                                 | 5/50 [00:00<00:00, 48.18it/s]"
     ]
    },
    {
     "name": "stdout",
     "output_type": "stream",
     "text": [
      "84.0\n"
     ]
    },
    {
     "name": "stderr",
     "output_type": "stream",
     "text": [
      "Training: 100%|████████████████████████████████████████████████████████████████████████| 50/50 [00:01<00:00, 37.79it/s]\n",
      "Evaluating: 100%|██████████████████████████████████████████████████████████████████████| 30/30 [00:00<00:00, 33.96it/s]\n",
      "Training:  10%|███████▎                                                                 | 5/50 [00:00<00:01, 32.34it/s]"
     ]
    },
    {
     "name": "stdout",
     "output_type": "stream",
     "text": [
      "179.26666666666668\n"
     ]
    },
    {
     "name": "stderr",
     "output_type": "stream",
     "text": [
      "Training: 100%|████████████████████████████████████████████████████████████████████████| 50/50 [00:01<00:00, 40.27it/s]\n",
      "Evaluating: 100%|██████████████████████████████████████████████████████████████████████| 30/30 [00:00<00:00, 83.37it/s]\n",
      "Training:   8%|█████▊                                                                   | 4/50 [00:00<00:01, 28.37it/s]"
     ]
    },
    {
     "name": "stdout",
     "output_type": "stream",
     "text": [
      "65.43333333333334\n"
     ]
    },
    {
     "name": "stderr",
     "output_type": "stream",
     "text": [
      "Training: 100%|████████████████████████████████████████████████████████████████████████| 50/50 [00:01<00:00, 28.98it/s]\n",
      "Evaluating: 100%|█████████████████████████████████████████████████████████████████████| 30/30 [00:00<00:00, 189.32it/s]\n",
      "Training:   8%|█████▊                                                                   | 4/50 [00:00<00:01, 35.86it/s]"
     ]
    },
    {
     "name": "stdout",
     "output_type": "stream",
     "text": [
      "29.066666666666666\n"
     ]
    },
    {
     "name": "stderr",
     "output_type": "stream",
     "text": [
      "Training: 100%|████████████████████████████████████████████████████████████████████████| 50/50 [00:01<00:00, 30.74it/s]\n",
      "Evaluating: 100%|██████████████████████████████████████████████████████████████████████| 30/30 [00:00<00:00, 40.86it/s]\n",
      "Training:   6%|████▍                                                                    | 3/50 [00:00<00:02, 20.69it/s]"
     ]
    },
    {
     "name": "stdout",
     "output_type": "stream",
     "text": [
      "150.73333333333332\n"
     ]
    },
    {
     "name": "stderr",
     "output_type": "stream",
     "text": [
      "Training: 100%|████████████████████████████████████████████████████████████████████████| 50/50 [00:02<00:00, 21.99it/s]\n",
      "Evaluating: 100%|█████████████████████████████████████████████████████████████████████| 30/30 [00:00<00:00, 115.57it/s]\n",
      "Training:   6%|████▍                                                                    | 3/50 [00:00<00:02, 20.46it/s]"
     ]
    },
    {
     "name": "stdout",
     "output_type": "stream",
     "text": [
      "47.3\n"
     ]
    },
    {
     "name": "stderr",
     "output_type": "stream",
     "text": [
      "Training: 100%|████████████████████████████████████████████████████████████████████████| 50/50 [00:01<00:00, 26.58it/s]\n",
      "Evaluating: 100%|█████████████████████████████████████████████████████████████████████| 30/30 [00:00<00:00, 149.36it/s]\n",
      "Training:  10%|███████▎                                                                 | 5/50 [00:00<00:00, 48.64it/s]"
     ]
    },
    {
     "name": "stdout",
     "output_type": "stream",
     "text": [
      "37.2\n"
     ]
    },
    {
     "name": "stderr",
     "output_type": "stream",
     "text": [
      "Training: 100%|████████████████████████████████████████████████████████████████████████| 50/50 [00:01<00:00, 28.89it/s]\n",
      "Evaluating: 100%|██████████████████████████████████████████████████████████████████████| 30/30 [00:01<00:00, 29.92it/s]\n",
      "Training:  10%|███████▎                                                                 | 5/50 [00:00<00:01, 41.54it/s]"
     ]
    },
    {
     "name": "stdout",
     "output_type": "stream",
     "text": [
      "200.0\n"
     ]
    },
    {
     "name": "stderr",
     "output_type": "stream",
     "text": [
      "Training: 100%|████████████████████████████████████████████████████████████████████████| 50/50 [00:01<00:00, 26.03it/s]\n",
      "Evaluating: 100%|██████████████████████████████████████████████████████████████████████| 30/30 [00:00<00:00, 84.81it/s]\n",
      "Training:   6%|████▍                                                                    | 3/50 [00:00<00:02, 22.90it/s]"
     ]
    },
    {
     "name": "stdout",
     "output_type": "stream",
     "text": [
      "64.4\n"
     ]
    },
    {
     "name": "stderr",
     "output_type": "stream",
     "text": [
      "Training: 100%|████████████████████████████████████████████████████████████████████████| 50/50 [00:01<00:00, 25.61it/s]\n",
      "Evaluating: 100%|██████████████████████████████████████████████████████████████████████| 30/30 [00:01<00:00, 29.56it/s]\n",
      "Training:   6%|████▍                                                                    | 3/50 [00:00<00:01, 29.48it/s]"
     ]
    },
    {
     "name": "stdout",
     "output_type": "stream",
     "text": [
      "200.0\n"
     ]
    },
    {
     "name": "stderr",
     "output_type": "stream",
     "text": [
      "Training: 100%|████████████████████████████████████████████████████████████████████████| 50/50 [00:02<00:00, 19.10it/s]\n",
      "Evaluating: 100%|██████████████████████████████████████████████████████████████████████| 30/30 [00:00<00:00, 33.13it/s]\n",
      "Training:   4%|██▉                                                                      | 2/50 [00:00<00:02, 18.34it/s]"
     ]
    },
    {
     "name": "stdout",
     "output_type": "stream",
     "text": [
      "187.03333333333333\n"
     ]
    },
    {
     "name": "stderr",
     "output_type": "stream",
     "text": [
      "Training: 100%|████████████████████████████████████████████████████████████████████████| 50/50 [00:01<00:00, 26.85it/s]\n",
      "Evaluating: 100%|██████████████████████████████████████████████████████████████████████| 30/30 [00:00<00:00, 38.45it/s]\n",
      "Training:   8%|█████▊                                                                   | 4/50 [00:00<00:01, 32.96it/s]"
     ]
    },
    {
     "name": "stdout",
     "output_type": "stream",
     "text": [
      "156.16666666666666\n"
     ]
    },
    {
     "name": "stderr",
     "output_type": "stream",
     "text": [
      "Training: 100%|████████████████████████████████████████████████████████████████████████| 50/50 [00:01<00:00, 26.73it/s]\n",
      "Evaluating: 100%|██████████████████████████████████████████████████████████████████████| 30/30 [00:00<00:00, 41.54it/s]\n",
      "Training:   8%|█████▊                                                                   | 4/50 [00:00<00:01, 31.81it/s]"
     ]
    },
    {
     "name": "stdout",
     "output_type": "stream",
     "text": [
      "145.5\n"
     ]
    },
    {
     "name": "stderr",
     "output_type": "stream",
     "text": [
      "Training: 100%|████████████████████████████████████████████████████████████████████████| 50/50 [00:02<00:00, 23.01it/s]\n",
      "Evaluating: 100%|██████████████████████████████████████████████████████████████████████| 30/30 [00:00<00:00, 33.84it/s]\n",
      "Training:   6%|████▍                                                                    | 3/50 [00:00<00:02, 21.85it/s]"
     ]
    },
    {
     "name": "stdout",
     "output_type": "stream",
     "text": [
      "166.33333333333334\n"
     ]
    },
    {
     "name": "stderr",
     "output_type": "stream",
     "text": [
      "Training: 100%|████████████████████████████████████████████████████████████████████████| 50/50 [00:02<00:00, 20.05it/s]\n",
      "Evaluating: 100%|██████████████████████████████████████████████████████████████████████| 30/30 [00:00<00:00, 51.02it/s]\n",
      "Training:   6%|████▍                                                                    | 3/50 [00:00<00:02, 19.03it/s]"
     ]
    },
    {
     "name": "stdout",
     "output_type": "stream",
     "text": [
      "116.7\n"
     ]
    },
    {
     "name": "stderr",
     "output_type": "stream",
     "text": [
      "Training: 100%|████████████████████████████████████████████████████████████████████████| 50/50 [00:02<00:00, 22.27it/s]\n",
      "Evaluating: 100%|██████████████████████████████████████████████████████████████████████| 30/30 [00:00<00:00, 39.08it/s]\n",
      "Training:   6%|████▍                                                                    | 3/50 [00:00<00:01, 24.33it/s]"
     ]
    },
    {
     "name": "stdout",
     "output_type": "stream",
     "text": [
      "152.46666666666667\n"
     ]
    },
    {
     "name": "stderr",
     "output_type": "stream",
     "text": [
      "Training: 100%|████████████████████████████████████████████████████████████████████████| 50/50 [00:01<00:00, 25.97it/s]\n",
      "Evaluating: 100%|██████████████████████████████████████████████████████████████████████| 30/30 [00:00<00:00, 57.40it/s]\n",
      "Training:   8%|█████▊                                                                   | 4/50 [00:00<00:01, 34.56it/s]"
     ]
    },
    {
     "name": "stdout",
     "output_type": "stream",
     "text": [
      "102.53333333333333\n"
     ]
    },
    {
     "name": "stderr",
     "output_type": "stream",
     "text": [
      "Training: 100%|████████████████████████████████████████████████████████████████████████| 50/50 [00:01<00:00, 27.75it/s]\n",
      "Evaluating: 100%|█████████████████████████████████████████████████████████████████████| 30/30 [00:00<00:00, 100.39it/s]\n",
      "Training:   4%|██▉                                                                      | 2/50 [00:00<00:02, 17.34it/s]"
     ]
    },
    {
     "name": "stdout",
     "output_type": "stream",
     "text": [
      "54.5\n"
     ]
    },
    {
     "name": "stderr",
     "output_type": "stream",
     "text": [
      "Training: 100%|████████████████████████████████████████████████████████████████████████| 50/50 [00:01<00:00, 31.92it/s]\n",
      "Evaluating: 100%|██████████████████████████████████████████████████████████████████████| 30/30 [00:00<00:00, 99.96it/s]\n",
      "Training:   6%|████▍                                                                    | 3/50 [00:00<00:02, 23.09it/s]"
     ]
    },
    {
     "name": "stdout",
     "output_type": "stream",
     "text": [
      "58.6\n"
     ]
    },
    {
     "name": "stderr",
     "output_type": "stream",
     "text": [
      "Training: 100%|████████████████████████████████████████████████████████████████████████| 50/50 [00:01<00:00, 28.11it/s]\n",
      "Evaluating: 100%|██████████████████████████████████████████████████████████████████████| 30/30 [00:00<00:00, 36.02it/s]\n",
      "Training:   8%|█████▊                                                                   | 4/50 [00:00<00:01, 26.38it/s]"
     ]
    },
    {
     "name": "stdout",
     "output_type": "stream",
     "text": [
      "172.13333333333333\n"
     ]
    },
    {
     "name": "stderr",
     "output_type": "stream",
     "text": [
      "Training: 100%|████████████████████████████████████████████████████████████████████████| 50/50 [00:02<00:00, 24.91it/s]\n",
      "Evaluating: 100%|██████████████████████████████████████████████████████████████████████| 30/30 [00:00<00:00, 32.07it/s]\n",
      "Training:   4%|██▉                                                                      | 2/50 [00:00<00:02, 19.65it/s]"
     ]
    },
    {
     "name": "stdout",
     "output_type": "stream",
     "text": [
      "181.43333333333334\n"
     ]
    },
    {
     "name": "stderr",
     "output_type": "stream",
     "text": [
      "Training: 100%|████████████████████████████████████████████████████████████████████████| 50/50 [00:02<00:00, 19.34it/s]\n",
      "Evaluating: 100%|██████████████████████████████████████████████████████████████████████| 30/30 [00:00<00:00, 63.10it/s]\n",
      "Training:   4%|██▉                                                                      | 2/50 [00:00<00:03, 15.34it/s]"
     ]
    },
    {
     "name": "stdout",
     "output_type": "stream",
     "text": [
      "88.53333333333333\n"
     ]
    },
    {
     "name": "stderr",
     "output_type": "stream",
     "text": [
      "Training: 100%|████████████████████████████████████████████████████████████████████████| 50/50 [00:02<00:00, 18.65it/s]\n",
      "Evaluating: 100%|██████████████████████████████████████████████████████████████████████| 30/30 [00:00<00:00, 46.02it/s]\n",
      "Training:   4%|██▉                                                                      | 2/50 [00:00<00:03, 12.53it/s]"
     ]
    },
    {
     "name": "stdout",
     "output_type": "stream",
     "text": [
      "128.7\n"
     ]
    },
    {
     "name": "stderr",
     "output_type": "stream",
     "text": [
      "Training: 100%|████████████████████████████████████████████████████████████████████████| 50/50 [00:02<00:00, 19.50it/s]\n",
      "Evaluating: 100%|██████████████████████████████████████████████████████████████████████| 30/30 [00:00<00:00, 39.94it/s]\n",
      "Training:  14%|██████████▏                                                              | 7/50 [00:00<00:00, 45.93it/s]"
     ]
    },
    {
     "name": "stdout",
     "output_type": "stream",
     "text": [
      "149.4\n"
     ]
    },
    {
     "name": "stderr",
     "output_type": "stream",
     "text": [
      "Training: 100%|████████████████████████████████████████████████████████████████████████| 50/50 [00:02<00:00, 21.88it/s]\n",
      "Evaluating: 100%|██████████████████████████████████████████████████████████████████████| 30/30 [00:00<00:00, 32.57it/s]\n",
      "Training:   4%|██▉                                                                      | 2/50 [00:00<00:02, 19.09it/s]"
     ]
    },
    {
     "name": "stdout",
     "output_type": "stream",
     "text": [
      "185.53333333333333\n"
     ]
    },
    {
     "name": "stderr",
     "output_type": "stream",
     "text": [
      "Training: 100%|████████████████████████████████████████████████████████████████████████| 50/50 [00:02<00:00, 21.89it/s]\n",
      "Evaluating: 100%|██████████████████████████████████████████████████████████████████████| 30/30 [00:00<00:00, 39.88it/s]\n",
      "Training:   4%|██▉                                                                      | 2/50 [00:00<00:02, 19.29it/s]"
     ]
    },
    {
     "name": "stdout",
     "output_type": "stream",
     "text": [
      "144.33333333333334\n"
     ]
    },
    {
     "name": "stderr",
     "output_type": "stream",
     "text": [
      "Training: 100%|████████████████████████████████████████████████████████████████████████| 50/50 [00:02<00:00, 19.43it/s]\n",
      "Evaluating: 100%|██████████████████████████████████████████████████████████████████████| 30/30 [00:00<00:00, 30.06it/s]\n",
      "Training:   6%|████▍                                                                    | 3/50 [00:00<00:02, 20.42it/s]"
     ]
    },
    {
     "name": "stdout",
     "output_type": "stream",
     "text": [
      "200.0\n"
     ]
    },
    {
     "name": "stderr",
     "output_type": "stream",
     "text": [
      "Training: 100%|████████████████████████████████████████████████████████████████████████| 50/50 [00:01<00:00, 28.69it/s]\n",
      "Evaluating: 100%|██████████████████████████████████████████████████████████████████████| 30/30 [00:00<00:00, 90.53it/s]\n",
      "Training:   6%|████▍                                                                    | 3/50 [00:00<00:01, 25.77it/s]"
     ]
    },
    {
     "name": "stdout",
     "output_type": "stream",
     "text": [
      "57.6\n"
     ]
    },
    {
     "name": "stderr",
     "output_type": "stream",
     "text": [
      "Training: 100%|████████████████████████████████████████████████████████████████████████| 50/50 [00:01<00:00, 26.70it/s]\n",
      "Evaluating: 100%|██████████████████████████████████████████████████████████████████████| 30/30 [00:00<00:00, 74.30it/s]\n",
      "Training:   6%|████▍                                                                    | 3/50 [00:00<00:02, 21.28it/s]"
     ]
    },
    {
     "name": "stdout",
     "output_type": "stream",
     "text": [
      "78.2\n"
     ]
    },
    {
     "name": "stderr",
     "output_type": "stream",
     "text": [
      "Training: 100%|████████████████████████████████████████████████████████████████████████| 50/50 [00:01<00:00, 32.93it/s]\n",
      "Evaluating: 100%|██████████████████████████████████████████████████████████████████████| 30/30 [00:00<00:00, 86.28it/s]\n",
      "Training:  10%|███████▎                                                                 | 5/50 [00:00<00:01, 44.35it/s]"
     ]
    },
    {
     "name": "stdout",
     "output_type": "stream",
     "text": [
      "67.13333333333334\n"
     ]
    },
    {
     "name": "stderr",
     "output_type": "stream",
     "text": [
      "Training: 100%|████████████████████████████████████████████████████████████████████████| 50/50 [00:01<00:00, 29.48it/s]\n",
      "Evaluating: 100%|██████████████████████████████████████████████████████████████████████| 30/30 [00:00<00:00, 40.84it/s]\n",
      "Training:   6%|████▍                                                                    | 3/50 [00:00<00:02, 19.40it/s]"
     ]
    },
    {
     "name": "stdout",
     "output_type": "stream",
     "text": [
      "146.66666666666666\n"
     ]
    },
    {
     "name": "stderr",
     "output_type": "stream",
     "text": [
      "Training: 100%|████████████████████████████████████████████████████████████████████████| 50/50 [00:02<00:00, 23.02it/s]\n",
      "Evaluating: 100%|██████████████████████████████████████████████████████████████████████| 30/30 [00:00<00:00, 36.54it/s]\n",
      "Training:   8%|█████▊                                                                   | 4/50 [00:00<00:01, 38.93it/s]"
     ]
    },
    {
     "name": "stdout",
     "output_type": "stream",
     "text": [
      "161.4\n"
     ]
    },
    {
     "name": "stderr",
     "output_type": "stream",
     "text": [
      "Training: 100%|████████████████████████████████████████████████████████████████████████| 50/50 [00:01<00:00, 26.77it/s]\n",
      "Evaluating: 100%|██████████████████████████████████████████████████████████████████████| 30/30 [00:00<00:00, 59.68it/s]\n",
      "Training:   6%|████▍                                                                    | 3/50 [00:00<00:01, 27.09it/s]"
     ]
    },
    {
     "name": "stdout",
     "output_type": "stream",
     "text": [
      "100.43333333333334\n"
     ]
    },
    {
     "name": "stderr",
     "output_type": "stream",
     "text": [
      "Training: 100%|████████████████████████████████████████████████████████████████████████| 50/50 [00:01<00:00, 27.19it/s]\n",
      "Evaluating: 100%|██████████████████████████████████████████████████████████████████████| 30/30 [00:00<00:00, 42.50it/s]\n",
      "Training:   6%|████▍                                                                    | 3/50 [00:00<00:02, 22.39it/s]"
     ]
    },
    {
     "name": "stdout",
     "output_type": "stream",
     "text": [
      "141.36666666666667\n"
     ]
    },
    {
     "name": "stderr",
     "output_type": "stream",
     "text": [
      "Training: 100%|████████████████████████████████████████████████████████████████████████| 50/50 [00:01<00:00, 25.83it/s]\n",
      "Evaluating: 100%|█████████████████████████████████████████████████████████████████████| 30/30 [00:00<00:00, 139.51it/s]\n",
      "Training:  10%|███████▎                                                                 | 5/50 [00:00<00:01, 43.21it/s]"
     ]
    },
    {
     "name": "stdout",
     "output_type": "stream",
     "text": [
      "40.666666666666664\n"
     ]
    },
    {
     "name": "stderr",
     "output_type": "stream",
     "text": [
      "Training: 100%|████████████████████████████████████████████████████████████████████████| 50/50 [00:01<00:00, 27.11it/s]\n",
      "Evaluating: 100%|██████████████████████████████████████████████████████████████████████| 30/30 [00:01<00:00, 29.84it/s]\n",
      "Training:   4%|██▉                                                                      | 2/50 [00:00<00:02, 18.39it/s]"
     ]
    },
    {
     "name": "stdout",
     "output_type": "stream",
     "text": [
      "199.13333333333333\n"
     ]
    },
    {
     "name": "stderr",
     "output_type": "stream",
     "text": [
      "Training: 100%|████████████████████████████████████████████████████████████████████████| 50/50 [00:01<00:00, 28.13it/s]\n",
      "Evaluating: 100%|██████████████████████████████████████████████████████████████████████| 30/30 [00:00<00:00, 43.13it/s]\n",
      "Training:   6%|████▍                                                                    | 3/50 [00:00<00:02, 23.19it/s]"
     ]
    },
    {
     "name": "stdout",
     "output_type": "stream",
     "text": [
      "134.13333333333333\n"
     ]
    },
    {
     "name": "stderr",
     "output_type": "stream",
     "text": [
      "Training: 100%|████████████████████████████████████████████████████████████████████████| 50/50 [00:02<00:00, 22.26it/s]\n",
      "Evaluating: 100%|██████████████████████████████████████████████████████████████████████| 30/30 [00:00<00:00, 35.18it/s]\n",
      "Training:   4%|██▉                                                                      | 2/50 [00:00<00:03, 15.83it/s]"
     ]
    },
    {
     "name": "stdout",
     "output_type": "stream",
     "text": [
      "178.96666666666667\n"
     ]
    },
    {
     "name": "stderr",
     "output_type": "stream",
     "text": [
      "Training: 100%|████████████████████████████████████████████████████████████████████████| 50/50 [00:02<00:00, 21.67it/s]\n",
      "Evaluating: 100%|██████████████████████████████████████████████████████████████████████| 30/30 [00:00<00:00, 47.22it/s]\n",
      "Training:   6%|████▍                                                                    | 3/50 [00:00<00:01, 29.48it/s]"
     ]
    },
    {
     "name": "stdout",
     "output_type": "stream",
     "text": [
      "123.5\n"
     ]
    },
    {
     "name": "stderr",
     "output_type": "stream",
     "text": [
      "Training: 100%|████████████████████████████████████████████████████████████████████████| 50/50 [00:02<00:00, 21.27it/s]\n",
      "Evaluating: 100%|██████████████████████████████████████████████████████████████████████| 30/30 [00:01<00:00, 30.00it/s]\n",
      "Training:   6%|████▍                                                                    | 3/50 [00:00<00:01, 23.56it/s]"
     ]
    },
    {
     "name": "stdout",
     "output_type": "stream",
     "text": [
      "200.0\n"
     ]
    },
    {
     "name": "stderr",
     "output_type": "stream",
     "text": [
      "Training: 100%|████████████████████████████████████████████████████████████████████████| 50/50 [00:01<00:00, 26.85it/s]\n",
      "Evaluating: 100%|██████████████████████████████████████████████████████████████████████| 30/30 [00:00<00:00, 81.44it/s]\n",
      "Training:   8%|█████▊                                                                   | 4/50 [00:00<00:01, 24.91it/s]"
     ]
    },
    {
     "name": "stdout",
     "output_type": "stream",
     "text": [
      "67.73333333333333\n"
     ]
    },
    {
     "name": "stderr",
     "output_type": "stream",
     "text": [
      "Training: 100%|████████████████████████████████████████████████████████████████████████| 50/50 [00:01<00:00, 26.55it/s]\n",
      "Evaluating: 100%|██████████████████████████████████████████████████████████████████████| 30/30 [00:00<00:00, 46.19it/s]\n",
      "Training:   8%|█████▊                                                                   | 4/50 [00:00<00:01, 36.11it/s]"
     ]
    },
    {
     "name": "stdout",
     "output_type": "stream",
     "text": [
      "130.63333333333333\n"
     ]
    },
    {
     "name": "stderr",
     "output_type": "stream",
     "text": [
      "Training: 100%|████████████████████████████████████████████████████████████████████████| 50/50 [00:01<00:00, 25.46it/s]\n",
      "Evaluating: 100%|██████████████████████████████████████████████████████████████████████| 30/30 [00:00<00:00, 31.38it/s]\n",
      "Training:   6%|████▍                                                                    | 3/50 [00:00<00:01, 23.73it/s]"
     ]
    },
    {
     "name": "stdout",
     "output_type": "stream",
     "text": [
      "194.1\n"
     ]
    },
    {
     "name": "stderr",
     "output_type": "stream",
     "text": [
      "Training: 100%|████████████████████████████████████████████████████████████████████████| 50/50 [00:02<00:00, 19.03it/s]\n",
      "Evaluating: 100%|█████████████████████████████████████████████████████████████████████| 30/30 [00:00<00:00, 105.03it/s]\n",
      "Training:   6%|████▍                                                                    | 3/50 [00:00<00:01, 25.92it/s]"
     ]
    },
    {
     "name": "stdout",
     "output_type": "stream",
     "text": [
      "50.36666666666667\n"
     ]
    },
    {
     "name": "stderr",
     "output_type": "stream",
     "text": [
      "Training: 100%|████████████████████████████████████████████████████████████████████████| 50/50 [00:02<00:00, 22.89it/s]\n",
      "Evaluating: 100%|██████████████████████████████████████████████████████████████████████| 30/30 [00:00<00:00, 31.50it/s]\n",
      "Training:   4%|██▉                                                                      | 2/50 [00:00<00:02, 16.21it/s]"
     ]
    },
    {
     "name": "stdout",
     "output_type": "stream",
     "text": [
      "200.0\n"
     ]
    },
    {
     "name": "stderr",
     "output_type": "stream",
     "text": [
      "Training: 100%|████████████████████████████████████████████████████████████████████████| 50/50 [00:02<00:00, 19.19it/s]\n",
      "Evaluating: 100%|██████████████████████████████████████████████████████████████████████| 30/30 [00:00<00:00, 62.34it/s]\n",
      "Training:   8%|█████▊                                                                   | 4/50 [00:00<00:01, 36.12it/s]"
     ]
    },
    {
     "name": "stdout",
     "output_type": "stream",
     "text": [
      "94.33333333333333\n"
     ]
    },
    {
     "name": "stderr",
     "output_type": "stream",
     "text": [
      "Training: 100%|████████████████████████████████████████████████████████████████████████| 50/50 [00:01<00:00, 27.78it/s]\n",
      "Evaluating: 100%|██████████████████████████████████████████████████████████████████████| 30/30 [00:00<00:00, 49.31it/s]\n",
      "Training:   6%|████▍                                                                    | 3/50 [00:00<00:01, 23.93it/s]"
     ]
    },
    {
     "name": "stdout",
     "output_type": "stream",
     "text": [
      "121.1\n"
     ]
    },
    {
     "name": "stderr",
     "output_type": "stream",
     "text": [
      "Training: 100%|████████████████████████████████████████████████████████████████████████| 50/50 [00:02<00:00, 19.79it/s]\n",
      "Evaluating: 100%|██████████████████████████████████████████████████████████████████████| 30/30 [00:00<00:00, 44.92it/s]\n",
      "Training:   6%|████▍                                                                    | 3/50 [00:00<00:02, 23.37it/s]"
     ]
    },
    {
     "name": "stdout",
     "output_type": "stream",
     "text": [
      "135.03333333333333\n"
     ]
    },
    {
     "name": "stderr",
     "output_type": "stream",
     "text": [
      "Training: 100%|████████████████████████████████████████████████████████████████████████| 50/50 [00:01<00:00, 25.49it/s]\n",
      "Evaluating: 100%|██████████████████████████████████████████████████████████████████████| 30/30 [00:00<00:00, 84.79it/s]\n",
      "Training:  12%|████████▊                                                                | 6/50 [00:00<00:00, 49.42it/s]"
     ]
    },
    {
     "name": "stdout",
     "output_type": "stream",
     "text": [
      "68.4\n"
     ]
    },
    {
     "name": "stderr",
     "output_type": "stream",
     "text": [
      "Training: 100%|████████████████████████████████████████████████████████████████████████| 50/50 [00:01<00:00, 26.45it/s]\n",
      "Evaluating: 100%|██████████████████████████████████████████████████████████████████████| 30/30 [00:00<00:00, 59.72it/s]\n",
      "Training:   8%|█████▊                                                                   | 4/50 [00:00<00:01, 31.65it/s]"
     ]
    },
    {
     "name": "stdout",
     "output_type": "stream",
     "text": [
      "93.7\n"
     ]
    },
    {
     "name": "stderr",
     "output_type": "stream",
     "text": [
      "Training: 100%|████████████████████████████████████████████████████████████████████████| 50/50 [00:01<00:00, 27.64it/s]\n",
      "Evaluating: 100%|█████████████████████████████████████████████████████████████████████| 30/30 [00:00<00:00, 184.96it/s]\n",
      "Training:   8%|█████▊                                                                   | 4/50 [00:00<00:01, 32.95it/s]"
     ]
    },
    {
     "name": "stdout",
     "output_type": "stream",
     "text": [
      "25.966666666666665\n"
     ]
    },
    {
     "name": "stderr",
     "output_type": "stream",
     "text": [
      "Training: 100%|████████████████████████████████████████████████████████████████████████| 50/50 [00:02<00:00, 22.49it/s]\n",
      "Evaluating: 100%|██████████████████████████████████████████████████████████████████████| 30/30 [00:00<00:00, 32.10it/s]\n",
      "Training:   6%|████▍                                                                    | 3/50 [00:00<00:01, 26.61it/s]"
     ]
    },
    {
     "name": "stdout",
     "output_type": "stream",
     "text": [
      "187.83333333333334\n"
     ]
    },
    {
     "name": "stderr",
     "output_type": "stream",
     "text": [
      "Training: 100%|████████████████████████████████████████████████████████████████████████| 50/50 [00:01<00:00, 27.82it/s]\n",
      "Evaluating: 100%|██████████████████████████████████████████████████████████████████████| 30/30 [00:00<00:00, 72.32it/s]\n",
      "Training:   6%|████▍                                                                    | 3/50 [00:00<00:02, 22.67it/s]"
     ]
    },
    {
     "name": "stdout",
     "output_type": "stream",
     "text": [
      "75.53333333333333\n"
     ]
    },
    {
     "name": "stderr",
     "output_type": "stream",
     "text": [
      "Training: 100%|████████████████████████████████████████████████████████████████████████| 50/50 [00:02<00:00, 23.99it/s]\n",
      "Evaluating: 100%|██████████████████████████████████████████████████████████████████████| 30/30 [00:00<00:00, 98.77it/s]\n",
      "Training:   6%|████▍                                                                    | 3/50 [00:00<00:02, 19.09it/s]"
     ]
    },
    {
     "name": "stdout",
     "output_type": "stream",
     "text": [
      "55.733333333333334\n"
     ]
    },
    {
     "name": "stderr",
     "output_type": "stream",
     "text": [
      "Training: 100%|████████████████████████████████████████████████████████████████████████| 50/50 [00:01<00:00, 29.25it/s]\n",
      "Evaluating: 100%|██████████████████████████████████████████████████████████████████████| 30/30 [00:00<00:00, 56.40it/s]\n",
      "Training:  12%|████████▊                                                                | 6/50 [00:00<00:00, 55.69it/s]"
     ]
    },
    {
     "name": "stdout",
     "output_type": "stream",
     "text": [
      "105.23333333333333\n"
     ]
    },
    {
     "name": "stderr",
     "output_type": "stream",
     "text": [
      "Training: 100%|████████████████████████████████████████████████████████████████████████| 50/50 [00:01<00:00, 28.33it/s]\n",
      "Evaluating: 100%|██████████████████████████████████████████████████████████████████████| 30/30 [00:00<00:00, 34.89it/s]\n",
      "Training:  10%|███████▎                                                                 | 5/50 [00:00<00:00, 45.58it/s]"
     ]
    },
    {
     "name": "stdout",
     "output_type": "stream",
     "text": [
      "177.93333333333334\n"
     ]
    },
    {
     "name": "stderr",
     "output_type": "stream",
     "text": [
      "Training: 100%|████████████████████████████████████████████████████████████████████████| 50/50 [00:01<00:00, 32.10it/s]\n",
      "Evaluating: 100%|██████████████████████████████████████████████████████████████████████| 30/30 [00:00<00:00, 68.80it/s]\n",
      "Training:   6%|████▍                                                                    | 3/50 [00:00<00:02, 22.72it/s]"
     ]
    },
    {
     "name": "stdout",
     "output_type": "stream",
     "text": [
      "82.96666666666667\n"
     ]
    },
    {
     "name": "stderr",
     "output_type": "stream",
     "text": [
      "Training: 100%|████████████████████████████████████████████████████████████████████████| 50/50 [00:02<00:00, 24.40it/s]\n",
      "Evaluating: 100%|██████████████████████████████████████████████████████████████████████| 30/30 [00:00<00:00, 36.59it/s]\n",
      "Training:   8%|█████▊                                                                   | 4/50 [00:00<00:01, 29.63it/s]"
     ]
    },
    {
     "name": "stdout",
     "output_type": "stream",
     "text": [
      "168.23333333333332\n"
     ]
    },
    {
     "name": "stderr",
     "output_type": "stream",
     "text": [
      "Training: 100%|████████████████████████████████████████████████████████████████████████| 50/50 [00:01<00:00, 29.16it/s]\n",
      "Evaluating: 100%|█████████████████████████████████████████████████████████████████████| 30/30 [00:00<00:00, 110.67it/s]\n",
      "Training:   8%|█████▊                                                                   | 4/50 [00:00<00:01, 37.83it/s]"
     ]
    },
    {
     "name": "stdout",
     "output_type": "stream",
     "text": [
      "43.2\n"
     ]
    },
    {
     "name": "stderr",
     "output_type": "stream",
     "text": [
      "Training: 100%|████████████████████████████████████████████████████████████████████████| 50/50 [00:01<00:00, 29.12it/s]\n",
      "Evaluating: 100%|██████████████████████████████████████████████████████████████████████| 30/30 [00:00<00:00, 41.24it/s]\n",
      "Training:   6%|████▍                                                                    | 3/50 [00:00<00:02, 19.41it/s]"
     ]
    },
    {
     "name": "stdout",
     "output_type": "stream",
     "text": [
      "147.5\n"
     ]
    },
    {
     "name": "stderr",
     "output_type": "stream",
     "text": [
      "Training: 100%|████████████████████████████████████████████████████████████████████████| 50/50 [00:02<00:00, 23.88it/s]\n",
      "Evaluating: 100%|██████████████████████████████████████████████████████████████████████| 30/30 [00:00<00:00, 49.98it/s]\n",
      "Training:   6%|████▍                                                                    | 3/50 [00:00<00:01, 25.57it/s]"
     ]
    },
    {
     "name": "stdout",
     "output_type": "stream",
     "text": [
      "122.7\n"
     ]
    },
    {
     "name": "stderr",
     "output_type": "stream",
     "text": [
      "Training: 100%|████████████████████████████████████████████████████████████████████████| 50/50 [00:01<00:00, 27.22it/s]\n",
      "Evaluating: 100%|█████████████████████████████████████████████████████████████████████| 30/30 [00:00<00:00, 134.35it/s]\n",
      "Training:   8%|█████▊                                                                   | 4/50 [00:00<00:01, 31.16it/s]"
     ]
    },
    {
     "name": "stdout",
     "output_type": "stream",
     "text": [
      "39.0\n"
     ]
    },
    {
     "name": "stderr",
     "output_type": "stream",
     "text": [
      "Training: 100%|████████████████████████████████████████████████████████████████████████| 50/50 [00:01<00:00, 25.93it/s]\n",
      "Evaluating: 100%|██████████████████████████████████████████████████████████████████████| 30/30 [00:00<00:00, 41.71it/s]\n",
      "Training:   4%|██▉                                                                      | 2/50 [00:00<00:03, 15.23it/s]"
     ]
    },
    {
     "name": "stdout",
     "output_type": "stream",
     "text": [
      "147.23333333333332\n"
     ]
    },
    {
     "name": "stderr",
     "output_type": "stream",
     "text": [
      "Training: 100%|████████████████████████████████████████████████████████████████████████| 50/50 [00:01<00:00, 28.08it/s]\n",
      "Evaluating: 100%|██████████████████████████████████████████████████████████████████████| 30/30 [00:00<00:00, 46.84it/s]\n",
      "Training:   6%|████▍                                                                    | 3/50 [00:00<00:02, 20.55it/s]"
     ]
    },
    {
     "name": "stdout",
     "output_type": "stream",
     "text": [
      "123.6\n"
     ]
    },
    {
     "name": "stderr",
     "output_type": "stream",
     "text": [
      "Training: 100%|████████████████████████████████████████████████████████████████████████| 50/50 [00:02<00:00, 24.66it/s]\n",
      "Evaluating: 100%|██████████████████████████████████████████████████████████████████████| 30/30 [00:00<00:00, 54.07it/s]\n",
      "Training:   6%|████▍                                                                    | 3/50 [00:00<00:01, 26.34it/s]"
     ]
    },
    {
     "name": "stdout",
     "output_type": "stream",
     "text": [
      "106.16666666666667\n"
     ]
    },
    {
     "name": "stderr",
     "output_type": "stream",
     "text": [
      "Training: 100%|████████████████████████████████████████████████████████████████████████| 50/50 [00:01<00:00, 25.68it/s]\n",
      "Evaluating: 100%|██████████████████████████████████████████████████████████████████████| 30/30 [00:00<00:00, 74.38it/s]\n",
      "Training:   8%|█████▊                                                                   | 4/50 [00:00<00:01, 31.40it/s]"
     ]
    },
    {
     "name": "stdout",
     "output_type": "stream",
     "text": [
      "77.23333333333333\n"
     ]
    },
    {
     "name": "stderr",
     "output_type": "stream",
     "text": [
      "Training: 100%|████████████████████████████████████████████████████████████████████████| 50/50 [00:01<00:00, 26.15it/s]\n",
      "Evaluating: 100%|██████████████████████████████████████████████████████████████████████| 30/30 [00:00<00:00, 72.00it/s]\n",
      "Training:   6%|████▍                                                                    | 3/50 [00:00<00:02, 22.67it/s]"
     ]
    },
    {
     "name": "stdout",
     "output_type": "stream",
     "text": [
      "83.56666666666666\n"
     ]
    },
    {
     "name": "stderr",
     "output_type": "stream",
     "text": [
      "Training: 100%|████████████████████████████████████████████████████████████████████████| 50/50 [00:01<00:00, 27.77it/s]\n",
      "Evaluating: 100%|██████████████████████████████████████████████████████████████████████| 30/30 [00:00<00:00, 46.14it/s]\n",
      "Training:   6%|████▍                                                                    | 3/50 [00:00<00:02, 23.37it/s]"
     ]
    },
    {
     "name": "stdout",
     "output_type": "stream",
     "text": [
      "127.23333333333333\n"
     ]
    },
    {
     "name": "stderr",
     "output_type": "stream",
     "text": [
      "Training: 100%|████████████████████████████████████████████████████████████████████████| 50/50 [00:02<00:00, 21.17it/s]\n",
      "Evaluating: 100%|██████████████████████████████████████████████████████████████████████| 30/30 [00:00<00:00, 61.13it/s]\n",
      "Training:   6%|████▍                                                                    | 3/50 [00:00<00:01, 28.36it/s]"
     ]
    },
    {
     "name": "stdout",
     "output_type": "stream",
     "text": [
      "95.5\n"
     ]
    },
    {
     "name": "stderr",
     "output_type": "stream",
     "text": [
      "Training: 100%|████████████████████████████████████████████████████████████████████████| 50/50 [00:01<00:00, 27.15it/s]\n",
      "Evaluating: 100%|██████████████████████████████████████████████████████████████████████| 30/30 [00:00<00:00, 59.90it/s]\n",
      "Training:   6%|████▍                                                                    | 3/50 [00:00<00:01, 23.55it/s]"
     ]
    },
    {
     "name": "stdout",
     "output_type": "stream",
     "text": [
      "94.63333333333334\n"
     ]
    },
    {
     "name": "stderr",
     "output_type": "stream",
     "text": [
      "Training: 100%|████████████████████████████████████████████████████████████████████████| 50/50 [00:01<00:00, 26.40it/s]\n",
      "Evaluating: 100%|██████████████████████████████████████████████████████████████████████| 30/30 [00:00<00:00, 64.95it/s]\n",
      "Training:   8%|█████▊                                                                   | 4/50 [00:00<00:01, 32.96it/s]"
     ]
    },
    {
     "name": "stdout",
     "output_type": "stream",
     "text": [
      "85.56666666666666\n"
     ]
    },
    {
     "name": "stderr",
     "output_type": "stream",
     "text": [
      "Training: 100%|████████████████████████████████████████████████████████████████████████| 50/50 [00:01<00:00, 26.51it/s]\n",
      "Evaluating: 100%|██████████████████████████████████████████████████████████████████████| 30/30 [00:00<00:00, 52.52it/s]\n",
      "Training:   6%|████▍                                                                    | 3/50 [00:00<00:02, 23.37it/s]"
     ]
    },
    {
     "name": "stdout",
     "output_type": "stream",
     "text": [
      "109.86666666666666\n"
     ]
    },
    {
     "name": "stderr",
     "output_type": "stream",
     "text": [
      "Training: 100%|████████████████████████████████████████████████████████████████████████| 50/50 [00:01<00:00, 25.29it/s]\n",
      "Evaluating: 100%|██████████████████████████████████████████████████████████████████████| 30/30 [00:00<00:00, 44.40it/s]\n",
      "Training:   4%|██▉                                                                      | 2/50 [00:00<00:02, 18.29it/s]"
     ]
    },
    {
     "name": "stdout",
     "output_type": "stream",
     "text": [
      "131.96666666666667\n"
     ]
    },
    {
     "name": "stderr",
     "output_type": "stream",
     "text": [
      "Training: 100%|████████████████████████████████████████████████████████████████████████| 50/50 [00:01<00:00, 25.55it/s]\n",
      "Evaluating: 100%|██████████████████████████████████████████████████████████████████████| 30/30 [00:00<00:00, 77.19it/s]\n",
      "Training:   6%|████▍                                                                    | 3/50 [00:00<00:02, 23.28it/s]"
     ]
    },
    {
     "name": "stdout",
     "output_type": "stream",
     "text": [
      "78.8\n"
     ]
    },
    {
     "name": "stderr",
     "output_type": "stream",
     "text": [
      "Training: 100%|████████████████████████████████████████████████████████████████████████| 50/50 [00:02<00:00, 21.82it/s]\n",
      "Evaluating: 100%|██████████████████████████████████████████████████████████████████████| 30/30 [00:00<00:00, 69.53it/s]\n",
      "Training:   6%|████▍                                                                    | 3/50 [00:00<00:01, 23.93it/s]"
     ]
    },
    {
     "name": "stdout",
     "output_type": "stream",
     "text": [
      "79.43333333333334\n"
     ]
    },
    {
     "name": "stderr",
     "output_type": "stream",
     "text": [
      "Training: 100%|████████████████████████████████████████████████████████████████████████| 50/50 [00:02<00:00, 24.08it/s]\n",
      "Evaluating: 100%|██████████████████████████████████████████████████████████████████████| 30/30 [00:00<00:00, 50.63it/s]\n",
      "Training:  10%|███████▎                                                                 | 5/50 [00:00<00:01, 40.61it/s]"
     ]
    },
    {
     "name": "stdout",
     "output_type": "stream",
     "text": [
      "110.03333333333333\n"
     ]
    },
    {
     "name": "stderr",
     "output_type": "stream",
     "text": [
      "Training: 100%|████████████████████████████████████████████████████████████████████████| 50/50 [00:02<00:00, 21.38it/s]\n",
      "Evaluating: 100%|██████████████████████████████████████████████████████████████████████| 30/30 [00:00<00:00, 38.24it/s]\n",
      "Training:   6%|████▍                                                                    | 3/50 [00:00<00:02, 18.45it/s]"
     ]
    },
    {
     "name": "stdout",
     "output_type": "stream",
     "text": [
      "139.96666666666667\n"
     ]
    },
    {
     "name": "stderr",
     "output_type": "stream",
     "text": [
      "Training: 100%|████████████████████████████████████████████████████████████████████████| 50/50 [00:01<00:00, 26.71it/s]\n",
      "Evaluating: 100%|█████████████████████████████████████████████████████████████████████| 30/30 [00:00<00:00, 109.55it/s]\n",
      "Training:   6%|████▍                                                                    | 3/50 [00:00<00:01, 23.93it/s]"
     ]
    },
    {
     "name": "stdout",
     "output_type": "stream",
     "text": [
      "53.03333333333333\n"
     ]
    },
    {
     "name": "stderr",
     "output_type": "stream",
     "text": [
      "Training: 100%|████████████████████████████████████████████████████████████████████████| 50/50 [00:02<00:00, 24.06it/s]\n",
      "Evaluating: 100%|█████████████████████████████████████████████████████████████████████| 30/30 [00:00<00:00, 123.15it/s]\n",
      "Training:   6%|████▍                                                                    | 3/50 [00:00<00:01, 25.34it/s]"
     ]
    },
    {
     "name": "stdout",
     "output_type": "stream",
     "text": [
      "41.6\n"
     ]
    },
    {
     "name": "stderr",
     "output_type": "stream",
     "text": [
      "Training: 100%|████████████████████████████████████████████████████████████████████████| 50/50 [00:01<00:00, 26.26it/s]\n",
      "Evaluating: 100%|█████████████████████████████████████████████████████████████████████| 30/30 [00:00<00:00, 104.66it/s]\n",
      "Training:   6%|████▍                                                                    | 3/50 [00:00<00:01, 28.82it/s]"
     ]
    },
    {
     "name": "stdout",
     "output_type": "stream",
     "text": [
      "51.766666666666666\n"
     ]
    },
    {
     "name": "stderr",
     "output_type": "stream",
     "text": [
      "Training: 100%|████████████████████████████████████████████████████████████████████████| 50/50 [00:02<00:00, 21.93it/s]\n",
      "Evaluating: 100%|██████████████████████████████████████████████████████████████████████| 30/30 [00:00<00:00, 51.69it/s]\n",
      "Training:   6%|████▍                                                                    | 3/50 [00:00<00:02, 23.19it/s]"
     ]
    },
    {
     "name": "stdout",
     "output_type": "stream",
     "text": [
      "112.63333333333334\n"
     ]
    },
    {
     "name": "stderr",
     "output_type": "stream",
     "text": [
      "Training: 100%|████████████████████████████████████████████████████████████████████████| 50/50 [00:01<00:00, 25.45it/s]\n",
      "Evaluating: 100%|██████████████████████████████████████████████████████████████████████| 30/30 [00:00<00:00, 34.81it/s]\n",
      "Training:   6%|████▍                                                                    | 3/50 [00:00<00:01, 24.32it/s]"
     ]
    },
    {
     "name": "stdout",
     "output_type": "stream",
     "text": [
      "175.5\n"
     ]
    },
    {
     "name": "stderr",
     "output_type": "stream",
     "text": [
      "Training: 100%|████████████████████████████████████████████████████████████████████████| 50/50 [00:02<00:00, 19.31it/s]\n",
      "Evaluating: 100%|██████████████████████████████████████████████████████████████████████| 30/30 [00:00<00:00, 31.80it/s]\n",
      "Training:   6%|████▍                                                                    | 3/50 [00:00<00:02, 18.80it/s]"
     ]
    },
    {
     "name": "stdout",
     "output_type": "stream",
     "text": [
      "193.03333333333333\n"
     ]
    },
    {
     "name": "stderr",
     "output_type": "stream",
     "text": [
      "Training: 100%|████████████████████████████████████████████████████████████████████████| 50/50 [00:02<00:00, 20.06it/s]\n",
      "Evaluating: 100%|██████████████████████████████████████████████████████████████████████| 30/30 [00:00<00:00, 31.24it/s]\n",
      "Training:   6%|████▍                                                                    | 3/50 [00:00<00:01, 23.74it/s]"
     ]
    },
    {
     "name": "stdout",
     "output_type": "stream",
     "text": [
      "185.93333333333334\n"
     ]
    },
    {
     "name": "stderr",
     "output_type": "stream",
     "text": [
      "Training: 100%|████████████████████████████████████████████████████████████████████████| 50/50 [00:02<00:00, 20.59it/s]\n",
      "Evaluating: 100%|██████████████████████████████████████████████████████████████████████| 30/30 [00:00<00:00, 35.24it/s]\n",
      "Training:   8%|█████▊                                                                   | 4/50 [00:00<00:01, 37.83it/s]"
     ]
    },
    {
     "name": "stdout",
     "output_type": "stream",
     "text": [
      "170.53333333333333\n"
     ]
    },
    {
     "name": "stderr",
     "output_type": "stream",
     "text": [
      "Training: 100%|████████████████████████████████████████████████████████████████████████| 50/50 [00:01<00:00, 27.20it/s]\n",
      "Evaluating: 100%|██████████████████████████████████████████████████████████████████████| 30/30 [00:00<00:00, 93.40it/s]\n",
      "Training:   8%|█████▊                                                                   | 4/50 [00:00<00:01, 39.56it/s]"
     ]
    },
    {
     "name": "stdout",
     "output_type": "stream",
     "text": [
      "61.56666666666667\n"
     ]
    },
    {
     "name": "stderr",
     "output_type": "stream",
     "text": [
      "Training: 100%|████████████████████████████████████████████████████████████████████████| 50/50 [00:02<00:00, 24.63it/s]\n",
      "Evaluating: 100%|██████████████████████████████████████████████████████████████████████| 30/30 [00:00<00:00, 30.54it/s]\n",
      "Training:   8%|█████▊                                                                   | 4/50 [00:00<00:01, 31.42it/s]"
     ]
    },
    {
     "name": "stdout",
     "output_type": "stream",
     "text": [
      "195.56666666666666\n"
     ]
    },
    {
     "name": "stderr",
     "output_type": "stream",
     "text": [
      "Training: 100%|████████████████████████████████████████████████████████████████████████| 50/50 [00:02<00:00, 19.25it/s]\n",
      "Evaluating: 100%|██████████████████████████████████████████████████████████████████████| 30/30 [00:00<00:00, 51.76it/s]\n",
      "Training:   6%|████▍                                                                    | 3/50 [00:00<00:01, 28.10it/s]"
     ]
    },
    {
     "name": "stdout",
     "output_type": "stream",
     "text": [
      "113.86666666666666\n"
     ]
    },
    {
     "name": "stderr",
     "output_type": "stream",
     "text": [
      "Training: 100%|████████████████████████████████████████████████████████████████████████| 50/50 [00:02<00:00, 19.87it/s]\n",
      "Evaluating: 100%|██████████████████████████████████████████████████████████████████████| 30/30 [00:00<00:00, 35.65it/s]\n",
      "Training:   4%|██▉                                                                      | 2/50 [00:00<00:02, 16.21it/s]"
     ]
    },
    {
     "name": "stdout",
     "output_type": "stream",
     "text": [
      "167.73333333333332\n"
     ]
    },
    {
     "name": "stderr",
     "output_type": "stream",
     "text": [
      "Training: 100%|████████████████████████████████████████████████████████████████████████| 50/50 [00:02<00:00, 22.11it/s]\n",
      "Evaluating: 100%|██████████████████████████████████████████████████████████████████████| 30/30 [00:00<00:00, 35.21it/s]\n",
      "Training:   4%|██▉                                                                      | 2/50 [00:00<00:03, 13.61it/s]"
     ]
    },
    {
     "name": "stdout",
     "output_type": "stream",
     "text": [
      "174.4\n"
     ]
    },
    {
     "name": "stderr",
     "output_type": "stream",
     "text": [
      "Training: 100%|████████████████████████████████████████████████████████████████████████| 50/50 [00:02<00:00, 19.61it/s]\n",
      "Evaluating: 100%|██████████████████████████████████████████████████████████████████████| 30/30 [00:00<00:00, 62.04it/s]\n",
      "Training:   6%|████▍                                                                    | 3/50 [00:00<00:02, 23.41it/s]"
     ]
    },
    {
     "name": "stdout",
     "output_type": "stream",
     "text": [
      "94.53333333333333\n"
     ]
    },
    {
     "name": "stderr",
     "output_type": "stream",
     "text": [
      "Training: 100%|████████████████████████████████████████████████████████████████████████| 50/50 [00:02<00:00, 23.31it/s]\n",
      "Evaluating: 100%|██████████████████████████████████████████████████████████████████████| 30/30 [00:00<00:00, 33.37it/s]\n",
      "Training:   4%|██▉                                                                      | 2/50 [00:00<00:02, 18.92it/s]"
     ]
    },
    {
     "name": "stdout",
     "output_type": "stream",
     "text": [
      "181.36666666666667\n"
     ]
    },
    {
     "name": "stderr",
     "output_type": "stream",
     "text": [
      "Training: 100%|████████████████████████████████████████████████████████████████████████| 50/50 [00:01<00:00, 26.01it/s]\n",
      "Evaluating: 100%|██████████████████████████████████████████████████████████████████████| 30/30 [00:00<00:00, 46.91it/s]\n",
      "Training:   6%|████▍                                                                    | 3/50 [00:00<00:01, 29.67it/s]"
     ]
    },
    {
     "name": "stdout",
     "output_type": "stream",
     "text": [
      "130.26666666666668\n"
     ]
    },
    {
     "name": "stderr",
     "output_type": "stream",
     "text": [
      "Training: 100%|████████████████████████████████████████████████████████████████████████| 50/50 [00:02<00:00, 22.19it/s]\n",
      "Evaluating: 100%|██████████████████████████████████████████████████████████████████████| 30/30 [00:00<00:00, 69.57it/s]\n",
      "Training:   6%|████▍                                                                    | 3/50 [00:00<00:02, 20.83it/s]"
     ]
    },
    {
     "name": "stdout",
     "output_type": "stream",
     "text": [
      "82.6\n"
     ]
    },
    {
     "name": "stderr",
     "output_type": "stream",
     "text": [
      "Training: 100%|████████████████████████████████████████████████████████████████████████| 50/50 [00:02<00:00, 22.42it/s]\n",
      "Evaluating: 100%|██████████████████████████████████████████████████████████████████████| 30/30 [00:00<00:00, 40.78it/s]\n",
      "Training:   8%|█████▊                                                                   | 4/50 [00:00<00:01, 33.23it/s]"
     ]
    },
    {
     "name": "stdout",
     "output_type": "stream",
     "text": [
      "133.33333333333334\n"
     ]
    },
    {
     "name": "stderr",
     "output_type": "stream",
     "text": [
      "Training: 100%|████████████████████████████████████████████████████████████████████████| 50/50 [00:01<00:00, 28.39it/s]\n",
      "Evaluating: 100%|█████████████████████████████████████████████████████████████████████| 30/30 [00:00<00:00, 157.43it/s]\n",
      "Training:   6%|████▍                                                                    | 3/50 [00:00<00:01, 29.38it/s]"
     ]
    },
    {
     "name": "stdout",
     "output_type": "stream",
     "text": [
      "34.93333333333333\n"
     ]
    },
    {
     "name": "stderr",
     "output_type": "stream",
     "text": [
      "Training: 100%|████████████████████████████████████████████████████████████████████████| 50/50 [00:02<00:00, 21.34it/s]\n",
      "Evaluating: 100%|██████████████████████████████████████████████████████████████████████| 30/30 [00:00<00:00, 55.75it/s]\n",
      "Training:   8%|█████▊                                                                   | 4/50 [00:00<00:01, 36.12it/s]"
     ]
    },
    {
     "name": "stdout",
     "output_type": "stream",
     "text": [
      "107.83333333333333\n"
     ]
    },
    {
     "name": "stderr",
     "output_type": "stream",
     "text": [
      "Training: 100%|████████████████████████████████████████████████████████████████████████| 50/50 [00:02<00:00, 24.04it/s]\n",
      "Evaluating: 100%|██████████████████████████████████████████████████████████████████████| 30/30 [00:00<00:00, 63.52it/s]\n",
      "Training:   6%|████▍                                                                    | 3/50 [00:00<00:02, 22.73it/s]"
     ]
    },
    {
     "name": "stdout",
     "output_type": "stream",
     "text": [
      "93.16666666666667\n"
     ]
    },
    {
     "name": "stderr",
     "output_type": "stream",
     "text": [
      "Training: 100%|████████████████████████████████████████████████████████████████████████| 50/50 [00:02<00:00, 20.39it/s]\n",
      "Evaluating: 100%|██████████████████████████████████████████████████████████████████████| 30/30 [00:00<00:00, 51.32it/s]\n",
      "Training:   4%|██▉                                                                      | 2/50 [00:00<00:02, 17.74it/s]"
     ]
    },
    {
     "name": "stdout",
     "output_type": "stream",
     "text": [
      "117.7\n"
     ]
    },
    {
     "name": "stderr",
     "output_type": "stream",
     "text": [
      "Training: 100%|████████████████████████████████████████████████████████████████████████| 50/50 [00:01<00:00, 25.93it/s]\n",
      "Evaluating: 100%|██████████████████████████████████████████████████████████████████████| 30/30 [00:00<00:00, 55.81it/s]\n",
      "Training:   8%|█████▊                                                                   | 4/50 [00:00<00:01, 29.41it/s]"
     ]
    },
    {
     "name": "stdout",
     "output_type": "stream",
     "text": [
      "103.33333333333333\n"
     ]
    },
    {
     "name": "stderr",
     "output_type": "stream",
     "text": [
      "Training: 100%|████████████████████████████████████████████████████████████████████████| 50/50 [00:01<00:00, 33.29it/s]\n",
      "Evaluating: 100%|██████████████████████████████████████████████████████████████████████| 30/30 [00:00<00:00, 58.81it/s]\n",
      "Training:   4%|██▉                                                                      | 2/50 [00:00<00:03, 15.58it/s]"
     ]
    },
    {
     "name": "stdout",
     "output_type": "stream",
     "text": [
      "99.7\n"
     ]
    },
    {
     "name": "stderr",
     "output_type": "stream",
     "text": [
      "Training: 100%|████████████████████████████████████████████████████████████████████████| 50/50 [00:01<00:00, 31.29it/s]\n",
      "Evaluating: 100%|██████████████████████████████████████████████████████████████████████| 30/30 [00:00<00:00, 69.53it/s]\n",
      "Training:   6%|████▍                                                                    | 3/50 [00:00<00:01, 25.27it/s]"
     ]
    },
    {
     "name": "stdout",
     "output_type": "stream",
     "text": [
      "86.53333333333333\n"
     ]
    },
    {
     "name": "stderr",
     "output_type": "stream",
     "text": [
      "Training: 100%|████████████████████████████████████████████████████████████████████████| 50/50 [00:02<00:00, 22.40it/s]\n",
      "Evaluating: 100%|██████████████████████████████████████████████████████████████████████| 30/30 [00:00<00:00, 34.04it/s]\n",
      "Training:   6%|████▍                                                                    | 3/50 [00:00<00:01, 28.27it/s]"
     ]
    },
    {
     "name": "stdout",
     "output_type": "stream",
     "text": [
      "175.83333333333334\n"
     ]
    },
    {
     "name": "stderr",
     "output_type": "stream",
     "text": [
      "Training: 100%|████████████████████████████████████████████████████████████████████████| 50/50 [00:01<00:00, 33.16it/s]\n",
      "Evaluating: 100%|█████████████████████████████████████████████████████████████████████| 30/30 [00:00<00:00, 129.90it/s]\n",
      "Training:  10%|███████▎                                                                 | 5/50 [00:00<00:01, 35.22it/s]"
     ]
    },
    {
     "name": "stdout",
     "output_type": "stream",
     "text": [
      "40.56666666666667\n"
     ]
    },
    {
     "name": "stderr",
     "output_type": "stream",
     "text": [
      "Training: 100%|████████████████████████████████████████████████████████████████████████| 50/50 [00:02<00:00, 21.35it/s]\n",
      "Evaluating: 100%|██████████████████████████████████████████████████████████████████████| 30/30 [00:00<00:00, 30.50it/s]\n",
      "Training:   6%|████▍                                                                    | 3/50 [00:00<00:01, 27.59it/s]"
     ]
    },
    {
     "name": "stdout",
     "output_type": "stream",
     "text": [
      "192.8\n"
     ]
    },
    {
     "name": "stderr",
     "output_type": "stream",
     "text": [
      "Training: 100%|████████████████████████████████████████████████████████████████████████| 50/50 [00:02<00:00, 22.60it/s]\n",
      "Evaluating: 100%|██████████████████████████████████████████████████████████████████████| 30/30 [00:00<00:00, 84.56it/s]\n",
      "Training:   6%|████▍                                                                    | 3/50 [00:00<00:01, 29.19it/s]"
     ]
    },
    {
     "name": "stdout",
     "output_type": "stream",
     "text": [
      "66.73333333333333\n"
     ]
    },
    {
     "name": "stderr",
     "output_type": "stream",
     "text": [
      "Training: 100%|████████████████████████████████████████████████████████████████████████| 50/50 [00:02<00:00, 24.36it/s]\n",
      "Evaluating: 100%|██████████████████████████████████████████████████████████████████████| 30/30 [00:00<00:00, 51.72it/s]\n",
      "Training:   8%|█████▊                                                                   | 4/50 [00:00<00:01, 25.58it/s]"
     ]
    },
    {
     "name": "stdout",
     "output_type": "stream",
     "text": [
      "119.73333333333333\n"
     ]
    },
    {
     "name": "stderr",
     "output_type": "stream",
     "text": [
      "Training: 100%|████████████████████████████████████████████████████████████████████████| 50/50 [00:02<00:00, 20.73it/s]\n",
      "Evaluating: 100%|██████████████████████████████████████████████████████████████████████| 30/30 [00:00<00:00, 35.25it/s]\n",
      "Training:   6%|████▍                                                                    | 3/50 [00:00<00:01, 27.34it/s]"
     ]
    },
    {
     "name": "stdout",
     "output_type": "stream",
     "text": [
      "170.4\n"
     ]
    },
    {
     "name": "stderr",
     "output_type": "stream",
     "text": [
      "Training: 100%|████████████████████████████████████████████████████████████████████████| 50/50 [00:02<00:00, 21.63it/s]\n",
      "Evaluating: 100%|██████████████████████████████████████████████████████████████████████| 30/30 [00:00<00:00, 58.07it/s]\n",
      "Training:   4%|██▉                                                                      | 2/50 [00:00<00:03, 15.11it/s]"
     ]
    },
    {
     "name": "stdout",
     "output_type": "stream",
     "text": [
      "101.26666666666667\n"
     ]
    },
    {
     "name": "stderr",
     "output_type": "stream",
     "text": [
      "Training: 100%|████████████████████████████████████████████████████████████████████████| 50/50 [00:02<00:00, 24.60it/s]\n",
      "Evaluating: 100%|██████████████████████████████████████████████████████████████████████| 30/30 [00:00<00:00, 58.58it/s]\n",
      "Training:   6%|████▍                                                                    | 3/50 [00:00<00:01, 26.61it/s]"
     ]
    },
    {
     "name": "stdout",
     "output_type": "stream",
     "text": [
      "101.96666666666667\n"
     ]
    },
    {
     "name": "stderr",
     "output_type": "stream",
     "text": [
      "Training: 100%|████████████████████████████████████████████████████████████████████████| 50/50 [00:01<00:00, 26.60it/s]\n",
      "Evaluating: 100%|██████████████████████████████████████████████████████████████████████| 30/30 [00:00<00:00, 57.85it/s]\n",
      "Training:   8%|█████▊                                                                   | 4/50 [00:00<00:01, 37.47it/s]"
     ]
    },
    {
     "name": "stdout",
     "output_type": "stream",
     "text": [
      "97.3\n"
     ]
    },
    {
     "name": "stderr",
     "output_type": "stream",
     "text": [
      "Training: 100%|████████████████████████████████████████████████████████████████████████| 50/50 [00:01<00:00, 28.99it/s]\n",
      "Evaluating: 100%|██████████████████████████████████████████████████████████████████████| 30/30 [00:00<00:00, 64.27it/s]\n",
      "Training:   8%|█████▊                                                                   | 4/50 [00:00<00:01, 28.00it/s]"
     ]
    },
    {
     "name": "stdout",
     "output_type": "stream",
     "text": [
      "77.36666666666666\n"
     ]
    },
    {
     "name": "stderr",
     "output_type": "stream",
     "text": [
      "Training: 100%|████████████████████████████████████████████████████████████████████████| 50/50 [00:01<00:00, 25.69it/s]\n",
      "Evaluating: 100%|██████████████████████████████████████████████████████████████████████| 30/30 [00:00<00:00, 49.04it/s]\n",
      "Training:   6%|████▍                                                                    | 3/50 [00:00<00:02, 18.91it/s]"
     ]
    },
    {
     "name": "stdout",
     "output_type": "stream",
     "text": [
      "129.86666666666667\n"
     ]
    },
    {
     "name": "stderr",
     "output_type": "stream",
     "text": [
      "Training: 100%|████████████████████████████████████████████████████████████████████████| 50/50 [00:02<00:00, 20.32it/s]\n",
      "Evaluating: 100%|██████████████████████████████████████████████████████████████████████| 30/30 [00:00<00:00, 46.52it/s]\n",
      "Training:   6%|████▍                                                                    | 3/50 [00:00<00:02, 22.06it/s]"
     ]
    },
    {
     "name": "stdout",
     "output_type": "stream",
     "text": [
      "130.2\n"
     ]
    },
    {
     "name": "stderr",
     "output_type": "stream",
     "text": [
      "Training: 100%|████████████████████████████████████████████████████████████████████████| 50/50 [00:02<00:00, 24.51it/s]\n",
      "Evaluating: 100%|██████████████████████████████████████████████████████████████████████| 30/30 [00:00<00:00, 56.50it/s]\n",
      "Training:   6%|████▍                                                                    | 3/50 [00:00<00:01, 24.10it/s]"
     ]
    },
    {
     "name": "stdout",
     "output_type": "stream",
     "text": [
      "102.6\n"
     ]
    },
    {
     "name": "stderr",
     "output_type": "stream",
     "text": [
      "Training: 100%|████████████████████████████████████████████████████████████████████████| 50/50 [00:02<00:00, 24.52it/s]\n",
      "Evaluating: 100%|██████████████████████████████████████████████████████████████████████| 30/30 [00:00<00:00, 53.16it/s]\n",
      "Training:   4%|██▉                                                                      | 2/50 [00:00<00:02, 17.90it/s]"
     ]
    },
    {
     "name": "stdout",
     "output_type": "stream",
     "text": [
      "112.06666666666666\n"
     ]
    },
    {
     "name": "stderr",
     "output_type": "stream",
     "text": [
      "Training: 100%|████████████████████████████████████████████████████████████████████████| 50/50 [00:02<00:00, 22.48it/s]\n",
      "Evaluating: 100%|██████████████████████████████████████████████████████████████████████| 30/30 [00:00<00:00, 55.39it/s]\n",
      "Training:   6%|████▍                                                                    | 3/50 [00:00<00:02, 19.44it/s]"
     ]
    },
    {
     "name": "stdout",
     "output_type": "stream",
     "text": [
      "96.53333333333333\n"
     ]
    },
    {
     "name": "stderr",
     "output_type": "stream",
     "text": [
      "Training: 100%|████████████████████████████████████████████████████████████████████████| 50/50 [00:01<00:00, 25.42it/s]\n",
      "Evaluating: 100%|██████████████████████████████████████████████████████████████████████| 30/30 [00:00<00:00, 50.02it/s]\n",
      "Training:   4%|██▉                                                                      | 2/50 [00:00<00:02, 18.22it/s]"
     ]
    },
    {
     "name": "stdout",
     "output_type": "stream",
     "text": [
      "120.0\n"
     ]
    },
    {
     "name": "stderr",
     "output_type": "stream",
     "text": [
      "Training: 100%|████████████████████████████████████████████████████████████████████████| 50/50 [00:02<00:00, 23.71it/s]\n",
      "Evaluating: 100%|██████████████████████████████████████████████████████████████████████| 30/30 [00:00<00:00, 45.75it/s]\n",
      "Training:  10%|███████▎                                                                 | 5/50 [00:00<00:01, 41.20it/s]"
     ]
    },
    {
     "name": "stdout",
     "output_type": "stream",
     "text": [
      "125.9\n"
     ]
    },
    {
     "name": "stderr",
     "output_type": "stream",
     "text": [
      "Training: 100%|████████████████████████████████████████████████████████████████████████| 50/50 [00:01<00:00, 28.70it/s]\n",
      "Evaluating: 100%|██████████████████████████████████████████████████████████████████████| 30/30 [00:00<00:00, 53.39it/s]\n",
      "Training:   4%|██▉                                                                      | 2/50 [00:00<00:02, 19.77it/s]"
     ]
    },
    {
     "name": "stdout",
     "output_type": "stream",
     "text": [
      "112.1\n"
     ]
    },
    {
     "name": "stderr",
     "output_type": "stream",
     "text": [
      "Training: 100%|████████████████████████████████████████████████████████████████████████| 50/50 [00:02<00:00, 20.98it/s]\n",
      "Evaluating: 100%|██████████████████████████████████████████████████████████████████████| 30/30 [00:00<00:00, 52.02it/s]\n",
      "Training:   6%|████▍                                                                    | 3/50 [00:00<00:02, 22.67it/s]"
     ]
    },
    {
     "name": "stdout",
     "output_type": "stream",
     "text": [
      "105.73333333333333\n"
     ]
    },
    {
     "name": "stderr",
     "output_type": "stream",
     "text": [
      "Training: 100%|████████████████████████████████████████████████████████████████████████| 50/50 [00:02<00:00, 24.61it/s]\n",
      "Evaluating: 100%|██████████████████████████████████████████████████████████████████████| 30/30 [00:00<00:00, 39.88it/s]\n",
      "Training:   4%|██▉                                                                      | 2/50 [00:00<00:03, 15.95it/s]"
     ]
    },
    {
     "name": "stdout",
     "output_type": "stream",
     "text": [
      "156.36666666666667\n"
     ]
    },
    {
     "name": "stderr",
     "output_type": "stream",
     "text": [
      "Training: 100%|████████████████████████████████████████████████████████████████████████| 50/50 [00:02<00:00, 22.30it/s]\n",
      "Evaluating: 100%|██████████████████████████████████████████████████████████████████████| 30/30 [00:00<00:00, 49.72it/s]\n",
      "Training:   4%|██▉                                                                      | 2/50 [00:00<00:02, 16.80it/s]"
     ]
    },
    {
     "name": "stdout",
     "output_type": "stream",
     "text": [
      "121.43333333333334\n"
     ]
    },
    {
     "name": "stderr",
     "output_type": "stream",
     "text": [
      "Training: 100%|████████████████████████████████████████████████████████████████████████| 50/50 [00:02<00:00, 23.45it/s]\n",
      "Evaluating: 100%|██████████████████████████████████████████████████████████████████████| 30/30 [00:00<00:00, 57.93it/s]\n",
      "Training:   6%|████▍                                                                    | 3/50 [00:00<00:02, 19.65it/s]"
     ]
    },
    {
     "name": "stdout",
     "output_type": "stream",
     "text": [
      "105.26666666666667\n"
     ]
    },
    {
     "name": "stderr",
     "output_type": "stream",
     "text": [
      "Training: 100%|████████████████████████████████████████████████████████████████████████| 50/50 [00:02<00:00, 22.64it/s]\n",
      "Evaluating: 100%|██████████████████████████████████████████████████████████████████████| 30/30 [00:00<00:00, 77.91it/s]\n",
      "Training:   8%|█████▊                                                                   | 4/50 [00:00<00:01, 33.41it/s]"
     ]
    },
    {
     "name": "stdout",
     "output_type": "stream",
     "text": [
      "75.36666666666666\n"
     ]
    },
    {
     "name": "stderr",
     "output_type": "stream",
     "text": [
      "Training: 100%|████████████████████████████████████████████████████████████████████████| 50/50 [00:01<00:00, 25.86it/s]\n",
      "Evaluating: 100%|██████████████████████████████████████████████████████████████████████| 30/30 [00:00<00:00, 33.40it/s]\n",
      "Training:   6%|████▍                                                                    | 3/50 [00:00<00:01, 29.40it/s]"
     ]
    },
    {
     "name": "stdout",
     "output_type": "stream",
     "text": [
      "177.93333333333334\n"
     ]
    },
    {
     "name": "stderr",
     "output_type": "stream",
     "text": [
      "Training: 100%|████████████████████████████████████████████████████████████████████████| 50/50 [00:02<00:00, 22.23it/s]\n",
      "Evaluating: 100%|██████████████████████████████████████████████████████████████████████| 30/30 [00:00<00:00, 40.07it/s]\n",
      "Training:   8%|█████▊                                                                   | 4/50 [00:00<00:02, 22.70it/s]"
     ]
    },
    {
     "name": "stdout",
     "output_type": "stream",
     "text": [
      "157.36666666666667\n"
     ]
    },
    {
     "name": "stderr",
     "output_type": "stream",
     "text": [
      "Training: 100%|████████████████████████████████████████████████████████████████████████| 50/50 [00:01<00:00, 27.29it/s]\n",
      "Evaluating: 100%|█████████████████████████████████████████████████████████████████████| 30/30 [00:00<00:00, 182.70it/s]\n",
      "Training:   8%|█████▊                                                                   | 4/50 [00:00<00:01, 27.99it/s]"
     ]
    },
    {
     "name": "stdout",
     "output_type": "stream",
     "text": [
      "25.666666666666668\n"
     ]
    },
    {
     "name": "stderr",
     "output_type": "stream",
     "text": [
      "Training: 100%|████████████████████████████████████████████████████████████████████████| 50/50 [00:02<00:00, 23.04it/s]\n",
      "Evaluating: 100%|██████████████████████████████████████████████████████████████████████| 30/30 [00:00<00:00, 70.69it/s]\n",
      "Training:  14%|██████████▏                                                              | 7/50 [00:00<00:00, 68.35it/s]"
     ]
    },
    {
     "name": "stdout",
     "output_type": "stream",
     "text": [
      "83.5\n"
     ]
    },
    {
     "name": "stderr",
     "output_type": "stream",
     "text": [
      "Training: 100%|████████████████████████████████████████████████████████████████████████| 50/50 [00:02<00:00, 23.41it/s]\n",
      "Evaluating: 100%|██████████████████████████████████████████████████████████████████████| 30/30 [00:00<00:00, 41.78it/s]"
     ]
    },
    {
     "name": "stdout",
     "output_type": "stream",
     "text": [
      "144.6\n",
      "Learning time:\n",
      " 404.6179814338684\n",
      "\n",
      "Learning Performance:\n",
      "\n"
     ]
    },
    {
     "name": "stderr",
     "output_type": "stream",
     "text": [
      "\n"
     ]
    },
    {
     "data": {
      "text/plain": [
       "<Figure size 432x288 with 0 Axes>"
      ]
     },
     "metadata": {},
     "output_type": "display_data"
    },
    {
     "data": {
      "image/png": "[encoded data removed]",
      "text/plain": [
       "<Figure size 432x288 with 1 Axes>"
      ]
     },
     "metadata": {
      "needs_background": "light"
     },
     "output_type": "display_data"
    }
   ],
   "source": [
    "#DQN with a replay buffer, but without a target network.\n",
    "#Here you set use_target_model = False and otherwise set the replay memory parameters to the above suggested values\n",
    "\n",
    "hyperparams_CartPole = {\n",
    "    'epsilon_decay_steps' : 100000, \n",
    "    'final_epsilon' : 0.1,\n",
    "    'batch_size' : 32, \n",
    "    'update_steps' : 10, \n",
    "    'memory_size' : 2000, \n",
    "    'beta' : 0.99, \n",
    "    'model_replace_freq' : 2000,\n",
    "    'learning_rate' : 0.0003,\n",
    "    'use_target_model': False\n",
    "}\n",
    "\n",
    "training_episodes, test_interval = 10000, 50\n",
    "start_time = time.time()\n",
    "agent = DQN_agent(env_CartPole, hyperparams_CartPole)\n",
    "result = agent.learn_and_evaluate(training_episodes, test_interval)\n",
    "run_time = time.time() - start_time\n",
    "\n",
    "print(\"Learning time:\\n\", run_time)\n",
    "plot_result(result, test_interval, [\"batch_update without target_model\"])"
   ]
  },
  {
   "cell_type": "code",
   "execution_count": 13,
   "metadata": {},
   "outputs": [
    {
     "name": "stderr",
     "output_type": "stream",
     "text": [
      "Training: 100%|███████████████████████████████████████████████████████████████████████| 50/50 [00:00<00:00, 175.26it/s]\n",
      "Evaluating: 100%|█████████████████████████████████████████████████████████████████████| 30/30 [00:00<00:00, 537.14it/s]\n",
      "Training:  42%|█████████████████████████████▊                                         | 21/50 [00:00<00:00, 205.66it/s]"
     ]
    },
    {
     "name": "stdout",
     "output_type": "stream",
     "text": [
      "9.466666666666667\n"
     ]
    },
    {
     "name": "stderr",
     "output_type": "stream",
     "text": [
      "Training: 100%|███████████████████████████████████████████████████████████████████████| 50/50 [00:00<00:00, 190.18it/s]\n",
      "Evaluating: 100%|█████████████████████████████████████████████████████████████████████| 30/30 [00:00<00:00, 493.25it/s]\n",
      "Training:  34%|████████████████████████▏                                              | 17/50 [00:00<00:00, 169.18it/s]"
     ]
    },
    {
     "name": "stdout",
     "output_type": "stream",
     "text": [
      "9.333333333333334\n"
     ]
    },
    {
     "name": "stderr",
     "output_type": "stream",
     "text": [
      "Training: 100%|███████████████████████████████████████████████████████████████████████| 50/50 [00:00<00:00, 176.95it/s]\n",
      "Evaluating: 100%|█████████████████████████████████████████████████████████████████████| 30/30 [00:00<00:00, 374.54it/s]\n",
      "Training:  38%|██████████████████████████▉                                            | 19/50 [00:00<00:00, 175.78it/s]"
     ]
    },
    {
     "name": "stdout",
     "output_type": "stream",
     "text": [
      "9.4\n"
     ]
    },
    {
     "name": "stderr",
     "output_type": "stream",
     "text": [
      "Training: 100%|███████████████████████████████████████████████████████████████████████| 50/50 [00:00<00:00, 180.98it/s]\n",
      "Evaluating: 100%|█████████████████████████████████████████████████████████████████████| 30/30 [00:00<00:00, 369.33it/s]\n",
      "Training:  38%|██████████████████████████▉                                            | 19/50 [00:00<00:00, 177.61it/s]"
     ]
    },
    {
     "name": "stdout",
     "output_type": "stream",
     "text": [
      "9.3\n"
     ]
    },
    {
     "name": "stderr",
     "output_type": "stream",
     "text": [
      "Training: 100%|███████████████████████████████████████████████████████████████████████| 50/50 [00:00<00:00, 190.36it/s]\n",
      "Evaluating: 100%|█████████████████████████████████████████████████████████████████████| 30/30 [00:00<00:00, 324.75it/s]\n",
      "Training:  40%|████████████████████████████▍                                          | 20/50 [00:00<00:00, 188.51it/s]"
     ]
    },
    {
     "name": "stdout",
     "output_type": "stream",
     "text": [
      "14.766666666666667\n"
     ]
    },
    {
     "name": "stderr",
     "output_type": "stream",
     "text": [
      "Training: 100%|███████████████████████████████████████████████████████████████████████| 50/50 [00:00<00:00, 171.77it/s]\n",
      "Evaluating: 100%|█████████████████████████████████████████████████████████████████████| 30/30 [00:00<00:00, 164.51it/s]\n",
      "Training:  46%|████████████████████████████████▋                                      | 23/50 [00:00<00:00, 201.63it/s]"
     ]
    },
    {
     "name": "stdout",
     "output_type": "stream",
     "text": [
      "26.333333333333332\n"
     ]
    },
    {
     "name": "stderr",
     "output_type": "stream",
     "text": [
      "Training: 100%|███████████████████████████████████████████████████████████████████████| 50/50 [00:00<00:00, 188.26it/s]\n",
      "Evaluating: 100%|█████████████████████████████████████████████████████████████████████| 30/30 [00:00<00:00, 142.44it/s]\n",
      "Training:  34%|████████████████████████▏                                              | 17/50 [00:00<00:00, 158.74it/s]"
     ]
    },
    {
     "name": "stdout",
     "output_type": "stream",
     "text": [
      "38.8\n"
     ]
    },
    {
     "name": "stderr",
     "output_type": "stream",
     "text": [
      "Training: 100%|███████████████████████████████████████████████████████████████████████| 50/50 [00:00<00:00, 146.88it/s]\n",
      "Evaluating: 100%|█████████████████████████████████████████████████████████████████████| 30/30 [00:00<00:00, 164.08it/s]\n",
      "Training:  38%|██████████████████████████▉                                            | 19/50 [00:00<00:00, 187.34it/s]"
     ]
    },
    {
     "name": "stdout",
     "output_type": "stream",
     "text": [
      "29.766666666666666\n"
     ]
    },
    {
     "name": "stderr",
     "output_type": "stream",
     "text": [
      "Training: 100%|███████████████████████████████████████████████████████████████████████| 50/50 [00:00<00:00, 176.99it/s]\n",
      "Evaluating: 100%|██████████████████████████████████████████████████████████████████████| 30/30 [00:00<00:00, 48.18it/s]\n",
      "Training:  38%|██████████████████████████▉                                            | 19/50 [00:00<00:00, 187.90it/s]"
     ]
    },
    {
     "name": "stdout",
     "output_type": "stream",
     "text": [
      "115.9\n"
     ]
    },
    {
     "name": "stderr",
     "output_type": "stream",
     "text": [
      "Training: 100%|███████████████████████████████████████████████████████████████████████| 50/50 [00:00<00:00, 164.96it/s]\n",
      "Evaluating: 100%|██████████████████████████████████████████████████████████████████████| 30/30 [00:00<00:00, 64.80it/s]\n",
      "Training:  44%|███████████████████████████████▏                                       | 22/50 [00:00<00:00, 198.04it/s]"
     ]
    },
    {
     "name": "stdout",
     "output_type": "stream",
     "text": [
      "88.06666666666666\n"
     ]
    },
    {
     "name": "stderr",
     "output_type": "stream",
     "text": [
      "Training: 100%|███████████████████████████████████████████████████████████████████████| 50/50 [00:00<00:00, 174.19it/s]\n",
      "Evaluating: 100%|██████████████████████████████████████████████████████████████████████| 30/30 [00:00<00:00, 30.82it/s]\n",
      "Training:  30%|█████████████████████▎                                                 | 15/50 [00:00<00:00, 146.66it/s]"
     ]
    },
    {
     "name": "stdout",
     "output_type": "stream",
     "text": [
      "199.06666666666666\n"
     ]
    },
    {
     "name": "stderr",
     "output_type": "stream",
     "text": [
      "Training: 100%|███████████████████████████████████████████████████████████████████████| 50/50 [00:00<00:00, 118.95it/s]\n",
      "Evaluating: 100%|██████████████████████████████████████████████████████████████████████| 30/30 [00:00<00:00, 47.80it/s]\n",
      "Training:  26%|██████████████████▍                                                    | 13/50 [00:00<00:00, 116.01it/s]"
     ]
    },
    {
     "name": "stdout",
     "output_type": "stream",
     "text": [
      "122.46666666666667\n"
     ]
    },
    {
     "name": "stderr",
     "output_type": "stream",
     "text": [
      "Training: 100%|███████████████████████████████████████████████████████████████████████| 50/50 [00:00<00:00, 125.79it/s]\n",
      "Evaluating: 100%|██████████████████████████████████████████████████████████████████████| 30/30 [00:00<00:00, 32.23it/s]\n",
      "Training:  26%|██████████████████▍                                                    | 13/50 [00:00<00:00, 129.41it/s]"
     ]
    },
    {
     "name": "stdout",
     "output_type": "stream",
     "text": [
      "153.93333333333334\n"
     ]
    },
    {
     "name": "stderr",
     "output_type": "stream",
     "text": [
      "Training: 100%|███████████████████████████████████████████████████████████████████████| 50/50 [00:00<00:00, 111.65it/s]\n",
      "Evaluating: 100%|██████████████████████████████████████████████████████████████████████| 30/30 [00:00<00:00, 30.03it/s]\n",
      "Training:  26%|██████████████████▍                                                    | 13/50 [00:00<00:00, 122.57it/s]"
     ]
    },
    {
     "name": "stdout",
     "output_type": "stream",
     "text": [
      "200.0\n"
     ]
    },
    {
     "name": "stderr",
     "output_type": "stream",
     "text": [
      "Training: 100%|████████████████████████████████████████████████████████████████████████| 50/50 [00:00<00:00, 89.55it/s]\n",
      "Evaluating: 100%|██████████████████████████████████████████████████████████████████████| 30/30 [00:00<00:00, 30.20it/s]\n",
      "Training:  24%|█████████████████                                                      | 12/50 [00:00<00:00, 114.21it/s]"
     ]
    },
    {
     "name": "stdout",
     "output_type": "stream",
     "text": [
      "196.03333333333333\n"
     ]
    },
    {
     "name": "stderr",
     "output_type": "stream",
     "text": [
      "Training: 100%|████████████████████████████████████████████████████████████████████████| 50/50 [00:00<00:00, 98.73it/s]\n",
      "Evaluating: 100%|██████████████████████████████████████████████████████████████████████| 30/30 [00:00<00:00, 31.86it/s]\n",
      "Training:  20%|██████████████▍                                                         | 10/50 [00:00<00:00, 87.75it/s]"
     ]
    },
    {
     "name": "stdout",
     "output_type": "stream",
     "text": [
      "189.0\n"
     ]
    },
    {
     "name": "stderr",
     "output_type": "stream",
     "text": [
      "Training: 100%|███████████████████████████████████████████████████████████████████████| 50/50 [00:00<00:00, 102.15it/s]\n",
      "Evaluating: 100%|██████████████████████████████████████████████████████████████████████| 30/30 [00:00<00:00, 33.19it/s]\n",
      "Training:  26%|██████████████████▍                                                    | 13/50 [00:00<00:00, 112.98it/s]"
     ]
    },
    {
     "name": "stdout",
     "output_type": "stream",
     "text": [
      "187.4\n"
     ]
    },
    {
     "name": "stderr",
     "output_type": "stream",
     "text": [
      "Training: 100%|███████████████████████████████████████████████████████████████████████| 50/50 [00:00<00:00, 102.13it/s]\n",
      "Evaluating: 100%|██████████████████████████████████████████████████████████████████████| 30/30 [00:00<00:00, 38.92it/s]\n",
      "Training:  22%|███████████████▊                                                        | 11/50 [00:00<00:00, 81.76it/s]"
     ]
    },
    {
     "name": "stdout",
     "output_type": "stream",
     "text": [
      "154.43333333333334\n"
     ]
    },
    {
     "name": "stderr",
     "output_type": "stream",
     "text": [
      "Training: 100%|████████████████████████████████████████████████████████████████████████| 50/50 [00:00<00:00, 74.51it/s]\n",
      "Evaluating: 100%|██████████████████████████████████████████████████████████████████████| 30/30 [00:00<00:00, 32.21it/s]\n",
      "Training:  14%|██████████▏                                                              | 7/50 [00:00<00:00, 60.85it/s]"
     ]
    },
    {
     "name": "stdout",
     "output_type": "stream",
     "text": [
      "192.26666666666668\n"
     ]
    },
    {
     "name": "stderr",
     "output_type": "stream",
     "text": [
      "Training: 100%|████████████████████████████████████████████████████████████████████████| 50/50 [00:00<00:00, 79.76it/s]\n",
      "Evaluating: 100%|██████████████████████████████████████████████████████████████████████| 30/30 [00:00<00:00, 33.34it/s]\n",
      "Training:  20%|██████████████▍                                                         | 10/50 [00:00<00:00, 96.99it/s]"
     ]
    },
    {
     "name": "stdout",
     "output_type": "stream",
     "text": [
      "186.83333333333334\n"
     ]
    },
    {
     "name": "stderr",
     "output_type": "stream",
     "text": [
      "Training: 100%|████████████████████████████████████████████████████████████████████████| 50/50 [00:00<00:00, 72.77it/s]\n",
      "Evaluating: 100%|██████████████████████████████████████████████████████████████████████| 30/30 [00:00<00:00, 33.45it/s]\n",
      "Training:  12%|████████▊                                                                | 6/50 [00:00<00:00, 58.77it/s]"
     ]
    },
    {
     "name": "stdout",
     "output_type": "stream",
     "text": [
      "181.5\n"
     ]
    },
    {
     "name": "stderr",
     "output_type": "stream",
     "text": [
      "Training: 100%|████████████████████████████████████████████████████████████████████████| 50/50 [00:00<00:00, 63.91it/s]\n",
      "Evaluating: 100%|██████████████████████████████████████████████████████████████████████| 30/30 [00:00<00:00, 34.63it/s]\n",
      "Training:  16%|███████████▋                                                             | 8/50 [00:00<00:00, 70.96it/s]"
     ]
    },
    {
     "name": "stdout",
     "output_type": "stream",
     "text": [
      "180.03333333333333\n"
     ]
    },
    {
     "name": "stderr",
     "output_type": "stream",
     "text": [
      "Training: 100%|████████████████████████████████████████████████████████████████████████| 50/50 [00:00<00:00, 55.71it/s]\n",
      "Evaluating: 100%|██████████████████████████████████████████████████████████████████████| 30/30 [00:00<00:00, 30.47it/s]\n",
      "Training:  12%|████████▊                                                                | 6/50 [00:00<00:00, 54.67it/s]"
     ]
    },
    {
     "name": "stdout",
     "output_type": "stream",
     "text": [
      "199.66666666666666\n"
     ]
    },
    {
     "name": "stderr",
     "output_type": "stream",
     "text": [
      "Training: 100%|████████████████████████████████████████████████████████████████████████| 50/50 [00:01<00:00, 48.00it/s]\n",
      "Evaluating: 100%|██████████████████████████████████████████████████████████████████████| 30/30 [00:00<00:00, 30.86it/s]\n",
      "Training:  10%|███████▎                                                                 | 5/50 [00:00<00:00, 49.96it/s]"
     ]
    },
    {
     "name": "stdout",
     "output_type": "stream",
     "text": [
      "200.0\n"
     ]
    },
    {
     "name": "stderr",
     "output_type": "stream",
     "text": [
      "Training: 100%|████████████████████████████████████████████████████████████████████████| 50/50 [00:01<00:00, 33.36it/s]\n",
      "Evaluating: 100%|██████████████████████████████████████████████████████████████████████| 30/30 [00:00<00:00, 30.26it/s]\n",
      "Training:  12%|████████▊                                                                | 6/50 [00:00<00:00, 56.21it/s]"
     ]
    },
    {
     "name": "stdout",
     "output_type": "stream",
     "text": [
      "200.0\n"
     ]
    },
    {
     "name": "stderr",
     "output_type": "stream",
     "text": [
      "Training: 100%|████████████████████████████████████████████████████████████████████████| 50/50 [00:01<00:00, 30.42it/s]\n",
      "Evaluating: 100%|██████████████████████████████████████████████████████████████████████| 30/30 [00:01<00:00, 29.90it/s]\n",
      "Training:  12%|████████▊                                                                | 6/50 [00:00<00:00, 51.86it/s]"
     ]
    },
    {
     "name": "stdout",
     "output_type": "stream",
     "text": [
      "199.4\n"
     ]
    },
    {
     "name": "stderr",
     "output_type": "stream",
     "text": [
      "Training: 100%|████████████████████████████████████████████████████████████████████████| 50/50 [00:02<00:00, 24.74it/s]\n",
      "Evaluating: 100%|██████████████████████████████████████████████████████████████████████| 30/30 [00:00<00:00, 31.25it/s]\n",
      "Training:   6%|████▍                                                                    | 3/50 [00:00<00:01, 23.74it/s]"
     ]
    },
    {
     "name": "stdout",
     "output_type": "stream",
     "text": [
      "196.3\n"
     ]
    },
    {
     "name": "stderr",
     "output_type": "stream",
     "text": [
      "Training: 100%|████████████████████████████████████████████████████████████████████████| 50/50 [00:02<00:00, 22.63it/s]\n",
      "Evaluating: 100%|██████████████████████████████████████████████████████████████████████| 30/30 [00:00<00:00, 33.28it/s]\n",
      "Training:   6%|████▍                                                                    | 3/50 [00:00<00:02, 23.20it/s]"
     ]
    },
    {
     "name": "stdout",
     "output_type": "stream",
     "text": [
      "187.76666666666668\n"
     ]
    },
    {
     "name": "stderr",
     "output_type": "stream",
     "text": [
      "Training: 100%|████████████████████████████████████████████████████████████████████████| 50/50 [00:02<00:00, 18.08it/s]\n",
      "Evaluating: 100%|██████████████████████████████████████████████████████████████████████| 30/30 [00:00<00:00, 30.13it/s]\n",
      "Training:   4%|██▉                                                                      | 2/50 [00:00<00:03, 14.65it/s]"
     ]
    },
    {
     "name": "stdout",
     "output_type": "stream",
     "text": [
      "200.0\n"
     ]
    },
    {
     "name": "stderr",
     "output_type": "stream",
     "text": [
      "Training: 100%|████████████████████████████████████████████████████████████████████████| 50/50 [00:03<00:00, 16.14it/s]\n",
      "Evaluating: 100%|██████████████████████████████████████████████████████████████████████| 30/30 [00:00<00:00, 31.13it/s]\n",
      "Training:   4%|██▉                                                                      | 2/50 [00:00<00:03, 15.59it/s]"
     ]
    },
    {
     "name": "stdout",
     "output_type": "stream",
     "text": [
      "200.0\n"
     ]
    },
    {
     "name": "stderr",
     "output_type": "stream",
     "text": [
      "Training: 100%|████████████████████████████████████████████████████████████████████████| 50/50 [00:03<00:00, 15.76it/s]\n",
      "Evaluating: 100%|██████████████████████████████████████████████████████████████████████| 30/30 [00:00<00:00, 32.74it/s]\n",
      "Training:   4%|██▉                                                                      | 2/50 [00:00<00:03, 15.23it/s]"
     ]
    },
    {
     "name": "stdout",
     "output_type": "stream",
     "text": [
      "184.03333333333333\n"
     ]
    },
    {
     "name": "stderr",
     "output_type": "stream",
     "text": [
      "Training: 100%|████████████████████████████████████████████████████████████████████████| 50/50 [00:03<00:00, 16.04it/s]\n",
      "Evaluating: 100%|█████████████████████████████████████████████████████████████████████| 30/30 [00:00<00:00, 354.00it/s]\n",
      "Training:  20%|██████████████▍                                                         | 10/50 [00:00<00:00, 91.11it/s]"
     ]
    },
    {
     "name": "stdout",
     "output_type": "stream",
     "text": [
      "14.033333333333333\n"
     ]
    },
    {
     "name": "stderr",
     "output_type": "stream",
     "text": [
      "Training: 100%|████████████████████████████████████████████████████████████████████████| 50/50 [00:02<00:00, 23.67it/s]\n",
      "Evaluating: 100%|██████████████████████████████████████████████████████████████████████| 30/30 [00:00<00:00, 33.46it/s]\n",
      "Training:   4%|██▉                                                                      | 2/50 [00:00<00:02, 16.21it/s]"
     ]
    },
    {
     "name": "stdout",
     "output_type": "stream",
     "text": [
      "183.66666666666666\n"
     ]
    },
    {
     "name": "stderr",
     "output_type": "stream",
     "text": [
      "Training: 100%|████████████████████████████████████████████████████████████████████████| 50/50 [00:02<00:00, 20.23it/s]\n",
      "Evaluating: 100%|█████████████████████████████████████████████████████████████████████| 30/30 [00:00<00:00, 431.60it/s]\n",
      "Training:  12%|████████▊                                                                | 6/50 [00:00<00:01, 38.56it/s]"
     ]
    },
    {
     "name": "stdout",
     "output_type": "stream",
     "text": [
      "13.566666666666666\n"
     ]
    },
    {
     "name": "stderr",
     "output_type": "stream",
     "text": [
      "Training: 100%|████████████████████████████████████████████████████████████████████████| 50/50 [00:03<00:00, 16.52it/s]\n",
      "Evaluating: 100%|██████████████████████████████████████████████████████████████████████| 30/30 [00:00<00:00, 30.57it/s]\n",
      "Training:   4%|██▉                                                                      | 2/50 [00:00<00:04, 11.96it/s]"
     ]
    },
    {
     "name": "stdout",
     "output_type": "stream",
     "text": [
      "198.7\n"
     ]
    },
    {
     "name": "stderr",
     "output_type": "stream",
     "text": [
      "Training: 100%|████████████████████████████████████████████████████████████████████████| 50/50 [00:01<00:00, 28.49it/s]\n",
      "Evaluating: 100%|██████████████████████████████████████████████████████████████████████| 30/30 [00:00<00:00, 46.24it/s]\n",
      "Training:   4%|██▉                                                                      | 2/50 [00:00<00:03, 15.70it/s]"
     ]
    },
    {
     "name": "stdout",
     "output_type": "stream",
     "text": [
      "133.83333333333334\n"
     ]
    },
    {
     "name": "stderr",
     "output_type": "stream",
     "text": [
      "Training: 100%|████████████████████████████████████████████████████████████████████████| 50/50 [00:02<00:00, 17.98it/s]\n",
      "Evaluating: 100%|██████████████████████████████████████████████████████████████████████| 30/30 [00:00<00:00, 40.05it/s]\n",
      "Training:   8%|█████▊                                                                   | 4/50 [00:00<00:01, 33.79it/s]"
     ]
    },
    {
     "name": "stdout",
     "output_type": "stream",
     "text": [
      "136.86666666666667\n"
     ]
    },
    {
     "name": "stderr",
     "output_type": "stream",
     "text": [
      "Training: 100%|████████████████████████████████████████████████████████████████████████| 50/50 [00:03<00:00, 15.97it/s]\n",
      "Evaluating: 100%|██████████████████████████████████████████████████████████████████████| 30/30 [00:00<00:00, 36.68it/s]\n",
      "Training:   4%|██▉                                                                      | 2/50 [00:00<00:03, 14.60it/s]"
     ]
    },
    {
     "name": "stdout",
     "output_type": "stream",
     "text": [
      "168.63333333333333\n"
     ]
    },
    {
     "name": "stderr",
     "output_type": "stream",
     "text": [
      "Training: 100%|████████████████████████████████████████████████████████████████████████| 50/50 [00:01<00:00, 27.47it/s]\n",
      "Evaluating: 100%|█████████████████████████████████████████████████████████████████████| 30/30 [00:00<00:00, 363.66it/s]\n",
      "Training:  24%|█████████████████                                                      | 12/50 [00:00<00:00, 110.34it/s]"
     ]
    },
    {
     "name": "stdout",
     "output_type": "stream",
     "text": [
      "15.7\n"
     ]
    },
    {
     "name": "stderr",
     "output_type": "stream",
     "text": [
      "Training: 100%|████████████████████████████████████████████████████████████████████████| 50/50 [00:01<00:00, 26.18it/s]\n",
      "Evaluating: 100%|██████████████████████████████████████████████████████████████████████| 30/30 [00:00<00:00, 35.62it/s]\n",
      "Training:   6%|████▍                                                                    | 3/50 [00:00<00:02, 20.41it/s]"
     ]
    },
    {
     "name": "stdout",
     "output_type": "stream",
     "text": [
      "169.03333333333333\n"
     ]
    },
    {
     "name": "stderr",
     "output_type": "stream",
     "text": [
      "Training: 100%|████████████████████████████████████████████████████████████████████████| 50/50 [00:03<00:00, 14.66it/s]\n",
      "Evaluating: 100%|██████████████████████████████████████████████████████████████████████| 30/30 [00:00<00:00, 31.09it/s]\n",
      "Training:   4%|██▉                                                                      | 2/50 [00:00<00:03, 14.67it/s]"
     ]
    },
    {
     "name": "stdout",
     "output_type": "stream",
     "text": [
      "198.83333333333334\n"
     ]
    },
    {
     "name": "stderr",
     "output_type": "stream",
     "text": [
      "Training: 100%|████████████████████████████████████████████████████████████████████████| 50/50 [00:03<00:00, 15.42it/s]\n",
      "Evaluating: 100%|██████████████████████████████████████████████████████████████████████| 30/30 [00:00<00:00, 31.36it/s]\n",
      "Training:   4%|██▉                                                                      | 2/50 [00:00<00:03, 14.60it/s]"
     ]
    },
    {
     "name": "stdout",
     "output_type": "stream",
     "text": [
      "179.13333333333333\n"
     ]
    },
    {
     "name": "stderr",
     "output_type": "stream",
     "text": [
      "Training: 100%|████████████████████████████████████████████████████████████████████████| 50/50 [00:02<00:00, 18.70it/s]\n",
      "Evaluating: 100%|█████████████████████████████████████████████████████████████████████| 30/30 [00:00<00:00, 455.44it/s]\n",
      "Training:   8%|█████▊                                                                   | 4/50 [00:00<00:01, 30.94it/s]"
     ]
    },
    {
     "name": "stdout",
     "output_type": "stream",
     "text": [
      "13.6\n"
     ]
    },
    {
     "name": "stderr",
     "output_type": "stream",
     "text": [
      "Training: 100%|████████████████████████████████████████████████████████████████████████| 50/50 [00:03<00:00, 16.31it/s]\n",
      "Evaluating: 100%|██████████████████████████████████████████████████████████████████████| 30/30 [00:00<00:00, 34.11it/s]\n",
      "Training:   4%|██▉                                                                      | 2/50 [00:00<00:03, 12.61it/s]"
     ]
    },
    {
     "name": "stdout",
     "output_type": "stream",
     "text": [
      "170.56666666666666\n"
     ]
    },
    {
     "name": "stderr",
     "output_type": "stream",
     "text": [
      "Training: 100%|████████████████████████████████████████████████████████████████████████| 50/50 [00:03<00:00, 14.47it/s]\n",
      "Evaluating: 100%|██████████████████████████████████████████████████████████████████████| 30/30 [00:00<00:00, 32.20it/s]\n",
      "Training:   4%|██▉                                                                      | 2/50 [00:00<00:03, 12.93it/s]"
     ]
    },
    {
     "name": "stdout",
     "output_type": "stream",
     "text": [
      "190.53333333333333\n"
     ]
    },
    {
     "name": "stderr",
     "output_type": "stream",
     "text": [
      "Training: 100%|████████████████████████████████████████████████████████████████████████| 50/50 [00:03<00:00, 14.00it/s]\n",
      "Evaluating: 100%|██████████████████████████████████████████████████████████████████████| 30/30 [00:01<00:00, 29.96it/s]\n",
      "Training:   4%|██▉                                                                      | 2/50 [00:00<00:03, 15.34it/s]"
     ]
    },
    {
     "name": "stdout",
     "output_type": "stream",
     "text": [
      "200.0\n"
     ]
    },
    {
     "name": "stderr",
     "output_type": "stream",
     "text": [
      "Training: 100%|████████████████████████████████████████████████████████████████████████| 50/50 [00:02<00:00, 18.10it/s]\n",
      "Evaluating: 100%|██████████████████████████████████████████████████████████████████████| 30/30 [00:00<00:00, 35.22it/s]\n",
      "Training:   8%|█████▊                                                                   | 4/50 [00:00<00:01, 37.82it/s]"
     ]
    },
    {
     "name": "stdout",
     "output_type": "stream",
     "text": [
      "171.4\n"
     ]
    },
    {
     "name": "stderr",
     "output_type": "stream",
     "text": [
      "Training: 100%|████████████████████████████████████████████████████████████████████████| 50/50 [00:02<00:00, 19.78it/s]\n",
      "Evaluating: 100%|██████████████████████████████████████████████████████████████████████| 30/30 [00:00<00:00, 31.27it/s]\n",
      "Training:   6%|████▍                                                                    | 3/50 [00:00<00:02, 19.78it/s]"
     ]
    },
    {
     "name": "stdout",
     "output_type": "stream",
     "text": [
      "200.0\n"
     ]
    },
    {
     "name": "stderr",
     "output_type": "stream",
     "text": [
      "Training: 100%|████████████████████████████████████████████████████████████████████████| 50/50 [00:02<00:00, 20.10it/s]\n",
      "Evaluating: 100%|█████████████████████████████████████████████████████████████████████| 30/30 [00:00<00:00, 442.01it/s]\n",
      "Training:   8%|█████▊                                                                   | 4/50 [00:00<00:01, 30.93it/s]"
     ]
    },
    {
     "name": "stdout",
     "output_type": "stream",
     "text": [
      "13.866666666666667\n"
     ]
    },
    {
     "name": "stderr",
     "output_type": "stream",
     "text": [
      "Training: 100%|████████████████████████████████████████████████████████████████████████| 50/50 [00:02<00:00, 17.27it/s]\n",
      "Evaluating: 100%|██████████████████████████████████████████████████████████████████████| 30/30 [00:00<00:00, 30.02it/s]\n",
      "Training:   6%|████▍                                                                    | 3/50 [00:00<00:02, 17.52it/s]"
     ]
    },
    {
     "name": "stdout",
     "output_type": "stream",
     "text": [
      "200.0\n"
     ]
    },
    {
     "name": "stderr",
     "output_type": "stream",
     "text": [
      "Training: 100%|████████████████████████████████████████████████████████████████████████| 50/50 [00:02<00:00, 19.80it/s]\n",
      "Evaluating: 100%|██████████████████████████████████████████████████████████████████████| 30/30 [00:00<00:00, 78.23it/s]\n",
      "Training:   6%|████▍                                                                    | 3/50 [00:00<00:02, 19.82it/s]"
     ]
    },
    {
     "name": "stdout",
     "output_type": "stream",
     "text": [
      "76.53333333333333\n"
     ]
    },
    {
     "name": "stderr",
     "output_type": "stream",
     "text": [
      "Training: 100%|████████████████████████████████████████████████████████████████████████| 50/50 [00:03<00:00, 15.92it/s]\n",
      "Evaluating: 100%|██████████████████████████████████████████████████████████████████████| 30/30 [00:00<00:00, 31.35it/s]\n",
      "Training:   4%|██▉                                                                      | 2/50 [00:00<00:03, 13.64it/s]"
     ]
    },
    {
     "name": "stdout",
     "output_type": "stream",
     "text": [
      "190.76666666666668\n"
     ]
    },
    {
     "name": "stderr",
     "output_type": "stream",
     "text": [
      "Training: 100%|████████████████████████████████████████████████████████████████████████| 50/50 [00:03<00:00, 15.57it/s]\n",
      "Evaluating: 100%|██████████████████████████████████████████████████████████████████████| 30/30 [00:00<00:00, 31.12it/s]\n",
      "Training:  14%|██████████▏                                                              | 7/50 [00:00<00:00, 49.27it/s]"
     ]
    },
    {
     "name": "stdout",
     "output_type": "stream",
     "text": [
      "198.6\n"
     ]
    },
    {
     "name": "stderr",
     "output_type": "stream",
     "text": [
      "Training: 100%|████████████████████████████████████████████████████████████████████████| 50/50 [00:02<00:00, 17.17it/s]\n",
      "Evaluating: 100%|██████████████████████████████████████████████████████████████████████| 30/30 [00:01<00:00, 28.15it/s]\n",
      "Training:   4%|██▉                                                                      | 2/50 [00:00<00:03, 15.95it/s]"
     ]
    },
    {
     "name": "stdout",
     "output_type": "stream",
     "text": [
      "200.0\n"
     ]
    },
    {
     "name": "stderr",
     "output_type": "stream",
     "text": [
      "Training: 100%|████████████████████████████████████████████████████████████████████████| 50/50 [00:02<00:00, 17.72it/s]\n",
      "Evaluating: 100%|██████████████████████████████████████████████████████████████████████| 30/30 [00:00<00:00, 37.17it/s]\n",
      "Training:   4%|██▉                                                                      | 2/50 [00:00<00:02, 16.09it/s]"
     ]
    },
    {
     "name": "stdout",
     "output_type": "stream",
     "text": [
      "154.23333333333332\n"
     ]
    },
    {
     "name": "stderr",
     "output_type": "stream",
     "text": [
      "Training: 100%|████████████████████████████████████████████████████████████████████████| 50/50 [00:02<00:00, 18.71it/s]\n",
      "Evaluating: 100%|██████████████████████████████████████████████████████████████████████| 30/30 [00:01<00:00, 28.04it/s]\n",
      "Training:   4%|██▉                                                                      | 2/50 [00:00<00:03, 12.77it/s]"
     ]
    },
    {
     "name": "stdout",
     "output_type": "stream",
     "text": [
      "200.0\n"
     ]
    },
    {
     "name": "stderr",
     "output_type": "stream",
     "text": [
      "Training: 100%|████████████████████████████████████████████████████████████████████████| 50/50 [00:03<00:00, 13.35it/s]\n",
      "Evaluating: 100%|██████████████████████████████████████████████████████████████████████| 30/30 [00:01<00:00, 29.63it/s]\n",
      "Training:   4%|██▉                                                                      | 2/50 [00:00<00:03, 14.29it/s]"
     ]
    },
    {
     "name": "stdout",
     "output_type": "stream",
     "text": [
      "200.0\n"
     ]
    },
    {
     "name": "stderr",
     "output_type": "stream",
     "text": [
      "Training: 100%|████████████████████████████████████████████████████████████████████████| 50/50 [00:02<00:00, 19.56it/s]\n",
      "Evaluating: 100%|██████████████████████████████████████████████████████████████████████| 30/30 [00:00<00:00, 34.37it/s]\n",
      "Training:   6%|████▍                                                                    | 3/50 [00:00<00:02, 16.93it/s]"
     ]
    },
    {
     "name": "stdout",
     "output_type": "stream",
     "text": [
      "175.83333333333334\n"
     ]
    },
    {
     "name": "stderr",
     "output_type": "stream",
     "text": [
      "Training: 100%|████████████████████████████████████████████████████████████████████████| 50/50 [00:03<00:00, 15.64it/s]\n",
      "Evaluating: 100%|██████████████████████████████████████████████████████████████████████| 30/30 [00:00<00:00, 30.44it/s]\n",
      "Training:   0%|                                                                                 | 0/50 [00:00<?, ?it/s]"
     ]
    },
    {
     "name": "stdout",
     "output_type": "stream",
     "text": [
      "200.0\n"
     ]
    },
    {
     "name": "stderr",
     "output_type": "stream",
     "text": [
      "Training: 100%|████████████████████████████████████████████████████████████████████████| 50/50 [00:03<00:00, 14.65it/s]\n",
      "Evaluating: 100%|██████████████████████████████████████████████████████████████████████| 30/30 [00:00<00:00, 30.46it/s]\n",
      "Training:   8%|█████▊                                                                   | 4/50 [00:00<00:01, 24.91it/s]"
     ]
    },
    {
     "name": "stdout",
     "output_type": "stream",
     "text": [
      "200.0\n"
     ]
    },
    {
     "name": "stderr",
     "output_type": "stream",
     "text": [
      "Training: 100%|████████████████████████████████████████████████████████████████████████| 50/50 [00:03<00:00, 15.11it/s]\n",
      "Evaluating: 100%|██████████████████████████████████████████████████████████████████████| 30/30 [00:01<00:00, 28.45it/s]\n",
      "Training:   4%|██▉                                                                      | 2/50 [00:00<00:03, 14.09it/s]"
     ]
    },
    {
     "name": "stdout",
     "output_type": "stream",
     "text": [
      "200.0\n"
     ]
    },
    {
     "name": "stderr",
     "output_type": "stream",
     "text": [
      "Training: 100%|████████████████████████████████████████████████████████████████████████| 50/50 [00:02<00:00, 22.77it/s]\n",
      "Evaluating: 100%|██████████████████████████████████████████████████████████████████████| 30/30 [00:01<00:00, 28.33it/s]\n",
      "Training:   4%|██▉                                                                      | 2/50 [00:00<00:03, 13.70it/s]"
     ]
    },
    {
     "name": "stdout",
     "output_type": "stream",
     "text": [
      "200.0\n"
     ]
    },
    {
     "name": "stderr",
     "output_type": "stream",
     "text": [
      "Training: 100%|████████████████████████████████████████████████████████████████████████| 50/50 [00:03<00:00, 12.66it/s]\n",
      "Evaluating: 100%|██████████████████████████████████████████████████████████████████████| 30/30 [00:00<00:00, 31.10it/s]\n",
      "Training:   4%|██▉                                                                      | 2/50 [00:00<00:02, 17.90it/s]"
     ]
    },
    {
     "name": "stdout",
     "output_type": "stream",
     "text": [
      "200.0\n"
     ]
    },
    {
     "name": "stderr",
     "output_type": "stream",
     "text": [
      "Training: 100%|████████████████████████████████████████████████████████████████████████| 50/50 [00:03<00:00, 13.80it/s]\n",
      "Evaluating: 100%|██████████████████████████████████████████████████████████████████████| 30/30 [00:00<00:00, 30.43it/s]\n",
      "Training:   4%|██▉                                                                      | 2/50 [00:00<00:03, 13.70it/s]"
     ]
    },
    {
     "name": "stdout",
     "output_type": "stream",
     "text": [
      "200.0\n"
     ]
    },
    {
     "name": "stderr",
     "output_type": "stream",
     "text": [
      "Training: 100%|████████████████████████████████████████████████████████████████████████| 50/50 [00:03<00:00, 14.16it/s]\n",
      "Evaluating: 100%|██████████████████████████████████████████████████████████████████████| 30/30 [00:01<00:00, 29.91it/s]\n",
      "Training:   4%|██▉                                                                      | 2/50 [00:00<00:03, 14.88it/s]"
     ]
    },
    {
     "name": "stdout",
     "output_type": "stream",
     "text": [
      "200.0\n"
     ]
    },
    {
     "name": "stderr",
     "output_type": "stream",
     "text": [
      "Training: 100%|████████████████████████████████████████████████████████████████████████| 50/50 [00:03<00:00, 13.21it/s]\n",
      "Evaluating: 100%|██████████████████████████████████████████████████████████████████████| 30/30 [00:00<00:00, 30.46it/s]\n",
      "Training:   4%|██▉                                                                      | 2/50 [00:00<00:04, 11.96it/s]"
     ]
    },
    {
     "name": "stdout",
     "output_type": "stream",
     "text": [
      "200.0\n"
     ]
    },
    {
     "name": "stderr",
     "output_type": "stream",
     "text": [
      "Training: 100%|████████████████████████████████████████████████████████████████████████| 50/50 [00:02<00:00, 16.68it/s]\n",
      "Evaluating: 100%|██████████████████████████████████████████████████████████████████████| 30/30 [00:01<00:00, 27.40it/s]\n",
      "Training:   2%|█▍                                                                       | 1/50 [00:00<00:04,  9.93it/s]"
     ]
    },
    {
     "name": "stdout",
     "output_type": "stream",
     "text": [
      "200.0\n"
     ]
    },
    {
     "name": "stderr",
     "output_type": "stream",
     "text": [
      "Training: 100%|████████████████████████████████████████████████████████████████████████| 50/50 [00:03<00:00, 15.28it/s]\n",
      "Evaluating: 100%|██████████████████████████████████████████████████████████████████████| 30/30 [00:01<00:00, 27.91it/s]\n",
      "Training:   0%|                                                                                 | 0/50 [00:00<?, ?it/s]"
     ]
    },
    {
     "name": "stdout",
     "output_type": "stream",
     "text": [
      "200.0\n"
     ]
    },
    {
     "name": "stderr",
     "output_type": "stream",
     "text": [
      "Training: 100%|████████████████████████████████████████████████████████████████████████| 50/50 [00:04<00:00, 12.37it/s]\n",
      "Evaluating: 100%|██████████████████████████████████████████████████████████████████████| 30/30 [00:00<00:00, 30.20it/s]\n",
      "Training:   4%|██▉                                                                      | 2/50 [00:00<00:03, 15.11it/s]"
     ]
    },
    {
     "name": "stdout",
     "output_type": "stream",
     "text": [
      "200.0\n"
     ]
    },
    {
     "name": "stderr",
     "output_type": "stream",
     "text": [
      "Training: 100%|████████████████████████████████████████████████████████████████████████| 50/50 [00:03<00:00, 12.76it/s]\n",
      "Evaluating: 100%|██████████████████████████████████████████████████████████████████████| 30/30 [00:01<00:00, 28.91it/s]\n",
      "Training:   6%|████▍                                                                    | 3/50 [00:00<00:02, 17.46it/s]"
     ]
    },
    {
     "name": "stdout",
     "output_type": "stream",
     "text": [
      "200.0\n"
     ]
    },
    {
     "name": "stderr",
     "output_type": "stream",
     "text": [
      "Training: 100%|████████████████████████████████████████████████████████████████████████| 50/50 [00:03<00:00, 12.70it/s]\n",
      "Evaluating: 100%|██████████████████████████████████████████████████████████████████████| 30/30 [00:01<00:00, 29.03it/s]\n",
      "Training:   4%|██▉                                                                      | 2/50 [00:00<00:03, 12.03it/s]"
     ]
    },
    {
     "name": "stdout",
     "output_type": "stream",
     "text": [
      "200.0\n"
     ]
    },
    {
     "name": "stderr",
     "output_type": "stream",
     "text": [
      "Training: 100%|████████████████████████████████████████████████████████████████████████| 50/50 [00:04<00:00, 12.23it/s]\n",
      "Evaluating: 100%|██████████████████████████████████████████████████████████████████████| 30/30 [00:01<00:00, 28.76it/s]\n",
      "Training:   4%|██▉                                                                      | 2/50 [00:00<00:03, 12.07it/s]"
     ]
    },
    {
     "name": "stdout",
     "output_type": "stream",
     "text": [
      "200.0\n"
     ]
    },
    {
     "name": "stderr",
     "output_type": "stream",
     "text": [
      "Training: 100%|████████████████████████████████████████████████████████████████████████| 50/50 [00:03<00:00, 13.27it/s]\n",
      "Evaluating: 100%|██████████████████████████████████████████████████████████████████████| 30/30 [00:01<00:00, 29.24it/s]\n",
      "Training:   4%|██▉                                                                      | 2/50 [00:00<00:03, 14.67it/s]"
     ]
    },
    {
     "name": "stdout",
     "output_type": "stream",
     "text": [
      "200.0\n"
     ]
    },
    {
     "name": "stderr",
     "output_type": "stream",
     "text": [
      "Training: 100%|████████████████████████████████████████████████████████████████████████| 50/50 [00:03<00:00, 14.33it/s]\n",
      "Evaluating: 100%|██████████████████████████████████████████████████████████████████████| 30/30 [00:01<00:00, 29.16it/s]\n",
      "Training:   4%|██▉                                                                      | 2/50 [00:00<00:03, 12.55it/s]"
     ]
    },
    {
     "name": "stdout",
     "output_type": "stream",
     "text": [
      "200.0\n"
     ]
    },
    {
     "name": "stderr",
     "output_type": "stream",
     "text": [
      "Training: 100%|████████████████████████████████████████████████████████████████████████| 50/50 [00:03<00:00, 12.95it/s]\n",
      "Evaluating: 100%|██████████████████████████████████████████████████████████████████████| 30/30 [00:01<00:00, 27.52it/s]\n",
      "Training:   4%|██▉                                                                      | 2/50 [00:00<00:03, 13.39it/s]"
     ]
    },
    {
     "name": "stdout",
     "output_type": "stream",
     "text": [
      "200.0\n"
     ]
    },
    {
     "name": "stderr",
     "output_type": "stream",
     "text": [
      "Training: 100%|████████████████████████████████████████████████████████████████████████| 50/50 [00:03<00:00, 12.94it/s]\n",
      "Evaluating: 100%|██████████████████████████████████████████████████████████████████████| 30/30 [00:01<00:00, 29.08it/s]\n",
      "Training:   0%|                                                                                 | 0/50 [00:00<?, ?it/s]"
     ]
    },
    {
     "name": "stdout",
     "output_type": "stream",
     "text": [
      "200.0\n"
     ]
    },
    {
     "name": "stderr",
     "output_type": "stream",
     "text": [
      "Training: 100%|████████████████████████████████████████████████████████████████████████| 50/50 [00:02<00:00, 16.96it/s]\n",
      "Evaluating: 100%|██████████████████████████████████████████████████████████████████████| 30/30 [00:00<00:00, 30.02it/s]\n",
      "Training:   4%|██▉                                                                      | 2/50 [00:00<00:03, 13.52it/s]"
     ]
    },
    {
     "name": "stdout",
     "output_type": "stream",
     "text": [
      "200.0\n"
     ]
    },
    {
     "name": "stderr",
     "output_type": "stream",
     "text": [
      "Training: 100%|████████████████████████████████████████████████████████████████████████| 50/50 [00:03<00:00, 12.81it/s]\n",
      "Evaluating: 100%|██████████████████████████████████████████████████████████████████████| 30/30 [00:01<00:00, 28.72it/s]\n",
      "Training:   4%|██▉                                                                      | 2/50 [00:00<00:03, 13.61it/s]"
     ]
    },
    {
     "name": "stdout",
     "output_type": "stream",
     "text": [
      "200.0\n"
     ]
    },
    {
     "name": "stderr",
     "output_type": "stream",
     "text": [
      "Training: 100%|████████████████████████████████████████████████████████████████████████| 50/50 [00:03<00:00, 13.04it/s]\n",
      "Evaluating: 100%|██████████████████████████████████████████████████████████████████████| 30/30 [00:00<00:00, 30.60it/s]\n",
      "Training:   0%|                                                                                 | 0/50 [00:00<?, ?it/s]"
     ]
    },
    {
     "name": "stdout",
     "output_type": "stream",
     "text": [
      "200.0\n"
     ]
    },
    {
     "name": "stderr",
     "output_type": "stream",
     "text": [
      "Training: 100%|████████████████████████████████████████████████████████████████████████| 50/50 [00:03<00:00, 13.59it/s]\n",
      "Evaluating: 100%|██████████████████████████████████████████████████████████████████████| 30/30 [00:01<00:00, 29.54it/s]\n",
      "Training:   4%|██▉                                                                      | 2/50 [00:00<00:02, 16.08it/s]"
     ]
    },
    {
     "name": "stdout",
     "output_type": "stream",
     "text": [
      "200.0\n"
     ]
    },
    {
     "name": "stderr",
     "output_type": "stream",
     "text": [
      "Training: 100%|████████████████████████████████████████████████████████████████████████| 50/50 [00:03<00:00, 13.94it/s]\n",
      "Evaluating: 100%|██████████████████████████████████████████████████████████████████████| 30/30 [00:00<00:00, 30.27it/s]\n",
      "Training:   4%|██▉                                                                      | 2/50 [00:00<00:03, 14.29it/s]"
     ]
    },
    {
     "name": "stdout",
     "output_type": "stream",
     "text": [
      "200.0\n"
     ]
    },
    {
     "name": "stderr",
     "output_type": "stream",
     "text": [
      "Training: 100%|████████████████████████████████████████████████████████████████████████| 50/50 [00:03<00:00, 13.36it/s]\n",
      "Evaluating: 100%|██████████████████████████████████████████████████████████████████████| 30/30 [00:01<00:00, 29.39it/s]\n",
      "Training:   4%|██▉                                                                      | 2/50 [00:00<00:03, 12.85it/s]"
     ]
    },
    {
     "name": "stdout",
     "output_type": "stream",
     "text": [
      "200.0\n"
     ]
    },
    {
     "name": "stderr",
     "output_type": "stream",
     "text": [
      "Training: 100%|████████████████████████████████████████████████████████████████████████| 50/50 [00:03<00:00, 13.38it/s]\n",
      "Evaluating: 100%|██████████████████████████████████████████████████████████████████████| 30/30 [00:00<00:00, 30.49it/s]\n",
      "Training:   4%|██▉                                                                      | 2/50 [00:00<00:03, 15.70it/s]"
     ]
    },
    {
     "name": "stdout",
     "output_type": "stream",
     "text": [
      "200.0\n"
     ]
    },
    {
     "name": "stderr",
     "output_type": "stream",
     "text": [
      "Training: 100%|████████████████████████████████████████████████████████████████████████| 50/50 [00:03<00:00, 15.51it/s]\n",
      "Evaluating: 100%|██████████████████████████████████████████████████████████████████████| 30/30 [00:01<00:00, 29.29it/s]\n",
      "Training:   4%|██▉                                                                      | 2/50 [00:00<00:03, 15.58it/s]"
     ]
    },
    {
     "name": "stdout",
     "output_type": "stream",
     "text": [
      "200.0\n"
     ]
    },
    {
     "name": "stderr",
     "output_type": "stream",
     "text": [
      "Training: 100%|████████████████████████████████████████████████████████████████████████| 50/50 [00:03<00:00, 13.60it/s]\n",
      "Evaluating: 100%|██████████████████████████████████████████████████████████████████████| 30/30 [00:01<00:00, 28.97it/s]\n",
      "Training:   4%|██▉                                                                      | 2/50 [00:00<00:03, 13.10it/s]"
     ]
    },
    {
     "name": "stdout",
     "output_type": "stream",
     "text": [
      "200.0\n"
     ]
    },
    {
     "name": "stderr",
     "output_type": "stream",
     "text": [
      "Training: 100%|████████████████████████████████████████████████████████████████████████| 50/50 [00:03<00:00, 13.44it/s]\n",
      "Evaluating: 100%|██████████████████████████████████████████████████████████████████████| 30/30 [00:00<00:00, 31.01it/s]\n",
      "Training:   4%|██▉                                                                      | 2/50 [00:00<00:03, 14.81it/s]"
     ]
    },
    {
     "name": "stdout",
     "output_type": "stream",
     "text": [
      "200.0\n"
     ]
    },
    {
     "name": "stderr",
     "output_type": "stream",
     "text": [
      "Training: 100%|████████████████████████████████████████████████████████████████████████| 50/50 [00:03<00:00, 13.14it/s]\n",
      "Evaluating: 100%|██████████████████████████████████████████████████████████████████████| 30/30 [00:01<00:00, 26.96it/s]\n",
      "Training:   4%|██▉                                                                      | 2/50 [00:00<00:04, 11.21it/s]"
     ]
    },
    {
     "name": "stdout",
     "output_type": "stream",
     "text": [
      "200.0\n"
     ]
    },
    {
     "name": "stderr",
     "output_type": "stream",
     "text": [
      "Training: 100%|████████████████████████████████████████████████████████████████████████| 50/50 [00:03<00:00, 12.81it/s]\n",
      "Evaluating: 100%|██████████████████████████████████████████████████████████████████████| 30/30 [00:01<00:00, 29.75it/s]\n",
      "Training:   4%|██▉                                                                      | 2/50 [00:00<00:03, 12.45it/s]"
     ]
    },
    {
     "name": "stdout",
     "output_type": "stream",
     "text": [
      "200.0\n"
     ]
    },
    {
     "name": "stderr",
     "output_type": "stream",
     "text": [
      "Training: 100%|████████████████████████████████████████████████████████████████████████| 50/50 [00:03<00:00, 13.46it/s]\n",
      "Evaluating: 100%|██████████████████████████████████████████████████████████████████████| 30/30 [00:01<00:00, 29.06it/s]\n",
      "Training:   4%|██▉                                                                      | 2/50 [00:00<00:03, 14.39it/s]"
     ]
    },
    {
     "name": "stdout",
     "output_type": "stream",
     "text": [
      "200.0\n"
     ]
    },
    {
     "name": "stderr",
     "output_type": "stream",
     "text": [
      "Training: 100%|████████████████████████████████████████████████████████████████████████| 50/50 [00:03<00:00, 12.91it/s]\n",
      "Evaluating: 100%|██████████████████████████████████████████████████████████████████████| 30/30 [00:01<00:00, 28.26it/s]\n",
      "Training:   4%|██▉                                                                      | 2/50 [00:00<00:03, 13.28it/s]"
     ]
    },
    {
     "name": "stdout",
     "output_type": "stream",
     "text": [
      "200.0\n"
     ]
    },
    {
     "name": "stderr",
     "output_type": "stream",
     "text": [
      "Training: 100%|████████████████████████████████████████████████████████████████████████| 50/50 [00:03<00:00, 13.93it/s]\n",
      "Evaluating: 100%|██████████████████████████████████████████████████████████████████████| 30/30 [00:00<00:00, 30.06it/s]\n",
      "Training:   4%|██▉                                                                      | 2/50 [00:00<00:03, 13.10it/s]"
     ]
    },
    {
     "name": "stdout",
     "output_type": "stream",
     "text": [
      "200.0\n"
     ]
    },
    {
     "name": "stderr",
     "output_type": "stream",
     "text": [
      "Training: 100%|████████████████████████████████████████████████████████████████████████| 50/50 [00:03<00:00, 13.15it/s]\n",
      "Evaluating: 100%|██████████████████████████████████████████████████████████████████████| 30/30 [00:00<00:00, 30.63it/s]\n",
      "Training:   4%|██▉                                                                      | 2/50 [00:00<00:03, 14.92it/s]"
     ]
    },
    {
     "name": "stdout",
     "output_type": "stream",
     "text": [
      "200.0\n"
     ]
    },
    {
     "name": "stderr",
     "output_type": "stream",
     "text": [
      "Training: 100%|████████████████████████████████████████████████████████████████████████| 50/50 [00:03<00:00, 13.74it/s]\n",
      "Evaluating: 100%|██████████████████████████████████████████████████████████████████████| 30/30 [00:01<00:00, 28.56it/s]\n",
      "Training:   4%|██▉                                                                      | 2/50 [00:00<00:03, 13.28it/s]"
     ]
    },
    {
     "name": "stdout",
     "output_type": "stream",
     "text": [
      "200.0\n"
     ]
    },
    {
     "name": "stderr",
     "output_type": "stream",
     "text": [
      "Training: 100%|████████████████████████████████████████████████████████████████████████| 50/50 [00:03<00:00, 12.55it/s]\n",
      "Evaluating: 100%|██████████████████████████████████████████████████████████████████████| 30/30 [00:00<00:00, 30.35it/s]\n",
      "Training:   4%|██▉                                                                      | 2/50 [00:00<00:03, 12.34it/s]"
     ]
    },
    {
     "name": "stdout",
     "output_type": "stream",
     "text": [
      "200.0\n"
     ]
    },
    {
     "name": "stderr",
     "output_type": "stream",
     "text": [
      "Training: 100%|████████████████████████████████████████████████████████████████████████| 50/50 [00:03<00:00, 12.84it/s]\n",
      "Evaluating: 100%|██████████████████████████████████████████████████████████████████████| 30/30 [00:00<00:00, 30.54it/s]\n",
      "Training:   4%|██▉                                                                      | 2/50 [00:00<00:03, 13.52it/s]"
     ]
    },
    {
     "name": "stdout",
     "output_type": "stream",
     "text": [
      "200.0\n"
     ]
    },
    {
     "name": "stderr",
     "output_type": "stream",
     "text": [
      "Training: 100%|████████████████████████████████████████████████████████████████████████| 50/50 [00:03<00:00, 12.95it/s]\n",
      "Evaluating: 100%|██████████████████████████████████████████████████████████████████████| 30/30 [00:01<00:00, 29.97it/s]\n",
      "Training:   4%|██▉                                                                      | 2/50 [00:00<00:03, 12.53it/s]"
     ]
    },
    {
     "name": "stdout",
     "output_type": "stream",
     "text": [
      "200.0\n"
     ]
    },
    {
     "name": "stderr",
     "output_type": "stream",
     "text": [
      "Training: 100%|████████████████████████████████████████████████████████████████████████| 50/50 [00:03<00:00, 12.68it/s]\n",
      "Evaluating: 100%|██████████████████████████████████████████████████████████████████████| 30/30 [00:01<00:00, 29.93it/s]\n",
      "Training:   4%|██▉                                                                      | 2/50 [00:00<00:03, 12.69it/s]"
     ]
    },
    {
     "name": "stdout",
     "output_type": "stream",
     "text": [
      "200.0\n"
     ]
    },
    {
     "name": "stderr",
     "output_type": "stream",
     "text": [
      "Training: 100%|████████████████████████████████████████████████████████████████████████| 50/50 [00:03<00:00, 12.94it/s]\n",
      "Evaluating: 100%|██████████████████████████████████████████████████████████████████████| 30/30 [00:00<00:00, 30.12it/s]\n",
      "Training:   4%|██▉                                                                      | 2/50 [00:00<00:03, 14.18it/s]"
     ]
    },
    {
     "name": "stdout",
     "output_type": "stream",
     "text": [
      "200.0\n"
     ]
    },
    {
     "name": "stderr",
     "output_type": "stream",
     "text": [
      "Training: 100%|████████████████████████████████████████████████████████████████████████| 50/50 [00:03<00:00, 12.91it/s]\n",
      "Evaluating: 100%|██████████████████████████████████████████████████████████████████████| 30/30 [00:00<00:00, 30.86it/s]\n",
      "Training:   4%|██▉                                                                      | 2/50 [00:00<00:03, 14.18it/s]"
     ]
    },
    {
     "name": "stdout",
     "output_type": "stream",
     "text": [
      "200.0\n"
     ]
    },
    {
     "name": "stderr",
     "output_type": "stream",
     "text": [
      "Training: 100%|████████████████████████████████████████████████████████████████████████| 50/50 [00:03<00:00, 13.07it/s]\n",
      "Evaluating: 100%|██████████████████████████████████████████████████████████████████████| 30/30 [00:01<00:00, 27.80it/s]\n",
      "Training:   4%|██▉                                                                      | 2/50 [00:00<00:03, 12.77it/s]"
     ]
    },
    {
     "name": "stdout",
     "output_type": "stream",
     "text": [
      "200.0\n"
     ]
    },
    {
     "name": "stderr",
     "output_type": "stream",
     "text": [
      "Training: 100%|████████████████████████████████████████████████████████████████████████| 50/50 [00:03<00:00, 13.24it/s]\n",
      "Evaluating: 100%|██████████████████████████████████████████████████████████████████████| 30/30 [00:00<00:00, 30.09it/s]\n",
      "Training:   4%|██▉                                                                      | 2/50 [00:00<00:03, 13.99it/s]"
     ]
    },
    {
     "name": "stdout",
     "output_type": "stream",
     "text": [
      "200.0\n"
     ]
    },
    {
     "name": "stderr",
     "output_type": "stream",
     "text": [
      "Training: 100%|████████████████████████████████████████████████████████████████████████| 50/50 [00:03<00:00, 12.95it/s]\n",
      "Evaluating: 100%|██████████████████████████████████████████████████████████████████████| 30/30 [00:01<00:00, 28.29it/s]\n",
      "Training:   4%|██▉                                                                      | 2/50 [00:00<00:03, 12.53it/s]"
     ]
    },
    {
     "name": "stdout",
     "output_type": "stream",
     "text": [
      "200.0\n"
     ]
    },
    {
     "name": "stderr",
     "output_type": "stream",
     "text": [
      "Training: 100%|████████████████████████████████████████████████████████████████████████| 50/50 [00:03<00:00, 15.56it/s]\n",
      "Evaluating: 100%|██████████████████████████████████████████████████████████████████████| 30/30 [00:00<00:00, 30.43it/s]\n",
      "Training:   4%|██▉                                                                      | 2/50 [00:00<00:04, 11.48it/s]"
     ]
    },
    {
     "name": "stdout",
     "output_type": "stream",
     "text": [
      "200.0\n"
     ]
    },
    {
     "name": "stderr",
     "output_type": "stream",
     "text": [
      "Training: 100%|████████████████████████████████████████████████████████████████████████| 50/50 [00:03<00:00, 12.80it/s]\n",
      "Evaluating: 100%|██████████████████████████████████████████████████████████████████████| 30/30 [00:00<00:00, 36.36it/s]\n",
      "Training:   6%|████▍                                                                    | 3/50 [00:00<00:01, 23.55it/s]"
     ]
    },
    {
     "name": "stdout",
     "output_type": "stream",
     "text": [
      "166.0\n"
     ]
    },
    {
     "name": "stderr",
     "output_type": "stream",
     "text": [
      "Training: 100%|████████████████████████████████████████████████████████████████████████| 50/50 [00:03<00:00, 13.78it/s]\n",
      "Evaluating: 100%|██████████████████████████████████████████████████████████████████████| 30/30 [00:00<00:00, 30.57it/s]\n",
      "Training:   6%|████▍                                                                    | 3/50 [00:00<00:02, 17.62it/s]"
     ]
    },
    {
     "name": "stdout",
     "output_type": "stream",
     "text": [
      "200.0\n"
     ]
    },
    {
     "name": "stderr",
     "output_type": "stream",
     "text": [
      "Training: 100%|████████████████████████████████████████████████████████████████████████| 50/50 [00:03<00:00, 12.95it/s]\n",
      "Evaluating: 100%|██████████████████████████████████████████████████████████████████████| 30/30 [00:00<00:00, 30.07it/s]\n",
      "Training:   4%|██▉                                                                      | 2/50 [00:00<00:03, 13.01it/s]"
     ]
    },
    {
     "name": "stdout",
     "output_type": "stream",
     "text": [
      "200.0\n"
     ]
    },
    {
     "name": "stderr",
     "output_type": "stream",
     "text": [
      "Training: 100%|████████████████████████████████████████████████████████████████████████| 50/50 [00:03<00:00, 12.68it/s]\n",
      "Evaluating: 100%|██████████████████████████████████████████████████████████████████████| 30/30 [00:00<00:00, 36.04it/s]\n",
      "Training:   4%|██▉                                                                      | 2/50 [00:00<00:03, 13.21it/s]"
     ]
    },
    {
     "name": "stdout",
     "output_type": "stream",
     "text": [
      "162.8\n"
     ]
    },
    {
     "name": "stderr",
     "output_type": "stream",
     "text": [
      "Training: 100%|████████████████████████████████████████████████████████████████████████| 50/50 [00:03<00:00, 15.38it/s]\n",
      "Evaluating: 100%|██████████████████████████████████████████████████████████████████████| 30/30 [00:00<00:00, 38.03it/s]\n",
      "Training:   4%|██▉                                                                      | 2/50 [00:00<00:02, 16.61it/s]"
     ]
    },
    {
     "name": "stdout",
     "output_type": "stream",
     "text": [
      "152.33333333333334\n"
     ]
    },
    {
     "name": "stderr",
     "output_type": "stream",
     "text": [
      "Training: 100%|████████████████████████████████████████████████████████████████████████| 50/50 [00:03<00:00, 16.18it/s]\n",
      "Evaluating: 100%|██████████████████████████████████████████████████████████████████████| 30/30 [00:00<00:00, 45.14it/s]\n",
      "Training:   4%|██▉                                                                      | 2/50 [00:00<00:02, 18.73it/s]"
     ]
    },
    {
     "name": "stdout",
     "output_type": "stream",
     "text": [
      "129.8\n"
     ]
    },
    {
     "name": "stderr",
     "output_type": "stream",
     "text": [
      "Training: 100%|████████████████████████████████████████████████████████████████████████| 50/50 [00:02<00:00, 17.11it/s]\n",
      "Evaluating: 100%|██████████████████████████████████████████████████████████████████████| 30/30 [00:00<00:00, 31.03it/s]\n",
      "Training:   4%|██▉                                                                      | 2/50 [00:00<00:02, 19.98it/s]"
     ]
    },
    {
     "name": "stdout",
     "output_type": "stream",
     "text": [
      "200.0\n"
     ]
    },
    {
     "name": "stderr",
     "output_type": "stream",
     "text": [
      "Training: 100%|████████████████████████████████████████████████████████████████████████| 50/50 [00:03<00:00, 15.89it/s]\n",
      "Evaluating: 100%|██████████████████████████████████████████████████████████████████████| 30/30 [00:00<00:00, 47.42it/s]\n",
      "Training:   4%|██▉                                                                      | 2/50 [00:00<00:03, 15.00it/s]"
     ]
    },
    {
     "name": "stdout",
     "output_type": "stream",
     "text": [
      "130.5\n"
     ]
    },
    {
     "name": "stderr",
     "output_type": "stream",
     "text": [
      "Training: 100%|████████████████████████████████████████████████████████████████████████| 50/50 [00:03<00:00, 16.06it/s]\n",
      "Evaluating: 100%|██████████████████████████████████████████████████████████████████████| 30/30 [00:00<00:00, 42.29it/s]\n",
      "Training:   6%|████▍                                                                    | 3/50 [00:00<00:02, 20.55it/s]"
     ]
    },
    {
     "name": "stdout",
     "output_type": "stream",
     "text": [
      "137.3\n"
     ]
    },
    {
     "name": "stderr",
     "output_type": "stream",
     "text": [
      "Training: 100%|████████████████████████████████████████████████████████████████████████| 50/50 [00:02<00:00, 17.33it/s]\n",
      "Evaluating: 100%|██████████████████████████████████████████████████████████████████████| 30/30 [00:00<00:00, 39.30it/s]\n",
      "Training:   4%|██▉                                                                      | 2/50 [00:00<00:02, 19.09it/s]"
     ]
    },
    {
     "name": "stdout",
     "output_type": "stream",
     "text": [
      "157.36666666666667\n"
     ]
    },
    {
     "name": "stderr",
     "output_type": "stream",
     "text": [
      "Training: 100%|████████████████████████████████████████████████████████████████████████| 50/50 [00:03<00:00, 15.67it/s]\n",
      "Evaluating: 100%|██████████████████████████████████████████████████████████████████████| 30/30 [00:00<00:00, 30.22it/s]\n",
      "Training:   4%|██▉                                                                      | 2/50 [00:00<00:03, 13.89it/s]"
     ]
    },
    {
     "name": "stdout",
     "output_type": "stream",
     "text": [
      "198.96666666666667\n"
     ]
    },
    {
     "name": "stderr",
     "output_type": "stream",
     "text": [
      "Training: 100%|████████████████████████████████████████████████████████████████████████| 50/50 [00:03<00:00, 14.64it/s]\n",
      "Evaluating: 100%|██████████████████████████████████████████████████████████████████████| 30/30 [00:00<00:00, 36.18it/s]\n",
      "Training:   4%|██▉                                                                      | 2/50 [00:00<00:03, 12.94it/s]"
     ]
    },
    {
     "name": "stdout",
     "output_type": "stream",
     "text": [
      "169.26666666666668\n"
     ]
    },
    {
     "name": "stderr",
     "output_type": "stream",
     "text": [
      "Training: 100%|████████████████████████████████████████████████████████████████████████| 50/50 [00:03<00:00, 15.82it/s]\n",
      "Evaluating: 100%|██████████████████████████████████████████████████████████████████████| 30/30 [00:00<00:00, 47.62it/s]\n",
      "Training:   4%|██▉                                                                      | 2/50 [00:00<00:03, 13.90it/s]"
     ]
    },
    {
     "name": "stdout",
     "output_type": "stream",
     "text": [
      "122.4\n"
     ]
    },
    {
     "name": "stderr",
     "output_type": "stream",
     "text": [
      "Training: 100%|████████████████████████████████████████████████████████████████████████| 50/50 [00:03<00:00, 14.19it/s]\n",
      "Evaluating: 100%|██████████████████████████████████████████████████████████████████████| 30/30 [00:01<00:00, 29.84it/s]\n",
      "Training:   4%|██▉                                                                      | 2/50 [00:00<00:03, 13.66it/s]"
     ]
    },
    {
     "name": "stdout",
     "output_type": "stream",
     "text": [
      "200.0\n"
     ]
    },
    {
     "name": "stderr",
     "output_type": "stream",
     "text": [
      "Training: 100%|████████████████████████████████████████████████████████████████████████| 50/50 [00:03<00:00, 12.79it/s]\n",
      "Evaluating: 100%|██████████████████████████████████████████████████████████████████████| 30/30 [00:00<00:00, 41.55it/s]\n",
      "Training:   4%|██▉                                                                      | 2/50 [00:00<00:03, 14.18it/s]"
     ]
    },
    {
     "name": "stdout",
     "output_type": "stream",
     "text": [
      "144.56666666666666\n"
     ]
    },
    {
     "name": "stderr",
     "output_type": "stream",
     "text": [
      "Training: 100%|████████████████████████████████████████████████████████████████████████| 50/50 [00:04<00:00, 12.43it/s]\n",
      "Evaluating: 100%|██████████████████████████████████████████████████████████████████████| 30/30 [00:00<00:00, 31.01it/s]\n",
      "Training:   4%|██▉                                                                      | 2/50 [00:00<00:03, 13.70it/s]"
     ]
    },
    {
     "name": "stdout",
     "output_type": "stream",
     "text": [
      "200.0\n"
     ]
    },
    {
     "name": "stderr",
     "output_type": "stream",
     "text": [
      "Training: 100%|████████████████████████████████████████████████████████████████████████| 50/50 [00:03<00:00, 12.73it/s]\n",
      "Evaluating: 100%|██████████████████████████████████████████████████████████████████████| 30/30 [00:01<00:00, 29.33it/s]\n",
      "Training:   4%|██▉                                                                      | 2/50 [00:00<00:03, 14.81it/s]"
     ]
    },
    {
     "name": "stdout",
     "output_type": "stream",
     "text": [
      "200.0\n"
     ]
    },
    {
     "name": "stderr",
     "output_type": "stream",
     "text": [
      "Training: 100%|████████████████████████████████████████████████████████████████████████| 50/50 [00:03<00:00, 15.28it/s]\n",
      "Evaluating: 100%|██████████████████████████████████████████████████████████████████████| 30/30 [00:00<00:00, 47.50it/s]\n",
      "Training:   4%|██▉                                                                      | 2/50 [00:00<00:02, 19.96it/s]"
     ]
    },
    {
     "name": "stdout",
     "output_type": "stream",
     "text": [
      "127.4\n"
     ]
    },
    {
     "name": "stderr",
     "output_type": "stream",
     "text": [
      "Training: 100%|████████████████████████████████████████████████████████████████████████| 50/50 [00:03<00:00, 13.72it/s]\n",
      "Evaluating: 100%|██████████████████████████████████████████████████████████████████████| 30/30 [00:00<00:00, 30.61it/s]\n",
      "Training:   4%|██▉                                                                      | 2/50 [00:00<00:03, 12.01it/s]"
     ]
    },
    {
     "name": "stdout",
     "output_type": "stream",
     "text": [
      "200.0\n"
     ]
    },
    {
     "name": "stderr",
     "output_type": "stream",
     "text": [
      "Training: 100%|████████████████████████████████████████████████████████████████████████| 50/50 [00:03<00:00, 12.61it/s]\n",
      "Evaluating: 100%|██████████████████████████████████████████████████████████████████████| 30/30 [00:01<00:00, 29.40it/s]\n",
      "Training:   2%|█▍                                                                       | 1/50 [00:00<00:05,  9.15it/s]"
     ]
    },
    {
     "name": "stdout",
     "output_type": "stream",
     "text": [
      "200.0\n"
     ]
    },
    {
     "name": "stderr",
     "output_type": "stream",
     "text": [
      "Training: 100%|████████████████████████████████████████████████████████████████████████| 50/50 [00:04<00:00, 12.01it/s]\n",
      "Evaluating: 100%|██████████████████████████████████████████████████████████████████████| 30/30 [00:00<00:00, 30.32it/s]\n",
      "Training:   4%|██▉                                                                      | 2/50 [00:00<00:03, 14.71it/s]"
     ]
    },
    {
     "name": "stdout",
     "output_type": "stream",
     "text": [
      "200.0\n"
     ]
    },
    {
     "name": "stderr",
     "output_type": "stream",
     "text": [
      "Training: 100%|████████████████████████████████████████████████████████████████████████| 50/50 [00:03<00:00, 12.71it/s]\n",
      "Evaluating: 100%|██████████████████████████████████████████████████████████████████████| 30/30 [00:01<00:00, 29.83it/s]\n",
      "Training:   4%|██▉                                                                      | 2/50 [00:00<00:03, 13.43it/s]"
     ]
    },
    {
     "name": "stdout",
     "output_type": "stream",
     "text": [
      "200.0\n"
     ]
    },
    {
     "name": "stderr",
     "output_type": "stream",
     "text": [
      "Training: 100%|████████████████████████████████████████████████████████████████████████| 50/50 [00:03<00:00, 12.62it/s]\n",
      "Evaluating: 100%|██████████████████████████████████████████████████████████████████████| 30/30 [00:00<00:00, 30.68it/s]\n",
      "Training:   4%|██▉                                                                      | 2/50 [00:00<00:03, 14.71it/s]"
     ]
    },
    {
     "name": "stdout",
     "output_type": "stream",
     "text": [
      "200.0\n"
     ]
    },
    {
     "name": "stderr",
     "output_type": "stream",
     "text": [
      "Training: 100%|████████████████████████████████████████████████████████████████████████| 50/50 [00:03<00:00, 13.16it/s]\n",
      "Evaluating: 100%|██████████████████████████████████████████████████████████████████████| 30/30 [00:00<00:00, 30.83it/s]\n",
      "Training:   4%|██▉                                                                      | 2/50 [00:00<00:04, 11.75it/s]"
     ]
    },
    {
     "name": "stdout",
     "output_type": "stream",
     "text": [
      "200.0\n"
     ]
    },
    {
     "name": "stderr",
     "output_type": "stream",
     "text": [
      "Training: 100%|████████████████████████████████████████████████████████████████████████| 50/50 [00:03<00:00, 12.92it/s]\n",
      "Evaluating: 100%|██████████████████████████████████████████████████████████████████████| 30/30 [00:00<00:00, 30.75it/s]\n",
      "Training:   4%|██▉                                                                      | 2/50 [00:00<00:03, 14.18it/s]"
     ]
    },
    {
     "name": "stdout",
     "output_type": "stream",
     "text": [
      "200.0\n"
     ]
    },
    {
     "name": "stderr",
     "output_type": "stream",
     "text": [
      "Training: 100%|████████████████████████████████████████████████████████████████████████| 50/50 [00:03<00:00, 12.54it/s]\n",
      "Evaluating: 100%|██████████████████████████████████████████████████████████████████████| 30/30 [00:00<00:00, 30.29it/s]\n",
      "Training:   6%|████▍                                                                    | 3/50 [00:00<00:02, 18.25it/s]"
     ]
    },
    {
     "name": "stdout",
     "output_type": "stream",
     "text": [
      "200.0\n"
     ]
    },
    {
     "name": "stderr",
     "output_type": "stream",
     "text": [
      "Training: 100%|████████████████████████████████████████████████████████████████████████| 50/50 [00:03<00:00, 12.92it/s]\n",
      "Evaluating: 100%|██████████████████████████████████████████████████████████████████████| 30/30 [00:00<00:00, 31.18it/s]\n",
      "Training:   4%|██▉                                                                      | 2/50 [00:00<00:03, 15.11it/s]"
     ]
    },
    {
     "name": "stdout",
     "output_type": "stream",
     "text": [
      "197.46666666666667\n"
     ]
    },
    {
     "name": "stderr",
     "output_type": "stream",
     "text": [
      "Training: 100%|████████████████████████████████████████████████████████████████████████| 50/50 [00:03<00:00, 13.40it/s]\n",
      "Evaluating: 100%|██████████████████████████████████████████████████████████████████████| 30/30 [00:00<00:00, 30.87it/s]\n",
      "Training:   4%|██▉                                                                      | 2/50 [00:00<00:03, 14.39it/s]"
     ]
    },
    {
     "name": "stdout",
     "output_type": "stream",
     "text": [
      "200.0\n"
     ]
    },
    {
     "name": "stderr",
     "output_type": "stream",
     "text": [
      "Training: 100%|████████████████████████████████████████████████████████████████████████| 50/50 [00:03<00:00, 13.32it/s]\n",
      "Evaluating: 100%|██████████████████████████████████████████████████████████████████████| 30/30 [00:00<00:00, 30.85it/s]\n",
      "Training:   4%|██▉                                                                      | 2/50 [00:00<00:03, 14.58it/s]"
     ]
    },
    {
     "name": "stdout",
     "output_type": "stream",
     "text": [
      "200.0\n"
     ]
    },
    {
     "name": "stderr",
     "output_type": "stream",
     "text": [
      "Training: 100%|████████████████████████████████████████████████████████████████████████| 50/50 [00:03<00:00, 12.96it/s]\n",
      "Evaluating: 100%|██████████████████████████████████████████████████████████████████████| 30/30 [00:00<00:00, 30.68it/s]\n",
      "Training:   4%|██▉                                                                      | 2/50 [00:00<00:03, 12.69it/s]"
     ]
    },
    {
     "name": "stdout",
     "output_type": "stream",
     "text": [
      "200.0\n"
     ]
    },
    {
     "name": "stderr",
     "output_type": "stream",
     "text": [
      "Training: 100%|████████████████████████████████████████████████████████████████████████| 50/50 [00:03<00:00, 12.88it/s]\n",
      "Evaluating: 100%|██████████████████████████████████████████████████████████████████████| 30/30 [00:00<00:00, 30.17it/s]\n",
      "Training:   4%|██▉                                                                      | 2/50 [00:00<00:03, 14.71it/s]"
     ]
    },
    {
     "name": "stdout",
     "output_type": "stream",
     "text": [
      "200.0\n"
     ]
    },
    {
     "name": "stderr",
     "output_type": "stream",
     "text": [
      "Training: 100%|████████████████████████████████████████████████████████████████████████| 50/50 [00:03<00:00, 13.99it/s]\n",
      "Evaluating: 100%|██████████████████████████████████████████████████████████████████████| 30/30 [00:00<00:00, 30.47it/s]\n",
      "Training:   4%|██▉                                                                      | 2/50 [00:00<00:03, 15.11it/s]"
     ]
    },
    {
     "name": "stdout",
     "output_type": "stream",
     "text": [
      "200.0\n"
     ]
    },
    {
     "name": "stderr",
     "output_type": "stream",
     "text": [
      "Training: 100%|████████████████████████████████████████████████████████████████████████| 50/50 [00:03<00:00, 13.51it/s]\n",
      "Evaluating: 100%|██████████████████████████████████████████████████████████████████████| 30/30 [00:00<00:00, 30.06it/s]\n",
      "Training:   4%|██▉                                                                      | 2/50 [00:00<00:03, 14.91it/s]"
     ]
    },
    {
     "name": "stdout",
     "output_type": "stream",
     "text": [
      "200.0\n"
     ]
    },
    {
     "name": "stderr",
     "output_type": "stream",
     "text": [
      "Training: 100%|████████████████████████████████████████████████████████████████████████| 50/50 [00:03<00:00, 12.76it/s]\n",
      "Evaluating: 100%|██████████████████████████████████████████████████████████████████████| 30/30 [00:00<00:00, 30.45it/s]\n",
      "Training:   4%|██▉                                                                      | 2/50 [00:00<00:03, 14.19it/s]"
     ]
    },
    {
     "name": "stdout",
     "output_type": "stream",
     "text": [
      "200.0\n"
     ]
    },
    {
     "name": "stderr",
     "output_type": "stream",
     "text": [
      "Training: 100%|████████████████████████████████████████████████████████████████████████| 50/50 [00:03<00:00, 12.63it/s]\n",
      "Evaluating: 100%|██████████████████████████████████████████████████████████████████████| 30/30 [00:01<00:00, 29.48it/s]\n",
      "Training:   4%|██▉                                                                      | 2/50 [00:00<00:02, 19.22it/s]"
     ]
    },
    {
     "name": "stdout",
     "output_type": "stream",
     "text": [
      "200.0\n"
     ]
    },
    {
     "name": "stderr",
     "output_type": "stream",
     "text": [
      "Training: 100%|████████████████████████████████████████████████████████████████████████| 50/50 [00:03<00:00, 12.70it/s]\n",
      "Evaluating: 100%|██████████████████████████████████████████████████████████████████████| 30/30 [00:01<00:00, 28.77it/s]\n",
      "Training:   6%|████▍                                                                    | 3/50 [00:00<00:02, 20.70it/s]"
     ]
    },
    {
     "name": "stdout",
     "output_type": "stream",
     "text": [
      "200.0\n"
     ]
    },
    {
     "name": "stderr",
     "output_type": "stream",
     "text": [
      "Training: 100%|████████████████████████████████████████████████████████████████████████| 50/50 [00:03<00:00, 12.51it/s]\n",
      "Evaluating: 100%|██████████████████████████████████████████████████████████████████████| 30/30 [00:00<00:00, 30.01it/s]\n",
      "Training:   0%|                                                                                 | 0/50 [00:00<?, ?it/s]"
     ]
    },
    {
     "name": "stdout",
     "output_type": "stream",
     "text": [
      "200.0\n"
     ]
    },
    {
     "name": "stderr",
     "output_type": "stream",
     "text": [
      "Training: 100%|████████████████████████████████████████████████████████████████████████| 50/50 [00:04<00:00, 11.80it/s]\n",
      "Evaluating: 100%|██████████████████████████████████████████████████████████████████████| 30/30 [00:00<00:00, 30.79it/s]\n",
      "Training:   4%|██▉                                                                      | 2/50 [00:00<00:03, 13.70it/s]"
     ]
    },
    {
     "name": "stdout",
     "output_type": "stream",
     "text": [
      "200.0\n"
     ]
    },
    {
     "name": "stderr",
     "output_type": "stream",
     "text": [
      "Training: 100%|████████████████████████████████████████████████████████████████████████| 50/50 [00:04<00:00, 12.06it/s]\n",
      "Evaluating: 100%|██████████████████████████████████████████████████████████████████████| 30/30 [00:01<00:00, 29.88it/s]\n",
      "Training:   4%|██▉                                                                      | 2/50 [00:00<00:03, 13.89it/s]"
     ]
    },
    {
     "name": "stdout",
     "output_type": "stream",
     "text": [
      "200.0\n"
     ]
    },
    {
     "name": "stderr",
     "output_type": "stream",
     "text": [
      "Training: 100%|████████████████████████████████████████████████████████████████████████| 50/50 [00:04<00:00, 12.38it/s]\n",
      "Evaluating: 100%|██████████████████████████████████████████████████████████████████████| 30/30 [00:01<00:00, 28.43it/s]\n",
      "Training:   4%|██▉                                                                      | 2/50 [00:00<00:03, 12.94it/s]"
     ]
    },
    {
     "name": "stdout",
     "output_type": "stream",
     "text": [
      "200.0\n"
     ]
    },
    {
     "name": "stderr",
     "output_type": "stream",
     "text": [
      "Training: 100%|████████████████████████████████████████████████████████████████████████| 50/50 [00:04<00:00, 11.93it/s]\n",
      "Evaluating: 100%|██████████████████████████████████████████████████████████████████████| 30/30 [00:00<00:00, 30.50it/s]\n",
      "Training:   4%|██▉                                                                      | 2/50 [00:00<00:03, 13.70it/s]"
     ]
    },
    {
     "name": "stdout",
     "output_type": "stream",
     "text": [
      "200.0\n"
     ]
    },
    {
     "name": "stderr",
     "output_type": "stream",
     "text": [
      "Training: 100%|████████████████████████████████████████████████████████████████████████| 50/50 [00:03<00:00, 12.78it/s]\n",
      "Evaluating: 100%|██████████████████████████████████████████████████████████████████████| 30/30 [00:01<00:00, 29.39it/s]\n",
      "Training:   4%|██▉                                                                      | 2/50 [00:00<00:03, 13.43it/s]"
     ]
    },
    {
     "name": "stdout",
     "output_type": "stream",
     "text": [
      "200.0\n"
     ]
    },
    {
     "name": "stderr",
     "output_type": "stream",
     "text": [
      "Training: 100%|████████████████████████████████████████████████████████████████████████| 50/50 [00:04<00:00, 12.44it/s]\n",
      "Evaluating: 100%|██████████████████████████████████████████████████████████████████████| 30/30 [00:00<00:00, 30.50it/s]\n",
      "Training:   4%|██▉                                                                      | 2/50 [00:00<00:03, 15.27it/s]"
     ]
    },
    {
     "name": "stdout",
     "output_type": "stream",
     "text": [
      "200.0\n"
     ]
    },
    {
     "name": "stderr",
     "output_type": "stream",
     "text": [
      "Training: 100%|████████████████████████████████████████████████████████████████████████| 50/50 [00:04<00:00, 12.21it/s]\n",
      "Evaluating: 100%|██████████████████████████████████████████████████████████████████████| 30/30 [00:00<00:00, 47.99it/s]\n",
      "Training:   6%|████▍                                                                    | 3/50 [00:00<00:02, 21.43it/s]"
     ]
    },
    {
     "name": "stdout",
     "output_type": "stream",
     "text": [
      "124.8\n"
     ]
    },
    {
     "name": "stderr",
     "output_type": "stream",
     "text": [
      "Training: 100%|████████████████████████████████████████████████████████████████████████| 50/50 [00:04<00:00, 12.31it/s]\n",
      "Evaluating: 100%|██████████████████████████████████████████████████████████████████████| 30/30 [00:01<00:00, 28.97it/s]\n",
      "Training:   4%|██▉                                                                      | 2/50 [00:00<00:03, 12.15it/s]"
     ]
    },
    {
     "name": "stdout",
     "output_type": "stream",
     "text": [
      "200.0\n"
     ]
    },
    {
     "name": "stderr",
     "output_type": "stream",
     "text": [
      "Training: 100%|████████████████████████████████████████████████████████████████████████| 50/50 [00:03<00:00, 12.56it/s]\n",
      "Evaluating: 100%|██████████████████████████████████████████████████████████████████████| 30/30 [00:00<00:00, 30.86it/s]\n",
      "Training:   4%|██▉                                                                      | 2/50 [00:00<00:03, 13.52it/s]"
     ]
    },
    {
     "name": "stdout",
     "output_type": "stream",
     "text": [
      "200.0\n"
     ]
    },
    {
     "name": "stderr",
     "output_type": "stream",
     "text": [
      "Training: 100%|████████████████████████████████████████████████████████████████████████| 50/50 [00:03<00:00, 12.55it/s]\n",
      "Evaluating: 100%|██████████████████████████████████████████████████████████████████████| 30/30 [00:01<00:00, 29.51it/s]\n",
      "Training:   4%|██▉                                                                      | 2/50 [00:00<00:03, 14.85it/s]"
     ]
    },
    {
     "name": "stdout",
     "output_type": "stream",
     "text": [
      "200.0\n"
     ]
    },
    {
     "name": "stderr",
     "output_type": "stream",
     "text": [
      "Training: 100%|████████████████████████████████████████████████████████████████████████| 50/50 [00:03<00:00, 13.14it/s]\n",
      "Evaluating: 100%|██████████████████████████████████████████████████████████████████████| 30/30 [00:00<00:00, 30.14it/s]\n",
      "Training:   4%|██▉                                                                      | 2/50 [00:00<00:03, 14.71it/s]"
     ]
    },
    {
     "name": "stdout",
     "output_type": "stream",
     "text": [
      "200.0\n"
     ]
    },
    {
     "name": "stderr",
     "output_type": "stream",
     "text": [
      "Training: 100%|████████████████████████████████████████████████████████████████████████| 50/50 [00:04<00:00, 12.40it/s]\n",
      "Evaluating: 100%|██████████████████████████████████████████████████████████████████████| 30/30 [00:01<00:00, 29.41it/s]\n",
      "Training:   4%|██▉                                                                      | 2/50 [00:00<00:04, 10.88it/s]"
     ]
    },
    {
     "name": "stdout",
     "output_type": "stream",
     "text": [
      "200.0\n"
     ]
    },
    {
     "name": "stderr",
     "output_type": "stream",
     "text": [
      "Training: 100%|████████████████████████████████████████████████████████████████████████| 50/50 [00:03<00:00, 12.61it/s]\n",
      "Evaluating: 100%|██████████████████████████████████████████████████████████████████████| 30/30 [00:01<00:00, 29.41it/s]\n",
      "Training:   4%|██▉                                                                      | 2/50 [00:00<00:03, 14.19it/s]"
     ]
    },
    {
     "name": "stdout",
     "output_type": "stream",
     "text": [
      "200.0\n"
     ]
    },
    {
     "name": "stderr",
     "output_type": "stream",
     "text": [
      "Training: 100%|████████████████████████████████████████████████████████████████████████| 50/50 [00:03<00:00, 13.02it/s]\n",
      "Evaluating: 100%|██████████████████████████████████████████████████████████████████████| 30/30 [00:00<00:00, 31.37it/s]\n",
      "Training:   4%|██▉                                                                      | 2/50 [00:00<00:03, 12.94it/s]"
     ]
    },
    {
     "name": "stdout",
     "output_type": "stream",
     "text": [
      "200.0\n"
     ]
    },
    {
     "name": "stderr",
     "output_type": "stream",
     "text": [
      "Training: 100%|████████████████████████████████████████████████████████████████████████| 50/50 [00:03<00:00, 13.04it/s]\n",
      "Evaluating: 100%|██████████████████████████████████████████████████████████████████████| 30/30 [00:01<00:00, 29.41it/s]\n",
      "Training:   4%|██▉                                                                      | 2/50 [00:00<00:03, 14.71it/s]"
     ]
    },
    {
     "name": "stdout",
     "output_type": "stream",
     "text": [
      "200.0\n"
     ]
    },
    {
     "name": "stderr",
     "output_type": "stream",
     "text": [
      "Training: 100%|████████████████████████████████████████████████████████████████████████| 50/50 [00:04<00:00, 12.44it/s]\n",
      "Evaluating: 100%|██████████████████████████████████████████████████████████████████████| 30/30 [00:00<00:00, 30.24it/s]\n",
      "Training:   4%|██▉                                                                      | 2/50 [00:00<00:04, 11.46it/s]"
     ]
    },
    {
     "name": "stdout",
     "output_type": "stream",
     "text": [
      "200.0\n"
     ]
    },
    {
     "name": "stderr",
     "output_type": "stream",
     "text": [
      "Training: 100%|████████████████████████████████████████████████████████████████████████| 50/50 [00:03<00:00, 12.77it/s]\n",
      "Evaluating: 100%|██████████████████████████████████████████████████████████████████████| 30/30 [00:00<00:00, 30.58it/s]\n",
      "Training:   4%|██▉                                                                      | 2/50 [00:00<00:03, 13.89it/s]"
     ]
    },
    {
     "name": "stdout",
     "output_type": "stream",
     "text": [
      "200.0\n"
     ]
    },
    {
     "name": "stderr",
     "output_type": "stream",
     "text": [
      "Training: 100%|████████████████████████████████████████████████████████████████████████| 50/50 [00:03<00:00, 12.85it/s]\n",
      "Evaluating: 100%|██████████████████████████████████████████████████████████████████████| 30/30 [00:01<00:00, 29.98it/s]\n",
      "Training:   4%|██▉                                                                      | 2/50 [00:00<00:03, 12.03it/s]"
     ]
    },
    {
     "name": "stdout",
     "output_type": "stream",
     "text": [
      "200.0\n"
     ]
    },
    {
     "name": "stderr",
     "output_type": "stream",
     "text": [
      "Training: 100%|████████████████████████████████████████████████████████████████████████| 50/50 [00:04<00:00, 12.39it/s]\n",
      "Evaluating: 100%|██████████████████████████████████████████████████████████████████████| 30/30 [00:00<00:00, 30.89it/s]\n",
      "Training:   4%|██▉                                                                      | 2/50 [00:00<00:03, 15.71it/s]"
     ]
    },
    {
     "name": "stdout",
     "output_type": "stream",
     "text": [
      "200.0\n"
     ]
    },
    {
     "name": "stderr",
     "output_type": "stream",
     "text": [
      "Training: 100%|████████████████████████████████████████████████████████████████████████| 50/50 [00:03<00:00, 13.30it/s]\n",
      "Evaluating: 100%|██████████████████████████████████████████████████████████████████████| 30/30 [00:00<00:00, 31.04it/s]\n",
      "Training:   4%|██▉                                                                      | 2/50 [00:00<00:03, 14.39it/s]"
     ]
    },
    {
     "name": "stdout",
     "output_type": "stream",
     "text": [
      "200.0\n"
     ]
    },
    {
     "name": "stderr",
     "output_type": "stream",
     "text": [
      "Training: 100%|████████████████████████████████████████████████████████████████████████| 50/50 [00:03<00:00, 13.15it/s]\n",
      "Evaluating: 100%|██████████████████████████████████████████████████████████████████████| 30/30 [00:00<00:00, 30.21it/s]\n",
      "Training:   4%|██▉                                                                      | 2/50 [00:00<00:03, 13.43it/s]"
     ]
    },
    {
     "name": "stdout",
     "output_type": "stream",
     "text": [
      "200.0\n"
     ]
    },
    {
     "name": "stderr",
     "output_type": "stream",
     "text": [
      "Training: 100%|████████████████████████████████████████████████████████████████████████| 50/50 [00:03<00:00, 12.87it/s]\n",
      "Evaluating: 100%|██████████████████████████████████████████████████████████████████████| 30/30 [00:00<00:00, 30.59it/s]\n",
      "Training:   4%|██▉                                                                      | 2/50 [00:00<00:03, 14.29it/s]"
     ]
    },
    {
     "name": "stdout",
     "output_type": "stream",
     "text": [
      "200.0\n"
     ]
    },
    {
     "name": "stderr",
     "output_type": "stream",
     "text": [
      "Training: 100%|████████████████████████████████████████████████████████████████████████| 50/50 [00:03<00:00, 13.72it/s]\n",
      "Evaluating: 100%|██████████████████████████████████████████████████████████████████████| 30/30 [00:00<00:00, 30.64it/s]\n",
      "Training:   4%|██▉                                                                      | 2/50 [00:00<00:03, 13.99it/s]"
     ]
    },
    {
     "name": "stdout",
     "output_type": "stream",
     "text": [
      "200.0\n"
     ]
    },
    {
     "name": "stderr",
     "output_type": "stream",
     "text": [
      "Training: 100%|████████████████████████████████████████████████████████████████████████| 50/50 [00:03<00:00, 12.90it/s]\n",
      "Evaluating: 100%|██████████████████████████████████████████████████████████████████████| 30/30 [00:00<00:00, 30.74it/s]\n",
      "Training:   4%|██▉                                                                      | 2/50 [00:00<00:03, 15.58it/s]"
     ]
    },
    {
     "name": "stdout",
     "output_type": "stream",
     "text": [
      "200.0\n"
     ]
    },
    {
     "name": "stderr",
     "output_type": "stream",
     "text": [
      "Training: 100%|████████████████████████████████████████████████████████████████████████| 50/50 [00:03<00:00, 12.89it/s]\n",
      "Evaluating: 100%|██████████████████████████████████████████████████████████████████████| 30/30 [00:01<00:00, 29.82it/s]\n",
      "Training:   4%|██▉                                                                      | 2/50 [00:00<00:03, 13.38it/s]"
     ]
    },
    {
     "name": "stdout",
     "output_type": "stream",
     "text": [
      "200.0\n"
     ]
    },
    {
     "name": "stderr",
     "output_type": "stream",
     "text": [
      "Training: 100%|████████████████████████████████████████████████████████████████████████| 50/50 [00:03<00:00, 13.21it/s]\n",
      "Evaluating: 100%|██████████████████████████████████████████████████████████████████████| 30/30 [00:00<00:00, 31.46it/s]\n",
      "Training:   4%|██▉                                                                      | 2/50 [00:00<00:03, 14.18it/s]"
     ]
    },
    {
     "name": "stdout",
     "output_type": "stream",
     "text": [
      "200.0\n"
     ]
    },
    {
     "name": "stderr",
     "output_type": "stream",
     "text": [
      "Training: 100%|████████████████████████████████████████████████████████████████████████| 50/50 [00:03<00:00, 12.97it/s]\n",
      "Evaluating: 100%|██████████████████████████████████████████████████████████████████████| 30/30 [00:00<00:00, 30.34it/s]\n",
      "Training:   4%|██▉                                                                      | 2/50 [00:00<00:03, 13.70it/s]"
     ]
    },
    {
     "name": "stdout",
     "output_type": "stream",
     "text": [
      "200.0\n"
     ]
    },
    {
     "name": "stderr",
     "output_type": "stream",
     "text": [
      "Training: 100%|████████████████████████████████████████████████████████████████████████| 50/50 [00:03<00:00, 12.74it/s]\n",
      "Evaluating: 100%|██████████████████████████████████████████████████████████████████████| 30/30 [00:00<00:00, 30.82it/s]\n",
      "Training:   4%|██▉                                                                      | 2/50 [00:00<00:03, 14.09it/s]"
     ]
    },
    {
     "name": "stdout",
     "output_type": "stream",
     "text": [
      "200.0\n"
     ]
    },
    {
     "name": "stderr",
     "output_type": "stream",
     "text": [
      "Training: 100%|████████████████████████████████████████████████████████████████████████| 50/50 [00:03<00:00, 12.63it/s]\n",
      "Evaluating: 100%|██████████████████████████████████████████████████████████████████████| 30/30 [00:00<00:00, 30.86it/s]\n",
      "Training:   4%|██▉                                                                      | 2/50 [00:00<00:03, 14.28it/s]"
     ]
    },
    {
     "name": "stdout",
     "output_type": "stream",
     "text": [
      "200.0\n"
     ]
    },
    {
     "name": "stderr",
     "output_type": "stream",
     "text": [
      "Training: 100%|████████████████████████████████████████████████████████████████████████| 50/50 [00:03<00:00, 12.86it/s]\n",
      "Evaluating: 100%|██████████████████████████████████████████████████████████████████████| 30/30 [00:00<00:00, 30.83it/s]\n",
      "Training:   4%|██▉                                                                      | 2/50 [00:00<00:03, 14.58it/s]"
     ]
    },
    {
     "name": "stdout",
     "output_type": "stream",
     "text": [
      "200.0\n"
     ]
    },
    {
     "name": "stderr",
     "output_type": "stream",
     "text": [
      "Training: 100%|████████████████████████████████████████████████████████████████████████| 50/50 [00:03<00:00, 13.18it/s]\n",
      "Evaluating: 100%|██████████████████████████████████████████████████████████████████████| 30/30 [00:00<00:00, 30.32it/s]\n",
      "Training:   4%|██▉                                                                      | 2/50 [00:00<00:03, 13.52it/s]"
     ]
    },
    {
     "name": "stdout",
     "output_type": "stream",
     "text": [
      "200.0\n"
     ]
    },
    {
     "name": "stderr",
     "output_type": "stream",
     "text": [
      "Training: 100%|████████████████████████████████████████████████████████████████████████| 50/50 [00:03<00:00, 12.82it/s]\n",
      "Evaluating: 100%|██████████████████████████████████████████████████████████████████████| 30/30 [00:01<00:00, 29.96it/s]\n",
      "Training:   4%|██▉                                                                      | 2/50 [00:00<00:03, 14.29it/s]"
     ]
    },
    {
     "name": "stdout",
     "output_type": "stream",
     "text": [
      "200.0\n"
     ]
    },
    {
     "name": "stderr",
     "output_type": "stream",
     "text": [
      "Training: 100%|████████████████████████████████████████████████████████████████████████| 50/50 [00:04<00:00, 11.99it/s]\n",
      "Evaluating: 100%|██████████████████████████████████████████████████████████████████████| 30/30 [00:01<00:00, 29.97it/s]\n",
      "Training:   4%|██▉                                                                      | 2/50 [00:00<00:03, 13.19it/s]"
     ]
    },
    {
     "name": "stdout",
     "output_type": "stream",
     "text": [
      "200.0\n"
     ]
    },
    {
     "name": "stderr",
     "output_type": "stream",
     "text": [
      "Training: 100%|████████████████████████████████████████████████████████████████████████| 50/50 [00:03<00:00, 12.85it/s]\n",
      "Evaluating: 100%|██████████████████████████████████████████████████████████████████████| 30/30 [00:01<00:00, 29.53it/s]\n",
      "Training:   4%|██▉                                                                      | 2/50 [00:00<00:03, 13.71it/s]"
     ]
    },
    {
     "name": "stdout",
     "output_type": "stream",
     "text": [
      "200.0\n"
     ]
    },
    {
     "name": "stderr",
     "output_type": "stream",
     "text": [
      "Training: 100%|████████████████████████████████████████████████████████████████████████| 50/50 [00:03<00:00, 13.18it/s]\n",
      "Evaluating: 100%|██████████████████████████████████████████████████████████████████████| 30/30 [00:00<00:00, 30.31it/s]\n",
      "Training:   4%|██▉                                                                      | 2/50 [00:00<00:03, 14.29it/s]"
     ]
    },
    {
     "name": "stdout",
     "output_type": "stream",
     "text": [
      "200.0\n"
     ]
    },
    {
     "name": "stderr",
     "output_type": "stream",
     "text": [
      "Training: 100%|████████████████████████████████████████████████████████████████████████| 50/50 [00:04<00:00, 12.38it/s]\n",
      "Evaluating: 100%|██████████████████████████████████████████████████████████████████████| 30/30 [00:01<00:00, 29.92it/s]\n",
      "Training:   4%|██▉                                                                      | 2/50 [00:00<00:03, 14.81it/s]"
     ]
    },
    {
     "name": "stdout",
     "output_type": "stream",
     "text": [
      "200.0\n"
     ]
    },
    {
     "name": "stderr",
     "output_type": "stream",
     "text": [
      "Training: 100%|████████████████████████████████████████████████████████████████████████| 50/50 [00:03<00:00, 13.39it/s]\n",
      "Evaluating: 100%|██████████████████████████████████████████████████████████████████████| 30/30 [00:00<00:00, 30.51it/s]\n",
      "Training:   4%|██▉                                                                      | 2/50 [00:00<00:03, 14.60it/s]"
     ]
    },
    {
     "name": "stdout",
     "output_type": "stream",
     "text": [
      "200.0\n"
     ]
    },
    {
     "name": "stderr",
     "output_type": "stream",
     "text": [
      "Training: 100%|████████████████████████████████████████████████████████████████████████| 50/50 [00:03<00:00, 13.03it/s]\n",
      "Evaluating: 100%|██████████████████████████████████████████████████████████████████████| 30/30 [00:01<00:00, 29.71it/s]\n",
      "Training:   4%|██▉                                                                      | 2/50 [00:00<00:03, 12.23it/s]"
     ]
    },
    {
     "name": "stdout",
     "output_type": "stream",
     "text": [
      "200.0\n"
     ]
    },
    {
     "name": "stderr",
     "output_type": "stream",
     "text": [
      "Training: 100%|████████████████████████████████████████████████████████████████████████| 50/50 [00:03<00:00, 13.17it/s]\n",
      "Evaluating: 100%|██████████████████████████████████████████████████████████████████████| 30/30 [00:01<00:00, 29.12it/s]\n",
      "Training:   4%|██▉                                                                      | 2/50 [00:00<00:03, 15.34it/s]"
     ]
    },
    {
     "name": "stdout",
     "output_type": "stream",
     "text": [
      "200.0\n"
     ]
    },
    {
     "name": "stderr",
     "output_type": "stream",
     "text": [
      "Training: 100%|████████████████████████████████████████████████████████████████████████| 50/50 [00:03<00:00, 12.78it/s]\n",
      "Evaluating: 100%|██████████████████████████████████████████████████████████████████████| 30/30 [00:00<00:00, 30.16it/s]\n",
      "Training:   4%|██▉                                                                      | 2/50 [00:00<00:03, 13.19it/s]"
     ]
    },
    {
     "name": "stdout",
     "output_type": "stream",
     "text": [
      "200.0\n"
     ]
    },
    {
     "name": "stderr",
     "output_type": "stream",
     "text": [
      "Training: 100%|████████████████████████████████████████████████████████████████████████| 50/50 [00:04<00:00, 12.45it/s]\n",
      "Evaluating: 100%|██████████████████████████████████████████████████████████████████████| 30/30 [00:00<00:00, 30.63it/s]\n",
      "Training:   4%|██▉                                                                      | 2/50 [00:00<00:03, 13.52it/s]"
     ]
    },
    {
     "name": "stdout",
     "output_type": "stream",
     "text": [
      "200.0\n"
     ]
    },
    {
     "name": "stderr",
     "output_type": "stream",
     "text": [
      "Training: 100%|████████████████████████████████████████████████████████████████████████| 50/50 [00:04<00:00, 11.46it/s]\n",
      "Evaluating: 100%|██████████████████████████████████████████████████████████████████████| 30/30 [00:00<00:00, 30.55it/s]\n",
      "Training:   0%|                                                                                 | 0/50 [00:00<?, ?it/s]"
     ]
    },
    {
     "name": "stdout",
     "output_type": "stream",
     "text": [
      "200.0\n"
     ]
    },
    {
     "name": "stderr",
     "output_type": "stream",
     "text": [
      "Training: 100%|████████████████████████████████████████████████████████████████████████| 50/50 [00:03<00:00, 12.58it/s]\n",
      "Evaluating: 100%|██████████████████████████████████████████████████████████████████████| 30/30 [00:00<00:00, 30.55it/s]\n",
      "Training:   4%|██▉                                                                      | 2/50 [00:00<00:03, 14.09it/s]"
     ]
    },
    {
     "name": "stdout",
     "output_type": "stream",
     "text": [
      "200.0\n"
     ]
    },
    {
     "name": "stderr",
     "output_type": "stream",
     "text": [
      "Training: 100%|████████████████████████████████████████████████████████████████████████| 50/50 [00:03<00:00, 12.80it/s]\n",
      "Evaluating: 100%|██████████████████████████████████████████████████████████████████████| 30/30 [00:00<00:00, 30.07it/s]\n",
      "Training:   4%|██▉                                                                      | 2/50 [00:00<00:03, 13.61it/s]"
     ]
    },
    {
     "name": "stdout",
     "output_type": "stream",
     "text": [
      "200.0\n"
     ]
    },
    {
     "name": "stderr",
     "output_type": "stream",
     "text": [
      "Training: 100%|████████████████████████████████████████████████████████████████████████| 50/50 [00:03<00:00, 12.99it/s]\n",
      "Evaluating: 100%|██████████████████████████████████████████████████████████████████████| 30/30 [00:00<00:00, 30.44it/s]\n",
      "Training:   4%|██▉                                                                      | 2/50 [00:00<00:03, 13.67it/s]"
     ]
    },
    {
     "name": "stdout",
     "output_type": "stream",
     "text": [
      "200.0\n"
     ]
    },
    {
     "name": "stderr",
     "output_type": "stream",
     "text": [
      "Training: 100%|████████████████████████████████████████████████████████████████████████| 50/50 [00:03<00:00, 12.68it/s]\n",
      "Evaluating: 100%|██████████████████████████████████████████████████████████████████████| 30/30 [00:00<00:00, 30.08it/s]\n",
      "Training:   4%|██▉                                                                      | 2/50 [00:00<00:03, 13.52it/s]"
     ]
    },
    {
     "name": "stdout",
     "output_type": "stream",
     "text": [
      "200.0\n"
     ]
    },
    {
     "name": "stderr",
     "output_type": "stream",
     "text": [
      "Training: 100%|████████████████████████████████████████████████████████████████████████| 50/50 [00:04<00:00, 12.41it/s]\n",
      "Evaluating: 100%|██████████████████████████████████████████████████████████████████████| 30/30 [00:00<00:00, 30.42it/s]\n",
      "Training:   4%|██▉                                                                      | 2/50 [00:00<00:03, 15.00it/s]"
     ]
    },
    {
     "name": "stdout",
     "output_type": "stream",
     "text": [
      "200.0\n"
     ]
    },
    {
     "name": "stderr",
     "output_type": "stream",
     "text": [
      "Training: 100%|████████████████████████████████████████████████████████████████████████| 50/50 [00:03<00:00, 12.82it/s]\n",
      "Evaluating: 100%|██████████████████████████████████████████████████████████████████████| 30/30 [00:00<00:00, 30.94it/s]\n",
      "Training:   4%|██▉                                                                      | 2/50 [00:00<00:03, 13.19it/s]"
     ]
    },
    {
     "name": "stdout",
     "output_type": "stream",
     "text": [
      "200.0\n"
     ]
    },
    {
     "name": "stderr",
     "output_type": "stream",
     "text": [
      "Training: 100%|████████████████████████████████████████████████████████████████████████| 50/50 [00:03<00:00, 12.92it/s]\n",
      "Evaluating: 100%|██████████████████████████████████████████████████████████████████████| 30/30 [00:00<00:00, 30.44it/s]\n",
      "Training:   4%|██▉                                                                      | 2/50 [00:00<00:03, 14.60it/s]"
     ]
    },
    {
     "name": "stdout",
     "output_type": "stream",
     "text": [
      "200.0\n"
     ]
    },
    {
     "name": "stderr",
     "output_type": "stream",
     "text": [
      "Training: 100%|████████████████████████████████████████████████████████████████████████| 50/50 [00:03<00:00, 13.03it/s]\n",
      "Evaluating: 100%|██████████████████████████████████████████████████████████████████████| 30/30 [00:00<00:00, 30.75it/s]\n",
      "Training:   4%|██▉                                                                      | 2/50 [00:00<00:03, 13.80it/s]"
     ]
    },
    {
     "name": "stdout",
     "output_type": "stream",
     "text": [
      "200.0\n"
     ]
    },
    {
     "name": "stderr",
     "output_type": "stream",
     "text": [
      "Training: 100%|████████████████████████████████████████████████████████████████████████| 50/50 [00:03<00:00, 12.79it/s]\n",
      "Evaluating: 100%|██████████████████████████████████████████████████████████████████████| 30/30 [00:01<00:00, 29.59it/s]\n",
      "Training:   4%|██▉                                                                      | 2/50 [00:00<00:03, 13.11it/s]"
     ]
    },
    {
     "name": "stdout",
     "output_type": "stream",
     "text": [
      "200.0\n"
     ]
    },
    {
     "name": "stderr",
     "output_type": "stream",
     "text": [
      "Training: 100%|████████████████████████████████████████████████████████████████████████| 50/50 [00:03<00:00, 12.86it/s]\n",
      "Evaluating: 100%|██████████████████████████████████████████████████████████████████████| 30/30 [00:00<00:00, 30.35it/s]\n",
      "Training:   4%|██▉                                                                      | 2/50 [00:00<00:03, 12.83it/s]"
     ]
    },
    {
     "name": "stdout",
     "output_type": "stream",
     "text": [
      "200.0\n"
     ]
    },
    {
     "name": "stderr",
     "output_type": "stream",
     "text": [
      "Training: 100%|████████████████████████████████████████████████████████████████████████| 50/50 [00:03<00:00, 13.20it/s]\n",
      "Evaluating: 100%|██████████████████████████████████████████████████████████████████████| 30/30 [00:00<00:00, 30.65it/s]\n",
      "Training:   4%|██▉                                                                      | 2/50 [00:00<00:03, 14.49it/s]"
     ]
    },
    {
     "name": "stdout",
     "output_type": "stream",
     "text": [
      "200.0\n"
     ]
    },
    {
     "name": "stderr",
     "output_type": "stream",
     "text": [
      "Training: 100%|████████████████████████████████████████████████████████████████████████| 50/50 [00:04<00:00, 12.03it/s]\n",
      "Evaluating: 100%|██████████████████████████████████████████████████████████████████████| 30/30 [00:01<00:00, 27.09it/s]\n",
      "Training:   2%|█▍                                                                       | 1/50 [00:00<00:05,  8.96it/s]"
     ]
    },
    {
     "name": "stdout",
     "output_type": "stream",
     "text": [
      "200.0\n"
     ]
    },
    {
     "name": "stderr",
     "output_type": "stream",
     "text": [
      "Training: 100%|████████████████████████████████████████████████████████████████████████| 50/50 [00:04<00:00, 10.44it/s]\n",
      "Evaluating: 100%|██████████████████████████████████████████████████████████████████████| 30/30 [00:01<00:00, 29.59it/s]\n",
      "Training:   4%|██▉                                                                      | 2/50 [00:00<00:03, 12.09it/s]"
     ]
    },
    {
     "name": "stdout",
     "output_type": "stream",
     "text": [
      "200.0\n"
     ]
    },
    {
     "name": "stderr",
     "output_type": "stream",
     "text": [
      "Training: 100%|████████████████████████████████████████████████████████████████████████| 50/50 [00:04<00:00, 11.77it/s]\n",
      "Evaluating: 100%|██████████████████████████████████████████████████████████████████████| 30/30 [00:01<00:00, 28.39it/s]\n",
      "Training:   4%|██▉                                                                      | 2/50 [00:00<00:03, 13.25it/s]"
     ]
    },
    {
     "name": "stdout",
     "output_type": "stream",
     "text": [
      "200.0\n"
     ]
    },
    {
     "name": "stderr",
     "output_type": "stream",
     "text": [
      "Training: 100%|████████████████████████████████████████████████████████████████████████| 50/50 [00:04<00:00, 11.89it/s]\n",
      "Evaluating: 100%|██████████████████████████████████████████████████████████████████████| 30/30 [00:00<00:00, 30.54it/s]\n",
      "Training:   4%|██▉                                                                      | 2/50 [00:00<00:03, 14.18it/s]"
     ]
    },
    {
     "name": "stdout",
     "output_type": "stream",
     "text": [
      "200.0\n"
     ]
    },
    {
     "name": "stderr",
     "output_type": "stream",
     "text": [
      "Training: 100%|████████████████████████████████████████████████████████████████████████| 50/50 [00:04<00:00, 11.71it/s]\n",
      "Evaluating: 100%|██████████████████████████████████████████████████████████████████████| 30/30 [00:01<00:00, 29.32it/s]\n",
      "Training:   4%|██▉                                                                      | 2/50 [00:00<00:03, 13.43it/s]"
     ]
    },
    {
     "name": "stdout",
     "output_type": "stream",
     "text": [
      "200.0\n"
     ]
    },
    {
     "name": "stderr",
     "output_type": "stream",
     "text": [
      "Training: 100%|████████████████████████████████████████████████████████████████████████| 50/50 [00:04<00:00, 12.14it/s]\n",
      "Evaluating: 100%|██████████████████████████████████████████████████████████████████████| 30/30 [00:00<00:00, 30.47it/s]\n",
      "Training:   4%|██▉                                                                      | 2/50 [00:00<00:03, 13.02it/s]"
     ]
    },
    {
     "name": "stdout",
     "output_type": "stream",
     "text": [
      "200.0\n"
     ]
    },
    {
     "name": "stderr",
     "output_type": "stream",
     "text": [
      "Training: 100%|████████████████████████████████████████████████████████████████████████| 50/50 [00:03<00:00, 12.65it/s]\n",
      "Evaluating: 100%|██████████████████████████████████████████████████████████████████████| 30/30 [00:01<00:00, 29.79it/s]"
     ]
    },
    {
     "name": "stdout",
     "output_type": "stream",
     "text": [
      "200.0\n",
      "Learning time:\n",
      " 826.3327322006226\n",
      "\n",
      "Learning Performance:\n",
      "\n"
     ]
    },
    {
     "name": "stderr",
     "output_type": "stream",
     "text": [
      "\n"
     ]
    },
    {
     "data": {
      "text/plain": [
       "<Figure size 432x288 with 0 Axes>"
      ]
     },
     "metadata": {},
     "output_type": "display_data"
    },
    {
     "data": {
      "image/png": "[encoded data removed]",
      "text/plain": [
       "<Figure size 432x288 with 1 Axes>"
      ]
     },
     "metadata": {
      "needs_background": "light"
     },
     "output_type": "display_data"
    }
   ],
   "source": [
    "#Full DQN\n",
    "\n",
    "hyperparams_CartPole = {\n",
    "    'epsilon_decay_steps' : 100000, \n",
    "    'final_epsilon' : 0.1,\n",
    "    'batch_size' : 32, \n",
    "    'update_steps' : 10, \n",
    "    'memory_size' : 2000, \n",
    "    'beta' : 0.99, \n",
    "    'model_replace_freq' : 2000,\n",
    "    'learning_rate' : 0.0003,\n",
    "    'use_target_model': True\n",
    "}\n",
    "\n",
    "training_episodes, test_interval = 10000, 50\n",
    "start_time = time.time()\n",
    "agent = DQN_agent(env_CartPole, hyperparams_CartPole)\n",
    "result = agent.learn_and_evaluate(training_episodes, test_interval)\n",
    "run_time = time.time() - start_time\n",
    "\n",
    "print(\"Learning time:\\n\", run_time)\n",
    "plot_result(result, test_interval, [\"batch_update with target_model\"])"
   ]
  },
  {
   "cell_type": "markdown",
   "metadata": {},
   "source": [
    "***\n",
    "# Part 2: Distributed DQN\n",
    "***\n",
    "\n",
    "Here you will implement a distributed version of the above DQN approach. The distribution approach can be the same as that used for the table-based distribution Q-learning algorithm from homework 3."
   ]
  },
  {
   "cell_type": "markdown",
   "metadata": {},
   "source": [
    "## init Ray"
   ]
  },
  {
   "cell_type": "code",
   "execution_count": null,
   "metadata": {},
   "outputs": [],
   "source": [
    "ray.shutdown()\n",
    "ray.init(include_webui=False, ignore_reinit_error=True, redis_max_memory=500000000, object_store_memory=5000000000)"
   ]
  },
  {
   "cell_type": "markdown",
   "metadata": {},
   "source": [
    "## Distributed DQN agent\n",
    "The idea is to speedup learning by creating actors to collect data and a model_server to update the neural network model.\n",
    "- Collector: There is a simulator inside each collector. Their job is to collect exprience from the simulator, and send them to the memory server. They follow the explore_or_exploit policy, getting greedy action from model server. Also, call update function of model server to update the model.  \n",
    "- Evaluator: There is a simulator inside the evaluator. It is called by the the Model Server, taking eval_model from it, and test its performance.\n",
    "- Model Server: Stores the evalation and target networks. It Takes experiences from Memory Server and updates the Q-network, also replacing target Q-network periodically. It also interfaces to the evaluator periodically. \n",
    "- Memory Server: It is used to store/sample experience relays.\n",
    "\n",
    "An image of this architecture is below. \n",
    "\n",
    "For this part, you should use our custom_cartpole as your enviroment. This version of cartpole is slower, which allows for the benefits of distributed experience collection to be observed. In particular, the time to generate an experience tuple needs to be non-trivial compared to the time needed to do a neural network model update. \n",
    "\n",
    "<span style=\"color:green\">It is better to run the distributed DQN agent in exclusive node, not in Jupyter notebook</span>\n",
    "```\n",
    "Store all of your distrited DQN code into a python file.\n",
    "ssh colfax (get access to the Devcloud on terminal)\n",
    "qsub -I -lselect=1\n",
    "python3 distributed_dqn.py\n",
    "```\n",
    "\n",
    "<img src=\"distributed DQN.png\">\n",
    "\n",
    "For this part of the homework you need to submit your code for distributed DQN and run experiments that vary the number of workers involved. Produce some learning curves and timing results and discuss your observations. "
   ]
  },
  {
   "cell_type": "code",
   "execution_count": null,
   "metadata": {},
   "outputs": [],
   "source": [
    "from memory_remote import ReplayBuffer_remote\n",
    "from dqn_model import _DQNModel\n",
    "import torch\n",
    "from custom_cartpole import CartPoleEnv"
   ]
  },
  {
   "cell_type": "code",
   "execution_count": null,
   "metadata": {},
   "outputs": [],
   "source": [
    "# Set the Env name and action space for CartPole\n",
    "ENV_NAME = 'CartPole_distributed'\n",
    "\n",
    "# Set result saveing floder\n",
    "result_floder = ENV_NAME + \"_distributed\"\n",
    "result_file = ENV_NAME + \"/results.txt\"\n",
    "if not os.path.isdir(result_floder):\n",
    "    os.mkdir(result_floder)\n",
    "torch.set_num_threads(12)"
   ]
  },
  {
   "cell_type": "code",
   "execution_count": null,
   "metadata": {},
   "outputs": [],
   "source": [
    "# final result for 2 workers \n",
    "[12.433333333333334, 9.3, 9.333333333333334, 21.033333333333335, 21.466666666666665, 9.266666666666667, 9.333333333333334, 9.366666666666667, 22.866666666666667, 16.933333333333334, 17.433333333333334, 15.166666666666666, 27.333333333333332, 17.966666666666665, 24.533333333333335, 34.36666666666667, 55.333333333333336, 35.166666666666664, 102.06666666666666, 81.1, 196.8, 200.0, 199.33333333333334, 190.4, 200.0, 200.0, 200.0, 197.93333333333334, 194.9, 200.0, 194.83333333333334, 200.0, 161.03333333333333, 139.23333333333332, 16.233333333333334, 122.6, 97.16666666666667, 18.833333333333332, 82.6, 65.2, 122.2, 195.83333333333334, 199.6, 15.066666666666666, 126.66666666666667, 200.0, 127.5, 14.366666666666667, 97.26666666666667, 105.86666666666666, 200.0, 90.96666666666667, 95.13333333333334, 83.06666666666666, 34.36666666666667, 95.6, 96.93333333333334, 32.166666666666664, 188.73333333333332, 99.36666666666666, 186.46666666666667, 27.433333333333334, 175.53333333333333, 108.5, 178.53333333333333, 139.63333333333333, 140.96666666666667, 117.4, 133.23333333333332, 112.2, 112.0, 116.36666666666666, 132.03333333333333, 110.23333333333333, 186.5, 200.0, 200.0, 167.33333333333334, 200.0, 153.46666666666667, 200.0, 13.566666666666666, 200.0, 200.0, 200.0, 200.0, 200.0, 200.0, 200.0, 200.0, 200.0, 200.0, 200.0, 200.0, 200.0, 149.6, 173.63333333333333, 200.0, 200.0, 200.0, 200.0, 141.9, 200.0, 200.0, 200.0, 200.0, 200.0, 200.0, 200.0, 178.66666666666666, 200.0, 200.0, 200.0, 200.0, 200.0, 144.26666666666668, 200.0, 200.0, 200.0, 200.0, 200.0, 148.9, 200.0, 200.0, 200.0, 200.0, 200.0, 200.0, 200.0, 105.93333333333334, 200.0, 200.0, 200.0, 200.0, 200.0, 200.0, 200.0, 200.0, 200.0, 200.0, 200.0, 200.0, 200.0, 200.0, 200.0, 200.0, 200.0, 200.0, 200.0, 200.0, 200.0, 63.5, 85.83333333333333, 200.0, 200.0, 200.0, 200.0, 200.0, 200.0, 200.0, 200.0, 200.0, 200.0, 200.0, 200.0, 200.0, 200.0, 200.0, 200.0, 200.0, 200.0, 200.0, 200.0, 200.0, 200.0, 200.0, 200.0, 200.0, 200.0, 200.0, 200.0, 200.0, 200.0, 200.0, 200.0, 200.0, 200.0, 200.0, 200.0, 200.0, 200.0, 200.0, 200.0, 200.0]\n"
   ]
  },
  {
   "cell_type": "code",
   "execution_count": null,
   "metadata": {},
   "outputs": [],
   "source": [
    "# final result for 4 workers \n",
    "[9.566666666666666, 9.4, 9.333333333333334, 9.333333333333334, 9.333333333333334, 9.4, 9.4, 9.4, 9.566666666666666, 9.266666666666667, 9.566666666666666, 9.566666666666666, 9.733333333333333, 9.633333333333333, 9.266666666666667, 9.266666666666667, 9.266666666666667, 9.633333333333333, 9.633333333333333, 9.366666666666667, 9.633333333333333, 113.43333333333334, 137.9, 157.0, 200.0, 184.1, 194.2, 135.3, 200.0, 127.76666666666667, 198.66666666666666, 200.0, 181.66666666666666, 114.53333333333333, 200.0, 169.73333333333332, 195.86666666666667, 115.0, 167.06666666666666, 200.0, 200.0, 15.8, 66.76666666666667, 93.66666666666667, 135.2, 134.8, 179.06666666666666, 200.0, 200.0, 141.86666666666667, 66.9, 200.0, 152.93333333333334, 120.3, 165.46666666666667, 200.0, 172.96666666666667, 200.0, 124.06666666666666, 200.0, 181.86666666666667, 200.0, 200.0, 200.0, 200.0, 200.0, 197.16666666666666, 200.0, 200.0, 200.0, 200.0, 200.0, 200.0, 200.0, 200.0, 125.7, 130.13333333333333, 136.23333333333332, 200.0, 200.0, 200.0, 200.0, 192.83333333333334, 135.36666666666667, 200.0, 100.9, 112.56666666666666, 200.0, 200.0, 200.0, 200.0, 200.0, 200.0, 151.96666666666667, 200.0, 130.06666666666666, 200.0, 10.666666666666666, 118.23333333333333, 96.86666666666666, 200.0, 200.0, 200.0, 200.0, 200.0, 200.0, 200.0, 200.0, 200.0, 200.0, 200.0, 200.0, 200.0, 107.96666666666667, 200.0, 200.0, 200.0, 200.0, 200.0, 200.0, 200.0, 200.0, 200.0, 200.0, 200.0, 124.86666666666666, 149.66666666666666, 110.46666666666667, 200.0, 200.0, 200.0, 200.0, 200.0, 200.0, 200.0, 200.0, 200.0, 200.0, 200.0, 200.0, 200.0, 200.0, 200.0, 200.0, 200.0, 200.0, 200.0, 200.0, 200.0, 200.0, 200.0, 200.0, 200.0, 200.0, 200.0, 200.0, 200.0, 200.0, 200.0, 200.0, 200.0, 200.0, 200.0, 200.0, 200.0, 200.0, 200.0, 200.0, 200.0, 200.0, 200.0, 200.0, 200.0, 17.233333333333334, 16.866666666666667, 52.766666666666666, 200.0, 200.0, 200.0, 200.0, 200.0, 200.0, 200.0, 200.0, 200.0, 200.0, 200.0, 200.0, 200.0, 200.0, 200.0, 200.0]\n"
   ]
  },
  {
   "cell_type": "code",
   "execution_count": null,
   "metadata": {},
   "outputs": [],
   "source": [
    "# final result for 8 workers \n",
    "[9.866666666666667, 10.0, 9.966666666666667, 10.0, 10.0, 10.1, 66.1, 9.666666666666666, 9.666666666666666, 9.666666666666666, 9.2, 9.666666666666666, 9.666666666666666, 9.666666666666666, 9.666666666666666, 12.0, 10.5, 11.033333333333333, 11.533333333333333, 12.433333333333334, 10.033333333333333, 13.066666666666666, 14.266666666666667, 9.366666666666667, 11.466666666666667, 9.366666666666667, 9.366666666666667, 9.4, 14.933333333333334, 14.4, 12.166666666666666, 9.833333333333334, 14.0, 13.1, 15.333333333333334, 29.166666666666668, 30.5, 66.2, 200.0, 200.0, 200.0, 200.0, 175.9, 189.9, 198.13333333333333, 188.16666666666666, 200.0, 200.0, 199.53333333333333, 200.0, 200.0, 200.0, 200.0, 200.0, 106.76666666666667, 155.76666666666668, 115.5, 154.16666666666666, 119.33333333333333, 200.0, 111.46666666666667, 148.73333333333332, 35.666666666666664, 75.33333333333333, 197.6, 175.86666666666667, 133.66666666666666, 200.0, 161.0, 120.76666666666667, 119.26666666666667, 148.03333333333333, 128.7, 199.6, 147.36666666666667, 122.63333333333334, 136.1, 146.6, 133.36666666666667, 144.83333333333334, 146.66666666666666, 154.9, 181.23333333333332, 139.06666666666666, 138.43333333333334, 158.33333333333334, 169.83333333333334, 185.8, 191.03333333333333, 192.6, 191.03333333333333, 199.03333333333333, 199.6, 190.0, 200.0, 200.0, 200.0, 200.0, 200.0, 200.0, 200.0, 200.0, 200.0, 185.56666666666666, 200.0, 200.0, 200.0, 200.0, 200.0, 200.0, 200.0, 200.0, 200.0, 200.0, 200.0, 200.0, 200.0, 200.0, 131.0, 200.0, 200.0, 200.0, 200.0, 200.0, 200.0, 200.0, 200.0, 200.0, 200.0, 200.0, 200.0, 200.0, 200.0, 200.0, 10.066666666666666, 200.0, 200.0, 200.0, 200.0, 156.0, 200.0, 200.0, 200.0, 200.0, 200.0, 200.0, 200.0, 200.0, 200.0, 200.0, 200.0, 200.0, 200.0, 200.0, 200.0, 200.0, 200.0, 200.0, 9.633333333333333, 23.633333333333333, 183.3, 186.06666666666666, 200.0, 200.0, 200.0, 200.0, 200.0, 200.0, 200.0, 200.0, 200.0, 200.0, 200.0, 200.0, 200.0, 200.0, 200.0, 200.0, 200.0, 200.0, 200.0, 200.0, 200.0, 200.0, 200.0, 200.0, 200.0, 200.0, 200.0, 200.0, 200.0, 200.0, 200.0, 200.0, 200.0, 200.0, 200.0]\n"
   ]
  },
  {
   "cell_type": "code",
   "execution_count": null,
   "metadata": {},
   "outputs": [],
   "source": [
    "# final result for 12 workers \n",
    "[9.533333333333333, 9.333333333333334, 9.333333333333334, 9.333333333333334, 9.333333333333334, 10.7, 12.2, 12.366666666666667, 12.133333333333333, 12.633333333333333, 9.233333333333333, 9.233333333333333, 9.233333333333333, 9.233333333333333, 9.366666666666667, 9.366666666666667, 9.233333333333333, 12.633333333333333, 9.233333333333333, 14.433333333333334, 14.3, 23.0, 76.06666666666666, 94.03333333333333, 101.03333333333333, 104.06666666666666, 115.73333333333333, 103.93333333333334, 120.13333333333334, 133.13333333333333, 138.23333333333332, 169.26666666666668, 165.73333333333332, 200.0, 164.76666666666668, 199.23333333333332, 131.46666666666667, 191.03333333333333, 200.0, 200.0, 200.0, 200.0, 200.0, 200.0, 200.0, 194.96666666666667, 199.5, 200.0, 200.0, 200.0, 177.56666666666666, 200.0, 163.36666666666667, 200.0, 200.0, 200.0, 200.0, 135.8, 125.96666666666667, 144.93333333333334, 168.0, 136.9, 200.0, 200.0, 196.6, 160.66666666666666, 184.2, 199.6, 200.0, 165.76666666666668, 167.2, 200.0, 200.0, 173.06666666666666, 200.0, 200.0, 200.0, 200.0, 200.0, 200.0, 200.0, 200.0, 200.0, 200.0, 200.0, 200.0, 200.0, 200.0, 200.0, 200.0, 200.0, 200.0, 200.0, 200.0, 200.0, 200.0, 200.0, 200.0, 200.0, 200.0, 200.0, 200.0, 200.0, 200.0, 200.0, 200.0, 200.0, 200.0, 200.0, 200.0, 200.0, 200.0, 200.0, 200.0, 200.0, 200.0, 200.0, 200.0, 200.0, 200.0, 200.0, 155.93333333333334, 169.76666666666668, 180.2, 181.3, 200.0, 200.0, 200.0, 200.0, 100.8, 103.53333333333333, 133.26666666666668, 200.0, 200.0, 200.0, 200.0, 200.0, 200.0, 200.0, 200.0, 200.0, 159.9, 180.86666666666667, 192.5, 200.0, 126.83333333333333, 136.66666666666666, 200.0, 200.0, 200.0, 125.13333333333334, 200.0, 200.0, 131.03333333333333, 178.76666666666668, 200.0, 189.33333333333334, 130.53333333333333, 200.0, 162.9, 200.0, 126.06666666666666, 200.0, 144.56666666666666, 200.0, 166.8, 178.36666666666667, 183.33333333333334, 194.6, 200.0, 200.0, 200.0, 200.0, 200.0, 200.0, 200.0, 200.0, 200.0, 200.0, 200.0, 200.0, 200.0, 200.0, 200.0, 200.0, 200.0, 200.0, 180.46666666666667, 160.06666666666666, 200.0, 200.0, 200.0, 200.0, 200.0, 200.0, 200.0]\n"
   ]
  }
 ],
 "metadata": {
  "kernelspec": {
   "display_name": "Python 3",
   "language": "python",
   "name": "python3"
  },
  "language_info": {
   "codemirror_mode": {
    "name": "ipython",
    "version": 3
   },
   "file_extension": ".py",
   "mimetype": "text/x-python",
   "name": "python",
   "nbconvert_exporter": "python",
   "pygments_lexer": "ipython3",
   "version": "3.7.6"
  }
 },
 "nbformat": 4,
 "nbformat_minor": 2
}
